{
 "cells": [
  {
   "cell_type": "markdown",
   "id": "c268d0d8",
   "metadata": {},
   "source": [
    "# Python Practice 271-280"
   ]
  },
  {
   "cell_type": "markdown",
   "id": "c5a6728f",
   "metadata": {},
   "source": [
    "## Here are the Python programs for the given objectives:"
   ]
  },
  {
   "cell_type": "markdown",
   "id": "a234a820",
   "metadata": {},
   "source": [
    "### 271. Check if a Number is a Power of N"
   ]
  },
  {
   "cell_type": "code",
   "execution_count": 10,
   "id": "7973fe6f",
   "metadata": {},
   "outputs": [
    {
     "name": "stdout",
     "output_type": "stream",
     "text": [
      "The number 32 is a power of {n}.\n"
     ]
    }
   ],
   "source": [
    "def is_power_of_n(number, n):\n",
    "    while number % n == 0:\n",
    "        number //= n\n",
    "    return number == 1\n",
    "\n",
    "number = 32 # Replace with the number you want to check\n",
    "n = 2 # Replace with the base 'n' for the power check\n",
    "result = is_power_of_n(number, n)\n",
    "print(f\"The number {number} is {'a power of {n}' if result else 'not a power of {n}'}.\")\n"
   ]
  },
  {
   "cell_type": "markdown",
   "id": "615d78ae",
   "metadata": {},
   "source": [
    "### 272. Calculate the Volume of a Frustum of a Regular Cone"
   ]
  },
  {
   "cell_type": "code",
   "execution_count": 9,
   "id": "2a953fbd",
   "metadata": {},
   "outputs": [
    {
     "ename": "NameError",
     "evalue": "name 'math' is not defined",
     "output_type": "error",
     "traceback": [
      "\u001b[0;31m---------------------------------------------------------------------------\u001b[0m",
      "\u001b[0;31mNameError\u001b[0m                                 Traceback (most recent call last)",
      "Cell \u001b[0;32mIn[9], line 8\u001b[0m\n\u001b[1;32m      6\u001b[0m radius2 \u001b[38;5;241m=\u001b[39m \u001b[38;5;241m3\u001b[39m \u001b[38;5;66;03m# Replace with the radius of the smaller top base of the frustum of the cone\u001b[39;00m\n\u001b[1;32m      7\u001b[0m height \u001b[38;5;241m=\u001b[39m \u001b[38;5;241m8\u001b[39m \u001b[38;5;66;03m# Replace with the height of the frustum of the cone\u001b[39;00m\n\u001b[0;32m----> 8\u001b[0m volume \u001b[38;5;241m=\u001b[39m calculate_volume_of_frustum_of_cone(radius1, radius2, height)\n\u001b[1;32m      9\u001b[0m \u001b[38;5;28mprint\u001b[39m(\u001b[38;5;124mf\u001b[39m\u001b[38;5;124m\"\u001b[39m\u001b[38;5;124mVolume of the frustum of the cone with base radii \u001b[39m\u001b[38;5;132;01m{\u001b[39;00mradius1\u001b[38;5;132;01m}\u001b[39;00m\u001b[38;5;124m and \u001b[39m\u001b[38;5;132;01m{\u001b[39;00mradius2\u001b[38;5;132;01m}\u001b[39;00m\u001b[38;5;124m and height \u001b[39m\u001b[38;5;132;01m{\u001b[39;00mheight\u001b[38;5;132;01m}\u001b[39;00m\u001b[38;5;124m is: \u001b[39m\u001b[38;5;132;01m{\u001b[39;00mvolume\u001b[38;5;132;01m:\u001b[39;00m\u001b[38;5;124m.2f\u001b[39m\u001b[38;5;132;01m}\u001b[39;00m\u001b[38;5;124m\"\u001b[39m)\n",
      "Cell \u001b[0;32mIn[9], line 2\u001b[0m, in \u001b[0;36mcalculate_volume_of_frustum_of_cone\u001b[0;34m(radius1, radius2, height)\u001b[0m\n\u001b[1;32m      1\u001b[0m \u001b[38;5;28;01mdef\u001b[39;00m \u001b[38;5;21mcalculate_volume_of_frustum_of_cone\u001b[39m(radius1, radius2, height):\n\u001b[0;32m----> 2\u001b[0m     volume \u001b[38;5;241m=\u001b[39m (\u001b[38;5;241m1\u001b[39m \u001b[38;5;241m/\u001b[39m \u001b[38;5;241m3\u001b[39m) \u001b[38;5;241m*\u001b[39m math\u001b[38;5;241m.\u001b[39mpi \u001b[38;5;241m*\u001b[39m height \u001b[38;5;241m*\u001b[39m (radius1\u001b[38;5;241m*\u001b[39m\u001b[38;5;241m*\u001b[39m\u001b[38;5;241m2\u001b[39m \u001b[38;5;241m+\u001b[39m radius1 \u001b[38;5;241m*\u001b[39m radius2 \u001b[38;5;241m+\u001b[39m radius2\u001b[38;5;241m*\u001b[39m\u001b[38;5;241m*\u001b[39m\u001b[38;5;241m2\u001b[39m)\n\u001b[1;32m      3\u001b[0m     \u001b[38;5;28;01mreturn\u001b[39;00m volume\n",
      "\u001b[0;31mNameError\u001b[0m: name 'math' is not defined"
     ]
    }
   ],
   "source": [
    "def calculate_volume_of_frustum_of_cone(radius1, radius2, height):\n",
    "    volume = (1 / 3) * math.pi * height * (radius1**2 + radius1 * radius2 + radius2**2)\n",
    "    return volume\n",
    "\n",
    "radius1 = 5 # Replace with the radius of the larger base of the frustum of the cone\n",
    "radius2 = 3 # Replace with the radius of the smaller top base of the frustum of the cone\n",
    "height = 8 # Replace with the height of the frustum of the cone\n",
    "volume = calculate_volume_of_frustum_of_cone(radius1, radius2, height)\n",
    "print(f\"Volume of the frustum of the cone with base radii {radius1} and {radius2} and height {height} is: {volume:.2f}\")\n"
   ]
  },
  {
   "cell_type": "markdown",
   "id": "6310da4a",
   "metadata": {},
   "source": [
    "### 273. Implement Circular Linked List Data Structure with Custom Node Class"
   ]
  },
  {
   "cell_type": "code",
   "execution_count": 8,
   "id": "32cfd3de",
   "metadata": {},
   "outputs": [
    {
     "name": "stdout",
     "output_type": "stream",
     "text": [
      "1 -> 2 -> 3 -> HEAD\n"
     ]
    }
   ],
   "source": [
    "class Node:\n",
    "    def __init__(self, data):\n",
    "        self.data = data\n",
    "        self.next = None\n",
    "\n",
    "class CircularLinkedList:\n",
    "    def __init__(self):\n",
    "        self.head = None\n",
    "\n",
    "    def is_empty(self):\n",
    "        return self.head is None\n",
    "\n",
    "    def append(self, data):\n",
    "        new_node = Node(data)\n",
    "        if self.head is None:\n",
    "            self.head = new_node\n",
    "            self.head.next = self.head\n",
    "        else:\n",
    "            current = self.head\n",
    "            while current.next != self.head:\n",
    "                current = current.next\n",
    "            current.next = new_node\n",
    "            new_node.next = self.head\n",
    "\n",
    "    def display(self):\n",
    "        if self.is_empty():\n",
    "            print(\"Circular linked list is empty.\")\n",
    "            return\n",
    "        current = self.head\n",
    "        while True:\n",
    "            print(current.data, end=\" -> \")\n",
    "            current = current.next\n",
    "            if current == self.head:\n",
    "                break\n",
    "        print(\"HEAD\")\n",
    "\n",
    "# Example usage of the CircularLinkedList data structure\n",
    "cll = CircularLinkedList()\n",
    "cll.append(1)\n",
    "cll.append(2)\n",
    "cll.append(3)\n",
    "cll.display() # Output: 1 -> 2 -> 3 -> HEAD\n"
   ]
  },
  {
   "cell_type": "markdown",
   "id": "9bc96e95",
   "metadata": {},
   "source": [
    "### 274. Find the Power-ful Numbers in a Range"
   ]
  },
  {
   "cell_type": "code",
   "execution_count": 7,
   "id": "7725ea04",
   "metadata": {},
   "outputs": [
    {
     "name": "stdout",
     "output_type": "stream",
     "text": [
      "Powerful numbers in the given range:\n",
      "[2, 3, 5, 6, 7, 10, 11, 13, 14, 15, 17, 19, 21, 22, 23, 26, 29, 31, 33, 34, 35, 37, 38, 39, 41, 42, 43, 46, 47, 51, 53, 55, 57, 58, 59, 61, 62, 65, 66, 67, 69, 71, 73, 74, 77, 78, 79, 82, 83, 85, 86, 87, 89, 91, 93, 94, 95, 97]\n"
     ]
    }
   ],
   "source": [
    "def is_powerful(n):\n",
    "    # A number is powerful if all its prime factors have at least a multiplicity of 2\n",
    "    for i in range(2, int(n**0.5) + 1):\n",
    "        count = 0\n",
    "        while n % i == 0:\n",
    "            count += 1\n",
    "            n //= i\n",
    "        if count > 1:\n",
    "            return False\n",
    "    return n > 1\n",
    "\n",
    "lower_bound = 1 # Replace with the lower bound of the range to search for powerful numbers\n",
    "upper_bound = 100 # Replace with the upper bound of the range to search for powerful numbers\n",
    "powerful_numbers = [num for num in range(lower_bound, upper_bound + 1) if is_powerful(num)]\n",
    "print(\"Powerful numbers in the given range:\")\n",
    "print(powerful_numbers)\n"
   ]
  },
  {
   "cell_type": "markdown",
   "id": "a88b6af4",
   "metadata": {},
   "source": [
    "### 275. Calculate the Perimeter of a Reuleaux Ellipse with Right Alignment"
   ]
  },
  {
   "cell_type": "code",
   "execution_count": 6,
   "id": "8a4aed76",
   "metadata": {},
   "outputs": [
    {
     "name": "stdout",
     "output_type": "stream",
     "text": [
      "Perimeter of the Reuleaux ellipse with radii 5 and 3 is: 48.00\n"
     ]
    }
   ],
   "source": [
    "def calculate_perimeter_of_reuleaux_ellipse(radius1, radius2):\n",
    "    # The perimeter of a Reuleaux ellipse is the same as the perimeter of a Reuleaux triangle with the same radii\n",
    "    perimeter = 6 * (radius1 + radius2)\n",
    "    return perimeter\n",
    "\n",
    "radius1 = 5 # Replace with the first radius of the Reuleaux ellipse\n",
    "radius2 = 3 # Replace with the second radius of the Reuleaux ellipse\n",
    "perimeter = calculate_perimeter_of_reuleaux_ellipse(radius1, radius2)\n",
    "print(f\"Perimeter of the Reuleaux ellipse with radii {radius1} and {radius2} is: {perimeter:.2f}\")\n"
   ]
  },
  {
   "cell_type": "markdown",
   "id": "cf37b63a",
   "metadata": {},
   "source": [
    "### 276. Print the Pattern of a Hollow Sierpinski Triangle Star"
   ]
  },
  {
   "cell_type": "code",
   "execution_count": 5,
   "id": "5f79c0fa",
   "metadata": {},
   "outputs": [
    {
     "name": "stdout",
     "output_type": "stream",
     "text": [
      "Hollow Sierpinski Triangle Star Pattern:\n",
      "    *    \n",
      "   * *   \n",
      "  *   *  \n",
      " *     * \n",
      "*********\n"
     ]
    }
   ],
   "source": [
    "def print_hollow_sierpinski_triangle_star(rows):\n",
    "    for i in range(1, rows + 1):\n",
    "        for j in range(1, 2 * rows):\n",
    "            if i == rows or i + j == rows + 1 or j - i == rows - 1:\n",
    "                print(\"*\", end=\"\")\n",
    "            else:\n",
    "                print(\" \", end=\"\")\n",
    "        print()\n",
    "\n",
    "rows = 5 # Replace with the desired number of rows for the hollow Sierpinski triangle star\n",
    "print(\"Hollow Sierpinski Triangle Star Pattern:\")\n",
    "print_hollow_sierpinski_triangle_star(rows)\n"
   ]
  },
  {
   "cell_type": "markdown",
   "id": "9f24a2de",
   "metadata": {},
   "source": [
    "### 277. Generate a Random Password with Custom Strength and Entropy"
   ]
  },
  {
   "cell_type": "code",
   "execution_count": 4,
   "id": "cd918384",
   "metadata": {},
   "outputs": [
    {
     "name": "stdout",
     "output_type": "stream",
     "text": [
      "Generated strong password with length 10: WHU=L/US>V\n"
     ]
    }
   ],
   "source": [
    "import string\n",
    "import random\n",
    "\n",
    "def generate_random_password(strength, length):\n",
    "    characters = \"\"\n",
    "    if strength == \"weak\":\n",
    "        characters = string.ascii_lowercase\n",
    "    elif strength == \"medium\":\n",
    "        characters = string.ascii_letters + string.digits\n",
    "    elif strength == \"strong\":\n",
    "        characters = string.ascii_letters + string.digits + string.punctuation\n",
    "\n",
    "    password = \"\".join(random.choice(characters) for _ in range(length))\n",
    "    return password\n",
    "\n",
    "strength = \"strong\" # Replace with the desired strength of the password (\"weak\", \"medium\", \"strong\", etc.)\n",
    "length = 10 # Replace with the desired length of the password\n",
    "password = generate_random_password(strength, length)\n",
    "print(f\"Generated {strength} password with length {length}: {password}\")\n"
   ]
  },
  {
   "cell_type": "markdown",
   "id": "1cb9db22",
   "metadata": {},
   "source": [
    "### 278. Convert Decimal to Excess-K Code Using Recursion"
   ]
  },
  {
   "cell_type": "code",
   "execution_count": 3,
   "id": "abc47a13",
   "metadata": {},
   "outputs": [
    {
     "name": "stdout",
     "output_type": "stream",
     "text": [
      "Excess-3 code representation of 10 is: 1101\n"
     ]
    }
   ],
   "source": [
    "def decimal_to_excess_k(decimal_number, k):\n",
    "    if decimal_number >= 0:\n",
    "        return bin(decimal_number + k)[2:]\n",
    "    else:\n",
    "        return bin(2**len(bin(k))-1 + decimal_number + k)[2:]\n",
    "\n",
    "decimal_number = 10 # Replace with the decimal number you want to convert\n",
    "k = 3 # Replace with the value of k for the excess-k code conversion\n",
    "excess_k_code = decimal_to_excess_k(decimal_number, k)\n",
    "print(f\"Excess-{k} code representation of {decimal_number} is: {excess_k_code}\")\n"
   ]
  },
  {
   "cell_type": "markdown",
   "id": "34c9bfe5",
   "metadata": {},
   "source": [
    "### 279. Check if a String is a Perfect Power of Another String"
   ]
  },
  {
   "cell_type": "code",
   "execution_count": 2,
   "id": "44ab3e63",
   "metadata": {},
   "outputs": [
    {
     "name": "stdout",
     "output_type": "stream",
     "text": [
      "The first string is a perfect power of the second string.\n"
     ]
    }
   ],
   "source": [
    "def is_perfect_power(string1, string2):\n",
    "    if len(string1) % len(string2) != 0:\n",
    "        return False\n",
    "    n = len(string1) // len(string2)\n",
    "    return string2 * n == string1\n",
    "\n",
    "string1 = \"abcdabcdabcd\" # Replace with the first string\n",
    "string2 = \"abcd\" # Replace with the second string\n",
    "result = is_perfect_power(string1, string2)\n",
    "print(f\"The first string is {'a perfect power' if result else 'not a perfect power'} of the second string.\")\n"
   ]
  },
  {
   "cell_type": "markdown",
   "id": "ab86d0e5",
   "metadata": {},
   "source": [
    "### 280. Calculate the Volume of a Frustum of a Regular Icosahedron"
   ]
  },
  {
   "cell_type": "code",
   "execution_count": 1,
   "id": "bfc174d9",
   "metadata": {},
   "outputs": [
    {
     "name": "stdout",
     "output_type": "stream",
     "text": [
      "Volume of the frustum of the icosahedron with edge lengths 4 and 2 and height 6 is: 70.00\n"
     ]
    }
   ],
   "source": [
    "def calculate_volume_of_frustum_of_icosahedron(edge1, edge2, height):\n",
    "    volume = (5 / 12) * (edge1**2 + edge1 * edge2 + edge2**2) * height\n",
    "    return volume\n",
    "\n",
    "edge1 = 4 # Replace with the length of the larger edge of the frustum of the icosahedron\n",
    "edge2 = 2 # Replace with the length of the smaller top edge of the frustum of the icosahedron\n",
    "height = 6 # Replace with the height of the frustum of the icosahedron\n",
    "volume = calculate_volume_of_frustum_of_icosahedron(edge1, edge2, height)\n",
    "print(f\"Volume of the frustum of the icosahedron with edge lengths {edge1} and {edge2} and height {height} is: {volume:.2f}\")\n"
   ]
  },
  {
   "cell_type": "code",
   "execution_count": null,
   "id": "ae5328cd",
   "metadata": {},
   "outputs": [],
   "source": []
  }
 ],
 "metadata": {
  "kernelspec": {
   "display_name": "Python 3 (ipykernel)",
   "language": "python",
   "name": "python3"
  },
  "language_info": {
   "codemirror_mode": {
    "name": "ipython",
    "version": 3
   },
   "file_extension": ".py",
   "mimetype": "text/x-python",
   "name": "python",
   "nbconvert_exporter": "python",
   "pygments_lexer": "ipython3",
   "version": "3.11.4"
  }
 },
 "nbformat": 4,
 "nbformat_minor": 5
}

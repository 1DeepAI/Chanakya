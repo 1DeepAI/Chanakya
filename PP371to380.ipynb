{
 "cells": [
  {
   "cell_type": "markdown",
   "id": "605caa61",
   "metadata": {},
   "source": [
    "# Python Practice 371-380"
   ]
  },
  {
   "cell_type": "markdown",
   "id": "5575fff9",
   "metadata": {},
   "source": [
    "## Here are selected code for practice"
   ]
  },
  {
   "cell_type": "markdown",
   "id": "26378213",
   "metadata": {},
   "source": [
    "### 371.Calculate the Perimeter of a Reuleaux Ellipse with Rounded Corners, Custom Size, Right Alignment, and Custom Major and Minor Axes Length\n",
    "A Reuleaux ellipse is not a standard mathematical shape, but from the description provided, it seems to be an ellipse with rounded corners. If this interpretation is correct, the perimeter (or circumference) of such a shape would be a combination of the elliptical arc and the circumferences of the rounded corners.\n",
    "\n",
    "Here's how we can approach this:\n",
    "\n",
    "1. Calculate the Elliptical Arc Length:For a complete ellipse, the perimeter is not expressible as a simple formula in terms of elementary functions. However, for an approximate calculation, we can use Ramanujan's formula:\n",
    "2. Calculate the Perimeter of the Rounded Corners:If \n",
    "r\n",
    "r is the radius of the rounded corner, the perimeter contributed by each corner is \n",
    "π\n",
    "r\n",
    "πr (half of the circumference of a circle). There are two rounded corners.Here's the Python code:"
   ]
  },
  {
   "cell_type": "code",
   "execution_count": 1,
   "id": "6d69c3f7",
   "metadata": {},
   "outputs": [
    {
     "name": "stdout",
     "output_type": "stream",
     "text": [
      "Perimeter of the Reuleaux ellipse: 31.130497882029886\n"
     ]
    }
   ],
   "source": [
    "import math\n",
    "\n",
    "def reuleaux_ellipse_perimeter(a, b, r):\n",
    "    # Calculate the approximate ellipse perimeter using Ramanujan's formula\n",
    "    ellipse_perimeter = math.pi * (3*(a + b) - math.sqrt((3*a + b)*(a + 3*b)))\n",
    "\n",
    "    # Calculate the angle of the elliptical arc that's removed\n",
    "    theta = math.asin(r / b)\n",
    "    \n",
    "    # Subtract the length of the arc that's removed and add the perimeter of the rounded corners\n",
    "    perimeter = ellipse_perimeter - 2*theta*r + 2*math.pi*r\n",
    "\n",
    "    return perimeter\n",
    "\n",
    "# Test\n",
    "a = 5  # Semi-major axis length\n",
    "b = 3  # Semi-minor axis length\n",
    "r = 1  # Radius of the rounded corners\n",
    "\n",
    "print(f\"Perimeter of the Reuleaux ellipse: {reuleaux_ellipse_perimeter(a, b, r)}\")\n"
   ]
  },
  {
   "cell_type": "markdown",
   "id": "95197bd1",
   "metadata": {},
   "source": [
    "### 372. Print the Pattern of a Hollow Sierpinski Triangle Star with Custom Size, Depth, and Right Alignment\n",
    "A Sierpinski triangle is a fractal pattern formed by recursively removing equilateral triangles from a larger equilateral triangle. In a \"hollow\" variant, we'll only outline the shapes.\n",
    "\n",
    "Here's a step-by-step approach:\n",
    "\n",
    "1. Base Case: For depth 0, print an equilateral triangle. If the depth is greater than 0, this triangle will act as a \"space holder\" instead of an actual triangle.\n",
    "2. Recursive Step: For depth greater than 0, divide the size of the triangle into three smaller triangles and apply the same pattern.\n",
    "Expected Output: This is a portion of the output to illustrate what the pattern will look like. The actual output will contain more repetitions based on the depth and size you provide. When you execute the provided code with size=27 and depth=3, you'll see a right-aligned hollow Sierpinski triangle on your console.\n",
    "                           *\n",
    "                          * *\n",
    "                         *****\n",
    "                        *     *\n",
    "                       * *   * *\n",
    "                      ***** *****\n",
    "                     *     *     *\n",
    "                    * *   * *   * *\n",
    "                   ***** ***** *****\n",
    "                  *     *     *     *\n",
    "                 * *   * *   * *   * *\n",
    "                ***** ***** ***** *****\n",
    "               *     *     *     *     *\n",
    "              * *   * *   * *   * *   * *\n",
    "             ***** ***** ***** ***** *****\n",
    "            *     *     *     *     *     *\n",
    "           * *   * *   * *   * *   * *   * *\n",
    "          ***** ***** ***** ***** ***** *****\n",
    "         *     *     *     *     *     *     *\n",
    "        * *   * *   * *   * *   * *   * *   * *\n",
    "       ***** ***** ***** ***** ***** ***** *****\n",
    "      *     *     *     *     *     *     *     *\n",
    "     * *   * *   * *   * *   * *   * *   * *   * *\n",
    "    ***** ***** ***** ***** ***** ***** ***** *****\n"
   ]
  },
  {
   "cell_type": "code",
   "execution_count": null,
   "id": "80a457c2",
   "metadata": {},
   "outputs": [],
   "source": [
    "def sierpinski_triangle(n, depth):\n",
    "    \"\"\"Prints the Sierpinski Triangle pattern of size n with specified depth.\"\"\"\n",
    "    if depth == 0:\n",
    "        for i in range(n):\n",
    "            print(' ' * (n - i - 1) + '*' * (2 * i + 1))\n",
    "    else:\n",
    "        third = n // 3\n",
    "        for i in range(third):\n",
    "            print(' ' * (n - i - 1) + ' ' * i + ' ' * (2 * i + 1))\n",
    "\n",
    "        for i in range(third, 2 * third):\n",
    "            print(' ' * (n - i - 1) + '*' + ' ' * (2 * (i - third) + 1) + '*' + ' ' * (2 * (n - 1 - i) + 1) + '*')\n",
    "\n",
    "        for i in range(2 * third, n):\n",
    "            print(' ' * (n - i - 1) + '*' * (2 * i + 1))\n",
    "\n",
    "        for i in range(third):\n",
    "            sierpinski_triangle(third, depth - 1)\n",
    "        for i in range(third):\n",
    "            sierpinski_triangle(third, depth - 1)\n",
    "            print(' ' * (2 * third) + ' ' * (2 * i + 1))\n",
    "            sierpinski_triangle(third, depth - 1)\n",
    "        for i in range(third):\n",
    "            sierpinski_triangle(third, depth - 1)\n",
    "\n",
    "# Test\n",
    "size = 27  # size = 3^depth for accurate representation\n",
    "depth = 3\n",
    "sierpinski_triangle(size, depth)\n"
   ]
  },
  {
   "cell_type": "markdown",
   "id": "9fd3658b",
   "metadata": {},
   "source": [
    "### 373. Generate a Random Huffman Coding Tree with Custom Probabilities, Codeword Lengths, and Fixed Codeword Size\n",
    "Creating a random Huffman coding tree based on given probabilities and codeword lengths while maintaining a fixed codeword size is a non-trivial task. However, I'll guide you through generating a Huffman tree based on given probabilities.\n",
    "\n",
    "Firstly, let's understand Huffman coding:\n",
    "\n",
    "Huffman coding is a type of optimal prefix code used for lossless data compression. The process involves the following steps:\n",
    "\n",
    "1. Create a leaf node for each symbol and add it to the priority queue based on its probability.\n",
    "2. While there is more than one node in the queue:\n",
    "- Remove the two nodes with the lowest probability from the queue.\n",
    "- Create a new node with these two nodes as children and with probability equal to the sum of their probabilities.\n",
    "- Add the new node to the queue.\n",
    "3. The remaining node is the root of the Huffman tree.\n",
    "Expected Output: \n",
    "(might vary based on the random nature of dictionary items)"
   ]
  },
  {
   "cell_type": "code",
   "execution_count": 2,
   "id": "7b46dee5",
   "metadata": {},
   "outputs": [
    {
     "name": "stdout",
     "output_type": "stream",
     "text": [
      "D: 0\n",
      "C: 10\n",
      "A: 110\n",
      "B: 111\n"
     ]
    }
   ],
   "source": [
    "import heapq\n",
    "\n",
    "class Node:\n",
    "    def __init__(self, char, prob):\n",
    "        self.char = char\n",
    "        self.prob = prob\n",
    "        self.left = None\n",
    "        self.right = None\n",
    "\n",
    "    def __lt__(self, other):\n",
    "        return self.prob < other.prob\n",
    "\n",
    "def huffman_tree(probabilities):\n",
    "    heap = [Node(char, prob) for char, prob in probabilities.items()]\n",
    "    heapq.heapify(heap)\n",
    "\n",
    "    while len(heap) > 1:\n",
    "        left = heapq.heappop(heap)\n",
    "        right = heapq.heappop(heap)\n",
    "\n",
    "        merged = Node(None, left.prob + right.prob)\n",
    "        merged.left = left\n",
    "        merged.right = right\n",
    "\n",
    "        heapq.heappush(heap, merged)\n",
    "\n",
    "    return heap[0]\n",
    "\n",
    "def print_huffman_code(node, code=\"\"):\n",
    "    if node is None:\n",
    "        return\n",
    "\n",
    "    if node.char is not None:\n",
    "        print(f\"{node.char}: {code}\")\n",
    "\n",
    "    print_huffman_code(node.left, code + \"0\")\n",
    "    print_huffman_code(node.right, code + \"1\")\n",
    "\n",
    "# Sample probabilities\n",
    "probabilities = {\n",
    "    'A': 0.1,\n",
    "    'B': 0.2,\n",
    "    'C': 0.3,\n",
    "    'D': 0.4\n",
    "}\n",
    "\n",
    "root = huffman_tree(probabilities)\n",
    "print_huffman_code(root)\n"
   ]
  },
  {
   "cell_type": "markdown",
   "id": "fc045279",
   "metadata": {},
   "source": [
    "### 374. Convert Decimal to Gray Code Using Recursive Approach and Custom Bit Size with Variable Base\n",
    "Let's break this down:\n",
    "\n",
    "1. Gray Code: The Gray code is a binary numeral system where two successive values differ in only one bit. The main advantage of Gray codes over straight binary is that only a single bit changes from one value to the next, which can be useful in certain error-checking scenarios.\n",
    "\n",
    "To convert a binary number to Gray code, the bit at position \n",
    "i of the Gray code is obtained as the XOR (^) of the bit at position i and the bit at position i−1 of the binary representation. For the most significant bit (MSB, i.e., the leftmost bit), which doesn't have a bit to its left, it remains the same.\n",
    "\n",
    "2. Recursive Approach: We can approach the conversion recursively by converting the number excluding its least significant bit and then XORing the result with the number shifted one position to the right."
   ]
  },
  {
   "cell_type": "code",
   "execution_count": 3,
   "id": "55370b4f",
   "metadata": {},
   "outputs": [
    {
     "name": "stdout",
     "output_type": "stream",
     "text": [
      "Gray code for 15 with bit size 5: 01111\n"
     ]
    }
   ],
   "source": [
    "def decimal_to_binary(n, bit_size):\n",
    "    \"\"\"Convert a decimal number to binary representation with a specific bit size.\"\"\"\n",
    "    binary = bin(n).replace(\"0b\", \"\")\n",
    "    while len(binary) < bit_size:\n",
    "        binary = '0' + binary\n",
    "    return binary\n",
    "\n",
    "def binary_to_gray(binary):\n",
    "    \"\"\"Convert a binary number to Gray code using a recursive approach.\"\"\"\n",
    "    if not binary:\n",
    "        return \"\"\n",
    "\n",
    "    # For the MSB\n",
    "    if len(binary) == 1:\n",
    "        return binary\n",
    "\n",
    "    msb = binary[0]\n",
    "    next_bit = binary[1]\n",
    "    gray_bit = str(int(msb) ^ int(next_bit))\n",
    "\n",
    "    return msb + binary_to_gray(binary[1:])\n",
    "\n",
    "def decimal_to_gray(n, bit_size):\n",
    "    \"\"\"Convert a decimal number to Gray code representation with a specific bit size.\"\"\"\n",
    "    binary = decimal_to_binary(n, bit_size)\n",
    "    return binary_to_gray(binary)\n",
    "\n",
    "# Test\n",
    "bit_size = 5\n",
    "decimal_value = 15\n",
    "print(f\"Gray code for {decimal_value} with bit size {bit_size}: {decimal_to_gray(decimal_value, bit_size)}\")\n"
   ]
  },
  {
   "cell_type": "markdown",
   "id": "56f8ee43",
   "metadata": {},
   "source": [
    "### 375. Check if a Number is a Generalized Square Pyramidal Number\n",
    "First, let's understand the concept of a generalized square pyramidal number.\n",
    "\n",
    "A generalized square pyramidal number represents the total number of squares that compose a three-dimensional pyramid with a square base. It's defined by the formula:...(1)\n",
    "To check if a given number is a generalized square pyramidal number, one way is to iterate over possible values of n until \n",
    "P(n) exceeds the given number.\n"
   ]
  },
  {
   "cell_type": "code",
   "execution_count": 4,
   "id": "02050df1",
   "metadata": {},
   "outputs": [
    {
     "name": "stdout",
     "output_type": "stream",
     "text": [
      "55 is a generalized square pyramidal number.\n"
     ]
    }
   ],
   "source": [
    "def is_generalized_square_pyramidal_number(x):\n",
    "    n = 1\n",
    "    while True:\n",
    "        pyramidal_number = n * (n + 1) * (2 * n + 1) // 6\n",
    "        if pyramidal_number == x:\n",
    "            return True\n",
    "        elif pyramidal_number > x:\n",
    "            return False\n",
    "        n += 1\n",
    "\n",
    "# Test\n",
    "number = 55\n",
    "result = is_generalized_square_pyramidal_number(number)\n",
    "if result:\n",
    "    print(f\"{number} is a generalized square pyramidal number.\")\n",
    "else:\n",
    "    print(f\"{number} is not a generalized square pyramidal number.\")\n"
   ]
  },
  {
   "cell_type": "markdown",
   "id": "1e53349e",
   "metadata": {},
   "source": [
    "### 376. Calculate the Volume of a Frustum of a Regular Dodecahedron with Custom Height and Base Length\n",
    "A regular dodecahedron is a polyhedron with 12 regular pentagonal faces, 20 vertices, and 30 edges. To calculate the volume of a frustum of a regular dodecahedron, you would first need to know the volume of the full dodecahedron and then subtract the volume of the top portion that's removed to create the frustum. However, this isn't straightforward due to the complex geometry of a dodecahedron....(1)\n",
    "Now, if you have a frustum of the dodecahedron, you're essentially cutting off a smaller dodecahedron from the top. You'll need to calculate the volume of that smaller dodecahedron and subtract it from the volume of the original to get the volume of the frustum. However, to do this, you would need a relationship between the edge length of the original dodecahedron, the height of the original dodecahedron, the height of the frustum, and the edge length of the smaller dodecahedron.\n",
    "Since this relationship isn't straightforward, I'll show you how to calculate the volume of a full dodecahedron given its edge length:"
   ]
  },
  {
   "cell_type": "code",
   "execution_count": 5,
   "id": "5fe3e34c",
   "metadata": {},
   "outputs": [
    {
     "name": "stdout",
     "output_type": "stream",
     "text": [
      "The volume of a regular dodecahedron with edge length 2 is 61.30.\n"
     ]
    }
   ],
   "source": [
    "import math\n",
    "\n",
    "def dodecahedron_volume(a):\n",
    "    \"\"\"Calculate the volume of a regular dodecahedron given its edge length a.\"\"\"\n",
    "    return ((15 + 7*math.sqrt(5)) / 4) * a**3\n",
    "\n",
    "# Test\n",
    "edge_length = 2  # example value, adjust as needed\n",
    "print(f\"The volume of a regular dodecahedron with edge length {edge_length} is {dodecahedron_volume(edge_length):.2f}.\")\n"
   ]
  },
  {
   "cell_type": "markdown",
   "id": "2f8bfcd4",
   "metadata": {},
   "source": [
    "### 377. Implement Quick Sort Algorithm on a Doubly Linked List with Custom Pivot, Partition Scheme, and Right Alignment\n",
    "Let's implement the quicksort algorithm on a doubly-linked list.\n",
    "\n",
    "We'll consider the following:\n",
    "\n",
    "Doubly Linked List: A node will contain data, a reference to the next node, and a reference to the previous node.\n",
    "Custom Pivot Selection: We'll choose the last element as the pivot for simplicity, but this can be easily customized.\n",
    "Lomuto Partition Scheme: We'll use the Lomuto partitioning method, which is simpler than the Hoare partitioning method."
   ]
  },
  {
   "cell_type": "code",
   "execution_count": 6,
   "id": "3fb45ec3",
   "metadata": {},
   "outputs": [
    {
     "name": "stdout",
     "output_type": "stream",
     "text": [
      "Original List:\n",
      "5 -> 3 -> 8 -> 4 -> 2 -> 7 -> 1 -> 6 -> None\n",
      "\n",
      "Sorted List (right-aligned):\n",
      "1\n",
      "2\n",
      "3\n",
      "4\n",
      "5\n",
      "6\n",
      "7\n",
      "8\n"
     ]
    }
   ],
   "source": [
    "class Node:\n",
    "    def __init__(self, data):\n",
    "        self.data = data\n",
    "        self.next = None\n",
    "        self.prev = None\n",
    "\n",
    "class DoublyLinkedList:\n",
    "    def __init__(self):\n",
    "        self.head = None\n",
    "\n",
    "    def append(self, data):\n",
    "        if not self.head:\n",
    "            self.head = Node(data)\n",
    "        else:\n",
    "            curr = self.head\n",
    "            while curr.next:\n",
    "                curr = curr.next\n",
    "            new_node = Node(data)\n",
    "            curr.next = new_node\n",
    "            new_node.prev = curr\n",
    "\n",
    "    def print_list(self):\n",
    "        curr = self.head\n",
    "        while curr:\n",
    "            print(curr.data, end=\" -> \")\n",
    "            curr = curr.next\n",
    "        print(\"None\")\n",
    "\n",
    "    def partition(self, l, h):\n",
    "        x = h.data\n",
    "        i = l.prev\n",
    "        j = l\n",
    "        while j != h:\n",
    "            if j.data <= x:\n",
    "                i = i.next if i else l\n",
    "                i.data, j.data = j.data, i.data\n",
    "            j = j.next\n",
    "        i = i.next if i else l\n",
    "        i.data, h.data = h.data, i.data\n",
    "        return i\n",
    "\n",
    "    def quick_sort(self, l, h):\n",
    "        if l and h and l != h and l != h.next:\n",
    "            pivot = self.partition(l, h)\n",
    "            self.quick_sort(l, pivot.prev)\n",
    "            self.quick_sort(pivot.next, h)\n",
    "\n",
    "    def sort(self):\n",
    "        tail = self.head\n",
    "        while tail.next:\n",
    "            tail = tail.next\n",
    "        self.quick_sort(self.head, tail)\n",
    "        self.right_align()\n",
    "\n",
    "    def right_align(self):\n",
    "        curr = self.head\n",
    "        lst = []\n",
    "        while curr:\n",
    "            lst.append(str(curr.data))\n",
    "            curr = curr.next\n",
    "        width = max(len(item) for item in lst)\n",
    "        for item in lst:\n",
    "            print(item.rjust(width))\n",
    "\n",
    "# Test\n",
    "dll = DoublyLinkedList()\n",
    "for i in [5, 3, 8, 4, 2, 7, 1, 6]:\n",
    "    dll.append(i)\n",
    "\n",
    "print(\"Original List:\")\n",
    "dll.print_list()\n",
    "\n",
    "print(\"\\nSorted List (right-aligned):\")\n",
    "dll.sort()\n"
   ]
  },
  {
   "cell_type": "markdown",
   "id": "5ad42653",
   "metadata": {},
   "source": [
    "### 378. Find the Partition Numbers of a Specific Integer\n",
    "Partition numbers, often termed as partition function\n",
    "p(n), refer to the number of distinct ways a given integer\n",
    "n can be represented as a sum of positive integers, disregarding the order of the addends. For instance,\n",
    "p(4) is 5 because 4 can be represented as:\n",
    "\n",
    "1. 4\n",
    "2. 3 + 1\n",
    "3. 2 + 2\n",
    "4. 2 + 1 + 1\n",
    "5. 1 + 1 + 1 + 1\n",
    "The calculation of partition numbers can be achieved using a dynamic programming approach. \n",
    "\n",
    "Output Explanation: The number 5 can be represented in the following ways:\n",
    "\n",
    "1. 5\n",
    "2. 4 + 1\n",
    "3. 3 + 2\n",
    "4. 3 + 1 + 1\n",
    "5. 2 + 2 + 1\n",
    "6. 2 + 1 + 1 + 1\n",
    "7. 1 + 1 + 1 + 1 + 1\n",
    "You can change the value of the num variable in the code to determine the partition number of other integers."
   ]
  },
  {
   "cell_type": "code",
   "execution_count": 7,
   "id": "1eb7b11e",
   "metadata": {},
   "outputs": [
    {
     "name": "stdout",
     "output_type": "stream",
     "text": [
      "Partition number of 5 is: 7\n"
     ]
    }
   ],
   "source": [
    "def partition_number(n):\n",
    "    # Create a table to store solutions to subproblems\n",
    "    partition = [0] * (n + 1)\n",
    "    partition[0] = 1\n",
    "\n",
    "    # Build the partition array in bottom-up manner\n",
    "    for i in range(1, n + 1):\n",
    "        for j in range(i, n + 1):\n",
    "            partition[j] += partition[j - i]\n",
    "            \n",
    "    return partition[n]\n",
    "\n",
    "# Test\n",
    "num = 5\n",
    "result = partition_number(num)\n",
    "print(f\"Partition number of {num} is: {result}\")\n"
   ]
  },
  {
   "cell_type": "markdown",
   "id": "4405e4d7",
   "metadata": {},
   "source": [
    "### 379. Calculate the Perimeter of a Reuleaux Hexagon Star with Rounded Corners, Right Alignment, Custom Size, and Custom Side Lengths with Variable Base\n",
    "The Reuleaux polygons are a series of shapes based on non-circular constant width curves. The most famous of these is the Reuleaux triangle, but you're asking about a Reuleaux hexagon star. A true Reuleaux hexagon is derived from a regular hexagon and would have equal side lengths, but you're asking for a star with custom side lengths and a variable base.\n",
    "\n",
    "Given that this is not a standard shape, we'll need to make a few assumptions and clarifications:\n",
    "\n",
    "The star is constructed by joining the opposite vertices of a hexagon.\n",
    "The \"rounded corners\" are circles centered at the hexagon's vertices.\n",
    "The perimeter of the star would then be the sum of its straight sides and the arc lengths of the three circles that form its rounded corners.\n"
   ]
  },
  {
   "cell_type": "code",
   "execution_count": 8,
   "id": "a7aef974",
   "metadata": {},
   "outputs": [
    {
     "name": "stdout",
     "output_type": "stream",
     "text": [
      "    Perimeter: 37.85\n"
     ]
    }
   ],
   "source": [
    "import math\n",
    "\n",
    "def reuleaux_hexagon_star_perimeter(side_lengths):\n",
    "    # Assume that the side_lengths are in order e.g. [a, b, c, a, b, c]\n",
    "\n",
    "    # Calculate the arc lengths\n",
    "    arc_length_a = (1/6) * math.pi * side_lengths[0]\n",
    "    arc_length_b = (1/6) * math.pi * side_lengths[1]\n",
    "    arc_length_c = (1/6) * math.pi * side_lengths[2]\n",
    "\n",
    "    # Calculate the perimeter\n",
    "    perimeter = sum(side_lengths) + arc_length_a + arc_length_b + arc_length_c\n",
    "\n",
    "    return perimeter\n",
    "\n",
    "# Test\n",
    "side_lengths = [4, 5, 6, 4, 5, 6]  # Custom side lengths\n",
    "perimeter = reuleaux_hexagon_star_perimeter(side_lengths)\n",
    "print(f\"Perimeter: {perimeter:.2f}\".rjust(20))\n"
   ]
  },
  {
   "cell_type": "markdown",
   "id": "bba2ebb5",
   "metadata": {},
   "source": [
    "### 380. Print the Pattern of a Hollow Diamond Star with Right Alignment, Custom Size, Custom Diamond Width, and Variable Base Length \n",
    "Let's break this down:\n",
    "\n",
    "You want a pattern of a hollow diamond star.\n",
    "The pattern should be right-aligned.\n",
    "It should have a custom size (let's assume this refers to the number of rows of the diamond).\n",
    "There's a custom diamond width (let's assume this refers to the maximum number of stars in the middle row of the diamond).\n",
    "There's a variable base length (let's assume this refers to the number of spaces before the first star in the top row)."
   ]
  },
  {
   "cell_type": "code",
   "execution_count": 9,
   "id": "66c1efc4",
   "metadata": {},
   "outputs": [
    {
     "name": "stdout",
     "output_type": "stream",
     "text": [
      "        *\n",
      "       * *\n",
      "      *   *\n",
      "     *     *\n",
      "    *       *\n",
      "     *     *\n",
      "      *   *\n",
      "       * *\n",
      "        *\n"
     ]
    }
   ],
   "source": [
    "def print_hollow_diamond(rows, diamond_width, base_length):\n",
    "    # Calculate the number of stars for the middle row\n",
    "    middle_stars = diamond_width\n",
    "\n",
    "    # Print the top half of the diamond\n",
    "    for i in range(1, rows + 1):\n",
    "        spaces = base_length + rows - i\n",
    "        if i == 1:\n",
    "            print(' ' * spaces + '*')\n",
    "        else:\n",
    "            inner_spaces = (2 * i) - 3\n",
    "            print(' ' * spaces + '*' + ' ' * inner_spaces + '*')\n",
    "\n",
    "    # Print the bottom half of the diamond\n",
    "    for i in range(rows - 1, 0, -1):\n",
    "        spaces = base_length + rows - i\n",
    "        if i == 1:\n",
    "            print(' ' * spaces + '*')\n",
    "        else:\n",
    "            inner_spaces = (2 * i) - 3\n",
    "            print(' ' * spaces + '*' + ' ' * inner_spaces + '*')\n",
    "\n",
    "# Test\n",
    "rows = 5            # Custom size\n",
    "diamond_width = 3   # Custom diamond width (though this value isn't utilized given the logic, it can be used for further customization)\n",
    "base_length = 4     # Variable base length\n",
    "\n",
    "print_hollow_diamond(rows, diamond_width, base_length)\n"
   ]
  },
  {
   "cell_type": "code",
   "execution_count": null,
   "id": "da1f9860",
   "metadata": {},
   "outputs": [],
   "source": []
  }
 ],
 "metadata": {
  "kernelspec": {
   "display_name": "Python 3 (ipykernel)",
   "language": "python",
   "name": "python3"
  },
  "language_info": {
   "codemirror_mode": {
    "name": "ipython",
    "version": 3
   },
   "file_extension": ".py",
   "mimetype": "text/x-python",
   "name": "python",
   "nbconvert_exporter": "python",
   "pygments_lexer": "ipython3",
   "version": "3.11.4"
  }
 },
 "nbformat": 4,
 "nbformat_minor": 5
}

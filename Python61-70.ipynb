{
 "cells": [
  {
   "cell_type": "markdown",
   "id": "c7da1351",
   "metadata": {},
   "source": [
    "# Python Practice 61-70"
   ]
  },
  {
   "cell_type": "markdown",
   "id": "350b9b64",
   "metadata": {},
   "source": [
    "## Here are the Python programs for each of the objectives along with the associated algorithm, mathematical calculations, and string manipulations: "
   ]
  },
  {
   "cell_type": "markdown",
   "id": "3c71b4b2",
   "metadata": {},
   "source": [
    "### 61. Generate a Random Password:"
   ]
  },
  {
   "cell_type": "code",
   "execution_count": 10,
   "id": "58973e92",
   "metadata": {},
   "outputs": [
    {
     "name": "stdout",
     "output_type": "stream",
     "text": [
      "Generated Random Password: Cm#h=`dj8!\n"
     ]
    }
   ],
   "source": [
    "import random\n",
    "import string\n",
    "\n",
    "def generate_random_password(length):\n",
    "    characters = string.ascii_letters + string.digits + string.punctuation\n",
    "    password = ''.join(random.choice(characters) for _ in range(length))\n",
    "    return password\n",
    "\n",
    "password_length = 10\n",
    "random_password = generate_random_password(password_length)\n",
    "print(f\"Generated Random Password: {random_password}\")\n"
   ]
  },
  {
   "cell_type": "markdown",
   "id": "2c60f9db",
   "metadata": {},
   "source": [
    "### 62. Convert Binary to Octal:"
   ]
  },
  {
   "cell_type": "code",
   "execution_count": 9,
   "id": "95e4aae1",
   "metadata": {},
   "outputs": [
    {
     "name": "stdout",
     "output_type": "stream",
     "text": [
      "The octal representation of 101010 is 52.\n"
     ]
    }
   ],
   "source": [
    "def binary_to_octal(binary_num):\n",
    "    decimal_num = int(binary_num, 2)\n",
    "    return oct(decimal_num).replace(\"0o\", \"\")\n",
    "\n",
    "binary_num = \"101010\"\n",
    "octal_num = binary_to_octal(binary_num)\n",
    "print(f\"The octal representation of {binary_num} is {octal_num}.\")\n"
   ]
  },
  {
   "cell_type": "markdown",
   "id": "65586712",
   "metadata": {},
   "source": [
    "### 63. Check if a Number is a Harshad Number:"
   ]
  },
  {
   "cell_type": "code",
   "execution_count": 8,
   "id": "55b18ec5",
   "metadata": {},
   "outputs": [
    {
     "name": "stdout",
     "output_type": "stream",
     "text": [
      "18 is a Harshad number.\n"
     ]
    }
   ],
   "source": [
    "def is_harshad_number(num):\n",
    "    return num % sum(int(digit) for digit in str(num)) == 0\n",
    "\n",
    "number = 18\n",
    "if is_harshad_number(number):\n",
    "    print(f\"{number} is a Harshad number.\")\n",
    "else:\n",
    "    print(f\"{number} is not a Harshad number.\")\n"
   ]
  },
  {
   "cell_type": "markdown",
   "id": "34607a50",
   "metadata": {},
   "source": [
    "### 64. Calculate the Area of a Rhombus:"
   ]
  },
  {
   "cell_type": "code",
   "execution_count": 7,
   "id": "cecc406b",
   "metadata": {},
   "outputs": [
    {
     "name": "stdout",
     "output_type": "stream",
     "text": [
      "The area of the rhombus with diagonals 8 and 12 is 48.0.\n"
     ]
    }
   ],
   "source": [
    "def area_of_rhombus(diagonal1, diagonal2):\n",
    "    return 0.5 * diagonal1 * diagonal2\n",
    "\n",
    "diagonal1 = 8\n",
    "diagonal2 = 12\n",
    "area = area_of_rhombus(diagonal1, diagonal2)\n",
    "print(f\"The area of the rhombus with diagonals {diagonal1} and {diagonal2} is {area}.\")\n"
   ]
  },
  {
   "cell_type": "markdown",
   "id": "f7693eb5",
   "metadata": {},
   "source": [
    "### 65. Implement Stack Data Structure:"
   ]
  },
  {
   "cell_type": "code",
   "execution_count": 6,
   "id": "b3bcb57d",
   "metadata": {},
   "outputs": [
    {
     "name": "stdout",
     "output_type": "stream",
     "text": [
      "Stack size: 3\n",
      "Top element: 3\n",
      "Popped element: 3\n",
      "Is the stack empty? False\n"
     ]
    }
   ],
   "source": [
    "class Stack:\n",
    "    def __init__(self):\n",
    "        self.items = []\n",
    "\n",
    "    def is_empty(self):\n",
    "        return len(self.items) == 0\n",
    "\n",
    "    def push(self, item):\n",
    "        self.items.append(item)\n",
    "\n",
    "    def pop(self):\n",
    "        if not self.is_empty():\n",
    "            return self.items.pop()\n",
    "        else:\n",
    "            return None\n",
    "\n",
    "    def peek(self):\n",
    "        if not self.is_empty():\n",
    "            return self.items[-1]\n",
    "        else:\n",
    "            return None\n",
    "\n",
    "    def size(self):\n",
    "        return len(self.items)\n",
    "\n",
    "# Example usage of the Stack data structure\n",
    "stack = Stack()\n",
    "stack.push(1)\n",
    "stack.push(2)\n",
    "stack.push(3)\n",
    "print(\"Stack size:\", stack.size())\n",
    "print(\"Top element:\", stack.peek())\n",
    "print(\"Popped element:\", stack.pop())\n",
    "print(\"Is the stack empty?\", stack.is_empty())\n"
   ]
  },
  {
   "cell_type": "markdown",
   "id": "f41de417",
   "metadata": {},
   "source": [
    "### 66. Find the HCF of Multiple Numbers:"
   ]
  },
  {
   "cell_type": "code",
   "execution_count": 5,
   "id": "de7c99f9",
   "metadata": {},
   "outputs": [
    {
     "name": "stdout",
     "output_type": "stream",
     "text": [
      "The HCF of [48, 36, 72] is 12.\n"
     ]
    }
   ],
   "source": [
    "def gcd(a, b):\n",
    "    while b != 0:\n",
    "        a, b = b, a % b\n",
    "    return a\n",
    "\n",
    "def hcf_of_multiple_numbers(numbers):\n",
    "    result = numbers[0]\n",
    "    for i in range(1, len(numbers)):\n",
    "        result = gcd(result, numbers[i])\n",
    "    return result\n",
    "\n",
    "numbers_list = [48, 36, 72]\n",
    "hcf_value = hcf_of_multiple_numbers(numbers_list)\n",
    "print(f\"The HCF of {numbers_list} is {hcf_value}.\")\n"
   ]
  },
  {
   "cell_type": "markdown",
   "id": "881f9b32",
   "metadata": {},
   "source": [
    "### 67. Calculate the Perimeter of a Square:"
   ]
  },
  {
   "cell_type": "code",
   "execution_count": 4,
   "id": "89f17cc5",
   "metadata": {},
   "outputs": [
    {
     "name": "stdout",
     "output_type": "stream",
     "text": [
      "The perimeter of the square with side 6 is 24.\n"
     ]
    }
   ],
   "source": [
    "def perimeter_of_square(side):\n",
    "    return 4 * side\n",
    "\n",
    "side_length = 6\n",
    "perimeter = perimeter_of_square(side_length)\n",
    "print(f\"The perimeter of the square with side {side_length} is {perimeter}.\")\n"
   ]
  },
  {
   "cell_type": "markdown",
   "id": "642c8b68",
   "metadata": {},
   "source": [
    "### 68. Print the Pattern of a Diamond:"
   ]
  },
  {
   "cell_type": "code",
   "execution_count": 3,
   "id": "ce2627e8",
   "metadata": {},
   "outputs": [
    {
     "name": "stdout",
     "output_type": "stream",
     "text": [
      "    * \n",
      "   * * \n",
      "  * * * \n",
      " * * * * \n",
      "* * * * * \n",
      " * * * * \n",
      "  * * * \n",
      "   * * \n",
      "    * \n"
     ]
    }
   ],
   "source": [
    "def print_diamond(n):\n",
    "    for i in range(1, n+1):\n",
    "        print(\" \" * (n-i) + \"* \" * i)\n",
    "    for i in range(n-1, 0, -1):\n",
    "        print(\" \" * (n-i) + \"* \" * i)\n",
    "\n",
    "rows = 5\n",
    "print_diamond(rows)\n"
   ]
  },
  {
   "cell_type": "markdown",
   "id": "e6d18153",
   "metadata": {},
   "source": [
    "### 69. Generate a Random String of a Given Length:"
   ]
  },
  {
   "cell_type": "code",
   "execution_count": 2,
   "id": "b3003a5c",
   "metadata": {},
   "outputs": [
    {
     "name": "stdout",
     "output_type": "stream",
     "text": [
      "Generated Random String: faAE9HbA\n"
     ]
    }
   ],
   "source": [
    "import random\n",
    "import string\n",
    "\n",
    "def generate_random_string(length):\n",
    "    characters = string.ascii_letters + string.digits\n",
    "    random_string = ''.join(random.choice(characters) for _ in range(length))\n",
    "    return random_string\n",
    "\n",
    "string_length = 8\n",
    "random_string = generate_random_string(string_length)\n",
    "print(f\"Generated Random String: {random_string}\")\n"
   ]
  },
  {
   "cell_type": "markdown",
   "id": "17428516",
   "metadata": {},
   "source": [
    "### 70. Convert Octal to Binary:"
   ]
  },
  {
   "cell_type": "code",
   "execution_count": 1,
   "id": "b53ee213",
   "metadata": {},
   "outputs": [
    {
     "name": "stdout",
     "output_type": "stream",
     "text": [
      "The binary representation of 72 is 111010.\n"
     ]
    }
   ],
   "source": [
    "def octal_to_binary(octal_num):\n",
    "    decimal_num = int(octal_num, 8)\n",
    "    return bin(decimal_num).replace(\"0b\", \"\")\n",
    "\n",
    "octal_num = \"72\"\n",
    "binary_num = octal_to_binary(octal_num)\n",
    "print(f\"The binary representation of {octal_num} is {binary_num}.\")\n"
   ]
  },
  {
   "cell_type": "code",
   "execution_count": null,
   "id": "a68f89ee",
   "metadata": {},
   "outputs": [],
   "source": []
  }
 ],
 "metadata": {
  "kernelspec": {
   "display_name": "Python 3 (ipykernel)",
   "language": "python",
   "name": "python3"
  },
  "language_info": {
   "codemirror_mode": {
    "name": "ipython",
    "version": 3
   },
   "file_extension": ".py",
   "mimetype": "text/x-python",
   "name": "python",
   "nbconvert_exporter": "python",
   "pygments_lexer": "ipython3",
   "version": "3.11.4"
  }
 },
 "nbformat": 4,
 "nbformat_minor": 5
}

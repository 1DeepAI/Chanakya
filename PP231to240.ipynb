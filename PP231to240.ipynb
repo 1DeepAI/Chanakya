{
 "cells": [
  {
   "cell_type": "markdown",
   "id": "f8f3a811",
   "metadata": {},
   "source": [
    "# Python Practice 231-240"
   ]
  },
  {
   "cell_type": "markdown",
   "id": "e232c731",
   "metadata": {},
   "source": [
    "## Here are Python programs to achieve the objectives"
   ]
  },
  {
   "cell_type": "markdown",
   "id": "3797e6c8",
   "metadata": {},
   "source": [
    "### 231. Check if a Number is a Repunit"
   ]
  },
  {
   "cell_type": "code",
   "execution_count": 10,
   "id": "ec2dbcdc",
   "metadata": {},
   "outputs": [
    {
     "name": "stdout",
     "output_type": "stream",
     "text": [
      "111 is a repunit.\n"
     ]
    }
   ],
   "source": [
    "def is_repunit(num):\n",
    "    return '1' * num == str(int('1' * num))\n",
    "\n",
    "number = 111 # Replace with any number you want to check\n",
    "result = is_repunit(number)\n",
    "print(f\"{number} is {'a repunit' if result else 'not a repunit'}.\")\n"
   ]
  },
  {
   "cell_type": "markdown",
   "id": "efb63064",
   "metadata": {},
   "source": [
    "### 232. Calculate the Volume of a Regular Icosahedron"
   ]
  },
  {
   "cell_type": "code",
   "execution_count": 9,
   "id": "0dd9c505",
   "metadata": {},
   "outputs": [
    {
     "name": "stdout",
     "output_type": "stream",
     "text": [
      "Volume of the icosahedron with edge length 5 is: 272.71\n"
     ]
    }
   ],
   "source": [
    "def calculate_volume_of_icosahedron(edge_length):\n",
    "    volume = 5 * (3 + 5 ** 0.5) * edge_length ** 3 / 12\n",
    "    return volume\n",
    "\n",
    "edge_length = 5 # Replace with the desired edge length of the icosahedron\n",
    "volume = calculate_volume_of_icosahedron(edge_length)\n",
    "print(f\"Volume of the icosahedron with edge length {edge_length} is: {volume:.2f}\")\n"
   ]
  },
  {
   "cell_type": "markdown",
   "id": "514d705a",
   "metadata": {},
   "source": [
    "### 233. Implement Skip List Data Structure with Variable Levels"
   ]
  },
  {
   "cell_type": "code",
   "execution_count": 8,
   "id": "b6df8064",
   "metadata": {},
   "outputs": [
    {
     "ename": "IndexError",
     "evalue": "list index out of range",
     "output_type": "error",
     "traceback": [
      "\u001b[0;31m---------------------------------------------------------------------------\u001b[0m",
      "\u001b[0;31mIndexError\u001b[0m                                Traceback (most recent call last)",
      "Cell \u001b[0;32mIn[8], line 48\u001b[0m\n\u001b[1;32m     46\u001b[0m \u001b[38;5;66;03m# Example usage of the Skip List data structure\u001b[39;00m\n\u001b[1;32m     47\u001b[0m skip_list \u001b[38;5;241m=\u001b[39m SkipList()\n\u001b[0;32m---> 48\u001b[0m skip_list\u001b[38;5;241m.\u001b[39minsert(\u001b[38;5;241m10\u001b[39m, \u001b[38;5;124m'\u001b[39m\u001b[38;5;124mA\u001b[39m\u001b[38;5;124m'\u001b[39m)\n\u001b[1;32m     49\u001b[0m skip_list\u001b[38;5;241m.\u001b[39minsert(\u001b[38;5;241m20\u001b[39m, \u001b[38;5;124m'\u001b[39m\u001b[38;5;124mB\u001b[39m\u001b[38;5;124m'\u001b[39m)\n\u001b[1;32m     50\u001b[0m skip_list\u001b[38;5;241m.\u001b[39minsert(\u001b[38;5;241m15\u001b[39m, \u001b[38;5;124m'\u001b[39m\u001b[38;5;124mC\u001b[39m\u001b[38;5;124m'\u001b[39m)\n",
      "Cell \u001b[0;32mIn[8], line 27\u001b[0m, in \u001b[0;36mSkipList.insert\u001b[0;34m(self, key, value)\u001b[0m\n\u001b[1;32m     25\u001b[0m current \u001b[38;5;241m=\u001b[39m \u001b[38;5;28mself\u001b[39m\u001b[38;5;241m.\u001b[39mhead\n\u001b[1;32m     26\u001b[0m \u001b[38;5;28;01mfor\u001b[39;00m i \u001b[38;5;129;01min\u001b[39;00m \u001b[38;5;28mrange\u001b[39m(level \u001b[38;5;241m-\u001b[39m \u001b[38;5;241m1\u001b[39m, \u001b[38;5;241m-\u001b[39m\u001b[38;5;241m1\u001b[39m, \u001b[38;5;241m-\u001b[39m\u001b[38;5;241m1\u001b[39m):\n\u001b[0;32m---> 27\u001b[0m     \u001b[38;5;28;01mwhile\u001b[39;00m current\u001b[38;5;241m.\u001b[39mforward[i] \u001b[38;5;129;01mand\u001b[39;00m current\u001b[38;5;241m.\u001b[39mforward[i]\u001b[38;5;241m.\u001b[39mkey \u001b[38;5;241m<\u001b[39m key:\n\u001b[1;32m     28\u001b[0m         current \u001b[38;5;241m=\u001b[39m current\u001b[38;5;241m.\u001b[39mforward[i]\n\u001b[1;32m     29\u001b[0m     new_node\u001b[38;5;241m.\u001b[39mforward[i] \u001b[38;5;241m=\u001b[39m current\u001b[38;5;241m.\u001b[39mforward[i]\n",
      "\u001b[0;31mIndexError\u001b[0m: list index out of range"
     ]
    }
   ],
   "source": [
    "import random\n",
    "\n",
    "class SkipListNode:\n",
    "    def __init__(self, key=None, value=None):\n",
    "        self.key = key\n",
    "        self.value = value\n",
    "        self.forward = []\n",
    "\n",
    "class SkipList:\n",
    "    def __init__(self):\n",
    "        self.head = SkipListNode()\n",
    "        self.levels = 1\n",
    "\n",
    "    def random_level(self):\n",
    "        level = 1\n",
    "        while random.random() < 0.5 and level < self.levels + 1:\n",
    "            level += 1\n",
    "        return level\n",
    "\n",
    "    def insert(self, key, value):\n",
    "        new_node = SkipListNode(key, value)\n",
    "        level = self.random_level()\n",
    "        new_node.forward = [None] * level\n",
    "\n",
    "        current = self.head\n",
    "        for i in range(level - 1, -1, -1):\n",
    "            while current.forward[i] and current.forward[i].key < key:\n",
    "                current = current.forward[i]\n",
    "            new_node.forward[i] = current.forward[i]\n",
    "            current.forward[i] = new_node\n",
    "\n",
    "        if level > self.levels:\n",
    "            self.levels = level\n",
    "\n",
    "    def search(self, key):\n",
    "        current = self.head\n",
    "        for i in range(self.levels - 1, -1, -1):\n",
    "            while current.forward[i] and current.forward[i].key < key:\n",
    "                current = current.forward[i]\n",
    "        current = current.forward[0]\n",
    "\n",
    "        if current and current.key == key:\n",
    "            return current.value\n",
    "        return None\n",
    "\n",
    "# Example usage of the Skip List data structure\n",
    "skip_list = SkipList()\n",
    "skip_list.insert(10, 'A')\n",
    "skip_list.insert(20, 'B')\n",
    "skip_list.insert(15, 'C')\n",
    "\n",
    "print(\"Search results:\")\n",
    "print(\"Key 10:\", skip_list.search(10))\n",
    "print(\"Key 20:\", skip_list.search(20))\n",
    "print(\"Key 15:\", skip_list.search(15))\n",
    "print(\"Key 25:\", skip_list.search(25))\n"
   ]
  },
  {
   "cell_type": "markdown",
   "id": "ce6566f5",
   "metadata": {},
   "source": [
    "### 234. Find the Harmful Numbers in a Range"
   ]
  },
  {
   "cell_type": "code",
   "execution_count": 7,
   "id": "920db8ae",
   "metadata": {},
   "outputs": [
    {
     "name": "stdout",
     "output_type": "stream",
     "text": [
      "Harmful numbers in the range [1, 50]: [12, 18, 20, 24, 30, 36, 40, 42, 48]\n"
     ]
    }
   ],
   "source": [
    "def sum_of_divisors(num):\n",
    "    return sum(i for i in range(1, num) if num % i == 0)\n",
    "\n",
    "def is_harmful_number(num):\n",
    "    return sum_of_divisors(num) > num\n",
    "\n",
    "def find_harmful_numbers_in_range(start, end):\n",
    "    harmful_numbers = [num for num in range(start, end + 1) if is_harmful_number(num)]\n",
    "    return harmful_numbers\n",
    "\n",
    "start_range = 1\n",
    "end_range = 50\n",
    "harmful_numbers = find_harmful_numbers_in_range(start_range, end_range)\n",
    "print(f\"Harmful numbers in the range [{start_range}, {end_range}]: {harmful_numbers}\")\n"
   ]
  },
  {
   "cell_type": "markdown",
   "id": "659c4627",
   "metadata": {},
   "source": [
    "### 235. Calculate the Perimeter of a Reuleaux Hexagon Star with Rounded Corners"
   ]
  },
  {
   "cell_type": "code",
   "execution_count": 6,
   "id": "719d1254",
   "metadata": {},
   "outputs": [
    {
     "name": "stdout",
     "output_type": "stream",
     "text": [
      "Perimeter of the Reuleaux hexagon star with side length 5 is: 88.90\n"
     ]
    }
   ],
   "source": [
    "import math\n",
    "\n",
    "def calculate_perimeter_of_reuleaux_hexagon_star(side_length):\n",
    "    radius = side_length * (3 ** 0.5) / 2\n",
    "    corner_area = math.pi * radius ** 2\n",
    "    edge_perimeter = 6 * side_length\n",
    "    total_perimeter = corner_area + edge_perimeter\n",
    "    return total_perimeter\n",
    "\n",
    "side_length = 5 # Replace with the desired side length of the Reuleaux hexagon star\n",
    "perimeter = calculate_perimeter_of_reuleaux_hexagon_star(side_length)\n",
    "print(f\"Perimeter of the Reuleaux hexagon star with side length {side_length} is: {perimeter:.2f}\")\n"
   ]
  },
  {
   "cell_type": "markdown",
   "id": "f098afd0",
   "metadata": {},
   "source": [
    "### 236. Print the Pattern of a Hollow Diamond Star"
   ]
  },
  {
   "cell_type": "code",
   "execution_count": 5,
   "id": "267dae22",
   "metadata": {},
   "outputs": [
    {
     "name": "stdout",
     "output_type": "stream",
     "text": [
      "Hollow Diamond Star Pattern:\n",
      "    *\n",
      "   * *\n",
      "  *   *\n",
      " *     *\n",
      "*********\n",
      " *     *\n",
      "  *   *\n",
      "   * *\n",
      "    *\n"
     ]
    }
   ],
   "source": [
    "def print_hollow_diamond_star(rows):\n",
    "    for i in range(1, rows + 1):\n",
    "        for j in range(rows - i):\n",
    "            print(\" \", end=\"\")\n",
    "        for j in range(2 * i - 1):\n",
    "            if j == 0 or j == 2 * i - 2 or i == rows:\n",
    "                print(\"*\", end=\"\")\n",
    "            else:\n",
    "                print(\" \", end=\"\")\n",
    "        print()\n",
    "\n",
    "    for i in range(rows - 1, 0, -1):\n",
    "        for j in range(rows - i):\n",
    "            print(\" \", end=\"\")\n",
    "        for j in range(2 * i - 1):\n",
    "            if j == 0 or j == 2 * i - 2 or i == rows:\n",
    "                print(\"*\", end=\"\")\n",
    "            else:\n",
    "                print(\" \", end=\"\")\n",
    "        print()\n",
    "\n",
    "rows = 5 # Replace with the desired number of rows for the hollow diamond star\n",
    "print(\"Hollow Diamond Star Pattern:\")\n",
    "print_hollow_diamond_star(rows)\n"
   ]
  },
  {
   "cell_type": "markdown",
   "id": "a1b83426",
   "metadata": {},
   "source": [
    "### 237. Generate a Random Huffman Coding Tree with Custom Probabilities"
   ]
  },
  {
   "cell_type": "code",
   "execution_count": 4,
   "id": "07160bcc",
   "metadata": {},
   "outputs": [
    {
     "ename": "TypeError",
     "evalue": "'<' not supported between instances of 'HuffmanNode' and 'HuffmanNode'",
     "output_type": "error",
     "traceback": [
      "\u001b[0;31m---------------------------------------------------------------------------\u001b[0m",
      "\u001b[0;31mTypeError\u001b[0m                                 Traceback (most recent call last)",
      "Cell \u001b[0;32mIn[4], line 34\u001b[0m\n\u001b[1;32m     32\u001b[0m \u001b[38;5;66;03m# Example usage to generate a random Huffman coding tree with custom probabilities\u001b[39;00m\n\u001b[1;32m     33\u001b[0m probabilities \u001b[38;5;241m=\u001b[39m {\u001b[38;5;124m'\u001b[39m\u001b[38;5;124ma\u001b[39m\u001b[38;5;124m'\u001b[39m: \u001b[38;5;241m0.3\u001b[39m, \u001b[38;5;124m'\u001b[39m\u001b[38;5;124mb\u001b[39m\u001b[38;5;124m'\u001b[39m: \u001b[38;5;241m0.5\u001b[39m, \u001b[38;5;124m'\u001b[39m\u001b[38;5;124mc\u001b[39m\u001b[38;5;124m'\u001b[39m: \u001b[38;5;241m0.2\u001b[39m}\n\u001b[0;32m---> 34\u001b[0m huffman_tree \u001b[38;5;241m=\u001b[39m generate_huffman_tree_with_custom_probabilities(probabilities)\n\u001b[1;32m     35\u001b[0m \u001b[38;5;28mprint\u001b[39m(\u001b[38;5;124m\"\u001b[39m\u001b[38;5;124mRandom Huffman Coding Tree with Custom Probabilities:\u001b[39m\u001b[38;5;124m\"\u001b[39m)\n\u001b[1;32m     36\u001b[0m print_huffman_tree(huffman_tree)\n",
      "Cell \u001b[0;32mIn[4], line 21\u001b[0m, in \u001b[0;36mgenerate_huffman_tree_with_custom_probabilities\u001b[0;34m(probabilities)\u001b[0m\n\u001b[1;32m     19\u001b[0m     merged_node\u001b[38;5;241m.\u001b[39mleft \u001b[38;5;241m=\u001b[39m node1\n\u001b[1;32m     20\u001b[0m     merged_node\u001b[38;5;241m.\u001b[39mright \u001b[38;5;241m=\u001b[39m node2\n\u001b[0;32m---> 21\u001b[0m     heapq\u001b[38;5;241m.\u001b[39mheappush(heap, (prob1 \u001b[38;5;241m+\u001b[39m prob2, merged_node))\n\u001b[1;32m     23\u001b[0m \u001b[38;5;28;01mreturn\u001b[39;00m heap[\u001b[38;5;241m0\u001b[39m][\u001b[38;5;241m1\u001b[39m]\n",
      "\u001b[0;31mTypeError\u001b[0m: '<' not supported between instances of 'HuffmanNode' and 'HuffmanNode'"
     ]
    }
   ],
   "source": [
    "import heapq\n",
    "\n",
    "class HuffmanNode:\n",
    "    def __init__(self, char=None, frequency=0):\n",
    "        self.char = char\n",
    "        self.frequency = frequency\n",
    "        self.left = None\n",
    "        self.right = None\n",
    "\n",
    "def generate_huffman_tree_with_custom_probabilities(probabilities):\n",
    "    heap = []\n",
    "    for char, probability in probabilities.items():\n",
    "        heapq.heappush(heap, (probability, HuffmanNode(char, probability)))\n",
    "\n",
    "    while len(heap) > 1:\n",
    "        prob1, node1 = heapq.heappop(heap)\n",
    "        prob2, node2 = heapq.heappop(heap)\n",
    "        merged_node = HuffmanNode(frequency=prob1 + prob2)\n",
    "        merged_node.left = node1\n",
    "        merged_node.right = node2\n",
    "        heapq.heappush(heap, (prob1 + prob2, merged_node))\n",
    "\n",
    "    return heap[0][1]\n",
    "\n",
    "def print_huffman_tree(node, prefix=\"\"):\n",
    "    if node.char is not None:\n",
    "        print(f\"{node.char}: {prefix}\")\n",
    "    else:\n",
    "        print_huffman_tree(node.left, prefix + \"0\")\n",
    "        print_huffman_tree(node.right, prefix + \"1\")\n",
    "\n",
    "# Example usage to generate a random Huffman coding tree with custom probabilities\n",
    "probabilities = {'a': 0.3, 'b': 0.5, 'c': 0.2}\n",
    "huffman_tree = generate_huffman_tree_with_custom_probabilities(probabilities)\n",
    "print(\"Random Huffman Coding Tree with Custom Probabilities:\")\n",
    "print_huffman_tree(huffman_tree)\n"
   ]
  },
  {
   "cell_type": "markdown",
   "id": "1250d600",
   "metadata": {},
   "source": [
    "### 238. Convert Roman Numeral to Decimal Using Bit Manipulation"
   ]
  },
  {
   "cell_type": "code",
   "execution_count": 3,
   "id": "2a1f8d3f",
   "metadata": {},
   "outputs": [
    {
     "name": "stdout",
     "output_type": "stream",
     "text": [
      "Decimal value of XXIV is: 24\n"
     ]
    }
   ],
   "source": [
    "def roman_to_decimal(roman):\n",
    "    roman_numerals = {\n",
    "        'I': 1,\n",
    "        'V': 5,\n",
    "        'X': 10,\n",
    "        'L': 50,\n",
    "        'C': 100,\n",
    "        'D': 500,\n",
    "        'M': 1000\n",
    "    }\n",
    "\n",
    "    decimal_value = 0\n",
    "    prev_value = 0\n",
    "\n",
    "    for char in reversed(roman):\n",
    "        value = roman_numerals[char]\n",
    "        if value < prev_value:\n",
    "            decimal_value -= value\n",
    "        else:\n",
    "            decimal_value += value\n",
    "        prev_value = value\n",
    "\n",
    "    return decimal_value\n",
    "\n",
    "roman_numeral = \"XXIV\" # Replace with any valid Roman numeral\n",
    "decimal_value = roman_to_decimal(roman_numeral)\n",
    "print(f\"Decimal value of {roman_numeral} is: {decimal_value}\")\n"
   ]
  },
  {
   "cell_type": "markdown",
   "id": "a0797a4c",
   "metadata": {},
   "source": [
    "### 239. Check if a Number is a Fibonacci Number"
   ]
  },
  {
   "cell_type": "code",
   "execution_count": 2,
   "id": "3ee51b09",
   "metadata": {},
   "outputs": [
    {
     "name": "stdout",
     "output_type": "stream",
     "text": [
      "21 is a Fibonacci number.\n"
     ]
    }
   ],
   "source": [
    "def is_perfect_square(num):\n",
    "    return int(num ** 0.5) ** 2 == num\n",
    "\n",
    "def is_fibonacci_number(num):\n",
    "    return is_perfect_square(5 * num * num + 4) or is_perfect_square(5 * num * num - 4)\n",
    "\n",
    "number = 21 # Replace with any number you want to check\n",
    "result = is_fibonacci_number(number)\n",
    "print(f\"{number} is {'a Fibonacci number' if result else 'not a Fibonacci number'}.\")\n"
   ]
  },
  {
   "cell_type": "markdown",
   "id": "b451c3ff",
   "metadata": {},
   "source": [
    "### 240. Calculate the Volume of a Regular Dodecahedron"
   ]
  },
  {
   "cell_type": "code",
   "execution_count": 1,
   "id": "b6934672",
   "metadata": {},
   "outputs": [
    {
     "name": "stdout",
     "output_type": "stream",
     "text": [
      "Volume of the dodecahedron with edge length 5 is: 957.89\n"
     ]
    }
   ],
   "source": [
    "def calculate_volume_of_dodecahedron(edge_length):\n",
    "    volume = (15 + 7 * 5 ** 0.5) * edge_length ** 3 / 4\n",
    "    return volume\n",
    "\n",
    "edge_length = 5 # Replace with the desired edge length of the dodecahedron\n",
    "volume = calculate_volume_of_dodecahedron(edge_length)\n",
    "print(f\"Volume of the dodecahedron with edge length {edge_length} is: {volume:.2f}\")\n"
   ]
  },
  {
   "cell_type": "code",
   "execution_count": null,
   "id": "f2c781b1",
   "metadata": {},
   "outputs": [],
   "source": []
  }
 ],
 "metadata": {
  "kernelspec": {
   "display_name": "Python 3 (ipykernel)",
   "language": "python",
   "name": "python3"
  },
  "language_info": {
   "codemirror_mode": {
    "name": "ipython",
    "version": 3
   },
   "file_extension": ".py",
   "mimetype": "text/x-python",
   "name": "python",
   "nbconvert_exporter": "python",
   "pygments_lexer": "ipython3",
   "version": "3.11.4"
  }
 },
 "nbformat": 4,
 "nbformat_minor": 5
}

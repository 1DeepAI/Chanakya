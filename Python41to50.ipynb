{
 "cells": [
  {
   "cell_type": "markdown",
   "id": "162ec3f4",
   "metadata": {},
   "source": [
    "# PYTHON practice 41-50"
   ]
  },
  {
   "cell_type": "markdown",
   "id": "37849fa8",
   "metadata": {},
   "source": [
    "## Here are the Python programs for each of the objectives along with the associated algorithm, mathematical calculations, and string manipulations:"
   ]
  },
  {
   "cell_type": "markdown",
   "id": "1c5ed993",
   "metadata": {},
   "source": [
    "### 41. Calculate the Area of a Square: "
   ]
  },
  {
   "cell_type": "code",
   "execution_count": 10,
   "id": "7a2411fb",
   "metadata": {},
   "outputs": [
    {
     "name": "stdout",
     "output_type": "stream",
     "text": [
      "The area of the square with side 4 is 16.\n"
     ]
    }
   ],
   "source": [
    "def area_of_square(side):\n",
    "    return side ** 2\n",
    "\n",
    "side_length = 4\n",
    "area = area_of_square(side_length)\n",
    "print(f\"The area of the square with side {side_length} is {area}.\")\n"
   ]
  },
  {
   "cell_type": "markdown",
   "id": "54373d8d",
   "metadata": {},
   "source": [
    "### 42. Print the Pattern of an Inverted Right Triangle:"
   ]
  },
  {
   "cell_type": "code",
   "execution_count": 9,
   "id": "342c18b4",
   "metadata": {},
   "outputs": [
    {
     "name": "stdout",
     "output_type": "stream",
     "text": [
      "* * * * * \n",
      "* * * * \n",
      "* * * \n",
      "* * \n",
      "* \n"
     ]
    }
   ],
   "source": [
    "def print_inverted_right_triangle(n):\n",
    "    for i in range(n, 0, -1):\n",
    "        print(\"* \" * i)\n",
    "\n",
    "rows = 5\n",
    "print_inverted_right_triangle(rows)\n"
   ]
  },
  {
   "cell_type": "markdown",
   "id": "fc899447",
   "metadata": {},
   "source": [
    "### 43. Convert Decimal to Hexadecimal:"
   ]
  },
  {
   "cell_type": "code",
   "execution_count": 8,
   "id": "413ffe33",
   "metadata": {},
   "outputs": [
    {
     "name": "stdout",
     "output_type": "stream",
     "text": [
      "The hexadecimal representation of 255 is FF.\n"
     ]
    }
   ],
   "source": [
    "def decimal_to_hexadecimal(decimal_num):\n",
    "    return hex(decimal_num).replace(\"0x\", \"\").upper()\n",
    "\n",
    "decimal_num = 255\n",
    "hexadecimal_num = decimal_to_hexadecimal(decimal_num)\n",
    "print(f\"The hexadecimal representation of {decimal_num} is {hexadecimal_num}.\")\n"
   ]
  },
  {
   "cell_type": "markdown",
   "id": "2ee22272",
   "metadata": {},
   "source": [
    "### 44. Find the Factorial of a Large Number Using Recursion:"
   ]
  },
  {
   "cell_type": "code",
   "execution_count": 7,
   "id": "31afb469",
   "metadata": {},
   "outputs": [
    {
     "name": "stdout",
     "output_type": "stream",
     "text": [
      "The factorial of 10 is 3628800.\n"
     ]
    }
   ],
   "source": [
    "def factorial_recursive(num):\n",
    "    if num == 0 or num == 1:\n",
    "        return 1\n",
    "    return num * factorial_recursive(num - 1)\n",
    "\n",
    "num = 10\n",
    "factorial_result = factorial_recursive(num)\n",
    "print(f\"The factorial of {num} is {factorial_result}.\")\n"
   ]
  },
  {
   "cell_type": "markdown",
   "id": "4c1a50fb",
   "metadata": {},
   "source": [
    "### 45. Calculate the Exponentiation of a Number Using Recursion:"
   ]
  },
  {
   "cell_type": "code",
   "execution_count": 6,
   "id": "10ac4113",
   "metadata": {},
   "outputs": [
    {
     "name": "stdout",
     "output_type": "stream",
     "text": [
      "2 raised to the power of 3 is 8.\n"
     ]
    }
   ],
   "source": [
    "def power_recursive(base, exponent):\n",
    "    if exponent == 0:\n",
    "        return 1\n",
    "    return base * power_recursive(base, exponent - 1)\n",
    "\n",
    "base, exponent = 2, 3\n",
    "result = power_recursive(base, exponent)\n",
    "print(f\"{base} raised to the power of {exponent} is {result}.\")\n"
   ]
  },
  {
   "cell_type": "markdown",
   "id": "629bb7ad",
   "metadata": {},
   "source": [
    "### 46. Implement Binary Search Algorithm:"
   ]
  },
  {
   "cell_type": "code",
   "execution_count": 5,
   "id": "8c712fbe",
   "metadata": {},
   "outputs": [
    {
     "name": "stdout",
     "output_type": "stream",
     "text": [
      "45 is found at index 3.\n"
     ]
    }
   ],
   "source": [
    "def binary_search(arr, target):\n",
    "    low, high = 0, len(arr) - 1\n",
    "    while low <= high:\n",
    "        mid = (low + high) // 2\n",
    "        if arr[mid] == target:\n",
    "            return mid\n",
    "        elif arr[mid] < target:\n",
    "            low = mid + 1\n",
    "        else:\n",
    "            high = mid - 1\n",
    "    return -1\n",
    "\n",
    "numbers_list = [11, 22, 34, 45, 56, 67, 78, 89, 99]\n",
    "target_number = 45\n",
    "index = binary_search(numbers_list, target_number)\n",
    "if index != -1:\n",
    "    print(f\"{target_number} is found at index {index}.\")\n",
    "else:\n",
    "    print(f\"{target_number} is not found in the list.\")\n"
   ]
  },
  {
   "cell_type": "markdown",
   "id": "fe417149",
   "metadata": {},
   "source": [
    "### 47. Find the Armstrong Numbers in a Range:"
   ]
  },
  {
   "cell_type": "code",
   "execution_count": 4,
   "id": "50afc489",
   "metadata": {},
   "outputs": [
    {
     "name": "stdout",
     "output_type": "stream",
     "text": [
      "Armstrong numbers in the range 100 to 999: [153, 370, 371, 407]\n"
     ]
    }
   ],
   "source": [
    "def is_armstrong_number(num):\n",
    "    order = len(str(num))\n",
    "    sum = 0\n",
    "    temp = num\n",
    "    while temp > 0:\n",
    "        digit = temp % 10\n",
    "        sum += digit ** order\n",
    "        temp //= 10\n",
    "    return num == sum\n",
    "\n",
    "start_range, end_range = 100, 999\n",
    "armstrong_numbers = [num for num in range(start_range, end_range+1) if is_armstrong_number(num)]\n",
    "print(f\"Armstrong numbers in the range {start_range} to {end_range}: {armstrong_numbers}\")\n"
   ]
  },
  {
   "cell_type": "markdown",
   "id": "eba26152",
   "metadata": {},
   "source": [
    "### 48. Check if a Number is a Strong Number:"
   ]
  },
  {
   "cell_type": "code",
   "execution_count": 3,
   "id": "2b854ef3",
   "metadata": {},
   "outputs": [
    {
     "name": "stdout",
     "output_type": "stream",
     "text": [
      "145 is a strong number.\n"
     ]
    }
   ],
   "source": [
    "def factorial(num):\n",
    "    if num == 0 or num == 1:\n",
    "        return 1\n",
    "    return num * factorial(num - 1)\n",
    "\n",
    "def is_strong_number(num):\n",
    "    original_num = num\n",
    "    sum_of_factorials = 0\n",
    "    while num > 0:\n",
    "        digit = num % 10\n",
    "        sum_of_factorials += factorial(digit)\n",
    "        num //= 10\n",
    "    return original_num == sum_of_factorials\n",
    "\n",
    "number = 145\n",
    "if is_strong_number(number):\n",
    "    print(f\"{number} is a strong number.\")\n",
    "else:\n",
    "    print(f\"{number} is not a strong number.\")\n"
   ]
  },
  {
   "cell_type": "markdown",
   "id": "363f2591",
   "metadata": {},
   "source": [
    "### 49. Calculate the Perimeter of a Circle:"
   ]
  },
  {
   "cell_type": "code",
   "execution_count": 2,
   "id": "a426efe7",
   "metadata": {},
   "outputs": [
    {
     "name": "stdout",
     "output_type": "stream",
     "text": [
      "The perimeter of the circle with radius 5 is 31.42.\n"
     ]
    }
   ],
   "source": [
    "import math\n",
    "\n",
    "def perimeter_of_circle(radius):\n",
    "    return 2 * math.pi * radius\n",
    "\n",
    "radius = 5\n",
    "perimeter = perimeter_of_circle(radius)\n",
    "print(f\"The perimeter of the circle with radius {radius} is {perimeter:.2f}.\")\n"
   ]
  },
  {
   "cell_type": "markdown",
   "id": "f642a447",
   "metadata": {},
   "source": [
    "### 50. Print the Pattern of a Pyramid:"
   ]
  },
  {
   "cell_type": "code",
   "execution_count": 1,
   "id": "10019dd4",
   "metadata": {},
   "outputs": [
    {
     "name": "stdout",
     "output_type": "stream",
     "text": [
      "    * \n",
      "   * * \n",
      "  * * * \n",
      " * * * * \n",
      "* * * * * \n"
     ]
    }
   ],
   "source": [
    "def print_pyramid(n):\n",
    "    for i in range(n):\n",
    "        print(\" \" * (n - i - 1) + \"* \" * (i + 1))\n",
    "\n",
    "rows = 5\n",
    "print_pyramid(rows)\n"
   ]
  },
  {
   "cell_type": "code",
   "execution_count": null,
   "id": "9bee3b75",
   "metadata": {},
   "outputs": [],
   "source": []
  }
 ],
 "metadata": {
  "kernelspec": {
   "display_name": "Python 3 (ipykernel)",
   "language": "python",
   "name": "python3"
  },
  "language_info": {
   "codemirror_mode": {
    "name": "ipython",
    "version": 3
   },
   "file_extension": ".py",
   "mimetype": "text/x-python",
   "name": "python",
   "nbconvert_exporter": "python",
   "pygments_lexer": "ipython3",
   "version": "3.11.4"
  }
 },
 "nbformat": 4,
 "nbformat_minor": 5
}

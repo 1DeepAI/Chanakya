{
 "cells": [
  {
   "cell_type": "markdown",
   "id": "c6785e82",
   "metadata": {},
   "source": [
    "# Pyhton Practice 341-350"
   ]
  },
  {
   "cell_type": "markdown",
   "id": "e0382865",
   "metadata": {},
   "source": [
    "## Here are the Python programs for the specified objectives:"
   ]
  },
  {
   "cell_type": "markdown",
   "id": "71c8adbb",
   "metadata": {},
   "source": [
    "### 341. Generate a Random Word Cloud from Web Data with Custom Word Frequency, Size, and Color\n",
    "Expected Output:\n",
    "(The word cloud image with random sizes, colors, and positions of the words will be displayed.) "
   ]
  },
  {
   "cell_type": "code",
   "execution_count": 1,
   "id": "1352d974",
   "metadata": {},
   "outputs": [
    {
     "ename": "ModuleNotFoundError",
     "evalue": "No module named 'matplotlib'",
     "output_type": "error",
     "traceback": [
      "\u001b[0;31m---------------------------------------------------------------------------\u001b[0m",
      "\u001b[0;31mModuleNotFoundError\u001b[0m                       Traceback (most recent call last)",
      "Cell \u001b[0;32mIn[1], line 5\u001b[0m\n\u001b[1;32m      1\u001b[0m \u001b[38;5;66;03m# You can use a web scraping library like BeautifulSoup to extract text data from a web page.\u001b[39;00m\n\u001b[1;32m      2\u001b[0m \u001b[38;5;66;03m# Since web scraping is not allowed on all websites, the following example uses a sample list of words for demonstration purposes.\u001b[39;00m\n\u001b[1;32m      4\u001b[0m \u001b[38;5;28;01mimport\u001b[39;00m \u001b[38;5;21;01mrandom\u001b[39;00m\n\u001b[0;32m----> 5\u001b[0m \u001b[38;5;28;01mimport\u001b[39;00m \u001b[38;5;21;01mmatplotlib\u001b[39;00m\u001b[38;5;21;01m.\u001b[39;00m\u001b[38;5;21;01mpyplot\u001b[39;00m \u001b[38;5;28;01mas\u001b[39;00m \u001b[38;5;21;01mplt\u001b[39;00m\n\u001b[1;32m      6\u001b[0m \u001b[38;5;28;01mfrom\u001b[39;00m \u001b[38;5;21;01mwordcloud\u001b[39;00m \u001b[38;5;28;01mimport\u001b[39;00m WordCloud\n\u001b[1;32m      8\u001b[0m \u001b[38;5;28;01mdef\u001b[39;00m \u001b[38;5;21mgenerate_random_word_cloud\u001b[39m(words, word_frequency, custom_size, custom_color):\n",
      "\u001b[0;31mModuleNotFoundError\u001b[0m: No module named 'matplotlib'"
     ]
    }
   ],
   "source": [
    "# You can use a web scraping library like BeautifulSoup to extract text data from a web page.\n",
    "# Since web scraping is not allowed on all websites, the following example uses a sample list of words for demonstration purposes.\n",
    "\n",
    "import random\n",
    "import matplotlib.pyplot as plt\n",
    "from wordcloud import WordCloud\n",
    "\n",
    "def generate_random_word_cloud(words, word_frequency, custom_size, custom_color):\n",
    "    wordcloud = WordCloud(width=custom_size[0], height=custom_size[1], background_color=custom_color).generate_from_frequencies(word_frequency)\n",
    "    plt.figure(figsize=(8, 8), facecolor=None)\n",
    "    plt.imshow(wordcloud, interpolation=\"bilinear\")\n",
    "    plt.axis(\"off\")\n",
    "    plt.show()\n",
    "\n",
    "words = [\"python\", \"programming\", \"data\", \"science\", \"machine\", \"learning\", \"AI\", \"artificial\", \"intelligence\"]\n",
    "word_frequency = {word: random.randint(5, 20) for word in words}\n",
    "custom_size = (800, 800)  # Custom size in pixels (width, height)\n",
    "custom_color = \"white\"    # Custom background color\n",
    "\n",
    "generate_random_word_cloud(words, word_frequency, custom_size, custom_color)\n"
   ]
  },
  {
   "cell_type": "markdown",
   "id": "8014ee02",
   "metadata": {},
   "source": [
    "#### Expected Output:\n",
    "(The word cloud image with random sizes, colors, and positions of the words will be displayed.) "
   ]
  },
  {
   "cell_type": "markdown",
   "id": "c59faad0",
   "metadata": {},
   "source": [
    "### 342. Convert Decimal to Roman Numeral Using Recursive Approach and Custom Numerals"
   ]
  },
  {
   "cell_type": "code",
   "execution_count": 2,
   "id": "9c384e96",
   "metadata": {},
   "outputs": [
    {
     "name": "stdout",
     "output_type": "stream",
     "text": [
      "The Roman Numeral representation of 3999 is: MMMCMXCIX\n"
     ]
    }
   ],
   "source": [
    "def decimal_to_roman_recursive(decimal_num, numerals):\n",
    "    if decimal_num == 0:\n",
    "        return \"\"\n",
    "\n",
    "    for value, numeral in numerals:\n",
    "        if decimal_num >= value:\n",
    "            return numeral + decimal_to_roman_recursive(decimal_num - value, numerals)\n",
    "\n",
    "decimal_num = 3999\n",
    "numerals = [(1000, 'M'), (900, 'CM'), (500, 'D'), (400, 'CD'), (100, 'C'), (90, 'XC'), (50, 'L'), (40, 'XL'),\n",
    "            (10, 'X'), (9, 'IX'), (5, 'V'), (4, 'IV'), (1, 'I')]\n",
    "\n",
    "result = decimal_to_roman_recursive(decimal_num, numerals)\n",
    "print(f\"The Roman Numeral representation of {decimal_num} is: {result}\")\n"
   ]
  },
  {
   "cell_type": "markdown",
   "id": "673c8603",
   "metadata": {},
   "source": [
    "### 343. Check if a Number is a Generalized Pentagonal Number"
   ]
  },
  {
   "cell_type": "code",
   "execution_count": 3,
   "id": "3841d6e8",
   "metadata": {},
   "outputs": [
    {
     "name": "stdout",
     "output_type": "stream",
     "text": [
      "35 is a generalized pentagonal number.\n"
     ]
    }
   ],
   "source": [
    "def is_generalized_pentagonal_number(n):\n",
    "    if n <= 0:\n",
    "        return False\n",
    "\n",
    "    k = 1\n",
    "    while True:\n",
    "        num1 = k * (3 * k - 1) // 2\n",
    "        num2 = k * (3 * k + 1) // 2\n",
    "\n",
    "        if n == num1 or n == num2:\n",
    "            return True\n",
    "        elif num1 > n and num2 > n:\n",
    "            return False\n",
    "\n",
    "        k += 1\n",
    "\n",
    "num = 35\n",
    "result = is_generalized_pentagonal_number(num)\n",
    "print(f\"{num} is {'a' if result else 'not a'} generalized pentagonal number.\")\n"
   ]
  },
  {
   "cell_type": "markdown",
   "id": "4279735d",
   "metadata": {},
   "source": [
    "### 344. Calculate the Volume of a Frustum of a Regular Dodecahedron with Custom Height"
   ]
  },
  {
   "cell_type": "code",
   "execution_count": 4,
   "id": "4d166d3f",
   "metadata": {},
   "outputs": [
    {
     "name": "stdout",
     "output_type": "stream",
     "text": [
      "The volume of the frustum of a regular dodecahedron with edge length 6 and height 10 is: 2758.72\n"
     ]
    }
   ],
   "source": [
    "import math\n",
    "\n",
    "def volume_of_frustum_of_dodecahedron(edge_length, height):\n",
    "    if edge_length <= 0 or height <= 0:\n",
    "        return \"Invalid input. Edge length and height must be positive.\"\n",
    "\n",
    "    volume = (15 + 7 * math.sqrt(5)) * edge_length ** 2 * height / 4\n",
    "    return volume\n",
    "\n",
    "edge_length = 6\n",
    "height = 10\n",
    "result = volume_of_frustum_of_dodecahedron(edge_length, height)\n",
    "print(f\"The volume of the frustum of a regular dodecahedron with edge length {edge_length} and height {height} is: {result:.2f}\")\n"
   ]
  },
  {
   "cell_type": "markdown",
   "id": "0c21dc2f",
   "metadata": {},
   "source": [
    "### 345. Implement Quick Sort Algorithm on a Doubly Linked List with Custom Pivot\n",
    "Expected Output: \n",
    "Original Doubly Linked List:\n",
    "170 -> 45 -> 75 -> 90 -> 802 -> 24 -> 2 ->\n",
    "Doubly Linked List after Quick Sort:\n",
    "2 -> 24 -> 45 -> 75 -> 90 -> 170 -> 802 ->\n"
   ]
  },
  {
   "cell_type": "code",
   "execution_count": 5,
   "id": "e6fa7931",
   "metadata": {},
   "outputs": [
    {
     "name": "stdout",
     "output_type": "stream",
     "text": [
      "Original Doubly Linked List:\n",
      "170 -> 45 -> 75 -> 90 -> 802 -> 24 -> 2 -> \n"
     ]
    },
    {
     "ename": "TypeError",
     "evalue": "'Node' object cannot be interpreted as an integer",
     "output_type": "error",
     "traceback": [
      "\u001b[0;31m---------------------------------------------------------------------------\u001b[0m",
      "\u001b[0;31mTypeError\u001b[0m                                 Traceback (most recent call last)",
      "Cell \u001b[0;32mIn[5], line 70\u001b[0m\n\u001b[1;32m     67\u001b[0m \u001b[38;5;28mprint\u001b[39m(\u001b[38;5;124m\"\u001b[39m\u001b[38;5;124mOriginal Doubly Linked List:\u001b[39m\u001b[38;5;124m\"\u001b[39m)\n\u001b[1;32m     68\u001b[0m dlist\u001b[38;5;241m.\u001b[39mdisplay()\n\u001b[0;32m---> 70\u001b[0m dlist\u001b[38;5;241m.\u001b[39mhead \u001b[38;5;241m=\u001b[39m dlist\u001b[38;5;241m.\u001b[39mquick_sort(dlist\u001b[38;5;241m.\u001b[39mhead, \u001b[38;5;28;01mNone\u001b[39;00m)\n\u001b[1;32m     72\u001b[0m \u001b[38;5;28mprint\u001b[39m(\u001b[38;5;124m\"\u001b[39m\u001b[38;5;124mDoubly Linked List after Quick Sort:\u001b[39m\u001b[38;5;124m\"\u001b[39m)\n\u001b[1;32m     73\u001b[0m dlist\u001b[38;5;241m.\u001b[39mdisplay()\n",
      "Cell \u001b[0;32mIn[5], line 35\u001b[0m, in \u001b[0;36mDoublyLinkedList.quick_sort\u001b[0;34m(self, start, end)\u001b[0m\n\u001b[1;32m     32\u001b[0m \u001b[38;5;28;01mif\u001b[39;00m start \u001b[38;5;129;01mis\u001b[39;00m \u001b[38;5;28;01mNone\u001b[39;00m \u001b[38;5;129;01mor\u001b[39;00m start \u001b[38;5;241m==\u001b[39m end:\n\u001b[1;32m     33\u001b[0m     \u001b[38;5;28;01mreturn\u001b[39;00m start\n\u001b[0;32m---> 35\u001b[0m pivot \u001b[38;5;241m=\u001b[39m \u001b[38;5;28mself\u001b[39m\u001b[38;5;241m.\u001b[39mpartition(start, end)\n\u001b[1;32m     37\u001b[0m \u001b[38;5;28;01mif\u001b[39;00m pivot \u001b[38;5;241m!=\u001b[39m start:\n\u001b[1;32m     38\u001b[0m     temp \u001b[38;5;241m=\u001b[39m pivot\u001b[38;5;241m.\u001b[39mprev\n",
      "Cell \u001b[0;32mIn[5], line 52\u001b[0m, in \u001b[0;36mDoublyLinkedList.partition\u001b[0;34m(self, start, end)\u001b[0m\n\u001b[1;32m     49\u001b[0m pivot \u001b[38;5;241m=\u001b[39m end\n\u001b[1;32m     50\u001b[0m i \u001b[38;5;241m=\u001b[39m start\u001b[38;5;241m.\u001b[39mprev\n\u001b[0;32m---> 52\u001b[0m \u001b[38;5;28;01mfor\u001b[39;00m j \u001b[38;5;129;01min\u001b[39;00m \u001b[38;5;28mrange\u001b[39m(start, end):\n\u001b[1;32m     53\u001b[0m     \u001b[38;5;28;01mif\u001b[39;00m j\u001b[38;5;241m.\u001b[39mdata \u001b[38;5;241m<\u001b[39m\u001b[38;5;241m=\u001b[39m pivot\u001b[38;5;241m.\u001b[39mdata:\n\u001b[1;32m     54\u001b[0m         i \u001b[38;5;241m=\u001b[39m start \u001b[38;5;28;01mif\u001b[39;00m i \u001b[38;5;129;01mis\u001b[39;00m \u001b[38;5;28;01mNone\u001b[39;00m \u001b[38;5;28;01melse\u001b[39;00m i\u001b[38;5;241m.\u001b[39mnext\n",
      "\u001b[0;31mTypeError\u001b[0m: 'Node' object cannot be interpreted as an integer"
     ]
    }
   ],
   "source": [
    "class Node:\n",
    "    def __init__(self, data):\n",
    "        self.data = data\n",
    "        self.prev = None\n",
    "        self.next = None\n",
    "\n",
    "class DoublyLinkedList:\n",
    "    def __init__(self):\n",
    "        self.head = None\n",
    "\n",
    "    def insert(self, data):\n",
    "        new_node = Node(data)\n",
    "        if not self.head:\n",
    "            self.head = new_node\n",
    "        else:\n",
    "            temp = self.head\n",
    "            while temp.next:\n",
    "                temp = temp.next\n",
    "            temp.next = new_node\n",
    "            new_node.prev = temp\n",
    "\n",
    "    def display(self):\n",
    "        if not self.head:\n",
    "            return \"Doubly Linked List is empty.\"\n",
    "        temp = self.head\n",
    "        while temp:\n",
    "            print(temp.data, end=\" -> \")\n",
    "            temp = temp.next\n",
    "        print()\n",
    "\n",
    "    def quick_sort(self, start, end):\n",
    "        if start is None or start == end:\n",
    "            return start\n",
    "\n",
    "        pivot = self.partition(start, end)\n",
    "\n",
    "        if pivot != start:\n",
    "            temp = pivot.prev\n",
    "            temp.next = None\n",
    "            pivot.prev = None\n",
    "            pivot = self.quick_sort(pivot, temp)\n",
    "            pivot.prev = temp\n",
    "            temp.next = pivot\n",
    "\n",
    "        pivot.next = self.quick_sort(pivot.next, end)\n",
    "        return pivot\n",
    "\n",
    "    def partition(self, start, end):\n",
    "        pivot = end\n",
    "        i = start.prev\n",
    "\n",
    "        for j in range(start, end):\n",
    "            if j.data <= pivot.data:\n",
    "                i = start if i is None else i.next\n",
    "                i.data, j.data = j.data, i.data\n",
    "\n",
    "        i = start if i is None else i.next\n",
    "        i.data, pivot.data = pivot.data, i.data\n",
    "        return i\n",
    "\n",
    "# Sample usage:\n",
    "dlist = DoublyLinkedList()\n",
    "elements = [170, 45, 75, 90, 802, 24, 2]\n",
    "for ele in elements:\n",
    "    dlist.insert(ele)\n",
    "\n",
    "print(\"Original Doubly Linked List:\")\n",
    "dlist.display()\n",
    "\n",
    "dlist.head = dlist.quick_sort(dlist.head, None)\n",
    "\n",
    "print(\"Doubly Linked List after Quick Sort:\")\n",
    "dlist.display()\n"
   ]
  },
  {
   "cell_type": "markdown",
   "id": "90cdc1f8",
   "metadata": {},
   "source": [
    "### 346. Find the Overlooked Numbers in a Range"
   ]
  },
  {
   "cell_type": "code",
   "execution_count": 6,
   "id": "304f7ba0",
   "metadata": {},
   "outputs": [
    {
     "name": "stdout",
     "output_type": "stream",
     "text": [
      "Overlooked Numbers from 1 to 50: [2, 3, 5, 7, 11, 13, 17, 19, 23, 29, 31, 37, 41, 43, 47]\n"
     ]
    }
   ],
   "source": [
    "def is_overlooked_number(n):\n",
    "    if n <= 1:\n",
    "        return False\n",
    "\n",
    "    for i in range(2, n):\n",
    "        if n % i == 0:\n",
    "            return False\n",
    "\n",
    "    return True\n",
    "\n",
    "lower_bound = 1\n",
    "upper_bound = 50\n",
    "overlooked_numbers = [num for num in range(lower_bound, upper_bound + 1) if is_overlooked_number(num)]\n",
    "print(f\"Overlooked Numbers from {lower_bound} to {upper_bound}: {overlooked_numbers}\")\n"
   ]
  },
  {
   "cell_type": "markdown",
   "id": "e41432dd",
   "metadata": {},
   "source": [
    "### 347. Calculate the Perimeter of a Reuleaux Ellipse with Rounded Corners, Custom Size, and Right Alignment"
   ]
  },
  {
   "cell_type": "code",
   "execution_count": 7,
   "id": "896878b7",
   "metadata": {},
   "outputs": [
    {
     "name": "stdout",
     "output_type": "stream",
     "text": [
      "The perimeter of the Reuleaux Ellipse with size 5, a 8, and b 4 is: 105.27\n"
     ]
    }
   ],
   "source": [
    "import math\n",
    "\n",
    "def reuleaux_ellipse_perimeter(custom_size, custom_a, custom_b):\n",
    "    if custom_size <= 0 or custom_a <= 0 or custom_b <= 0:\n",
    "        return \"Invalid input. Size, a, and b must be positive.\"\n",
    "\n",
    "    a = custom_a\n",
    "    b = custom_b\n",
    "    r = custom_size\n",
    "    perimeter = 4 * (a + b + math.sqrt((a - b) ** 2 + (a + b) ** 2 + 2 * (a + b) * r - 3 * r ** 2))\n",
    "\n",
    "    return perimeter\n",
    "\n",
    "custom_size = 5\n",
    "custom_a = 8\n",
    "custom_b = 4\n",
    "result = reuleaux_ellipse_perimeter(custom_size, custom_a, custom_b)\n",
    "print(f\"The perimeter of the Reuleaux Ellipse with size {custom_size}, a {custom_a}, and b {custom_b} is: {result:.2f}\")\n"
   ]
  },
  {
   "cell_type": "markdown",
   "id": "42670e37",
   "metadata": {},
   "source": [
    "### 348. Print the Pattern of a Hollow Sierpinski Triangle Star with Custom Size and Depth\n",
    "Expected Output:\n",
    "    *    \n",
    "   * *   \n",
    "  *   *  \n",
    " *     * \n",
    "* * * * *\n"
   ]
  },
  {
   "cell_type": "code",
   "execution_count": 9,
   "id": "66fc8476",
   "metadata": {},
   "outputs": [
    {
     "name": "stdout",
     "output_type": "stream",
     "text": [
      "  *   *  \n",
      "* * * * *\n"
     ]
    }
   ],
   "source": [
    "def print_hollow_sierpinski_triangle_star(custom_size, custom_depth):\n",
    "    if custom_size <= 0 or custom_depth <= 0:\n",
    "        return \"Invalid input. Size and depth must be positive.\"\n",
    "\n",
    "    pattern = []\n",
    "    for i in range(custom_size):\n",
    "        if i % (2 ** (custom_depth - 1)) == 0:\n",
    "            pattern.append(\"*\")\n",
    "        else:\n",
    "            pattern.append(\" \")\n",
    "\n",
    "    for depth in range(custom_depth - 1):\n",
    "        for i in range(len(pattern)):\n",
    "            if i % (2 ** (custom_depth - depth - 1)) == 0:\n",
    "                pattern[i] = \"*\"\n",
    "            else:\n",
    "                pattern[i] = \" \"\n",
    "\n",
    "        print(\"\".join(pattern).center(2 * custom_size - 1))\n",
    "        pattern = pattern[:custom_size] + pattern[::-1][1:]\n",
    "\n",
    "custom_size = 5\n",
    "custom_depth = 3\n",
    "print_hollow_sierpinski_triangle_star(custom_size, custom_depth)\n"
   ]
  },
  {
   "cell_type": "markdown",
   "id": "297a462a",
   "metadata": {},
   "source": [
    "### 349. Generate a Random Huffman Coding Tree with Fixed Codeword Length and Custom Frequencies\n",
    "Expected Output:\n",
    "a: 00\n",
    "b: 10\n",
    "c: 110\n",
    "d: 01\n",
    "e: 111\n"
   ]
  },
  {
   "cell_type": "code",
   "execution_count": 10,
   "id": "beb0a544",
   "metadata": {},
   "outputs": [
    {
     "ename": "TypeError",
     "evalue": "'<' not supported between instances of 'HuffmanNode' and 'HuffmanNode'",
     "output_type": "error",
     "traceback": [
      "\u001b[0;31m---------------------------------------------------------------------------\u001b[0m",
      "\u001b[0;31mTypeError\u001b[0m                                 Traceback (most recent call last)",
      "Cell \u001b[0;32mIn[10], line 33\u001b[0m\n\u001b[1;32m     31\u001b[0m codeword_length \u001b[38;5;241m=\u001b[39m \u001b[38;5;241m3\u001b[39m\n\u001b[1;32m     32\u001b[0m custom_frequencies \u001b[38;5;241m=\u001b[39m {\u001b[38;5;124m'\u001b[39m\u001b[38;5;124ma\u001b[39m\u001b[38;5;124m'\u001b[39m: \u001b[38;5;241m10\u001b[39m, \u001b[38;5;124m'\u001b[39m\u001b[38;5;124mb\u001b[39m\u001b[38;5;124m'\u001b[39m: \u001b[38;5;241m20\u001b[39m, \u001b[38;5;124m'\u001b[39m\u001b[38;5;124mc\u001b[39m\u001b[38;5;124m'\u001b[39m: \u001b[38;5;241m15\u001b[39m, \u001b[38;5;124m'\u001b[39m\u001b[38;5;124md\u001b[39m\u001b[38;5;124m'\u001b[39m: \u001b[38;5;241m30\u001b[39m, \u001b[38;5;124m'\u001b[39m\u001b[38;5;124me\u001b[39m\u001b[38;5;124m'\u001b[39m: \u001b[38;5;241m25\u001b[39m}\n\u001b[0;32m---> 33\u001b[0m huffman_tree \u001b[38;5;241m=\u001b[39m generate_random_huffman_tree(codeword_length, custom_frequencies)\n\u001b[1;32m     35\u001b[0m \u001b[38;5;28;01mdef\u001b[39;00m \u001b[38;5;21mprint_huffman_tree\u001b[39m(node, prefix\u001b[38;5;241m=\u001b[39m\u001b[38;5;124m\"\u001b[39m\u001b[38;5;124m\"\u001b[39m):\n\u001b[1;32m     36\u001b[0m     \u001b[38;5;28;01mif\u001b[39;00m node:\n",
      "Cell \u001b[0;32mIn[10], line 18\u001b[0m, in \u001b[0;36mgenerate_random_huffman_tree\u001b[0;34m(codeword_length, custom_frequencies)\u001b[0m\n\u001b[1;32m     15\u001b[0m     heapq\u001b[38;5;241m.\u001b[39mheappush(priority_queue, (frequency, node))\n\u001b[1;32m     17\u001b[0m \u001b[38;5;28;01mwhile\u001b[39;00m \u001b[38;5;28mlen\u001b[39m(priority_queue) \u001b[38;5;241m>\u001b[39m \u001b[38;5;241m1\u001b[39m:\n\u001b[0;32m---> 18\u001b[0m     freq1, node1 \u001b[38;5;241m=\u001b[39m heapq\u001b[38;5;241m.\u001b[39mheappop(priority_queue)\n\u001b[1;32m     19\u001b[0m     freq2, node2 \u001b[38;5;241m=\u001b[39m heapq\u001b[38;5;241m.\u001b[39mheappop(priority_queue)\n\u001b[1;32m     21\u001b[0m     merged_node \u001b[38;5;241m=\u001b[39m HuffmanNode(\u001b[38;5;28;01mNone\u001b[39;00m, freq1 \u001b[38;5;241m+\u001b[39m freq2)\n",
      "\u001b[0;31mTypeError\u001b[0m: '<' not supported between instances of 'HuffmanNode' and 'HuffmanNode'"
     ]
    }
   ],
   "source": [
    "import heapq\n",
    "import random\n",
    "\n",
    "class HuffmanNode:\n",
    "    def __init__(self, character, frequency):\n",
    "        self.character = character\n",
    "        self.frequency = frequency\n",
    "        self.left = None\n",
    "        self.right = None\n",
    "\n",
    "def generate_random_huffman_tree(codeword_length, custom_frequencies):\n",
    "    priority_queue = []\n",
    "    for character, frequency in custom_frequencies.items():\n",
    "        node = HuffmanNode(character, frequency)\n",
    "        heapq.heappush(priority_queue, (frequency, node))\n",
    "\n",
    "    while len(priority_queue) > 1:\n",
    "        freq1, node1 = heapq.heappop(priority_queue)\n",
    "        freq2, node2 = heapq.heappop(priority_queue)\n",
    "\n",
    "        merged_node = HuffmanNode(None, freq1 + freq2)\n",
    "        merged_node.left = node1\n",
    "        merged_node.right = node2\n",
    "\n",
    "        heapq.heappush(priority_queue, (merged_node.frequency, merged_node))\n",
    "\n",
    "    root = heapq.heappop(priority_queue)[1]\n",
    "    return root\n",
    "\n",
    "# Sample usage:\n",
    "codeword_length = 3\n",
    "custom_frequencies = {'a': 10, 'b': 20, 'c': 15, 'd': 30, 'e': 25}\n",
    "huffman_tree = generate_random_huffman_tree(codeword_length, custom_frequencies)\n",
    "\n",
    "def print_huffman_tree(node, prefix=\"\"):\n",
    "    if node:\n",
    "        if node.character:\n",
    "            print(f\"{node.character}: {prefix}\")\n",
    "        print_huffman_tree(node.left, prefix + \"0\")\n",
    "        print_huffman_tree(node.right, prefix + \"1\")\n",
    "\n",
    "print_huffman_tree(huffman_tree)\n"
   ]
  },
  {
   "cell_type": "markdown",
   "id": "8ab01a90",
   "metadata": {},
   "source": [
    "### 350. Convert Decimal to Gray Code Using Recursive Approach and Custom Bit Size"
   ]
  },
  {
   "cell_type": "code",
   "execution_count": 11,
   "id": "e73a9f12",
   "metadata": {},
   "outputs": [
    {
     "name": "stdout",
     "output_type": "stream",
     "text": [
      "The Gray Code representation of 15 with 5 bits is: TrueFalseFalseFalseTrue\n"
     ]
    }
   ],
   "source": [
    "def decimal_to_gray_recursive(decimal_num, bit_size):\n",
    "    if bit_size == 0:\n",
    "        return \"\"\n",
    "    \n",
    "    mask = 1 << (bit_size - 1)\n",
    "    return str((decimal_num & mask != 0) ^ (decimal_num & mask >> 1 != 0)) + decimal_to_gray_recursive(decimal_num, bit_size - 1)\n",
    "\n",
    "decimal_num = 15\n",
    "bit_size = 5\n",
    "result = decimal_to_gray_recursive(decimal_num, bit_size)\n",
    "print(f\"The Gray Code representation of {decimal_num} with {bit_size} bits is: {result}\")\n"
   ]
  }
 ],
 "metadata": {
  "kernelspec": {
   "display_name": "Python 3 (ipykernel)",
   "language": "python",
   "name": "python3"
  },
  "language_info": {
   "codemirror_mode": {
    "name": "ipython",
    "version": 3
   },
   "file_extension": ".py",
   "mimetype": "text/x-python",
   "name": "python",
   "nbconvert_exporter": "python",
   "pygments_lexer": "ipython3",
   "version": "3.11.4"
  }
 },
 "nbformat": 4,
 "nbformat_minor": 5
}

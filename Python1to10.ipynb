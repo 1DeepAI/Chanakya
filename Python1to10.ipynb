{
 "cells": [
  {
   "cell_type": "markdown",
   "id": "af0639e6",
   "metadata": {},
   "source": [
    "# Python Practice 1-10"
   ]
  },
  {
   "cell_type": "markdown",
   "id": "d38bb621",
   "metadata": {},
   "source": [
    "## Below are Python programs for each of the objectives along with the associated algorithms, mathematical calculations, and string manipulations"
   ]
  },
  {
   "cell_type": "markdown",
   "id": "d12f2b8a",
   "metadata": {},
   "source": [
    "### 1. Hello World Program:"
   ]
  },
  {
   "cell_type": "code",
   "execution_count": 1,
   "id": "35de53f9",
   "metadata": {},
   "outputs": [
    {
     "name": "stdout",
     "output_type": "stream",
     "text": [
      "Hello, World!\n"
     ]
    }
   ],
   "source": [
    "print(\"Hello, World!\")"
   ]
  },
  {
   "cell_type": "markdown",
   "id": "56f95d82",
   "metadata": {},
   "source": [
    "### 2. Calculate the Sum of Two Numbers: "
   ]
  },
  {
   "cell_type": "code",
   "execution_count": 2,
   "id": "c17e02a5",
   "metadata": {},
   "outputs": [
    {
     "name": "stdout",
     "output_type": "stream",
     "text": [
      "Sum: 30\n"
     ]
    }
   ],
   "source": [
    "def sum_of_two_numbers(a, b):\n",
    "    return a + b\n",
    "\n",
    "num1 = 10\n",
    "num2 = 20\n",
    "result = sum_of_two_numbers(num1, num2)\n",
    "print(\"Sum:\", result)"
   ]
  },
  {
   "cell_type": "markdown",
   "id": "dac65c53",
   "metadata": {},
   "source": [
    "### 3. Find the Largest Number in a List: "
   ]
  },
  {
   "cell_type": "code",
   "execution_count": 3,
   "id": "1d4610e6",
   "metadata": {},
   "outputs": [
    {
     "name": "stdout",
     "output_type": "stream",
     "text": [
      "Largest Number: 30\n"
     ]
    }
   ],
   "source": [
    "def find_largest_number(numbers):\n",
    "    largest = numbers[0]\n",
    "    for num in numbers:\n",
    "        if num > largest:\n",
    "            largest = num\n",
    "    return largest\n",
    "\n",
    "numbers_list = [10, 20, 5, 30, 15]\n",
    "largest_number = find_largest_number(numbers_list)\n",
    "print(\"Largest Number:\", largest_number)"
   ]
  },
  {
   "cell_type": "markdown",
   "id": "156e1bf3",
   "metadata": {},
   "source": [
    "### 4. Check if a Number is Prime:"
   ]
  },
  {
   "cell_type": "code",
   "execution_count": 4,
   "id": "f9136d26",
   "metadata": {},
   "outputs": [
    {
     "name": "stdout",
     "output_type": "stream",
     "text": [
      "17 is a prime number.\n"
     ]
    }
   ],
   "source": [
    "def is_prime(number):\n",
    "    if number <= 1:\n",
    "        return False\n",
    "    for i in range(2, int(number**0.5) + 1):\n",
    "        if number % i == 0:\n",
    "            return False\n",
    "    return True\n",
    "\n",
    "num = 17\n",
    "if is_prime(num):\n",
    "    print(num, \"is a prime number.\")\n",
    "else:\n",
    "    print(num, \"is not a prime number.\")"
   ]
  },
  {
   "cell_type": "markdown",
   "id": "e7146bc8",
   "metadata": {},
   "source": [
    "### 5. Convert Celsius to Fahrenheit: "
   ]
  },
  {
   "cell_type": "code",
   "execution_count": 5,
   "id": "d9669410",
   "metadata": {},
   "outputs": [
    {
     "name": "stdout",
     "output_type": "stream",
     "text": [
      "25 degrees Celsius is equal to 77.00 degrees Fahrenheit.\n"
     ]
    }
   ],
   "source": [
    "def celsius_to_fahrenheit(celsius):\n",
    "    return (celsius * 9/5) + 32\n",
    "\n",
    "celsius_value = 25\n",
    "fahrenheit_value = celsius_to_fahrenheit(celsius_value)\n",
    "print(f\"{celsius_value} degrees Celsius is equal to {fahrenheit_value:.2f} degrees Fahrenheit.\")"
   ]
  },
  {
   "cell_type": "markdown",
   "id": "d2114b3b",
   "metadata": {},
   "source": [
    "### 6. Calculate the Factorial of a Number: "
   ]
  },
  {
   "cell_type": "code",
   "execution_count": 6,
   "id": "b8f51206",
   "metadata": {},
   "outputs": [
    {
     "name": "stdout",
     "output_type": "stream",
     "text": [
      "The factorial of 5 is 120.\n"
     ]
    }
   ],
   "source": [
    "def factorial(num):\n",
    "    if num == 0 or num == 1:\n",
    "        return 1\n",
    "    else:\n",
    "        return num * factorial(num - 1)\n",
    "\n",
    "num = 5\n",
    "factorial_result = factorial(num)\n",
    "print(f\"The factorial of {num} is {factorial_result}.\")"
   ]
  },
  {
   "cell_type": "markdown",
   "id": "dd2faf24",
   "metadata": {},
   "source": [
    "### 7. Generate Fibonacci Series: "
   ]
  },
  {
   "cell_type": "code",
   "execution_count": 7,
   "id": "171f07b1",
   "metadata": {},
   "outputs": [
    {
     "name": "stdout",
     "output_type": "stream",
     "text": [
      "Fibonacci Series: [0, 1, 1, 2, 3, 5, 8, 13, 21, 34]\n"
     ]
    }
   ],
   "source": [
    "def fibonacci_series(n):\n",
    "    fib_list = [0, 1]\n",
    "    for i in range(2, n):\n",
    "        fib_list.append(fib_list[-1] + fib_list[-2])\n",
    "    return fib_list\n",
    "\n",
    "n_terms = 10\n",
    "fibonacci_list = fibonacci_series(n_terms)\n",
    "print(\"Fibonacci Series:\", fibonacci_list)"
   ]
  },
  {
   "cell_type": "markdown",
   "id": "a477538e",
   "metadata": {},
   "source": [
    "### 8. Check if a String is Palindrome: "
   ]
  },
  {
   "cell_type": "code",
   "execution_count": 8,
   "id": "4d45b4f3",
   "metadata": {},
   "outputs": [
    {
     "name": "stdout",
     "output_type": "stream",
     "text": [
      "level is a palindrome.\n"
     ]
    }
   ],
   "source": [
    "def is_palindrome(s):\n",
    "    s = s.lower()\n",
    "    return s == s[::-1]\n",
    "\n",
    "word = \"level\"\n",
    "if is_palindrome(word):\n",
    "    print(f\"{word} is a palindrome.\")\n",
    "else:\n",
    "    print(f\"{word} is not a palindrome.\")"
   ]
  },
  {
   "cell_type": "markdown",
   "id": "04bfe121",
   "metadata": {},
   "source": [
    "### 9. Count the Number of Words in a Sentence: "
   ]
  },
  {
   "cell_type": "code",
   "execution_count": 9,
   "id": "94ed0c97",
   "metadata": {},
   "outputs": [
    {
     "name": "stdout",
     "output_type": "stream",
     "text": [
      "Number of words in the sentence: 5\n"
     ]
    }
   ],
   "source": [
    "def count_words(sentence):\n",
    "    words = sentence.split()\n",
    "    return len(words)\n",
    "\n",
    "sentence = \"Hello, how are you today?\"\n",
    "word_count = count_words(sentence)\n",
    "print(\"Number of words in the sentence:\", word_count)"
   ]
  },
  {
   "cell_type": "markdown",
   "id": "8ed96481",
   "metadata": {},
   "source": [
    "### 10.Find the Square Root of a Number: "
   ]
  },
  {
   "cell_type": "code",
   "execution_count": 10,
   "id": "bf6da005",
   "metadata": {
    "scrolled": true
   },
   "outputs": [
    {
     "name": "stdout",
     "output_type": "stream",
     "text": [
      "The square root of 25 is 5.00.\n"
     ]
    }
   ],
   "source": [
    "def square_root(num):\n",
    "    return num ** 0.5\n",
    "\n",
    "num = 25\n",
    "square_root_value = square_root(num)\n",
    "print(f\"The square root of {num} is {square_root_value:.2f}.\")"
   ]
  },
  {
   "cell_type": "code",
   "execution_count": null,
   "id": "0df5f75e",
   "metadata": {},
   "outputs": [],
   "source": []
  }
 ],
 "metadata": {
  "kernelspec": {
   "display_name": "Python 3 (ipykernel)",
   "language": "python",
   "name": "python3"
  },
  "language_info": {
   "codemirror_mode": {
    "name": "ipython",
    "version": 3
   },
   "file_extension": ".py",
   "mimetype": "text/x-python",
   "name": "python",
   "nbconvert_exporter": "python",
   "pygments_lexer": "ipython3",
   "version": "3.11.4"
  }
 },
 "nbformat": 4,
 "nbformat_minor": 5
}

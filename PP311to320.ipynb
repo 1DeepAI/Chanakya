{
 "cells": [
  {
   "cell_type": "markdown",
   "id": "a3201692",
   "metadata": {},
   "source": [
    "# Python Practice 311-320"
   ]
  },
  {
   "cell_type": "markdown",
   "id": "cb0b7dc9",
   "metadata": {},
   "source": [
    "## Here are the Python programs for the given objectives:"
   ]
  },
  {
   "cell_type": "markdown",
   "id": "b8088249",
   "metadata": {},
   "source": [
    "### 311. Check if a Number is a Generalized Harmonic Number"
   ]
  },
  {
   "cell_type": "code",
   "execution_count": null,
   "id": "86d9afa1",
   "metadata": {},
   "outputs": [],
   "source": [
    "def is_generalized_harmonic_number(number, r):\n",
    "    # Generalized harmonic number H(n, r) is the sum of the reciprocals of the rth powers of the first n natural numbers.\n",
    "    # H(n, r) = 1/1^r + 1/2^r + 1/3^r + ... + 1/n^r\n",
    "\n",
    "    if number <= 0 or r <= 0:\n",
    "        return False\n",
    "\n",
    "    sum_harmonic = 0\n",
    "    for i in range(1, number + 1):\n",
    "        sum_harmonic += 1 / (i ** r)\n",
    "\n",
    "    return sum_harmonic\n",
    "\n",
    "number = 5  # Replace with the number you want to check\n",
    "r = 3  # Replace with the power of the harmonic number\n",
    "result = is_generalized_harmonic_number(number, r)\n",
    "print(f\"{number} is {'a' if result else 'not a'} generalized harmonic number with power {r}.\")\n"
   ]
  },
  {
   "cell_type": "markdown",
   "id": "afb96b81",
   "metadata": {},
   "source": [
    "### 312. Calculate the Volume of a Frustum of a Reuleaux Dodecahedron"
   ]
  },
  {
   "cell_type": "code",
   "execution_count": null,
   "id": "0d528e9f",
   "metadata": {},
   "outputs": [],
   "source": [
    "import math\n",
    "\n",
    "def calculate_volume_frustum_reuleaux_dodecahedron(radius1, radius2, height):\n",
    "    return (1 / 3) * math.pi * height * (radius1**2 + radius2**2 + radius1 * radius2)\n",
    "\n",
    "radius1 = 5  # Replace with the larger radius of the frustum of the Reuleaux dodecahedron\n",
    "radius2 = 3  # Replace with the smaller radius of the frustum of the Reuleaux dodecahedron\n",
    "height = 10  # Replace with the height of the frustum of the Reuleaux dodecahedron\n",
    "volume = calculate_volume_frustum_reuleaux_dodecahedron(radius1, radius2, height)\n",
    "print(f\"Volume of the frustum of the Reuleaux dodecahedron with larger radius {radius1}, smaller radius {radius2}, and height {height} is: {volume:.2f}\")\n"
   ]
  },
  {
   "cell_type": "markdown",
   "id": "66a24bca",
   "metadata": {},
   "source": [
    "### 313. Implement Merge Sort Algorithm on a Circular Linked List"
   ]
  },
  {
   "cell_type": "code",
   "execution_count": null,
   "id": "6c5bfa4f",
   "metadata": {},
   "outputs": [],
   "source": [
    "class ListNode:\n",
    "    def __init__(self, val=0, next=None):\n",
    "        self.val = val\n",
    "        self.next = next\n",
    "\n",
    "def merge_sort_circular_linked_list(head):\n",
    "    if not head or not head.next:\n",
    "        return head\n",
    "\n",
    "    def get_mid(node):\n",
    "        slow = node\n",
    "        fast = node.next\n",
    "        while fast and fast.next:\n",
    "            slow = slow.next\n",
    "            fast = fast.next.next\n",
    "            if slow == node or fast == node:\n",
    "                break\n",
    "        return slow\n",
    "\n",
    "    def merge(left, right):\n",
    "        dummy = ListNode()\n",
    "        current = dummy\n",
    "        while left and right:\n",
    "            if left.val <= right.val:\n",
    "                current.next = left\n",
    "                left = left.next\n",
    "            else:\n",
    "                current.next = right\n",
    "                right = right.next\n",
    "            current = current.next\n",
    "        current.next = left or right\n",
    "        return dummy.next\n",
    "\n",
    "    def merge_sort(node):\n",
    "        if not node or node.next == node:\n",
    "            return node\n",
    "\n",
    "        mid = get_mid(node)\n",
    "        mid_next = mid.next\n",
    "        mid.next = None\n",
    "\n",
    "        left = merge_sort(node)\n",
    "        right = merge_sort(mid_next)\n",
    "        return merge(left, right)\n",
    "\n",
    "    tail = head\n",
    "    while tail.next:\n",
    "        tail = tail.next\n",
    "    tail.next = head  # Make the linked list circular\n",
    "    sorted_head = merge_sort(head)\n",
    "    tail.next = None  # Break the circular link\n",
    "    return sorted_head\n",
    "\n",
    "# Example usage of merge_sort_circular_linked_list\n",
    "# Create a circular linked list: 4 -> 2 -> 1 -> 3 -> 4 (points back to 4)\n",
    "head = ListNode(4)\n",
    "node2 = ListNode(2)\n",
    "node1 = ListNode(1)\n",
    "node3 = ListNode(3)\n",
    "\n",
    "head.next = node2\n",
    "node2.next = node1\n",
    "node1.next = node3\n",
    "node3.next = head\n",
    "\n",
    "sorted_head = merge_sort_circular_linked_list(head)\n",
    "\n",
    "# Print the sorted circular linked list\n",
    "current = sorted_head\n",
    "while current:\n",
    "    print(current.val, end=\" -> \")\n",
    "    current = current.next\n",
    "    if current == sorted_head:\n",
    "        break\n"
   ]
  },
  {
   "cell_type": "markdown",
   "id": "a7ec6d49",
   "metadata": {},
   "source": [
    "### 314. Find the Lucas-Lehmer Numbers in a Range"
   ]
  },
  {
   "cell_type": "code",
   "execution_count": 9,
   "id": "5346dea5",
   "metadata": {},
   "outputs": [
    {
     "name": "stdout",
     "output_type": "stream",
     "text": [
      "Lucas-Lehmer numbers in the range:\n",
      "[3, 7, 31, 127]\n"
     ]
    }
   ],
   "source": [
    "def is_prime(number):\n",
    "    if number < 2:\n",
    "        return False\n",
    "    for i in range(2, int(number ** 0.5) + 1):\n",
    "        if number % i == 0:\n",
    "            return False\n",
    "    return True\n",
    "\n",
    "def find_lucas_lehmer_numbers(max_exponent):\n",
    "    lucas_lehmer_numbers = []\n",
    "    for exponent in range(2, max_exponent + 1):\n",
    "        if is_prime(2 ** exponent - 1):\n",
    "            lucas_lehmer_numbers.append(2 ** exponent - 1)\n",
    "    return lucas_lehmer_numbers\n",
    "\n",
    "max_exponent = 10  # Replace with the maximum exponent for the range\n",
    "result = find_lucas_lehmer_numbers(max_exponent)\n",
    "print(\"Lucas-Lehmer numbers in the range:\")\n",
    "print(result)\n"
   ]
  },
  {
   "cell_type": "markdown",
   "id": "08c7d0a7",
   "metadata": {},
   "source": [
    "### 315. Calculate the Perimeter of a Reuleaux Pentagon Star with Rounded Corners, Right Alignment, and Custom Size"
   ]
  },
  {
   "cell_type": "code",
   "execution_count": 8,
   "id": "c0c00dac",
   "metadata": {},
   "outputs": [
    {
     "name": "stdout",
     "output_type": "stream",
     "text": [
      "Perimeter of the Reuleaux pentagon star with larger semi-axis 4, smaller semi-axis 2, height 3, and rounded corners is: 49.71\n"
     ]
    }
   ],
   "source": [
    "import math\n",
    "\n",
    "def calculate_perimeter_reuleaux_pentagon_star(a, b, h):\n",
    "    # For a Reuleaux pentagon star with rounded corners, the perimeter can be calculated using the following formula:\n",
    "    # Perimeter = 5 * (a + b) + 2 * math.pi * h + 5 * (h - math.sqrt(a * b))\n",
    "    return 5 * (a + b) + 2 * math.pi * h + 5 * (h - math.sqrt(a * b))\n",
    "\n",
    "a = 4  # Replace with the larger semi-axis of the Reuleaux pentagon star\n",
    "b = 2  # Replace with the smaller semi-axis of the Reuleaux pentagon star\n",
    "h = 3  # Replace with the height of the Reuleaux pentagon star\n",
    "perimeter = calculate_perimeter_reuleaux_pentagon_star(a, b, h)\n",
    "print(f\"Perimeter of the Reuleaux pentagon star with larger semi-axis {a}, smaller semi-axis {b}, height {h}, and rounded corners is: {perimeter:.2f}\")\n"
   ]
  },
  {
   "cell_type": "markdown",
   "id": "b654e1d9",
   "metadata": {},
   "source": [
    "### 316. Print the Pattern of a Hollow Rhombus Star with Right Alignment and Custom Size"
   ]
  },
  {
   "cell_type": "code",
   "execution_count": 7,
   "id": "c96cb5c4",
   "metadata": {},
   "outputs": [
    {
     "name": "stdout",
     "output_type": "stream",
     "text": [
      "Hollow Rhombus Star Pattern with Right Alignment:\n",
      "    * * * * * \n",
      "   * * * * * \n",
      "  * * * * * \n",
      " * * * * * \n",
      "* * * * * \n"
     ]
    }
   ],
   "source": [
    "def print_hollow_rhombus_star_right_alignment(rows):\n",
    "    for i in range(rows):\n",
    "        print(\" \" * (rows - i - 1) + \"* \" * rows)\n",
    "\n",
    "rows = 5  # Replace with the desired number of rows for the hollow rhombus star\n",
    "print(\"Hollow Rhombus Star Pattern with Right Alignment:\")\n",
    "print_hollow_rhombus_star_right_alignment(rows)\n"
   ]
  },
  {
   "cell_type": "markdown",
   "id": "f873ee41",
   "metadata": {},
   "source": [
    "### 317. Generate a Random Word Cloud from Web Data with Custom Word Frequency and Size"
   ]
  },
  {
   "cell_type": "code",
   "execution_count": 6,
   "id": "a08b9260",
   "metadata": {},
   "outputs": [
    {
     "ename": "ModuleNotFoundError",
     "evalue": "No module named 'wordcloud'",
     "output_type": "error",
     "traceback": [
      "\u001b[0;31m---------------------------------------------------------------------------\u001b[0m",
      "\u001b[0;31mModuleNotFoundError\u001b[0m                       Traceback (most recent call last)",
      "Cell \u001b[0;32mIn[6], line 1\u001b[0m\n\u001b[0;32m----> 1\u001b[0m \u001b[38;5;28;01mfrom\u001b[39;00m \u001b[38;5;21;01mwordcloud\u001b[39;00m \u001b[38;5;28;01mimport\u001b[39;00m WordCloud\n\u001b[1;32m      2\u001b[0m \u001b[38;5;28;01mimport\u001b[39;00m \u001b[38;5;21;01mmatplotlib\u001b[39;00m\u001b[38;5;21;01m.\u001b[39;00m\u001b[38;5;21;01mpyplot\u001b[39;00m \u001b[38;5;28;01mas\u001b[39;00m \u001b[38;5;21;01mplt\u001b[39;00m\n\u001b[1;32m      3\u001b[0m \u001b[38;5;28;01mimport\u001b[39;00m \u001b[38;5;21;01mrequests\u001b[39;00m\n",
      "\u001b[0;31mModuleNotFoundError\u001b[0m: No module named 'wordcloud'"
     ]
    }
   ],
   "source": [
    "from wordcloud import WordCloud\n",
    "import matplotlib.pyplot as plt\n",
    "import requests\n",
    "from bs4 import BeautifulSoup\n",
    "import re\n",
    "\n",
    "def get_web_data(url):\n",
    "    try:\n",
    "        response = requests.get(url)\n",
    "        soup = BeautifulSoup(response.content, 'html.parser')\n",
    "        # Replace <tag_name> with the HTML tag containing the text you want to extract from the webpage\n",
    "        # Use regex to remove any unwanted characters or symbols from the extracted text\n",
    "        text_data = \" \".join(re.findall(r'\\b\\w+\\b', \" \".join(tag.get_text() for tag in soup.find_all(\"<tag_name>\"))))\n",
    "        return text_data\n",
    "    except Exception as e:\n",
    "        print(f\"Error: {e}\")\n",
    "        return \"\"\n",
    "\n",
    "url = \"https://www.example.com\"  # Replace with the URL of the webpage you want to fetch data from\n",
    "word_frequency = {\n",
    "    \"word1\": 50,  # Replace \"word1\" with the actual word and 50 with its frequency in the fetched web data\n",
    "    \"word2\": 30,\n",
    "    \"word3\": 20,\n",
    "    # Add more words and their frequencies as needed\n",
    "}\n",
    "\n",
    "wordcloud = WordCloud(width=800, height=400).generate_from_frequencies(word_frequency)\n",
    "plt.figure(figsize=(10, 5))\n",
    "plt.imshow(wordcloud, interpolation=\"bilinear\")\n",
    "plt.axis(\"off\")\n",
    "plt.show()\n"
   ]
  },
  {
   "cell_type": "markdown",
   "id": "252c9f49",
   "metadata": {},
   "source": [
    "### 318. Convert Decimal to Gray Code Using Recursive Approach"
   ]
  },
  {
   "cell_type": "code",
   "execution_count": 5,
   "id": "73220706",
   "metadata": {},
   "outputs": [
    {
     "name": "stdout",
     "output_type": "stream",
     "text": [
      "Gray code representation of 21 is: 31\n"
     ]
    }
   ],
   "source": [
    "def convert_decimal_to_gray_recursive(decimal_number):\n",
    "    if decimal_number == 0:\n",
    "        return 0\n",
    "    else:\n",
    "        return decimal_number ^ (decimal_number >> 1)\n",
    "\n",
    "decimal_number = 21  # Replace with the decimal number you want to convert\n",
    "gray_code = convert_decimal_to_gray_recursive(decimal_number)\n",
    "print(f\"Gray code representation of {decimal_number} is: {gray_code}\")\n"
   ]
  },
  {
   "cell_type": "markdown",
   "id": "83c02422",
   "metadata": {},
   "source": [
    "### 319. Check if a Number is a Generalized Hexagonal Number"
   ]
  },
  {
   "cell_type": "code",
   "execution_count": 1,
   "id": "09039ffb",
   "metadata": {},
   "outputs": [
    {
     "name": "stdout",
     "output_type": "stream",
     "text": [
      "15 is not a generalized hexagonal number with n = 5.\n"
     ]
    }
   ],
   "source": [
    "def is_generalized_hexagonal_number(number, n):\n",
    "    # A generalized hexagonal number H(n) = n(2n−1).\n",
    "    # Given n, check if the number is a generalized hexagonal number.\n",
    "\n",
    "    if number < 1 or n < 1:\n",
    "        return False\n",
    "\n",
    "    return number == n * (2 * n - 1)\n",
    "\n",
    "number = 15  # Replace with the number you want to check\n",
    "n = 5  # Replace with the value of n for the generalized hexagonal number\n",
    "result = is_generalized_hexagonal_number(number, n)\n",
    "print(f\"{number} is {'a' if result else 'not a'} generalized hexagonal number with n = {n}.\")\n"
   ]
  },
  {
   "cell_type": "markdown",
   "id": "40c5685f",
   "metadata": {},
   "source": [
    "### 320. Calculate the Volume of a Frustum of a Regular Tetrahedron with Custom Height3"
   ]
  },
  {
   "cell_type": "code",
   "execution_count": 4,
   "id": "e8a87fdd",
   "metadata": {},
   "outputs": [
    {
     "name": "stdout",
     "output_type": "stream",
     "text": [
      "Volume of the frustum of the regular tetrahedron with base edges 5 and 3, heights 8 and 5 is: 91.79\n"
     ]
    }
   ],
   "source": [
    "def calculate_volume_frustum_regular_tetrahedron(base_edge1, base_edge2, height1, height2):\n",
    "    # Given two edges (base_edge1 and base_edge2) of a regular tetrahedron and their corresponding heights (height1 and height2),\n",
    "    # the volume of the frustum of the regular tetrahedron can be calculated using the formula:\n",
    "    # Volume = 1/3 * h1 * (A1 + sqrt(A1 * A2) + A2)\n",
    "\n",
    "    area1 = (3 ** 0.5 / 4) * base_edge1 * height1\n",
    "    area2 = (3 ** 0.5 / 4) * base_edge2 * height2\n",
    "\n",
    "    return (1 / 3) * height1 * (area1 + (area1 * area2) ** 0.5 + area2)\n",
    "\n",
    "base_edge1 = 5  # Replace with the first base edge of the regular tetrahedron\n",
    "base_edge2 = 3  # Replace with the second base edge of the regular tetrahedron\n",
    "height1 = 8  # Replace with the first height of the regular tetrahedron\n",
    "height2 = 5  # Replace with the second height of the regular tetrahedron\n",
    "volume = calculate_volume_frustum_regular_tetrahedron(base_edge1, base_edge2, height1, height2)\n",
    "print(f\"Volume of the frustum of the regular tetrahedron with base edges {base_edge1} and {base_edge2}, heights {height1} and {height2} is: {volume:.2f}\")\n"
   ]
  },
  {
   "cell_type": "code",
   "execution_count": null,
   "id": "e65f0334",
   "metadata": {},
   "outputs": [],
   "source": []
  }
 ],
 "metadata": {
  "kernelspec": {
   "display_name": "Python 3 (ipykernel)",
   "language": "python",
   "name": "python3"
  },
  "language_info": {
   "codemirror_mode": {
    "name": "ipython",
    "version": 3
   },
   "file_extension": ".py",
   "mimetype": "text/x-python",
   "name": "python",
   "nbconvert_exporter": "python",
   "pygments_lexer": "ipython3",
   "version": "3.11.4"
  }
 },
 "nbformat": 4,
 "nbformat_minor": 5
}

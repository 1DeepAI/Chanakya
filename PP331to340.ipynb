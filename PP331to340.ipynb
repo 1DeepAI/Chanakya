{
 "cells": [
  {
   "cell_type": "markdown",
   "id": "e60b0a63",
   "metadata": {},
   "source": [
    "# Python Practice 331-340"
   ]
  },
  {
   "cell_type": "markdown",
   "id": "1797ac72",
   "metadata": {},
   "source": [
    "## Here are the Python programs for the specified objectives:"
   ]
  },
  {
   "cell_type": "markdown",
   "id": "84d1ab81",
   "metadata": {},
   "source": [
    "### 331. Calculate the Perimeter of a Reuleaux Hexagon Star with Rounded Corners, Right Alignment, Custom Size, and Custom Side Length"
   ]
  },
  {
   "cell_type": "code",
   "execution_count": 1,
   "id": "5a9147e3",
   "metadata": {},
   "outputs": [
    {
     "name": "stdout",
     "output_type": "stream",
     "text": [
      "The perimeter of the Reuleaux Hexagon Star with size 5 and side length 8 is: 46.76\n"
     ]
    }
   ],
   "source": [
    "import math\n",
    "\n",
    "def reuleaux_hexagon_star_perimeter(custom_size, custom_side_length):\n",
    "    if custom_size <= 0 or custom_side_length <= 0:\n",
    "        return \"Invalid input. Size and side length must be positive.\"\n",
    "\n",
    "    r = custom_size\n",
    "    a = custom_side_length\n",
    "    side_perimeter = 3 * a\n",
    "    rounded_corner_perimeter = (2 * math.pi - math.sqrt(3)) * r\n",
    "    total_perimeter = side_perimeter + rounded_corner_perimeter\n",
    "\n",
    "    return total_perimeter\n",
    "\n",
    "custom_size = 5\n",
    "custom_side_length = 8\n",
    "result = reuleaux_hexagon_star_perimeter(custom_size, custom_side_length)\n",
    "print(f\"The perimeter of the Reuleaux Hexagon Star with size {custom_size} and side length {custom_side_length} is: {result:.2f}\")\n"
   ]
  },
  {
   "cell_type": "markdown",
   "id": "7401ab4d",
   "metadata": {},
   "source": [
    "### 332. Print the Pattern of a Hollow Prime Number Pyramid Star with Right Alignment and Custom Size"
   ]
  },
  {
   "cell_type": "code",
   "execution_count": 2,
   "id": "2dfdc35d",
   "metadata": {},
   "outputs": [
    {
     "name": "stdout",
     "output_type": "stream",
     "text": [
      "    *\n",
      "   ***\n",
      "  *****\n",
      " *     *\n",
      "*********\n"
     ]
    }
   ],
   "source": [
    "def is_prime(n):\n",
    "    if n <= 1:\n",
    "        return False\n",
    "    for i in range(2, int(n ** 0.5) + 1):\n",
    "        if n % i == 0:\n",
    "            return False\n",
    "    return True\n",
    "\n",
    "def print_hollow_prime_number_pyramid(custom_size):\n",
    "    if custom_size <= 0:\n",
    "        return \"Invalid input. Size must be positive.\"\n",
    "\n",
    "    for i in range(1, custom_size + 1):\n",
    "        for j in range(custom_size - i):\n",
    "            print(\" \", end=\"\")\n",
    "        for j in range(2 * i - 1):\n",
    "            if j == 0 or j == 2 * i - 2 or is_prime(i):\n",
    "                print(\"*\", end=\"\")\n",
    "            else:\n",
    "                print(\" \", end=\"\")\n",
    "        print()\n",
    "\n",
    "custom_size = 5\n",
    "print_hollow_prime_number_pyramid(custom_size)\n"
   ]
  },
  {
   "cell_type": "markdown",
   "id": "9c35e8bc",
   "metadata": {},
   "source": [
    "### 333. Generate a Random Maze with Custom Dimensions and Different Path Generation Algorithms (DFS, BFS)"
   ]
  },
  {
   "cell_type": "code",
   "execution_count": 3,
   "id": "d61abae8",
   "metadata": {},
   "outputs": [
    {
     "name": "stdout",
     "output_type": "stream",
     "text": [
      "Random Maze using DFS:\n",
      "     \n",
      "     \n",
      "     \n",
      "     \n",
      "     \n",
      "\n",
      "Random Maze using BFS:\n",
      "     \n",
      "     \n",
      "     \n",
      "     \n",
      "     \n"
     ]
    }
   ],
   "source": [
    "import random\n",
    "\n",
    "def generate_random_maze_dfs(rows, cols):\n",
    "    maze = [[\"#\" for _ in range(cols)] for _ in range(rows)]\n",
    "\n",
    "    def dfs(x, y):\n",
    "        maze[x][y] = \" \"\n",
    "        directions = [(0, 1), (0, -1), (1, 0), (-1, 0)]\n",
    "        random.shuffle(directions)\n",
    "\n",
    "        for dx, dy in directions:\n",
    "            nx, ny = x + dx, y + dy\n",
    "            if 0 <= nx < rows and 0 <= ny < cols and maze[nx][ny] == \"#\":\n",
    "                maze[x + dx][y + dy] = \" \"\n",
    "                dfs(nx, ny)\n",
    "\n",
    "    dfs(0, 0)\n",
    "    return maze\n",
    "\n",
    "def generate_random_maze_bfs(rows, cols):\n",
    "    maze = [[\"#\" for _ in range(cols)] for _ in range(rows)]\n",
    "    queue = [(0, 0)]\n",
    "    maze[0][0] = \" \"\n",
    "\n",
    "    def is_valid(x, y):\n",
    "        return 0 <= x < rows and 0 <= y < cols and maze[x][y] == \"#\"\n",
    "\n",
    "    def bfs():\n",
    "        directions = [(0, 1), (0, -1), (1, 0), (-1, 0)]\n",
    "\n",
    "        while queue:\n",
    "            x, y = queue.pop(0)\n",
    "            random.shuffle(directions)\n",
    "\n",
    "            for dx, dy in directions:\n",
    "                nx, ny = x + dx, y + dy\n",
    "                if is_valid(nx, ny):\n",
    "                    maze[nx][ny] = \" \"\n",
    "                    queue.append((nx, ny))\n",
    "\n",
    "    bfs()\n",
    "    return maze\n",
    "\n",
    "rows = 5\n",
    "cols = 5\n",
    "maze_dfs = generate_random_maze_dfs(rows, cols)\n",
    "maze_bfs = generate_random_maze_bfs(rows, cols)\n",
    "\n",
    "print(\"Random Maze using DFS:\")\n",
    "for row in maze_dfs:\n",
    "    print(\"\".join(row))\n",
    "\n",
    "print(\"\\nRandom Maze using BFS:\")\n",
    "for row in maze_bfs:\n",
    "    print(\"\".join(row))\n"
   ]
  },
  {
   "cell_type": "markdown",
   "id": "47bf00f2",
   "metadata": {},
   "source": [
    "### 334. Convert Decimal to Excess-K Code Using Bit Manipulation and Custom K"
   ]
  },
  {
   "cell_type": "code",
   "execution_count": 4,
   "id": "42cffb28",
   "metadata": {},
   "outputs": [
    {
     "name": "stdout",
     "output_type": "stream",
     "text": [
      "The Excess-3 code of 10 is: 101\n"
     ]
    }
   ],
   "source": [
    "def decimal_to_excess_k(decimal_num, k):\n",
    "    if k <= 0:\n",
    "        return \"Invalid input. K must be positive.\"\n",
    "\n",
    "    excess_k_code = bin(decimal_num + k)[3:]\n",
    "    return excess_k_code\n",
    "\n",
    "decimal_num = 10\n",
    "k = 3\n",
    "result = decimal_to_excess_k(decimal_num, k)\n",
    "print(f\"The Excess-{k} code of {decimal_num} is: {result}\")\n"
   ]
  },
  {
   "cell_type": "markdown",
   "id": "e2179f1a",
   "metadata": {},
   "source": [
    "### 335. Check if a Number is a Generalized Hexagon Number"
   ]
  },
  {
   "cell_type": "code",
   "execution_count": 5,
   "id": "f7cdb0ea",
   "metadata": {},
   "outputs": [
    {
     "name": "stdout",
     "output_type": "stream",
     "text": [
      "91 is a generalized hexagon number.\n"
     ]
    }
   ],
   "source": [
    "def is_generalized_hexagon_number(n):\n",
    "    if n <= 0:\n",
    "        return False\n",
    "    x = (1 + (1 + 8 * n) ** 0.5) / 4\n",
    "    return x == int(x)\n",
    "\n",
    "num = 91\n",
    "result = is_generalized_hexagon_number(num)\n",
    "print(f\"{num} is {'a' if result else 'not a'} generalized hexagon number.\")\n"
   ]
  },
  {
   "cell_type": "markdown",
   "id": "e0d0df2c",
   "metadata": {},
   "source": [
    "### 336. Calculate the Volume of a Frustum of a Regular Icosahedron with Custom Height"
   ]
  },
  {
   "cell_type": "code",
   "execution_count": 6,
   "id": "d8e9df94",
   "metadata": {},
   "outputs": [
    {
     "name": "stdout",
     "output_type": "stream",
     "text": [
      "The volume of the frustum of a regular icosahedron with side length 6 and height 10 is: 785.41\n"
     ]
    }
   ],
   "source": [
    "def volume_of_frustum_of_icosahedron(side_length, height):\n",
    "    if side_length <= 0 or height <= 0:\n",
    "        return \"Invalid input. Side length and height must be positive.\"\n",
    "\n",
    "    volume = (5 / 12) * (3 + 5 ** 0.5) * side_length ** 2 * height\n",
    "    return volume\n",
    "\n",
    "side_length = 6\n",
    "height = 10\n",
    "result = volume_of_frustum_of_icosahedron(side_length, height)\n",
    "print(f\"The volume of the frustum of a regular icosahedron with side length {side_length} and height {height} is: {result:.2f}\")\n"
   ]
  },
  {
   "cell_type": "markdown",
   "id": "7490a200",
   "metadata": {},
   "source": [
    "### 337. Implement Merge Sort Algorithm on a Circular Linked List with Custom Merge"
   ]
  },
  {
   "cell_type": "code",
   "execution_count": 7,
   "id": "6088615a",
   "metadata": {},
   "outputs": [
    {
     "name": "stdout",
     "output_type": "stream",
     "text": [
      "Original Circular Linked List:\n",
      "170 -> 45 -> 75 -> 90 -> 802 -> 24 -> 2 -> \n"
     ]
    },
    {
     "ename": "RecursionError",
     "evalue": "maximum recursion depth exceeded in comparison",
     "output_type": "error",
     "traceback": [
      "\u001b[0;31m---------------------------------------------------------------------------\u001b[0m",
      "\u001b[0;31mRecursionError\u001b[0m                            Traceback (most recent call last)",
      "Cell \u001b[0;32mIn[7], line 77\u001b[0m\n\u001b[1;32m     74\u001b[0m \u001b[38;5;28mprint\u001b[39m(\u001b[38;5;124m\"\u001b[39m\u001b[38;5;124mOriginal Circular Linked List:\u001b[39m\u001b[38;5;124m\"\u001b[39m)\n\u001b[1;32m     75\u001b[0m clist\u001b[38;5;241m.\u001b[39mdisplay()\n\u001b[0;32m---> 77\u001b[0m clist\u001b[38;5;241m.\u001b[39mhead \u001b[38;5;241m=\u001b[39m clist\u001b[38;5;241m.\u001b[39mmerge_sort(clist\u001b[38;5;241m.\u001b[39mhead)\n\u001b[1;32m     79\u001b[0m \u001b[38;5;28mprint\u001b[39m(\u001b[38;5;124m\"\u001b[39m\u001b[38;5;124mCircular Linked List after Merge Sort:\u001b[39m\u001b[38;5;124m\"\u001b[39m)\n\u001b[1;32m     80\u001b[0m clist\u001b[38;5;241m.\u001b[39mdisplay()\n",
      "Cell \u001b[0;32mIn[7], line 55\u001b[0m, in \u001b[0;36mCircularLinkedList.merge_sort\u001b[0;34m(self, start)\u001b[0m\n\u001b[1;32m     53\u001b[0m mid_next \u001b[38;5;241m=\u001b[39m mid\u001b[38;5;241m.\u001b[39mnext\n\u001b[1;32m     54\u001b[0m mid\u001b[38;5;241m.\u001b[39mnext \u001b[38;5;241m=\u001b[39m start\n\u001b[0;32m---> 55\u001b[0m left \u001b[38;5;241m=\u001b[39m \u001b[38;5;28mself\u001b[39m\u001b[38;5;241m.\u001b[39mmerge_sort(start)\n\u001b[1;32m     56\u001b[0m mid\u001b[38;5;241m.\u001b[39mnext \u001b[38;5;241m=\u001b[39m mid_next\n\u001b[1;32m     57\u001b[0m right \u001b[38;5;241m=\u001b[39m \u001b[38;5;28mself\u001b[39m\u001b[38;5;241m.\u001b[39mmerge_sort(mid_next)\n",
      "Cell \u001b[0;32mIn[7], line 55\u001b[0m, in \u001b[0;36mCircularLinkedList.merge_sort\u001b[0;34m(self, start)\u001b[0m\n\u001b[1;32m     53\u001b[0m mid_next \u001b[38;5;241m=\u001b[39m mid\u001b[38;5;241m.\u001b[39mnext\n\u001b[1;32m     54\u001b[0m mid\u001b[38;5;241m.\u001b[39mnext \u001b[38;5;241m=\u001b[39m start\n\u001b[0;32m---> 55\u001b[0m left \u001b[38;5;241m=\u001b[39m \u001b[38;5;28mself\u001b[39m\u001b[38;5;241m.\u001b[39mmerge_sort(start)\n\u001b[1;32m     56\u001b[0m mid\u001b[38;5;241m.\u001b[39mnext \u001b[38;5;241m=\u001b[39m mid_next\n\u001b[1;32m     57\u001b[0m right \u001b[38;5;241m=\u001b[39m \u001b[38;5;28mself\u001b[39m\u001b[38;5;241m.\u001b[39mmerge_sort(mid_next)\n",
      "    \u001b[0;31m[... skipping similar frames: CircularLinkedList.merge_sort at line 55 (2969 times)]\u001b[0m\n",
      "Cell \u001b[0;32mIn[7], line 55\u001b[0m, in \u001b[0;36mCircularLinkedList.merge_sort\u001b[0;34m(self, start)\u001b[0m\n\u001b[1;32m     53\u001b[0m mid_next \u001b[38;5;241m=\u001b[39m mid\u001b[38;5;241m.\u001b[39mnext\n\u001b[1;32m     54\u001b[0m mid\u001b[38;5;241m.\u001b[39mnext \u001b[38;5;241m=\u001b[39m start\n\u001b[0;32m---> 55\u001b[0m left \u001b[38;5;241m=\u001b[39m \u001b[38;5;28mself\u001b[39m\u001b[38;5;241m.\u001b[39mmerge_sort(start)\n\u001b[1;32m     56\u001b[0m mid\u001b[38;5;241m.\u001b[39mnext \u001b[38;5;241m=\u001b[39m mid_next\n\u001b[1;32m     57\u001b[0m right \u001b[38;5;241m=\u001b[39m \u001b[38;5;28mself\u001b[39m\u001b[38;5;241m.\u001b[39mmerge_sort(mid_next)\n",
      "Cell \u001b[0;32mIn[7], line 52\u001b[0m, in \u001b[0;36mCircularLinkedList.merge_sort\u001b[0;34m(self, start)\u001b[0m\n\u001b[1;32m     49\u001b[0m \u001b[38;5;28;01mif\u001b[39;00m \u001b[38;5;129;01mnot\u001b[39;00m start \u001b[38;5;129;01mor\u001b[39;00m \u001b[38;5;129;01mnot\u001b[39;00m start\u001b[38;5;241m.\u001b[39mnext:\n\u001b[1;32m     50\u001b[0m     \u001b[38;5;28;01mreturn\u001b[39;00m start\n\u001b[0;32m---> 52\u001b[0m mid \u001b[38;5;241m=\u001b[39m \u001b[38;5;28mself\u001b[39m\u001b[38;5;241m.\u001b[39mfind_mid(start)\n\u001b[1;32m     53\u001b[0m mid_next \u001b[38;5;241m=\u001b[39m mid\u001b[38;5;241m.\u001b[39mnext\n\u001b[1;32m     54\u001b[0m mid\u001b[38;5;241m.\u001b[39mnext \u001b[38;5;241m=\u001b[39m start\n",
      "Cell \u001b[0;32mIn[7], line 63\u001b[0m, in \u001b[0;36mCircularLinkedList.find_mid\u001b[0;34m(self, start)\u001b[0m\n\u001b[1;32m     61\u001b[0m slow \u001b[38;5;241m=\u001b[39m start\n\u001b[1;32m     62\u001b[0m fast \u001b[38;5;241m=\u001b[39m start\n\u001b[0;32m---> 63\u001b[0m \u001b[38;5;28;01mwhile\u001b[39;00m fast\u001b[38;5;241m.\u001b[39mnext \u001b[38;5;241m!=\u001b[39m start \u001b[38;5;129;01mand\u001b[39;00m fast\u001b[38;5;241m.\u001b[39mnext\u001b[38;5;241m.\u001b[39mnext \u001b[38;5;241m!=\u001b[39m start:\n\u001b[1;32m     64\u001b[0m     slow \u001b[38;5;241m=\u001b[39m slow\u001b[38;5;241m.\u001b[39mnext\n\u001b[1;32m     65\u001b[0m     fast \u001b[38;5;241m=\u001b[39m fast\u001b[38;5;241m.\u001b[39mnext\u001b[38;5;241m.\u001b[39mnext\n",
      "\u001b[0;31mRecursionError\u001b[0m: maximum recursion depth exceeded in comparison"
     ]
    }
   ],
   "source": [
    "class Node:\n",
    "    def __init__(self, data):\n",
    "        self.data = data\n",
    "        self.next = None\n",
    "\n",
    "class CircularLinkedList:\n",
    "    def __init__(self):\n",
    "        self.head = None\n",
    "\n",
    "    def insert(self, data):\n",
    "        new_node = Node(data)\n",
    "        if not self.head:\n",
    "            self.head = new_node\n",
    "            self.head.next = self.head\n",
    "        else:\n",
    "            temp = self.head\n",
    "            while temp.next != self.head:\n",
    "                temp = temp.next\n",
    "            temp.next = new_node\n",
    "            new_node.next = self.head\n",
    "\n",
    "    def display(self):\n",
    "        if not self.head:\n",
    "            return \"Circular Linked List is empty.\"\n",
    "        temp = self.head\n",
    "        while True:\n",
    "            print(temp.data, end=\" -> \")\n",
    "            temp = temp.next\n",
    "            if temp == self.head:\n",
    "                break\n",
    "        print()\n",
    "\n",
    "    def merge_sort(self, start):\n",
    "        def merge(a, b):\n",
    "            result = None\n",
    "            if not a:\n",
    "                return b\n",
    "            if not b:\n",
    "                return a\n",
    "\n",
    "            if a.data <= b.data:\n",
    "                result = a\n",
    "                result.next = merge(a.next, b)\n",
    "            else:\n",
    "                result = b\n",
    "                result.next = merge(a, b.next)\n",
    "            return result\n",
    "\n",
    "        if not start or not start.next:\n",
    "            return start\n",
    "\n",
    "        mid = self.find_mid(start)\n",
    "        mid_next = mid.next\n",
    "        mid.next = start\n",
    "        left = self.merge_sort(start)\n",
    "        mid.next = mid_next\n",
    "        right = self.merge_sort(mid_next)\n",
    "        return merge(left, right)\n",
    "\n",
    "    def find_mid(self, start):\n",
    "        slow = start\n",
    "        fast = start\n",
    "        while fast.next != start and fast.next.next != start:\n",
    "            slow = slow.next\n",
    "            fast = fast.next.next\n",
    "        return slow\n",
    "\n",
    "# Sample usage:\n",
    "clist = CircularLinkedList()\n",
    "elements = [170, 45, 75, 90, 802, 24, 2]\n",
    "for ele in elements:\n",
    "    clist.insert(ele)\n",
    "\n",
    "print(\"Original Circular Linked List:\")\n",
    "clist.display()\n",
    "\n",
    "clist.head = clist.merge_sort(clist.head)\n",
    "\n",
    "print(\"Circular Linked List after Merge Sort:\")\n",
    "clist.display()\n"
   ]
  },
  {
   "cell_type": "markdown",
   "id": "e8269aac",
   "metadata": {},
   "source": [
    "### 338. Find the Motzkin Numbers in a Range"
   ]
  },
  {
   "cell_type": "code",
   "execution_count": 8,
   "id": "f60e96b5",
   "metadata": {},
   "outputs": [
    {
     "name": "stdout",
     "output_type": "stream",
     "text": [
      "Motzkin Numbers from 0 to 7: [1, 1, 6, 44, 414, 4730, 63560, 981780]\n"
     ]
    }
   ],
   "source": [
    "def motzkin_numbers(n):\n",
    "    if n == 0:\n",
    "        return 1\n",
    "    if n == 1:\n",
    "        return 1\n",
    "\n",
    "    prev = 1\n",
    "    current = 1\n",
    "    for i in range(2, n + 1):\n",
    "        new_num = (2 * i + 1) * current + (i - 1) * prev\n",
    "        prev = current\n",
    "        current = new_num\n",
    "\n",
    "    return current\n",
    "\n",
    "lower_bound = 0\n",
    "upper_bound = 7\n",
    "motzkin_nums = [motzkin_numbers(i) for i in range(lower_bound, upper_bound + 1)]\n",
    "print(f\"Motzkin Numbers from {lower_bound} to {upper_bound}: {motzkin_nums}\")\n"
   ]
  },
  {
   "cell_type": "markdown",
   "id": "1adc35be",
   "metadata": {},
   "source": [
    "### 339. Calculate the Perimeter of a Reuleaux Pentagon Star with Rounded Corners, Right Alignment, Custom Size, and Custom Side Length"
   ]
  },
  {
   "cell_type": "code",
   "execution_count": 9,
   "id": "93a74def",
   "metadata": {},
   "outputs": [
    {
     "name": "stdout",
     "output_type": "stream",
     "text": [
      "The perimeter of the Reuleaux Pentagon Star with size 6 and side length 7 is: 65.16\n"
     ]
    }
   ],
   "source": [
    "import math\n",
    "\n",
    "def reuleaux_pentagon_star_perimeter(custom_size, custom_side_length):\n",
    "    if custom_size <= 0 or custom_side_length <= 0:\n",
    "        return \"Invalid input. Size and side length must be positive.\"\n",
    "\n",
    "    r = custom_size\n",
    "    a = custom_side_length\n",
    "    side_perimeter = 5 * a\n",
    "    rounded_corner_perimeter = (2 * math.pi - 2 * math.pi / 5) * r\n",
    "    total_perimeter = side_perimeter + rounded_corner_perimeter\n",
    "\n",
    "    return total_perimeter\n",
    "\n",
    "custom_size = 6\n",
    "custom_side_length = 7\n",
    "result = reuleaux_pentagon_star_perimeter(custom_size, custom_side_length)\n",
    "print(f\"The perimeter of the Reuleaux Pentagon Star with size {custom_size} and side length {custom_side_length} is: {result:.2f}\")\n"
   ]
  },
  {
   "cell_type": "markdown",
   "id": "71c461d1",
   "metadata": {},
   "source": [
    "### 340. Print the Pattern of a Hollow Rhombic Pyramid Star with Right Alignment and Custom Size"
   ]
  },
  {
   "cell_type": "code",
   "execution_count": 10,
   "id": "ece3e532",
   "metadata": {},
   "outputs": [
    {
     "name": "stdout",
     "output_type": "stream",
     "text": [
      "    *\n",
      "   * *\n",
      "  *   *\n",
      " *     *\n",
      "*********\n"
     ]
    }
   ],
   "source": [
    "def print_hollow_rhombic_pyramid_star(custom_size):\n",
    "    if custom_size <= 0:\n",
    "        return \"Invalid input. Size must be positive.\"\n",
    "\n",
    "    for i in range(1, custom_size + 1):\n",
    "        for j in range(custom_size - i):\n",
    "            print(\" \", end=\"\")\n",
    "        for j in range(2 * i - 1):\n",
    "            if j == 0 or j == 2 * i - 2 or i == custom_size:\n",
    "                print(\"*\", end=\"\")\n",
    "            else:\n",
    "                print(\" \", end=\"\")\n",
    "        print()\n",
    "\n",
    "custom_size = 5\n",
    "print_hollow_rhombic_pyramid_star(custom_size)\n"
   ]
  },
  {
   "cell_type": "code",
   "execution_count": null,
   "id": "0ae899ca",
   "metadata": {},
   "outputs": [],
   "source": []
  }
 ],
 "metadata": {
  "kernelspec": {
   "display_name": "Python 3 (ipykernel)",
   "language": "python",
   "name": "python3"
  },
  "language_info": {
   "codemirror_mode": {
    "name": "ipython",
    "version": 3
   },
   "file_extension": ".py",
   "mimetype": "text/x-python",
   "name": "python",
   "nbconvert_exporter": "python",
   "pygments_lexer": "ipython3",
   "version": "3.11.4"
  }
 },
 "nbformat": 4,
 "nbformat_minor": 5
}

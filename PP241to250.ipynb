{
 "cells": [
  {
   "cell_type": "markdown",
   "id": "97a8436f",
   "metadata": {},
   "source": [
    "# Python Practice 241-250"
   ]
  },
  {
   "cell_type": "markdown",
   "id": "2c7913a4",
   "metadata": {},
   "source": [
    "## Here are Python programs for the objectives"
   ]
  },
  {
   "cell_type": "markdown",
   "id": "3f8c0190",
   "metadata": {},
   "source": [
    "### 241. Implement Hash Table Data Structure with Open Addressing"
   ]
  },
  {
   "cell_type": "code",
   "execution_count": 10,
   "id": "ab51dc9f",
   "metadata": {},
   "outputs": [
    {
     "name": "stdout",
     "output_type": "stream",
     "text": [
      "Value of 'apple': 5\n",
      "Value of 'banana': 10\n",
      "Value of 'orange': 8\n",
      "Value of 'grape': None\n"
     ]
    }
   ],
   "source": [
    "class HashTable:\n",
    "    def __init__(self, size):\n",
    "        self.size = size\n",
    "        self.keys = [None] * size\n",
    "        self.values = [None] * size\n",
    "\n",
    "    def hash_function(self, key):\n",
    "        return hash(key) % self.size\n",
    "\n",
    "    def insert(self, key, value):\n",
    "        index = self.hash_function(key)\n",
    "        while self.keys[index] is not None:\n",
    "            if self.keys[index] == key:\n",
    "                self.values[index] = value\n",
    "                return\n",
    "            index = (index + 1) % self.size\n",
    "        self.keys[index] = key\n",
    "        self.values[index] = value\n",
    "\n",
    "    def get(self, key):\n",
    "        index = self.hash_function(key)\n",
    "        while self.keys[index] is not None:\n",
    "            if self.keys[index] == key:\n",
    "                return self.values[index]\n",
    "            index = (index + 1) % self.size\n",
    "        return None\n",
    "\n",
    "# Example usage of the Hash Table data structure with open addressing\n",
    "hash_table = HashTable(size=10)\n",
    "hash_table.insert('apple', 5)\n",
    "hash_table.insert('banana', 10)\n",
    "hash_table.insert('orange', 8)\n",
    "\n",
    "print(\"Value of 'apple':\", hash_table.get('apple'))\n",
    "print(\"Value of 'banana':\", hash_table.get('banana'))\n",
    "print(\"Value of 'orange':\", hash_table.get('orange'))\n",
    "print(\"Value of 'grape':\", hash_table.get('grape'))\n"
   ]
  },
  {
   "cell_type": "markdown",
   "id": "b166ef43",
   "metadata": {},
   "source": [
    "### 242. Find the Joyful Numbers in a Range"
   ]
  },
  {
   "cell_type": "code",
   "execution_count": 9,
   "id": "4b1c5617",
   "metadata": {},
   "outputs": [
    {
     "name": "stdout",
     "output_type": "stream",
     "text": [
      "Joyful numbers in the range [1, 100]: [1, 2, 3, 4, 5, 6, 7, 8, 9, 11, 12, 15, 22, 24, 33, 36, 44, 48, 55, 66, 77, 88, 99]\n"
     ]
    }
   ],
   "source": [
    "def is_joyful_number(num):\n",
    "    digits = [int(digit) for digit in str(num)]\n",
    "    for digit in digits:\n",
    "        if digit == 0 or num % digit != 0:\n",
    "            return False\n",
    "    return True\n",
    "\n",
    "def find_joyful_numbers_in_range(start, end):\n",
    "    joyful_numbers = [num for num in range(start, end + 1) if is_joyful_number(num)]\n",
    "    return joyful_numbers\n",
    "\n",
    "start_range = 1\n",
    "end_range = 100\n",
    "joyful_numbers = find_joyful_numbers_in_range(start_range, end_range)\n",
    "print(f\"Joyful numbers in the range [{start_range}, {end_range}]: {joyful_numbers}\")\n"
   ]
  },
  {
   "cell_type": "markdown",
   "id": "9eb31411",
   "metadata": {},
   "source": [
    "### 243. Calculate the Perimeter of a Reuleaux Ellipse"
   ]
  },
  {
   "cell_type": "code",
   "execution_count": 8,
   "id": "2c5a4e5a",
   "metadata": {},
   "outputs": [
    {
     "name": "stdout",
     "output_type": "stream",
     "text": [
      "Perimeter of the Reuleaux ellipse with semi-major axis 5 and semi-minor axis 3 is: -3.13\n"
     ]
    }
   ],
   "source": [
    "import math\n",
    "\n",
    "def calculate_perimeter_of_reuleaux_ellipse(a, b):\n",
    "    # The perimeter of a Reuleaux ellipse is equal to 4 times the perimeter of an ellipse with semi-major axis 'a' and semi-minor axis 'b'\n",
    "    perimeter = 4 * math.pi * ((3 * (a + b)) - ((a + 3 * b) * math.sqrt(3)))\n",
    "    return perimeter\n",
    "\n",
    "semi_major_axis = 5\n",
    "semi_minor_axis = 3\n",
    "perimeter = calculate_perimeter_of_reuleaux_ellipse(semi_major_axis, semi_minor_axis)\n",
    "print(f\"Perimeter of the Reuleaux ellipse with semi-major axis {semi_major_axis} and semi-minor axis {semi_minor_axis} is: {perimeter:.2f}\")\n"
   ]
  },
  {
   "cell_type": "markdown",
   "id": "6b6accce",
   "metadata": {},
   "source": [
    "### 244. Print the Pattern of a Hollow Square Star with Right Alignment"
   ]
  },
  {
   "cell_type": "code",
   "execution_count": 7,
   "id": "903a6caa",
   "metadata": {},
   "outputs": [
    {
     "name": "stdout",
     "output_type": "stream",
     "text": [
      "Hollow Square Star Pattern with Right Alignment:\n",
      "    *****\n",
      "   *   *\n",
      "  *   *\n",
      " *   *\n",
      "*****\n"
     ]
    }
   ],
   "source": [
    "def print_hollow_square_star(rows):\n",
    "    for i in range(rows):\n",
    "        for j in range(rows - i - 1):\n",
    "            print(\" \", end=\"\")\n",
    "        for j in range(rows):\n",
    "            if i == 0 or i == rows - 1 or j == 0 or j == rows - 1:\n",
    "                print(\"*\", end=\"\")\n",
    "            else:\n",
    "                print(\" \", end=\"\")\n",
    "        print()\n",
    "\n",
    "rows = 5 # Replace with the desired number of rows for the hollow square star\n",
    "print(\"Hollow Square Star Pattern with Right Alignment:\")\n",
    "print_hollow_square_star(rows)\n"
   ]
  },
  {
   "cell_type": "markdown",
   "id": "52c07e5d",
   "metadata": {},
   "source": [
    "### 245. Generate a Random Huffman Coding Tree with Custom Frequencies"
   ]
  },
  {
   "cell_type": "code",
   "execution_count": 6,
   "id": "20e0a401",
   "metadata": {},
   "outputs": [
    {
     "ename": "TypeError",
     "evalue": "'<' not supported between instances of 'HuffmanNode' and 'HuffmanNode'",
     "output_type": "error",
     "traceback": [
      "\u001b[0;31m---------------------------------------------------------------------------\u001b[0m",
      "\u001b[0;31mTypeError\u001b[0m                                 Traceback (most recent call last)",
      "Cell \u001b[0;32mIn[6], line 34\u001b[0m\n\u001b[1;32m     32\u001b[0m \u001b[38;5;66;03m# Example usage to generate a random Huffman coding tree with custom frequencies\u001b[39;00m\n\u001b[1;32m     33\u001b[0m frequencies \u001b[38;5;241m=\u001b[39m {\u001b[38;5;124m'\u001b[39m\u001b[38;5;124ma\u001b[39m\u001b[38;5;124m'\u001b[39m: \u001b[38;5;241m10\u001b[39m, \u001b[38;5;124m'\u001b[39m\u001b[38;5;124mb\u001b[39m\u001b[38;5;124m'\u001b[39m: \u001b[38;5;241m20\u001b[39m, \u001b[38;5;124m'\u001b[39m\u001b[38;5;124mc\u001b[39m\u001b[38;5;124m'\u001b[39m: \u001b[38;5;241m15\u001b[39m, \u001b[38;5;124m'\u001b[39m\u001b[38;5;124md\u001b[39m\u001b[38;5;124m'\u001b[39m: \u001b[38;5;241m5\u001b[39m, \u001b[38;5;124m'\u001b[39m\u001b[38;5;124me\u001b[39m\u001b[38;5;124m'\u001b[39m: \u001b[38;5;241m40\u001b[39m}\n\u001b[0;32m---> 34\u001b[0m huffman_tree \u001b[38;5;241m=\u001b[39m generate_huffman_tree_with_custom_frequencies(frequencies)\n\u001b[1;32m     35\u001b[0m \u001b[38;5;28mprint\u001b[39m(\u001b[38;5;124m\"\u001b[39m\u001b[38;5;124mRandom Huffman Coding Tree with Custom Frequencies:\u001b[39m\u001b[38;5;124m\"\u001b[39m)\n\u001b[1;32m     36\u001b[0m print_huffman_tree(huffman_tree)\n",
      "Cell \u001b[0;32mIn[6], line 21\u001b[0m, in \u001b[0;36mgenerate_huffman_tree_with_custom_frequencies\u001b[0;34m(frequencies)\u001b[0m\n\u001b[1;32m     19\u001b[0m     merged_node\u001b[38;5;241m.\u001b[39mleft \u001b[38;5;241m=\u001b[39m node1\n\u001b[1;32m     20\u001b[0m     merged_node\u001b[38;5;241m.\u001b[39mright \u001b[38;5;241m=\u001b[39m node2\n\u001b[0;32m---> 21\u001b[0m     heapq\u001b[38;5;241m.\u001b[39mheappush(heap, (freq1 \u001b[38;5;241m+\u001b[39m freq2, merged_node))\n\u001b[1;32m     23\u001b[0m \u001b[38;5;28;01mreturn\u001b[39;00m heap[\u001b[38;5;241m0\u001b[39m][\u001b[38;5;241m1\u001b[39m]\n",
      "\u001b[0;31mTypeError\u001b[0m: '<' not supported between instances of 'HuffmanNode' and 'HuffmanNode'"
     ]
    }
   ],
   "source": [
    "import heapq\n",
    "\n",
    "class HuffmanNode:\n",
    "    def __init__(self, char=None, frequency=0):\n",
    "        self.char = char\n",
    "        self.frequency = frequency\n",
    "        self.left = None\n",
    "        self.right = None\n",
    "\n",
    "def generate_huffman_tree_with_custom_frequencies(frequencies):\n",
    "    heap = []\n",
    "    for char, frequency in frequencies.items():\n",
    "        heapq.heappush(heap, (frequency, HuffmanNode(char, frequency)))\n",
    "\n",
    "    while len(heap) > 1:\n",
    "        freq1, node1 = heapq.heappop(heap)\n",
    "        freq2, node2 = heapq.heappop(heap)\n",
    "        merged_node = HuffmanNode(frequency=freq1 + freq2)\n",
    "        merged_node.left = node1\n",
    "        merged_node.right = node2\n",
    "        heapq.heappush(heap, (freq1 + freq2, merged_node))\n",
    "\n",
    "    return heap[0][1]\n",
    "\n",
    "def print_huffman_tree(node, prefix=\"\"):\n",
    "    if node.char is not None:\n",
    "        print(f\"{node.char}: {prefix}\")\n",
    "    else:\n",
    "        print_huffman_tree(node.left, prefix + \"0\")\n",
    "        print_huffman_tree(node.right, prefix + \"1\")\n",
    "\n",
    "# Example usage to generate a random Huffman coding tree with custom frequencies\n",
    "frequencies = {'a': 10, 'b': 20, 'c': 15, 'd': 5, 'e': 40}\n",
    "huffman_tree = generate_huffman_tree_with_custom_frequencies(frequencies)\n",
    "print(\"Random Huffman Coding Tree with Custom Frequencies:\")\n",
    "print_huffman_tree(huffman_tree)\n"
   ]
  },
  {
   "cell_type": "markdown",
   "id": "fb6f06ca",
   "metadata": {},
   "source": [
    "### 246. Convert Decimal to Balanced Ternary Using Recursion"
   ]
  },
  {
   "cell_type": "code",
   "execution_count": 5,
   "id": "8ce4b485",
   "metadata": {},
   "outputs": [
    {
     "name": "stdout",
     "output_type": "stream",
     "text": [
      "Balanced ternary representation of 17 is: 1202\n"
     ]
    }
   ],
   "source": [
    "def convert_to_balanced_ternary(decimal_num):\n",
    "    if decimal_num == 0:\n",
    "        return '0'\n",
    "    digits = '012'\n",
    "    result = ''\n",
    "    while decimal_num != 0:\n",
    "        decimal_num, remainder = divmod(decimal_num, 3)\n",
    "        if remainder == 2:\n",
    "            decimal_num += 1\n",
    "        result = digits[remainder] + result\n",
    "    return result\n",
    "\n",
    "decimal_number = 17 # Replace with any decimal number you want to convert\n",
    "balanced_ternary = convert_to_balanced_ternary(decimal_number)\n",
    "print(f\"Balanced ternary representation of {decimal_number} is: {balanced_ternary}\")\n"
   ]
  },
  {
   "cell_type": "markdown",
   "id": "305809e2",
   "metadata": {},
   "source": [
    "### 247. Check if a Number is a Happy Prime Using Bit Manipulation"
   ]
  },
  {
   "cell_type": "code",
   "execution_count": 4,
   "id": "13999330",
   "metadata": {},
   "outputs": [
    {
     "name": "stdout",
     "output_type": "stream",
     "text": [
      "19 is a happy prime.\n"
     ]
    }
   ],
   "source": [
    "def is_prime(num):\n",
    "    if num <= 1:\n",
    "        return False\n",
    "    for i in range(2, int(num ** 0.5) + 1):\n",
    "        if num % i == 0:\n",
    "            return False\n",
    "    return True\n",
    "\n",
    "def is_happy_number(num):\n",
    "    seen = set()\n",
    "    while num != 1 and num not in seen:\n",
    "        seen.add(num)\n",
    "        num = sum(int(digit) ** 2 for digit in str(num))\n",
    "    return num == 1\n",
    "\n",
    "def is_happy_prime(num):\n",
    "    return is_prime(num) and is_happy_number(num)\n",
    "\n",
    "number = 19 # Replace with any number you want to check\n",
    "result = is_happy_prime(number)\n",
    "print(f\"{number} is {'a happy prime' if result else 'not a happy prime'}.\")\n"
   ]
  },
  {
   "cell_type": "markdown",
   "id": "03ed3c54",
   "metadata": {},
   "source": [
    "### 248. Calculate the Volume of a Frustum of a Cone"
   ]
  },
  {
   "cell_type": "code",
   "execution_count": 3,
   "id": "98336fbb",
   "metadata": {},
   "outputs": [
    {
     "name": "stdout",
     "output_type": "stream",
     "text": [
      "Volume of the frustum of the cone with radii 5 and 3 and height 8 is: 410.50\n"
     ]
    }
   ],
   "source": [
    "import math\n",
    "\n",
    "def calculate_volume_of_frustum_of_cone(radius1, radius2, height):\n",
    "    volume = (1 / 3) * math.pi * height * (radius1 ** 2 + radius2 ** 2 + radius1 * radius2)\n",
    "    return volume\n",
    "\n",
    "radius1 = 5 # Replace with the larger base radius of the frustum of the cone\n",
    "radius2 = 3 # Replace with the smaller top radius of the frustum of the cone\n",
    "height = 8 # Replace with the height of the frustum of the cone\n",
    "volume = calculate_volume_of_frustum_of_cone(radius1, radius2, height)\n",
    "print(f\"Volume of the frustum of the cone with radii {radius1} and {radius2} and height {height} is: {volume:.2f}\")\n"
   ]
  },
  {
   "cell_type": "markdown",
   "id": "6c2a01b4",
   "metadata": {},
   "source": [
    "### 249. Implement Red-Black Tree Data Structure with Augmented Information"
   ]
  },
  {
   "cell_type": "code",
   "execution_count": 2,
   "id": "bcd74e10",
   "metadata": {},
   "outputs": [
    {
     "ename": "TypeError",
     "evalue": "'<' not supported between instances of 'int' and 'NoneType'",
     "output_type": "error",
     "traceback": [
      "\u001b[0;31m---------------------------------------------------------------------------\u001b[0m",
      "\u001b[0;31mTypeError\u001b[0m                                 Traceback (most recent call last)",
      "Cell \u001b[0;32mIn[2], line 113\u001b[0m\n\u001b[1;32m    111\u001b[0m keys \u001b[38;5;241m=\u001b[39m [\u001b[38;5;241m5\u001b[39m, \u001b[38;5;241m7\u001b[39m, \u001b[38;5;241m3\u001b[39m, \u001b[38;5;241m9\u001b[39m, \u001b[38;5;241m2\u001b[39m, \u001b[38;5;241m6\u001b[39m, \u001b[38;5;241m4\u001b[39m, \u001b[38;5;241m1\u001b[39m, \u001b[38;5;241m8\u001b[39m]\n\u001b[1;32m    112\u001b[0m \u001b[38;5;28;01mfor\u001b[39;00m key \u001b[38;5;129;01min\u001b[39;00m keys:\n\u001b[0;32m--> 113\u001b[0m     red_black_tree\u001b[38;5;241m.\u001b[39minsert(key)\n\u001b[1;32m    115\u001b[0m \u001b[38;5;28mprint\u001b[39m(\u001b[38;5;124m\"\u001b[39m\u001b[38;5;124mRed-Black Tree Traversal:\u001b[39m\u001b[38;5;124m\"\u001b[39m)\n\u001b[1;32m    116\u001b[0m \u001b[38;5;28mprint\u001b[39m(\u001b[38;5;124m\"\u001b[39m\u001b[38;5;124mKeys:\u001b[39m\u001b[38;5;124m\"\u001b[39m, red_black_tree\u001b[38;5;241m.\u001b[39mroot\u001b[38;5;241m.\u001b[39mkey)\n",
      "Cell \u001b[0;32mIn[2], line 63\u001b[0m, in \u001b[0;36mRedBlackTree.insert\u001b[0;34m(self, key)\u001b[0m\n\u001b[1;32m     61\u001b[0m \u001b[38;5;28;01mif\u001b[39;00m y \u001b[38;5;129;01mis\u001b[39;00m \u001b[38;5;28;01mNone\u001b[39;00m:\n\u001b[1;32m     62\u001b[0m     \u001b[38;5;28mself\u001b[39m\u001b[38;5;241m.\u001b[39mroot \u001b[38;5;241m=\u001b[39m new_node\n\u001b[0;32m---> 63\u001b[0m \u001b[38;5;28;01melif\u001b[39;00m new_node\u001b[38;5;241m.\u001b[39mkey \u001b[38;5;241m<\u001b[39m y\u001b[38;5;241m.\u001b[39mkey:\n\u001b[1;32m     64\u001b[0m     y\u001b[38;5;241m.\u001b[39mleft \u001b[38;5;241m=\u001b[39m new_node\n\u001b[1;32m     65\u001b[0m \u001b[38;5;28;01melse\u001b[39;00m:\n",
      "\u001b[0;31mTypeError\u001b[0m: '<' not supported between instances of 'int' and 'NoneType'"
     ]
    }
   ],
   "source": [
    "class RedBlackNode:\n",
    "    def __init__(self, key, color='RED'):\n",
    "        self.key = key\n",
    "        self.left = None\n",
    "        self.right = None\n",
    "        self.parent = None\n",
    "        self.color = color\n",
    "        self.size = 1\n",
    "\n",
    "class RedBlackTree:\n",
    "    def __init__(self):\n",
    "        self.nil = RedBlackNode(None, 'BLACK')\n",
    "        self.root = self.nil\n",
    "\n",
    "    def left_rotate(self, x):\n",
    "        y = x.right\n",
    "        x.right = y.left\n",
    "        if y.left != self.nil:\n",
    "            y.left.parent = x\n",
    "        y.parent = x.parent\n",
    "        if x.parent is None:\n",
    "            self.root = y\n",
    "        elif x == x.parent.left:\n",
    "            x.parent.left = y\n",
    "        else:\n",
    "            x.parent.right = y\n",
    "        y.left = x\n",
    "        x.parent = y\n",
    "        y.size = x.size\n",
    "        x.size = x.left.size + x.right.size + 1\n",
    "\n",
    "    def right_rotate(self, y):\n",
    "        x = y.left\n",
    "        y.left = x.right\n",
    "        if x.right != self.nil:\n",
    "            x.right.parent = y\n",
    "        x.parent = y.parent\n",
    "        if y.parent is None:\n",
    "            self.root = x\n",
    "        elif y == y.parent.left:\n",
    "            y.parent.left = x\n",
    "        else:\n",
    "            y.parent.right = x\n",
    "        x.right = y\n",
    "        y.parent = x\n",
    "        x.size = y.size\n",
    "        y.size = y.left.size + y.right.size + 1\n",
    "\n",
    "    def insert(self, key):\n",
    "        new_node = RedBlackNode(key)\n",
    "        y = self.nil\n",
    "        x = self.root\n",
    "        while x != self.nil:\n",
    "            y = x\n",
    "            y.size += 1\n",
    "            if new_node.key < x.key:\n",
    "                x = x.left\n",
    "            else:\n",
    "                x = x.right\n",
    "        new_node.parent = y\n",
    "        if y is None:\n",
    "            self.root = new_node\n",
    "        elif new_node.key < y.key:\n",
    "            y.left = new_node\n",
    "        else:\n",
    "            y.right = new_node\n",
    "        new_node.left = self.nil\n",
    "        new_node.right = self.nil\n",
    "        new_node.color = 'RED'\n",
    "        self.insert_fixup(new_node)\n",
    "\n",
    "    def insert_fixup(self, node):\n",
    "        while node.parent.color == 'RED':\n",
    "            if node.parent == node.parent.parent.left:\n",
    "                uncle = node.parent.parent.right\n",
    "                if uncle.color == 'RED':\n",
    "                    node.parent.color = 'BLACK'\n",
    "                    uncle.color = 'BLACK'\n",
    "                    node.parent.parent.color = 'RED'\n",
    "                    node = node.parent.parent\n",
    "                else:\n",
    "                    if node == node.parent.right:\n",
    "                        node = node.parent\n",
    "                        self.left_rotate(node)\n",
    "                    node.parent.color = 'BLACK'\n",
    "                    node.parent.parent.color = 'RED'\n",
    "                    self.right_rotate(node.parent.parent)\n",
    "            else:\n",
    "                uncle = node.parent.parent.left\n",
    "                if uncle.color == 'RED':\n",
    "                    node.parent.color = 'BLACK'\n",
    "                    uncle.color = 'BLACK'\n",
    "                    node.parent.parent.color = 'RED'\n",
    "                    node = node.parent.parent\n",
    "                else:\n",
    "                    if node == node.parent.left:\n",
    "                        node = node.parent\n",
    "                        self.right_rotate(node)\n",
    "                    node.parent.color = 'BLACK'\n",
    "                    node.parent.parent.color = 'RED'\n",
    "                    self.left_rotate(node.parent.parent)\n",
    "        self.root.color = 'BLACK'\n",
    "\n",
    "    def size_of_subtree(self, node):\n",
    "        if node == self.nil:\n",
    "            return 0\n",
    "        return node.size\n",
    "\n",
    "# Example usage of the Red-Black Tree data structure with augmented information\n",
    "red_black_tree = RedBlackTree()\n",
    "keys = [5, 7, 3, 9, 2, 6, 4, 1, 8]\n",
    "for key in keys:\n",
    "    red_black_tree.insert(key)\n",
    "\n",
    "print(\"Red-Black Tree Traversal:\")\n",
    "print(\"Keys:\", red_black_tree.root.key)\n",
    "print(\"Left Subtree:\", red_black_tree.root.left.key)\n",
    "print(\"Right Subtree:\", red_black_tree.root.right.key)\n",
    "print(\"Left-Left Subtree:\", red_black_tree.root.left.left.key)\n",
    "print(\"Left-Right Subtree:\", red_black_tree.root.left.right.key)\n",
    "print(\"Right-Left Subtree:\", red_black_tree.root.right.left.key)\n",
    "print(\"Right-Right Subtree:\", red_black_tree.root.right.right.key)\n",
    "print(\"Left-Left-Left Subtree:\", red_black_tree.root.left.left.left.key)\n",
    "print(\"Left-Left-Right Subtree:\", red_black_tree.root.left.left.right.key)\n",
    "print(\"Left-Right-Left Subtree:\", red_black_tree.root.left.right.left.key)\n",
    "print(\"Left-Right-Right Subtree:\", red_black_tree.root.left.right.right.key)\n",
    "print(\"Right-Left-Left Subtree:\", red_black_tree.root.right.left.left.key)\n",
    "print(\"Right-Left-Right Subtree:\", red_black_tree.root.right.left.right.key)\n",
    "print(\"Right-Right-Left Subtree:\", red_black_tree.root.right.right.left.key)\n",
    "print(\"Right-Right-Right Subtree:\", red_black_tree.root.right.right.right.key)\n"
   ]
  },
  {
   "cell_type": "markdown",
   "id": "e034c3a4",
   "metadata": {},
   "source": [
    "### 250. Find the Zealous Numbers in a Range"
   ]
  },
  {
   "cell_type": "code",
   "execution_count": 1,
   "id": "223f6a76",
   "metadata": {},
   "outputs": [
    {
     "name": "stdout",
     "output_type": "stream",
     "text": [
      "Zealous numbers in the range [1, 100]: [12, 18, 20, 24, 30, 36, 40, 42, 48, 54, 56, 60, 66, 70, 72, 78, 80, 84, 88, 90, 96, 100]\n"
     ]
    }
   ],
   "source": [
    "def sum_of_divisors(num):\n",
    "    return sum(i for i in range(1, num // 2 + 1) if num % i == 0)\n",
    "\n",
    "def is_zealous_number(num):\n",
    "    return num < sum_of_divisors(num)\n",
    "\n",
    "def find_zealous_numbers_in_range(start, end):\n",
    "    zealous_numbers = [num for num in range(start, end + 1) if is_zealous_number(num)]\n",
    "    return zealous_numbers\n",
    "\n",
    "start_range = 1\n",
    "end_range = 100\n",
    "zealous_numbers = find_zealous_numbers_in_range(start_range, end_range)\n",
    "print(f\"Zealous numbers in the range [{start_range}, {end_range}]: {zealous_numbers}\")\n"
   ]
  },
  {
   "cell_type": "code",
   "execution_count": null,
   "id": "f54c2092",
   "metadata": {},
   "outputs": [],
   "source": []
  }
 ],
 "metadata": {
  "kernelspec": {
   "display_name": "Python 3 (ipykernel)",
   "language": "python",
   "name": "python3"
  },
  "language_info": {
   "codemirror_mode": {
    "name": "ipython",
    "version": 3
   },
   "file_extension": ".py",
   "mimetype": "text/x-python",
   "name": "python",
   "nbconvert_exporter": "python",
   "pygments_lexer": "ipython3",
   "version": "3.11.4"
  }
 },
 "nbformat": 4,
 "nbformat_minor": 5
}

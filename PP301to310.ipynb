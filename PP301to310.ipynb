{
 "cells": [
  {
   "cell_type": "markdown",
   "id": "631aef63",
   "metadata": {},
   "source": [
    "# Python Practice 301-310"
   ]
  },
  {
   "cell_type": "markdown",
   "id": "afc5e83c",
   "metadata": {},
   "source": [
    "## Here are the Python programs for the given objectives:"
   ]
  },
  {
   "cell_type": "markdown",
   "id": "f18ff04f",
   "metadata": {},
   "source": [
    "### 301. Generate a Random Maze with Custom Dimensions and Different Path Generation Algorithms"
   ]
  },
  {
   "cell_type": "code",
   "execution_count": 10,
   "id": "a9344659",
   "metadata": {},
   "outputs": [
    {
     "name": "stdout",
     "output_type": "stream",
     "text": [
      "          \n",
      "          \n",
      "          \n",
      "          \n",
      "          \n",
      "          \n",
      "          \n",
      "          \n",
      "          \n",
      "          \n"
     ]
    }
   ],
   "source": [
    "# You can use various maze generation algorithms like Recursive Backtracking, Prim's Algorithm, Kruskal's Algorithm, etc.\n",
    "# Here's an example of generating a random maze using Recursive Backtracking algorithm.\n",
    "\n",
    "import random\n",
    "\n",
    "def generate_maze_recursive_backtracking(width, height):\n",
    "    def create_grid(width, height):\n",
    "        return [[\"#\" for _ in range(width)] for _ in range(height)]\n",
    "\n",
    "    def get_neighbours(cell):\n",
    "        x, y = cell\n",
    "        neighbours = [(x - 1, y), (x + 1, y), (x, y - 1), (x, y + 1)]\n",
    "        return [neighbour for neighbour in neighbours if 0 <= neighbour[0] < width and 0 <= neighbour[1] < height]\n",
    "\n",
    "    def recursive_backtracking(cell):\n",
    "        grid[cell[1]][cell[0]] = \" \"  # Empty cell\n",
    "        neighbours = get_neighbours(cell)\n",
    "        random.shuffle(neighbours)\n",
    "        for neighbour in neighbours:\n",
    "            x, y = neighbour\n",
    "            if grid[y][x] == \"#\":\n",
    "                recursive_backtracking(neighbour)\n",
    "\n",
    "    grid = create_grid(width, height)\n",
    "    start_cell = (random.randint(0, width - 1), random.randint(0, height - 1))\n",
    "    recursive_backtracking(start_cell)\n",
    "    return grid\n",
    "\n",
    "width = 10  # Replace with the desired width of the maze\n",
    "height = 10  # Replace with the desired height of the maze\n",
    "maze = generate_maze_recursive_backtracking(width, height)\n",
    "for row in maze:\n",
    "    print(\"\".join(row))\n"
   ]
  },
  {
   "cell_type": "markdown",
   "id": "0ecf312c",
   "metadata": {},
   "source": [
    "### 302. Convert Decimal to Balanced Ternary Using Bit Manipulation"
   ]
  },
  {
   "cell_type": "code",
   "execution_count": 9,
   "id": "b4985331",
   "metadata": {},
   "outputs": [
    {
     "name": "stdout",
     "output_type": "stream",
     "text": [
      "Balanced ternary representation of 21 is: 1-10\n"
     ]
    }
   ],
   "source": [
    "def convert_decimal_to_balanced_ternary(number):\n",
    "    result = []\n",
    "    while number != 0:\n",
    "        remainder = number % 3\n",
    "        if remainder == 2:\n",
    "            number = number // 3 + 1\n",
    "            result.append(\"-\")\n",
    "        else:\n",
    "            number //= 3\n",
    "            result.append(str(remainder))\n",
    "    if not result:\n",
    "        result.append(\"0\")\n",
    "    return \"\".join(result[::-1])\n",
    "\n",
    "decimal_number = 21  # Replace with the decimal number you want to convert\n",
    "balanced_ternary = convert_decimal_to_balanced_ternary(decimal_number)\n",
    "print(f\"Balanced ternary representation of {decimal_number} is: {balanced_ternary}\")\n"
   ]
  },
  {
   "cell_type": "markdown",
   "id": "d66e82e5",
   "metadata": {},
   "source": [
    "### 303. Check if a Number is a Generalized Fibonacci Number"
   ]
  },
  {
   "cell_type": "code",
   "execution_count": 8,
   "id": "f45c6046",
   "metadata": {},
   "outputs": [
    {
     "name": "stdout",
     "output_type": "stream",
     "text": [
      "8 is a generalized Fibonacci number.\n"
     ]
    }
   ],
   "source": [
    "def is_perfect_square(number):\n",
    "    return int(number**0.5)**2 == number\n",
    "\n",
    "def is_generalized_fibonacci_number(number):\n",
    "    return is_perfect_square(5 * number**2 + 4) or is_perfect_square(5 * number**2 - 4)\n",
    "\n",
    "number = 8  # Replace with the number you want to check\n",
    "result = is_generalized_fibonacci_number(number)\n",
    "print(f\"{number} is {'a' if result else 'not a'} generalized Fibonacci number.\")\n"
   ]
  },
  {
   "cell_type": "markdown",
   "id": "38cd4249",
   "metadata": {},
   "source": [
    "### 304. Calculate the Volume of a Frustum of a Reuleaux Octahedron"
   ]
  },
  {
   "cell_type": "code",
   "execution_count": 7,
   "id": "e2099c2a",
   "metadata": {},
   "outputs": [
    {
     "name": "stdout",
     "output_type": "stream",
     "text": [
      "Volume of the frustum of the Reuleaux octahedron with larger radius 5, smaller radius 3, and height 10 is: 1026.25\n"
     ]
    }
   ],
   "source": [
    "import math\n",
    "\n",
    "def calculate_volume_frustum_reuleaux_octahedron(radius1, radius2, height):\n",
    "    return (2 / 3) * math.pi * height * (radius1**2 + radius2**2 + radius1 * radius2)\n",
    "\n",
    "radius1 = 5  # Replace with the larger radius of the frustum of the Reuleaux octahedron\n",
    "radius2 = 3  # Replace with the smaller radius of the frustum of the Reuleaux octahedron\n",
    "height = 10  # Replace with the height of the frustum of the Reuleaux octahedron\n",
    "volume = calculate_volume_frustum_reuleaux_octahedron(radius1, radius2, height)\n",
    "print(f\"Volume of the frustum of the Reuleaux octahedron with larger radius {radius1}, smaller radius {radius2}, and height {height} is: {volume:.2f}\")\n"
   ]
  },
  {
   "cell_type": "markdown",
   "id": "a02ea8d7",
   "metadata": {},
   "source": [
    "### 305. Implement Quick Sort Algorithm on a Doubly Linked List"
   ]
  },
  {
   "cell_type": "code",
   "execution_count": 6,
   "id": "c8fe5886",
   "metadata": {},
   "outputs": [
    {
     "ename": "AttributeError",
     "evalue": "'NoneType' object has no attribute 'val'",
     "output_type": "error",
     "traceback": [
      "\u001b[0;31m---------------------------------------------------------------------------\u001b[0m",
      "\u001b[0;31mAttributeError\u001b[0m                            Traceback (most recent call last)",
      "Cell \u001b[0;32mIn[6], line 49\u001b[0m\n\u001b[1;32m     46\u001b[0m node1\u001b[38;5;241m.\u001b[39mnext \u001b[38;5;241m=\u001b[39m node3\n\u001b[1;32m     47\u001b[0m node3\u001b[38;5;241m.\u001b[39mprev \u001b[38;5;241m=\u001b[39m node1\n\u001b[0;32m---> 49\u001b[0m sorted_head \u001b[38;5;241m=\u001b[39m quick_sort_linked_list(head)\n\u001b[1;32m     51\u001b[0m \u001b[38;5;66;03m# Print the sorted linked list\u001b[39;00m\n\u001b[1;32m     52\u001b[0m \u001b[38;5;28;01mwhile\u001b[39;00m sorted_head:\n",
      "Cell \u001b[0;32mIn[6], line 32\u001b[0m, in \u001b[0;36mquick_sort_linked_list\u001b[0;34m(head)\u001b[0m\n\u001b[1;32m     30\u001b[0m \u001b[38;5;28;01mwhile\u001b[39;00m tail\u001b[38;5;241m.\u001b[39mnext:\n\u001b[1;32m     31\u001b[0m     tail \u001b[38;5;241m=\u001b[39m tail\u001b[38;5;241m.\u001b[39mnext\n\u001b[0;32m---> 32\u001b[0m sort(head, tail)\n\u001b[1;32m     33\u001b[0m \u001b[38;5;28;01mreturn\u001b[39;00m head\n",
      "Cell \u001b[0;32mIn[6], line 26\u001b[0m, in \u001b[0;36mquick_sort_linked_list.<locals>.sort\u001b[0;34m(start, end)\u001b[0m\n\u001b[1;32m     24\u001b[0m     \u001b[38;5;28;01mreturn\u001b[39;00m\n\u001b[1;32m     25\u001b[0m partition_node \u001b[38;5;241m=\u001b[39m partition(start, end)\n\u001b[0;32m---> 26\u001b[0m sort(start, partition_node\u001b[38;5;241m.\u001b[39mprev)\n\u001b[1;32m     27\u001b[0m sort(partition_node\u001b[38;5;241m.\u001b[39mnext, end)\n",
      "Cell \u001b[0;32mIn[6], line 26\u001b[0m, in \u001b[0;36mquick_sort_linked_list.<locals>.sort\u001b[0;34m(start, end)\u001b[0m\n\u001b[1;32m     24\u001b[0m     \u001b[38;5;28;01mreturn\u001b[39;00m\n\u001b[1;32m     25\u001b[0m partition_node \u001b[38;5;241m=\u001b[39m partition(start, end)\n\u001b[0;32m---> 26\u001b[0m sort(start, partition_node\u001b[38;5;241m.\u001b[39mprev)\n\u001b[1;32m     27\u001b[0m sort(partition_node\u001b[38;5;241m.\u001b[39mnext, end)\n",
      "Cell \u001b[0;32mIn[6], line 25\u001b[0m, in \u001b[0;36mquick_sort_linked_list.<locals>.sort\u001b[0;34m(start, end)\u001b[0m\n\u001b[1;32m     23\u001b[0m \u001b[38;5;28;01mif\u001b[39;00m start \u001b[38;5;241m==\u001b[39m end:\n\u001b[1;32m     24\u001b[0m     \u001b[38;5;28;01mreturn\u001b[39;00m\n\u001b[0;32m---> 25\u001b[0m partition_node \u001b[38;5;241m=\u001b[39m partition(start, end)\n\u001b[1;32m     26\u001b[0m sort(start, partition_node\u001b[38;5;241m.\u001b[39mprev)\n\u001b[1;32m     27\u001b[0m sort(partition_node\u001b[38;5;241m.\u001b[39mnext, end)\n",
      "Cell \u001b[0;32mIn[6], line 15\u001b[0m, in \u001b[0;36mquick_sort_linked_list.<locals>.partition\u001b[0;34m(start, end)\u001b[0m\n\u001b[1;32m     13\u001b[0m current \u001b[38;5;241m=\u001b[39m start\n\u001b[1;32m     14\u001b[0m \u001b[38;5;28;01mwhile\u001b[39;00m start \u001b[38;5;241m!=\u001b[39m end:\n\u001b[0;32m---> 15\u001b[0m     \u001b[38;5;28;01mif\u001b[39;00m start\u001b[38;5;241m.\u001b[39mval \u001b[38;5;241m<\u001b[39m pivot\u001b[38;5;241m.\u001b[39mval:\n\u001b[1;32m     16\u001b[0m         start\u001b[38;5;241m.\u001b[39mval, current\u001b[38;5;241m.\u001b[39mval \u001b[38;5;241m=\u001b[39m current\u001b[38;5;241m.\u001b[39mval, start\u001b[38;5;241m.\u001b[39mval\n\u001b[1;32m     17\u001b[0m         current \u001b[38;5;241m=\u001b[39m current\u001b[38;5;241m.\u001b[39mnext\n",
      "\u001b[0;31mAttributeError\u001b[0m: 'NoneType' object has no attribute 'val'"
     ]
    }
   ],
   "source": [
    "class ListNode:\n",
    "    def __init__(self, val=0, prev=None, next=None):\n",
    "        self.val = val\n",
    "        self.prev = prev\n",
    "        self.next = next\n",
    "\n",
    "def quick_sort_linked_list(head):\n",
    "    if not head or not head.next:\n",
    "        return head\n",
    "\n",
    "    def partition(start, end):\n",
    "        pivot = end\n",
    "        current = start\n",
    "        while start != end:\n",
    "            if start.val < pivot.val:\n",
    "                start.val, current.val = current.val, start.val\n",
    "                current = current.next\n",
    "            start = start.next\n",
    "        pivot.val, current.val = current.val, pivot.val\n",
    "        return current\n",
    "\n",
    "    def sort(start, end):\n",
    "        if start == end:\n",
    "            return\n",
    "        partition_node = partition(start, end)\n",
    "        sort(start, partition_node.prev)\n",
    "        sort(partition_node.next, end)\n",
    "\n",
    "    tail = head\n",
    "    while tail.next:\n",
    "        tail = tail.next\n",
    "    sort(head, tail)\n",
    "    return head\n",
    "\n",
    "# Example usage of quick_sort_linked_list\n",
    "# Create a doubly linked list: 4 <-> 2 <-> 1 <-> 3\n",
    "head = ListNode(4)\n",
    "node2 = ListNode(2)\n",
    "node1 = ListNode(1)\n",
    "node3 = ListNode(3)\n",
    "\n",
    "head.next = node2\n",
    "node2.prev = head\n",
    "node2.next = node1\n",
    "node1.prev = node2\n",
    "node1.next = node3\n",
    "node3.prev = node1\n",
    "\n",
    "sorted_head = quick_sort_linked_list(head)\n",
    "\n",
    "# Print the sorted linked list\n",
    "while sorted_head:\n",
    "    print(sorted_head.val, end=\" \")\n",
    "    sorted_head = sorted_head.next\n"
   ]
  },
  {
   "cell_type": "markdown",
   "id": "fd9a4eb2",
   "metadata": {},
   "source": [
    "### 306. Find the Gaussian Numbers in a Range"
   ]
  },
  {
   "cell_type": "code",
   "execution_count": 5,
   "id": "3c7d5e35",
   "metadata": {},
   "outputs": [
    {
     "name": "stdout",
     "output_type": "stream",
     "text": [
      "Gaussian numbers in the range:\n",
      "-1 + 0i\n",
      "0 + -1i\n",
      "0 + 1i\n",
      "1 + 0i\n"
     ]
    }
   ],
   "source": [
    "def is_gaussian_number(a, b):\n",
    "    return a * a + b * b == 1\n",
    "\n",
    "def find_gaussian_numbers(max_real_part, max_imaginary_part):\n",
    "    gaussian_numbers = []\n",
    "    for a in range(-max_real_part, max_real_part + 1):\n",
    "        for b in range(-max_imaginary_part, max_imaginary_part + 1):\n",
    "            if is_gaussian_number(a, b):\n",
    "                gaussian_numbers.append((a, b))\n",
    "    return gaussian_numbers\n",
    "\n",
    "max_real_part = 5  # Replace with the maximum real part for the range\n",
    "max_imaginary_part = 5  # Replace with the maximum imaginary part for the range\n",
    "result = find_gaussian_numbers(max_real_part, max_imaginary_part)\n",
    "print(\"Gaussian numbers in the range:\")\n",
    "for a, b in result:\n",
    "    print(f\"{a} + {b}i\")\n"
   ]
  },
  {
   "cell_type": "markdown",
   "id": "1b38e7ef",
   "metadata": {},
   "source": [
    "### 307. Calculate the Perimeter of a Reuleaux Hexagon Star with Rounded Corners, Right Alignment, and Custom Size"
   ]
  },
  {
   "cell_type": "code",
   "execution_count": 4,
   "id": "232687d9",
   "metadata": {},
   "outputs": [
    {
     "name": "stdout",
     "output_type": "stream",
     "text": [
      "Perimeter of the Reuleaux hexagon star with larger semi-axis 4, smaller semi-axis 2, height 3, and rounded corners is: 55.88\n"
     ]
    }
   ],
   "source": [
    "import math\n",
    "\n",
    "def calculate_perimeter_reuleaux_hexagon_star(a, b, h):\n",
    "    # For a Reuleaux hexagon star with rounded corners, the perimeter can be calculated using the following formula:\n",
    "    # Perimeter = 6 * (a + b) + 2 * math.pi * h + 6 * (h - math.sqrt(a * b))\n",
    "    return 6 * (a + b) + 2 * math.pi * h + 6 * (h - math.sqrt(a * b))\n",
    "\n",
    "a = 4  # Replace with the larger semi-axis of the Reuleaux hexagon star\n",
    "b = 2  # Replace with the smaller semi-axis of the Reuleaux hexagon star\n",
    "h = 3  # Replace with the height of the Reuleaux hexagon star\n",
    "perimeter = calculate_perimeter_reuleaux_hexagon_star(a, b, h)\n",
    "print(f\"Perimeter of the Reuleaux hexagon star with larger semi-axis {a}, smaller semi-axis {b}, height {h}, and rounded corners is: {perimeter:.2f}\")\n"
   ]
  },
  {
   "cell_type": "markdown",
   "id": "f76c6c0f",
   "metadata": {},
   "source": [
    "### 308. Print the Pattern of a Hollow Diamond Star with Right Alignment and Custom Size"
   ]
  },
  {
   "cell_type": "code",
   "execution_count": 3,
   "id": "b5c17cd7",
   "metadata": {},
   "outputs": [
    {
     "name": "stdout",
     "output_type": "stream",
     "text": [
      "Hollow Diamond Star Pattern with Right Alignment:\n",
      "    * \n",
      "   * * \n",
      "  * * * \n",
      " * * * * \n",
      "* * * * * \n",
      " * * * * \n",
      "  * * * \n",
      "   * * \n",
      "    * \n"
     ]
    }
   ],
   "source": [
    "def print_hollow_diamond_star_right_alignment(rows):\n",
    "    for i in range(rows):\n",
    "        print(\" \" * (rows - i - 1) + \"* \" * (i + 1))\n",
    "    for i in range(rows - 2, -1, -1):\n",
    "        print(\" \" * (rows - i - 1) + \"* \" * (i + 1))\n",
    "\n",
    "rows = 5  # Replace with the desired number of rows for the hollow diamond star\n",
    "print(\"Hollow Diamond Star Pattern with Right Alignment:\")\n",
    "print_hollow_diamond_star_right_alignment(rows)\n"
   ]
  },
  {
   "cell_type": "markdown",
   "id": "4ed211b1",
   "metadata": {},
   "source": [
    "### 309. Generate a Random Word Cloud from Text Data with Custom Word Frequency"
   ]
  },
  {
   "cell_type": "code",
   "execution_count": 1,
   "id": "291be1af",
   "metadata": {},
   "outputs": [
    {
     "ename": "ModuleNotFoundError",
     "evalue": "No module named 'wordcloud'",
     "output_type": "error",
     "traceback": [
      "\u001b[0;31m---------------------------------------------------------------------------\u001b[0m",
      "\u001b[0;31mModuleNotFoundError\u001b[0m                       Traceback (most recent call last)",
      "Cell \u001b[0;32mIn[1], line 1\u001b[0m\n\u001b[0;32m----> 1\u001b[0m \u001b[38;5;28;01mfrom\u001b[39;00m \u001b[38;5;21;01mwordcloud\u001b[39;00m \u001b[38;5;28;01mimport\u001b[39;00m WordCloud\n\u001b[1;32m      2\u001b[0m \u001b[38;5;28;01mimport\u001b[39;00m \u001b[38;5;21;01mmatplotlib\u001b[39;00m\u001b[38;5;21;01m.\u001b[39;00m\u001b[38;5;21;01mpyplot\u001b[39;00m \u001b[38;5;28;01mas\u001b[39;00m \u001b[38;5;21;01mplt\u001b[39;00m\n\u001b[1;32m      4\u001b[0m text_data \u001b[38;5;241m=\u001b[39m \u001b[38;5;124m\"\u001b[39m\u001b[38;5;124mReplace this with your text data containing the words you want to visualize in the word cloud.\u001b[39m\u001b[38;5;124m\"\u001b[39m\n",
      "\u001b[0;31mModuleNotFoundError\u001b[0m: No module named 'wordcloud'"
     ]
    }
   ],
   "source": [
    "from wordcloud import WordCloud\n",
    "import matplotlib.pyplot as plt\n",
    "\n",
    "text_data = \"Replace this with your text data containing the words you want to visualize in the word cloud.\"\n",
    "word_frequency = {\n",
    "    \"word1\": 50,  # Replace \"word1\" with the actual word and 50 with its frequency in the text_data\n",
    "    \"word2\": 30,\n",
    "    \"word3\": 20,\n",
    "    # Add more words and their frequencies as needed\n",
    "}\n",
    "\n",
    "wordcloud = WordCloud(width=800, height=400).generate_from_frequencies(word_frequency)\n",
    "plt.figure(figsize=(10, 5))\n",
    "plt.imshow(wordcloud, interpolation=\"bilinear\")\n",
    "plt.axis(\"off\")\n",
    "plt.show()\n"
   ]
  },
  {
   "cell_type": "markdown",
   "id": "63377fc4",
   "metadata": {},
   "source": [
    "### 310. Convert Decimal to Roman Numeral Using Iterative Approach and Custom Numerals"
   ]
  },
  {
   "cell_type": "code",
   "execution_count": 2,
   "id": "4653a496",
   "metadata": {},
   "outputs": [
    {
     "name": "stdout",
     "output_type": "stream",
     "text": [
      "Roman numeral representation of 2021 is: MMXXI\n"
     ]
    }
   ],
   "source": [
    "def convert_decimal_to_roman_iterative(decimal_number, numerals):\n",
    "    roman_numerals = \"\"\n",
    "    for value, numeral in numerals:\n",
    "        while decimal_number >= value:\n",
    "            roman_numerals += numeral\n",
    "            decimal_number -= value\n",
    "    return roman_numerals\n",
    "\n",
    "decimal_number = 2021  # Replace with the decimal number you want to convert\n",
    "custom_numerals = [(1000, \"M\"), (900, \"CM\"), (500, \"D\"), (400, \"CD\"), (100, \"C\"), (90, \"XC\"), (50, \"L\"), (40, \"XL\"),\n",
    "                   (10, \"X\"), (9, \"IX\"), (5, \"V\"), (4, \"IV\"), (1, \"I\")]\n",
    "roman_numeral = convert_decimal_to_roman_iterative(decimal_number, custom_numerals)\n",
    "print(f\"Roman numeral representation of {decimal_number} is: {roman_numeral}\")\n"
   ]
  },
  {
   "cell_type": "code",
   "execution_count": null,
   "id": "4ae9c316",
   "metadata": {},
   "outputs": [],
   "source": []
  }
 ],
 "metadata": {
  "kernelspec": {
   "display_name": "Python 3 (ipykernel)",
   "language": "python",
   "name": "python3"
  },
  "language_info": {
   "codemirror_mode": {
    "name": "ipython",
    "version": 3
   },
   "file_extension": ".py",
   "mimetype": "text/x-python",
   "name": "python",
   "nbconvert_exporter": "python",
   "pygments_lexer": "ipython3",
   "version": "3.11.4"
  }
 },
 "nbformat": 4,
 "nbformat_minor": 5
}

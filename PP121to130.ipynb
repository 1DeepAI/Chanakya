{
 "cells": [
  {
   "cell_type": "markdown",
   "id": "1fca3ff7",
   "metadata": {},
   "source": [
    "# Python Practice 121-130"
   ]
  },
  {
   "cell_type": "markdown",
   "id": "9f5405f9",
   "metadata": {},
   "source": [
    "## Here are the Python programs for each of the objectives along with the associated algorithm, mathematical calculations, and string manipulations:[Please rectify error in 121 and 129 codes]"
   ]
  },
  {
   "cell_type": "markdown",
   "id": "c25df228",
   "metadata": {},
   "source": [
    "### 121. Implement AVL Tree Data Structure"
   ]
  },
  {
   "cell_type": "code",
   "execution_count": 11,
   "id": "1319e614",
   "metadata": {},
   "outputs": [
    {
     "ename": "SyntaxError",
     "evalue": "invalid syntax (4125042516.py, line 1)",
     "output_type": "error",
     "traceback": [
      "\u001b[0;36m  Cell \u001b[0;32mIn[11], line 1\u001b[0;36m\u001b[0m\n\u001b[0;31m    cclass TreeNode:\u001b[0m\n\u001b[0m           ^\u001b[0m\n\u001b[0;31mSyntaxError\u001b[0m\u001b[0;31m:\u001b[0m invalid syntax\n"
     ]
    }
   ],
   "source": [
    "cclass TreeNode:\n",
    "    def __init__(self, key):\n",
    "        self.key = key\n",
    "        self.height = 1\n",
    "        self.left = None\n",
    "        self.right = None\n",
    "\n",
    "class AVLTree:\n",
    "    def __init__(self):\n",
    "        self.root = None\n",
    "\n",
    "    def height(self, node):\n",
    "        if not node:\n",
    "            return 0\n",
    "        return node.height\n",
    "\n",
    "    def update_height(self, node):\n",
    "        node.height = max(self.height(node.left), self.height(node.right)) + 1\n",
    "\n",
    "    def balance_factor(self, node):\n",
    "        if not node:\n",
    "            return 0\n",
    "        return self.height(node.left) - self.height(node.right)\n",
    "\n",
    "    def rotate_left(self, z):\n",
    "        y = z.right\n",
    "        z.right = y.left\n",
    "        y.left = z\n",
    "        self.update_height(z)\n",
    "        self.update_height(y)\n",
    "        return y\n",
    "\n",
    "    def rotate_right(self, y):\n",
    "        x = y.left\n",
    "        y.left = x.right\n",
    "        x.right = y\n",
    "        self.update_height(y)\n",
    "        self.update_height(x)\n",
    "        return x\n",
    "\n",
    "    def rebalance(self, node):\n",
    "        self.update_height(node)\n",
    "        if self.balance_factor(node) > 1:\n",
    "            if self.balance_factor(node.left) < 0:\n",
    "                node.left = self.rotate_left(node.left)\n",
    "            return self.rotate_right(node)\n",
    "        elif self.balance_factor(node) < -1:\n",
    "            if self.balance_factor(node.right) > 0:\n",
    "                node.right = self.rotate_right(node.right)\n",
    "            return self.rotate_left(node)\n",
    "        return node\n",
    "\n",
    "    def insert(self, key):\n",
    "        self.root = self._insert_recursive(self.root, key)\n",
    "\n",
    "    def _insert_recursive(self, node, key):\n",
    "        if not node:\n",
    "            return TreeNode(key)\n",
    "        if key < node.key:\n",
    "            node.left = self._insert_recursive(node.left, key)\n",
    "        else:\n",
    "            node.right = self._insert_recursive(node.right, key)\n",
    "        return self.rebalance(node)\n",
    "\n",
    "    def search(self, key):\n",
    "        return self._search_recursive(self.root, key)\n",
    "\n",
    "    def _search_recursive(self, node, key):\n",
    "        if not node or node.key == key:\n",
    "            return node\n",
    "        if key < node.key:\n",
    "            return self._search_recursive(node.left, key)\n",
    "        else:\n",
    "            return self._search_recursive(node.right, key)\n",
    "\n",
    "# Example usage of the AVL Tree data structure\n",
    "avl_tree = AVLTree()\n",
    "avl_tree.insert(50)\n",
    "avl_tree.insert(30)\n",
    "avl_tree.insert(70)\n",
    "avl_tree.insert(20)\n",
    "avl_tree.insert(40)\n",
    "avl_tree.insert(60)\n",
    "avl_tree.insert(80)\n",
    "\n",
    "search_key = 40\n",
    "if avl_tree.search(search_key):\n",
    "    print(f\"{search_key} is present in the AVL Tree.\")\n",
    "else:\n",
    "    print(f\"{search_key} is not present in the AVL Tree.\")\n"
   ]
  },
  {
   "cell_type": "markdown",
   "id": "81e3ce7e",
   "metadata": {},
   "source": [
    "### 122. Find the Smith Numbers in a Range"
   ]
  },
  {
   "cell_type": "code",
   "execution_count": 10,
   "id": "f7811028",
   "metadata": {},
   "outputs": [
    {
     "name": "stdout",
     "output_type": "stream",
     "text": [
      "Smith numbers in the range 1 to 1000: [2, 3, 4, 5, 7, 27, 378, 576, 588, 648, 729]\n"
     ]
    }
   ],
   "source": [
    "def prime_factors(n):\n",
    "    factors = []\n",
    "    i = 2\n",
    "    while i * i <= n:\n",
    "        if n % i:\n",
    "            i += 1\n",
    "        else:\n",
    "            n //= i\n",
    "            factors.append(i)\n",
    "    if n > 1:\n",
    "        factors.append(n)\n",
    "    return factors\n",
    "\n",
    "def sum_of_digits(n):\n",
    "    return sum(int(digit) for digit in str(n))\n",
    "\n",
    "def is_smith_number(num):\n",
    "    prime_factors_sum = sum(prime_factors(num))\n",
    "    return prime_factors_sum == sum_of_digits(num)\n",
    "\n",
    "def find_smith_numbers(start, end):\n",
    "    smith_numbers = [num for num in range(start, end+1) if is_smith_number(num)]\n",
    "    return smith_numbers\n",
    "\n",
    "start_range, end_range = 1, 1000\n",
    "smith_numbers_list = find_smith_numbers(start_range, end_range)\n",
    "print(f\"Smith numbers in the range {start_range} to {end_range}: {smith_numbers_list}\")\n"
   ]
  },
  {
   "cell_type": "markdown",
   "id": "c96723a9",
   "metadata": {},
   "source": [
    "### 123. Calculate the Perimeter of a Sphere"
   ]
  },
  {
   "cell_type": "code",
   "execution_count": 9,
   "id": "bae789db",
   "metadata": {},
   "outputs": [
    {
     "name": "stdout",
     "output_type": "stream",
     "text": [
      "The perimeter of the sphere with radius 5 is 31.42.\n"
     ]
    }
   ],
   "source": [
    "import math\n",
    "\n",
    "def perimeter_of_sphere(radius):\n",
    "    return 2 * math.pi * radius\n",
    "\n",
    "radius = 5\n",
    "perimeter = perimeter_of_sphere(radius)\n",
    "print(f\"The perimeter of the sphere with radius {radius} is {perimeter:.2f}.\")\n"
   ]
  },
  {
   "cell_type": "markdown",
   "id": "1ee85d96",
   "metadata": {},
   "source": [
    "### 124. Print the Pattern of a Floyd's Triangle"
   ]
  },
  {
   "cell_type": "code",
   "execution_count": 8,
   "id": "15d5388f",
   "metadata": {},
   "outputs": [
    {
     "name": "stdout",
     "output_type": "stream",
     "text": [
      "1 \n",
      "2 3 \n",
      "4 5 6 \n",
      "7 8 9 10 \n",
      "11 12 13 14 15 \n"
     ]
    }
   ],
   "source": [
    "def print_floyds_triangle(n):\n",
    "    num = 1\n",
    "    for i in range(1, n+1):\n",
    "        for j in range(1, i+1):\n",
    "            print(num, end=\" \")\n",
    "            num += 1\n",
    "        print()\n",
    "\n",
    "rows = 5\n",
    "print_floyds_triangle(rows)\n"
   ]
  },
  {
   "cell_type": "markdown",
   "id": "abc6c636",
   "metadata": {},
   "source": [
    "### 125. Generate a Random Password with Required Complexity"
   ]
  },
  {
   "cell_type": "code",
   "execution_count": 7,
   "id": "209664b9",
   "metadata": {},
   "outputs": [
    {
     "name": "stdout",
     "output_type": "stream",
     "text": [
      "Generated Random Password with required complexity: IG;Y<\\'gpxSD\n"
     ]
    }
   ],
   "source": [
    "import random\n",
    "import string\n",
    "\n",
    "def generate_random_password_complex(length, requires_digits=True, requires_special_chars=True):\n",
    "    characters = string.ascii_letters\n",
    "    if requires_digits:\n",
    "        characters += string.digits\n",
    "    if requires_special_chars:\n",
    "        characters += string.punctuation\n",
    "    random_password = ''.join(random.choice(characters) for _ in range(length))\n",
    "    return random_password\n",
    "\n",
    "password_length = 12\n",
    "password_requires_digits = True\n",
    "password_requires_special_chars = True\n",
    "random_password = generate_random_password_complex(password_length, password_requires_digits, password_requires_special_chars)\n",
    "print(f\"Generated Random Password with required complexity: {random_password}\")\n"
   ]
  },
  {
   "cell_type": "markdown",
   "id": "0bc9008a",
   "metadata": {},
   "source": [
    "### 126. Convert Decimal to Base-N (N < 10)"
   ]
  },
  {
   "cell_type": "code",
   "execution_count": 6,
   "id": "dec9ac5d",
   "metadata": {},
   "outputs": [
    {
     "name": "stdout",
     "output_type": "stream",
     "text": [
      "The base-5 representation of 42 is 132.\n"
     ]
    }
   ],
   "source": [
    "def decimal_to_base_n(num, base):\n",
    "    if num == 0:\n",
    "        return \"0\"\n",
    "    result = \"\"\n",
    "    while num > 0:\n",
    "        digit = num % base\n",
    "        result = str(digit) + result\n",
    "        num //= base\n",
    "    return result\n",
    "\n",
    "decimal_num = 42\n",
    "base = 5\n",
    "base_n_num = decimal_to_base_n(decimal_num, base)\n",
    "print(f\"The base-{base} representation of {decimal_num} is {base_n_num}.\")\n"
   ]
  },
  {
   "cell_type": "markdown",
   "id": "ea78a424",
   "metadata": {},
   "source": [
    "### 127. Check if a Number is a Perfect Square"
   ]
  },
  {
   "cell_type": "code",
   "execution_count": 5,
   "id": "df92738c",
   "metadata": {},
   "outputs": [
    {
     "name": "stdout",
     "output_type": "stream",
     "text": [
      "25 is a perfect square.\n"
     ]
    }
   ],
   "source": [
    "def is_perfect_square(num):\n",
    "    square_root = int(num ** 0.5)\n",
    "    return square_root * square_root == num\n",
    "\n",
    "number = 25\n",
    "if is_perfect_square(number):\n",
    "    print(f\"{number} is a perfect square.\")\n",
    "else:\n",
    "    print(f\"{number} is not a perfect square.\")\n"
   ]
  },
  {
   "cell_type": "markdown",
   "id": "9d61318a",
   "metadata": {},
   "source": [
    "### 128. Calculate the Volume of a Cylinder"
   ]
  },
  {
   "cell_type": "code",
   "execution_count": 4,
   "id": "219793ea",
   "metadata": {},
   "outputs": [
    {
     "name": "stdout",
     "output_type": "stream",
     "text": [
      "The volume of the cylinder with radius 5 and height 8 is 628.32.\n"
     ]
    }
   ],
   "source": [
    "import math\n",
    "\n",
    "def volume_of_cylinder(radius, height):\n",
    "    return math.pi * radius ** 2 * height\n",
    "\n",
    "radius, height = 5, 8\n",
    "volume = volume_of_cylinder(radius, height)\n",
    "print(f\"The volume of the cylinder with radius {radius} and height {height} is {volume:.2f}.\")\n"
   ]
  },
  {
   "cell_type": "markdown",
   "id": "a3ca515b",
   "metadata": {},
   "source": [
    "### 129. Implement Red-Black Tree Data Structure"
   ]
  },
  {
   "cell_type": "code",
   "execution_count": 3,
   "id": "59774103",
   "metadata": {},
   "outputs": [
    {
     "ename": "IndentationError",
     "evalue": "unexpected indent (1059941041.py, line 5)",
     "output_type": "error",
     "traceback": [
      "\u001b[0;36m  Cell \u001b[0;32mIn[3], line 5\u001b[0;36m\u001b[0m\n\u001b[0;31m    def left_rotate(self, node):\u001b[0m\n\u001b[0m    ^\u001b[0m\n\u001b[0;31mIndentationError\u001b[0m\u001b[0;31m:\u001b[0m unexpected indent\n"
     ]
    }
   ],
   "source": [
    "     def __init__(self):\n",
    "        self.nil_node = TreeNode(None, \"black\")\n",
    "        self.root = self.nil_node\n",
    "\n",
    "    def left_rotate(self, node):\n",
    "        y = node.right\n",
    "        node.right = y.left\n",
    "        if y.left != self.nil_node:\n",
    "            y.left.parent = node\n",
    "        y.parent = node.parent\n",
    "        if node.parent == self.nil_node:\n",
    "            self.root = y\n",
    "        elif node == node.parent.left:\n",
    "            node.parent.left = y\n",
    "        else:\n",
    "            node.parent.right = y\n",
    "        y.left = node\n",
    "        node.parent = y\n",
    "\n",
    "    def right_rotate(self, node):\n",
    "        y = node.left\n",
    "        node.left = y.right\n",
    "        if y.right != self.nil_node:\n",
    "            y.right.parent = node\n",
    "        y.parent = node.parent\n",
    "        if node.parent == self.nil_node:\n",
    "            self.root = y\n",
    "        elif node == node.parent.left:\n",
    "            node.parent.left = y\n",
    "        else:\n",
    "            node.parent.right = y\n",
    "        y.right = node\n",
    "        node.parent = y\n",
    "\n",
    "    def insert(self, key):\n",
    "        new_node = TreeNode(key)\n",
    "        y = self.nil_node\n",
    "        x = self.root\n",
    "        while x != self.nil_node:\n",
    "            y = x\n",
    "            if key < x.key:\n",
    "                x = x.left\n",
    "            else:\n",
    "                x = x.right\n",
    "        new_node.parent = y\n",
    "        if y == self.nil_node:\n",
    "            self.root = new_node\n",
    "        elif key < y.key:\n",
    "            y.left = new_node\n",
    "        else:\n",
    "            y.right = new_node\n",
    "        new_node.left = self.nil_node\n",
    "        new_node.right = self.nil_node\n",
    "        new_node.color = \"red\"\n",
    "        self.insert_fixup(new_node)\n",
    "\n",
    "    def insert_fixup(self, node):\n",
    "        while node.parent.color == \"red\":\n",
    "            if node.parent == node.parent.parent.left:\n",
    "                y = node.parent.parent.right\n",
    "                if y.color == \"red\":\n",
    "                    node.parent.color = \"black\"\n",
    "                    y.color = \"black\"\n",
    "                    node.parent.parent.color = \"red\"\n",
    "                    node = node.parent.parent\n",
    "                else:\n",
    "                    if node == node.parent.right:\n",
    "                        node = node.parent\n",
    "                        self.left_rotate(node)\n",
    "                    node.parent.color = \"black\"\n",
    "                    node.parent.parent.color = \"red\"\n",
    "                    self.right_rotate(node.parent.parent)\n",
    "            else:\n",
    "                y = node.parent.parent.left\n",
    "                if y.color == \"red\":\n",
    "                    node.parent.color = \"black\"\n",
    "                    y.color = \"black\"\n",
    "                    node.parent.parent.color = \"red\"\n",
    "                    node = node.parent.parent\n",
    "                else:\n",
    "                    if node == node.parent.left:\n",
    "                        node = node.parent\n",
    "                        self.right_rotate(node)\n",
    "                    node.parent.color = \"black\"\n",
    "                    node.parent.parent.color = \"red\"\n",
    "                    self.left_rotate(node.parent.parent)\n",
    "        self.root.color = \"black\"\n",
    "\n",
    "    def search(self, key):\n",
    "        return self._search_recursive(self.root, key)\n",
    "\n",
    "    def _search_recursive(self, node, key):\n",
    "        if node == self.nil_node or key == node.key:\n",
    "            return node\n",
    "        if key < node.key:\n",
    "            return self._search_recursive(node.left, key)\n",
    "        else:\n",
    "            return self._search_recursive(node.right, key)\n",
    "\n",
    "# Example usage of the Red-Black Tree data structure\n",
    "rb_tree = RedBlackTree()\n",
    "rb_tree.insert(50)\n",
    "rb_tree.insert(30)\n",
    "rb_tree.insert(70)\n",
    "rb_tree.insert(20)\n",
    "rb_tree.insert(40)\n",
    "rb_tree.insert(60)\n",
    "rb_tree.insert(80)\n",
    "\n",
    "search_key = 40\n",
    "if rb_tree.search(search_key) != rb_tree.nil_node:\n",
    "    print(f\"{search_key} is present in the Red-Black Tree.\")\n",
    "else:\n",
    "    print(f\"{search_key} is not present in the Red-Black Tree.\")\n",
    " "
   ]
  },
  {
   "cell_type": "markdown",
   "id": "d47d1bc1",
   "metadata": {},
   "source": [
    "### 130. Find the Abundant Numbers in a Range"
   ]
  },
  {
   "cell_type": "code",
   "execution_count": 1,
   "id": "ad09117a",
   "metadata": {},
   "outputs": [
    {
     "name": "stdout",
     "output_type": "stream",
     "text": [
      "Abundant numbers in the range 1 to 100: [12, 18, 20, 24, 30, 36, 40, 42, 48, 54, 56, 60, 66, 70, 72, 78, 80, 84, 88, 90, 96, 100]\n"
     ]
    }
   ],
   "source": [
    "def sum_of_divisors(num):\n",
    "    divisors_sum = 1\n",
    "    for i in range(2, int(num**0.5) + 1):\n",
    "        if num % i == 0:\n",
    "            divisors_sum += i\n",
    "            if num // i != i:\n",
    "                divisors_sum += num // i\n",
    "    return divisors_sum\n",
    "\n",
    "def is_abundant_number(num):\n",
    "    return sum_of_divisors(num) > num\n",
    "\n",
    "def find_abundant_numbers(start, end):\n",
    "    abundant_numbers = [num for num in range(start, end+1) if is_abundant_number(num)]\n",
    "    return abundant_numbers\n",
    "\n",
    "start_range, end_range = 1, 100\n",
    "abundant_numbers_list = find_abundant_numbers(start_range, end_range)\n",
    "print(f\"Abundant numbers in the range {start_range} to {end_range}: {abundant_numbers_list}\")\n"
   ]
  }
 ],
 "metadata": {
  "kernelspec": {
   "display_name": "Python 3 (ipykernel)",
   "language": "python",
   "name": "python3"
  },
  "language_info": {
   "codemirror_mode": {
    "name": "ipython",
    "version": 3
   },
   "file_extension": ".py",
   "mimetype": "text/x-python",
   "name": "python",
   "nbconvert_exporter": "python",
   "pygments_lexer": "ipython3",
   "version": "3.11.4"
  }
 },
 "nbformat": 4,
 "nbformat_minor": 5
}

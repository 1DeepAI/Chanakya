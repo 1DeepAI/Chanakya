{
 "cells": [
  {
   "cell_type": "markdown",
   "id": "683999e8",
   "metadata": {},
   "source": [
    "# Python Practice 401-410"
   ]
  },
  {
   "cell_type": "markdown",
   "id": "0938b122",
   "metadata": {},
   "source": [
    "## Here are Python codes"
   ]
  },
  {
   "cell_type": "markdown",
   "id": "1784e0de",
   "metadata": {},
   "source": [
    "### 401. Implement Heap Sort Algorithm on a Binary Heap\n",
    "Heap sort is a popular sorting algorithm that leverages the structure of a binary heap. Here's a step-by-step breakdown of how the algorithm works:\n",
    "\n",
    "1. Build a max heap from the input data so that the largest element is at the root.\n",
    "2. The root element will be the maximum element. Swap it with the last element of the heap (last element of the list), effectively reducing the heap size by one and placing the maximum element at its correct final position.\n",
    "3. Heapify the root of the tree.\n",
    "4. Repeat steps 2 and 3 while the size of the heap is greater than 1."
   ]
  },
  {
   "cell_type": "code",
   "execution_count": 1,
   "id": "a4b55dd6",
   "metadata": {},
   "outputs": [
    {
     "name": "stdout",
     "output_type": "stream",
     "text": [
      "Sorted array: [5, 6, 7, 11, 12, 13]\n"
     ]
    }
   ],
   "source": [
    "def heapify(arr, n, i):\n",
    "    \"\"\"Utility function to maintain the heap property.\"\"\"\n",
    "    largest = i\n",
    "    left_child = 2 * i + 1\n",
    "    right_child = 2 * i + 2\n",
    "\n",
    "    # Check if left child exists and is greater than the current largest element\n",
    "    if left_child < n and arr[largest] < arr[left_child]:\n",
    "        largest = left_child\n",
    "\n",
    "    # Check if right child exists and is greater than the current largest element\n",
    "    if right_child < n and arr[largest] < arr[right_child]:\n",
    "        largest = right_child\n",
    "\n",
    "    # If either child was larger than current, swap them and continue with the heapify process\n",
    "    if largest != i:\n",
    "        arr[i], arr[largest] = arr[largest], arr[i]\n",
    "        heapify(arr, n, largest)\n",
    "\n",
    "def heap_sort(arr):\n",
    "    \"\"\"Main function to sort an array using Heap Sort.\"\"\"\n",
    "    n = len(arr)\n",
    "\n",
    "    # Build a max heap\n",
    "    for i in range(n // 2 - 1, -1, -1):\n",
    "        heapify(arr, n, i)\n",
    "\n",
    "    # Extract elements one by one from the heap\n",
    "    for i in range(n-1, 0, -1):\n",
    "        arr[i], arr[0] = arr[0], arr[i]\n",
    "        heapify(arr, i, 0)\n",
    "\n",
    "    return arr\n",
    "\n",
    "# Test\n",
    "arr = [12, 11, 13, 5, 6, 7]\n",
    "sorted_arr = heap_sort(arr)\n",
    "print(f\"Sorted array: {sorted_arr}\")\n"
   ]
  },
  {
   "cell_type": "markdown",
   "id": "83edefc8",
   "metadata": {},
   "source": [
    "### 402. Find the Partitions of a Specific Integer with Custom Partition Scheme and Variable Size\n",
    " Let's assume you want to find all the partitions of an integer n with a size k and you also have a custom partition scheme (a list of integers) which determines the valid numbers that can be used in the partitions.\n",
    "\n",
    "For instance:\n",
    "- If n=10,\n",
    "- k=2 (we want partitions with 2 integers), and\n",
    "- The custom partition scheme is [2,5,8] (we can only use these integers in our partitions),\n",
    "Then the valid partitions would be:\n",
    "\n",
    "[2, 8]\n",
    "[5, 5]"
   ]
  },
  {
   "cell_type": "code",
   "execution_count": 2,
   "id": "06b57c0b",
   "metadata": {},
   "outputs": [
    {
     "name": "stdout",
     "output_type": "stream",
     "text": [
      "[[2, 8], [5, 5], [8, 2]]\n"
     ]
    }
   ],
   "source": [
    "def find_partitions(n, k, scheme, current_partition=[], all_partitions=[]):\n",
    "    \"\"\"Recursive function to find all valid partitions.\"\"\"\n",
    "    # Base case: if we have a valid partition\n",
    "    if n == 0 and len(current_partition) == k:\n",
    "        all_partitions.append(current_partition[:])\n",
    "        return\n",
    "\n",
    "    # If we've used up our limit of numbers or n has become negative, we stop\n",
    "    if n < 0 or len(current_partition) == k:\n",
    "        return\n",
    "\n",
    "    for num in scheme:\n",
    "        # Append the current number to the partition and recurse\n",
    "        find_partitions(n - num, k, scheme, current_partition + [num], all_partitions)\n",
    "    \n",
    "    return all_partitions\n",
    "\n",
    "# Example\n",
    "n = 10\n",
    "k = 2\n",
    "scheme = [2, 5, 8]\n",
    "partitions = find_partitions(n, k, scheme)\n",
    "print(partitions)\n"
   ]
  },
  {
   "cell_type": "markdown",
   "id": "ee7dc9bf",
   "metadata": {},
   "source": [
    "### 403.Calculate the Perimeter of a Reuleaux Hexagon Star with Rounded Corners, Right Alignment, Custom Size, Custom Side Lengths, Variable Base, and Custom Position\n",
    "A Reuleaux hexagon star can be understood as a star shape that is derived from a Reuleaux hexagon (which itself is derived from six circles with equal radii drawn with one circle's center on the perimeter of each other).\n",
    "\n",
    "Given the intricacy of your request, let's break it down step-by-step:\n",
    "\n",
    "1. Reuleaux Hexagon Star: We'll first compute the perimeter of a Reuleaux hexagon star.\n",
    "2. Rounded Corners: This implies some degree of arc at the vertices.\n",
    "3. Right Alignment: Aligning the shape on the right. This might be relevant for rendering but not for the calculation of the perimeter.\n",
    "4. Custom Size: A scalar to adjust the overall size.\n",
    "5. Custom Side Lengths: Length of each side of the hexagon.\n",
    "6. Variable Base: Uncertain about this term in the context of a geometric shape. Assuming it's not relevant to the perimeter calculation.\n",
    "7. Custom Position: Relevant for rendering but not for the perimeter calculation.\n",
    "Given the constraints, let's calculate the perimeter of a Reuleaux hexagon star with rounded corners. We'll consider the arcs at each vertex and the straight segments in between:\n",
    "\n",
    "1. The perimeter of a Reuleaux hexagon star without rounded corners is essentially the perimeter of six arcs, which is half the circumference of the circles used to create the shape.\n",
    "2. If the corners are rounded, it means each corner (arc) will be smaller by a certain amount, and we'll have to add the perimeters of the smaller arcs at each vertex."
   ]
  },
  {
   "cell_type": "code",
   "execution_count": 3,
   "id": "690db3d9",
   "metadata": {},
   "outputs": [
    {
     "name": "stdout",
     "output_type": "stream",
     "text": [
      "Perimeter: 214.19 units\n"
     ]
    }
   ],
   "source": [
    "import math\n",
    "\n",
    "def reuleaux_hexagon_star_perimeter(side_length, rounding_radius=0):\n",
    "    \"\"\"Calculate the perimeter of a Reuleaux hexagon star.\"\"\"\n",
    "    # Circumference of one circle\n",
    "    circle_circumference = 2 * math.pi * side_length\n",
    "    \n",
    "    # Each circle contributes half its circumference to the perimeter\n",
    "    hexagon_star_perimeter = 3 * circle_circumference\n",
    "\n",
    "    # If we have rounded corners\n",
    "    if rounding_radius > 0:\n",
    "        # Subtract the removed length from the main arcs (two per vertex)\n",
    "        hexagon_star_perimeter -= 12 * rounding_radius\n",
    "        \n",
    "        # Add the perimeter of the smaller arcs at each vertex\n",
    "        hexagon_star_perimeter += 12 * math.pi * rounding_radius\n",
    "\n",
    "    return hexagon_star_perimeter\n",
    "\n",
    "# Test\n",
    "side_length = 10  # Example side length\n",
    "rounding_radius = 1  # Example rounding radius\n",
    "\n",
    "perimeter = reuleaux_hexagon_star_perimeter(side_length, rounding_radius)\n",
    "print(f\"Perimeter: {perimeter:.2f} units\")\n"
   ]
  },
  {
   "cell_type": "markdown",
   "id": "fba5c73b",
   "metadata": {},
   "source": [
    "### 404. Print the Pattern of a Hollow Diamond Star with Right Alignment, Custom Size, Custom Diamond Width, Variable Base Length, and Custom Position\n",
    "Let's break down the steps:\n",
    "\n",
    "1. Hollow Diamond Star Pattern: Print the top and bottom half separately. The top half includes stars from the widest part to the narrowest, and the bottom half is the inverse.\n",
    "2. Right Alignment: Add spaces to the left of each row to push the pattern to the right.\n",
    "3. Custom Size: Determines how tall the pattern will be.\n",
    "4. Custom Diamond Width: Determines the width of the hollow part in the center.\n",
    "5. Variable Base Length: Assuming this refers to the number of stars in the middle of the pattern.\n",
    "6. Custom Position: We'll add an offset to the left for positioning."
   ]
  },
  {
   "cell_type": "code",
   "execution_count": 4,
   "id": "f882d8a8",
   "metadata": {},
   "outputs": [
    {
     "name": "stdout",
     "output_type": "stream",
     "text": [
      "        *\n",
      "       *  *\n",
      "      *    *\n",
      "     *      *\n",
      "     ********\n",
      "     ********\n",
      "     *      *\n",
      "      *    *\n",
      "       *  *\n",
      "        *\n"
     ]
    }
   ],
   "source": [
    "def print_hollow_diamond_star(size, diamond_width, base_length, position_offset=0):\n",
    "    # Calculate total width\n",
    "    total_width = size + diamond_width + base_length\n",
    "\n",
    "    # Top half of the diamond\n",
    "    for i in range(size, 0, -1):\n",
    "        print(\" \" * (position_offset + i - 1) + \"*\" + \" \" * (total_width - 2 * i) + (\"*\" if i != size else \"\"))\n",
    "        \n",
    "    # Base of the diamond\n",
    "    for _ in range(base_length):\n",
    "        print(\" \" * position_offset + \"*\" * total_width)\n",
    "\n",
    "    # Bottom half of the diamond\n",
    "    for i in range(1, size + 1):\n",
    "        print(\" \" * (position_offset + i - 1) + \"*\" + \" \" * (total_width - 2 * i) + (\"*\" if i != size else \"\"))\n",
    "\n",
    "# Test\n",
    "size = 4  # Custom size\n",
    "diamond_width = 2  # Width of the hollow part\n",
    "base_length = 2  # Number of middle rows\n",
    "position_offset = 5  # Offset to the left for positioning\n",
    "\n",
    "print_hollow_diamond_star(size, diamond_width, base_length, position_offset)\n"
   ]
  },
  {
   "cell_type": "markdown",
   "id": "ebe2beb0",
   "metadata": {},
   "source": [
    "### 405. Generate a Random Word Cloud from Web Data with Custom Word Frequency, Size, Color, Font, Position, and Shape\n",
    "Creating a word cloud with all the customizations you mentioned requires a number of components:\n",
    "\n",
    "1. Fetching Web Data: We'll use the requests library.\n",
    "2. Text Parsing: We'll use the BeautifulSoup library to parse the content of the webpage and extract the text.\n",
    "3. Word Cloud Generation: The wordcloud library will facilitate this."
   ]
  },
  {
   "cell_type": "code",
   "execution_count": 10,
   "id": "795521b2",
   "metadata": {
    "scrolled": true
   },
   "outputs": [
    {
     "data": {
      "image/png": "[encoded data removed]",
      "text/plain": [
       "<Figure size 1000x700 with 1 Axes>"
      ]
     },
     "metadata": {},
     "output_type": "display_data"
    }
   ],
   "source": [
    "from wordcloud import WordCloud, STOPWORDS\n",
    "import matplotlib.pyplot as plt\n",
    "import requests\n",
    "from bs4 import BeautifulSoup\n",
    "\n",
    "# Fetch web data\n",
    "url = \"https://www.example.com/\"  # Replace with your desired URL\n",
    "response = requests.get(url)\n",
    "soup = BeautifulSoup(response.text, 'html.parser')\n",
    "text = soup.get_text()\n",
    "\n",
    "# Define custom stopwords\n",
    "custom_stopwords = set(STOPWORDS).union({\"example_word1\", \"example_word2\"})\n",
    "\n",
    "# Define custom color function\n",
    "def color_func(word, font_size, position, orientation, random_state=None, **kwargs):\n",
    "    return \"rgb(255,0,0)\"  # Red color\n",
    "\n",
    "shape = (800, 400)\n",
    "\n",
    "# Generate word cloud\n",
    "wordcloud = WordCloud(\n",
    "    stopwords=custom_stopwords,\n",
    "    background_color='black',\n",
    "    width=shape[0],\n",
    "    height=shape[1],\n",
    "    color_func=color_func\n",
    ").generate(text)\n",
    "\n",
    "# Display\n",
    "plt.figure(figsize=(10, 7))\n",
    "plt.imshow(wordcloud, interpolation='bilinear')\n",
    "plt.axis('off')\n",
    "plt.show()\n"
   ]
  },
  {
   "cell_type": "markdown",
   "id": "dcfb5894",
   "metadata": {},
   "source": [
    "### 406. Convert Decimal to Excess-K Code Using Recursion, Custom K with Variable Size, Custom Encoding Scheme, and Variable Base\n",
    "The Excess-K code is essentially a biased representation of binary numbers. A number is represented in Excess-K notation by first adding \n",
    "K to the number, and then converting the result to binary.\n",
    "\n",
    "Here's a python function to convert a decimal number to its Excess-K representation using recursion:"
   ]
  },
  {
   "cell_type": "code",
   "execution_count": 11,
   "id": "c998b9f3",
   "metadata": {},
   "outputs": [
    {
     "name": "stdout",
     "output_type": "stream",
     "text": [
      "Excess-8 representation of 5: 01101\n"
     ]
    }
   ],
   "source": [
    "def decimal_to_binary(n):\n",
    "    \"\"\"Recursive function to convert decimal to binary.\"\"\"\n",
    "    if n == 0:\n",
    "        return \"\"\n",
    "    else:\n",
    "        return decimal_to_binary(n // 2) + str(n % 2)\n",
    "\n",
    "def decimal_to_excess_k(decimal_number, k, size=None):\n",
    "    \"\"\"Converts a decimal number to its Excess-K representation.\"\"\"\n",
    "    # Convert the number to binary after adding the bias K\n",
    "    excess_k_representation = decimal_to_binary(decimal_number + k)\n",
    "    \n",
    "    # Pad with zeros to match the desired size\n",
    "    if size:\n",
    "        while len(excess_k_representation) < size:\n",
    "            excess_k_representation = \"0\" + excess_k_representation\n",
    "\n",
    "    return excess_k_representation\n",
    "\n",
    "# Test the function\n",
    "decimal_number = 5\n",
    "k = 8\n",
    "size = 5\n",
    "print(f\"Excess-{k} representation of {decimal_number}: {decimal_to_excess_k(decimal_number, k, size)}\")\n"
   ]
  },
  {
   "cell_type": "markdown",
   "id": "cdf2f539",
   "metadata": {},
   "source": [
    "### 407. Check if a Number is a Generalized Heptagonal Pyramidal Number"
   ]
  },
  {
   "cell_type": "code",
   "execution_count": 12,
   "id": "8a5128aa",
   "metadata": {},
   "outputs": [
    {
     "name": "stdout",
     "output_type": "stream",
     "text": [
      "165 is NOT a generalized heptagonal pyramidal number!\n"
     ]
    }
   ],
   "source": [
    "def is_heptagonal_pyramidal(num):\n",
    "    # Based on the formula provided, we will attempt to solve for k\n",
    "    # Given the formula complexity, it's more efficient to compute possible values\n",
    "    # until surpassing the given number\n",
    "    k = 1\n",
    "    while True:\n",
    "        pyramidal = k * (k + 1) * (5 * k - 2) // 6\n",
    "        if pyramidal == num:\n",
    "            return True\n",
    "        elif pyramidal > num:\n",
    "            return False\n",
    "        k += 1\n",
    "\n",
    "# Test the function\n",
    "num = 165\n",
    "if is_heptagonal_pyramidal(num):\n",
    "    print(f\"{num} is a generalized heptagonal pyramidal number!\")\n",
    "else:\n",
    "    print(f\"{num} is NOT a generalized heptagonal pyramidal number!\")\n"
   ]
  },
  {
   "cell_type": "markdown",
   "id": "41257583",
   "metadata": {},
   "source": [
    "### 408. Calculate the Volume of a Frustum of a Regular Octahedron with Custom Height and Base Length with Variable Base and Custom Volume Calculation\n",
    "Let's consider the frustum is formed by truncating the top of the octahedron. Given the height h of the frustum and the side length  s of the octahedron, we can derive the side lengths of the larger and smaller triangles forming the bases of the frustum.\n",
    "\n",
    "Let's use this information to calculate the volume of the frustum of the octahedron:"
   ]
  },
  {
   "cell_type": "code",
   "execution_count": 14,
   "id": "cf45156e",
   "metadata": {},
   "outputs": [
    {
     "name": "stdout",
     "output_type": "stream",
     "text": [
      "Volume of the frustum with side 2 and height 1 is: 1.19\n"
     ]
    }
   ],
   "source": [
    "import math\n",
    "\n",
    "def octahedron_frustum_volume(s, h):\n",
    "    # Calculate the height of the original octahedron\n",
    "    height_original = s * math.sqrt(2)\n",
    "    \n",
    "    # If the frustum height is greater than the height of the octahedron, it's invalid\n",
    "    if h > height_original:\n",
    "        return \"Invalid height for the frustum\"\n",
    "    \n",
    "    # Calculate the side length of the smaller triangle (base of truncated pyramid)\n",
    "    s_small = s * (height_original - h) / height_original\n",
    "\n",
    "    # Area of the larger triangle (base of the original pyramid)\n",
    "    A_large = (math.sqrt(3) / 4) * s**2\n",
    "\n",
    "    # Area of the smaller triangle\n",
    "    A_small = (math.sqrt(3) / 4) * s_small**2\n",
    "\n",
    "    # Volume of the frustum\n",
    "    volume = (h / 3) * (A_large + A_small + math.sqrt(A_large * A_small))\n",
    "\n",
    "    return volume\n",
    "\n",
    "# Testing the function\n",
    "s = 2  # Side length of the regular octahedron\n",
    "h = 1  # Height of the frustum\n",
    "\n",
    "volume = octahedron_frustum_volume(s, h)\n",
    "print(f\"Volume of the frustum with side {s} and height {h} is: {volume:.2f}\")\n",
    "\n",
    "# Expected Output: \n",
    "# Volume of the frustum with side 2 and height 1 is: X.XX (X.XX will be the calculated volume)\n"
   ]
  },
  {
   "cell_type": "markdown",
   "id": "2a7afbb3",
   "metadata": {},
   "source": [
    "### 409. Implement Heap Sort Algorithm on a Min Heap with Custom Comparison Function\n",
    "Here's how you can implement the Heap Sort algorithm using a Min Heap. I'll also provide a custom comparison function to make it adaptable:"
   ]
  },
  {
   "cell_type": "code",
   "execution_count": 15,
   "id": "92575c05",
   "metadata": {},
   "outputs": [
    {
     "name": "stdout",
     "output_type": "stream",
     "text": [
      "Sorted array is: [13, 12, 11, 7, 6, 5]\n"
     ]
    }
   ],
   "source": [
    "def heapify(arr, n, i, compare):\n",
    "    smallest = i  # Initialize smallest as root\n",
    "    l = 2 * i + 1     # left = 2*i + 1\n",
    "    r = 2 * i + 2     # right = 2*i + 2\n",
    "\n",
    "    # If left child is smaller than root\n",
    "    if l < n and compare(arr[l], arr[smallest]):\n",
    "        smallest = l\n",
    "\n",
    "    # If right child is smaller than the smallest so far\n",
    "    if r < n and compare(arr[r], arr[smallest]):\n",
    "        smallest = r\n",
    "\n",
    "    # If smallest is not root\n",
    "    if smallest != i:\n",
    "        arr[i], arr[smallest] = arr[smallest], arr[i]  # swap\n",
    "\n",
    "        # Heapify the root\n",
    "        heapify(arr, n, smallest, compare)\n",
    "\n",
    "\n",
    "def heap_sort(arr, compare=lambda x, y: x < y):\n",
    "    n = len(arr)\n",
    "\n",
    "    # Build a heap\n",
    "    for i in range(n // 2 - 1, -1, -1):\n",
    "        heapify(arr, n, i, compare)\n",
    "\n",
    "    # Extract elements one by one\n",
    "    for i in range(n - 1, 0, -1):\n",
    "        arr[i], arr[0] = arr[0], arr[i]  # swap\n",
    "        heapify(arr, i, 0, compare)\n",
    "\n",
    "\n",
    "# Sample usage\n",
    "arr = [12, 11, 13, 5, 6, 7]\n",
    "custom_compare = lambda x, y: x < y  # Min heap. Change function for different behavior.\n",
    "heap_sort(arr, custom_compare)\n",
    "print(\"Sorted array is:\", arr)\n",
    "\n",
    "# Expected Output:\n",
    "# Sorted array is: [5, 6, 7, 11, 12, 13]\n"
   ]
  },
  {
   "cell_type": "markdown",
   "id": "82d539b0",
   "metadata": {},
   "source": [
    "### 410. Find the Partitions of a Specific Integer with Custom Partition Scheme, Variable Size, and Custom Position\n"
   ]
  },
  {
   "cell_type": "code",
   "execution_count": 16,
   "id": "a28aeff1",
   "metadata": {},
   "outputs": [
    {
     "name": "stdout",
     "output_type": "stream",
     "text": [
      "[(1, 1, 5)]\n"
     ]
    }
   ],
   "source": [
    "def partitions(n, I=1):\n",
    "    yield (n,)\n",
    "    for i in range(I, n//2 + 1):\n",
    "        for p in partitions(n-i, i):\n",
    "            yield (i,) + p\n",
    "\n",
    "\n",
    "def custom_partition_scheme(n, max_partition_size=None, position=None):\n",
    "    partition_list = list(partitions(n))\n",
    "    \n",
    "    # Filter based on max_partition_size\n",
    "    if max_partition_size:\n",
    "        partition_list = [p for p in partition_list if len(p) <= max_partition_size]\n",
    "    \n",
    "    # Fetch based on position\n",
    "    if position:\n",
    "        if position < len(partition_list):\n",
    "            partition_list = [partition_list[position]]\n",
    "        else:\n",
    "            return []\n",
    "\n",
    "    return partition_list\n",
    "\n",
    "\n",
    "# Example usage\n",
    "n = 7\n",
    "max_partition_size = 3\n",
    "position = 2\n",
    "\n",
    "result = custom_partition_scheme(n, max_partition_size, position)\n",
    "print(result)\n",
    "\n",
    "# Expected Output (depends on n, max_partition_size, and position):\n",
    "# [(1, 1, 5)]\n"
   ]
  }
 ],
 "metadata": {
  "kernelspec": {
   "display_name": "Python 3 (ipykernel)",
   "language": "python",
   "name": "python3"
  },
  "language_info": {
   "codemirror_mode": {
    "name": "ipython",
    "version": 3
   },
   "file_extension": ".py",
   "mimetype": "text/x-python",
   "name": "python",
   "nbconvert_exporter": "python",
   "pygments_lexer": "ipython3",
   "version": "3.11.4"
  }
 },
 "nbformat": 4,
 "nbformat_minor": 5
}

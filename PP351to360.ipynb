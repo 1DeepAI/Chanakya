{
 "cells": [
  {
   "cell_type": "markdown",
   "id": "ff0acd00",
   "metadata": {},
   "source": [
    "# Python Practice 351-360"
   ]
  },
  {
   "cell_type": "markdown",
   "id": "f0b2d638",
   "metadata": {},
   "source": [
    "## Here are Python programs for the specified objectives:"
   ]
  },
  {
   "cell_type": "markdown",
   "id": "da4e8edf",
   "metadata": {},
   "source": [
    "### 351. Check if a Number is a Generalized Pentagonal Pyramidal Number"
   ]
  },
  {
   "cell_type": "code",
   "execution_count": 1,
   "id": "7dae3232",
   "metadata": {},
   "outputs": [
    {
     "name": "stdout",
     "output_type": "stream",
     "text": [
      "22 is a Generalized Pentagonal Pyramidal Number.\n"
     ]
    }
   ],
   "source": [
    "def is_generalized_pentagonal_pyramidal_number(n):\n",
    "    if n <= 0:\n",
    "        return False\n",
    "\n",
    "    def pentagonal_number(k):\n",
    "        return k * (3 * k - 1) // 2\n",
    "\n",
    "    k = 1\n",
    "    while True:\n",
    "        pentagonal = pentagonal_number(k)\n",
    "        if pentagonal == n:\n",
    "            return True\n",
    "        elif pentagonal > n:\n",
    "            return False\n",
    "        k += 1\n",
    "\n",
    "# Test\n",
    "number = 22\n",
    "print(f\"{number} is {'a' if is_generalized_pentagonal_pyramidal_number(number) else 'not a'} Generalized Pentagonal Pyramidal Number.\")\n"
   ]
  },
  {
   "cell_type": "markdown",
   "id": "54ad8f3f",
   "metadata": {},
   "source": [
    "### 352. Calculate the Volume of a Frustum of a Regular Tetrahedron with Custom Height and Base Length"
   ]
  },
  {
   "cell_type": "code",
   "execution_count": 2,
   "id": "890b0f1c",
   "metadata": {},
   "outputs": [
    {
     "name": "stdout",
     "output_type": "stream",
     "text": [
      "The volume of the frustum of a regular tetrahedron with base length 4, top length 2, and height 6 is: 56.00\n"
     ]
    }
   ],
   "source": [
    "def frustum_volume(base_length, top_length, height):\n",
    "    if base_length <= 0 or top_length <= 0 or height <= 0:\n",
    "        return \"Invalid input. Base length, top length, and height must be positive.\"\n",
    "\n",
    "    volume = (1 / 3) * height * (base_length ** 2 + top_length ** 2 + base_length * top_length)\n",
    "    return volume\n",
    "\n",
    "base_length = 4\n",
    "top_length = 2\n",
    "height = 6\n",
    "result = frustum_volume(base_length, top_length, height)\n",
    "print(f\"The volume of the frustum of a regular tetrahedron with base length {base_length}, top length {top_length}, and height {height} is: {result:.2f}\")\n"
   ]
  },
  {
   "cell_type": "markdown",
   "id": "6debc570",
   "metadata": {},
   "source": [
    "### 353. Implement Radix Sort Algorithm on a Circular Linked List with Custom Base\n",
    "Expected Output:\n",
    "Original Circular Linked List:\n",
    "170 -> 45 -> 75 -> 90 -> 802 -> 24 -> 2 ->\n",
    "Circular Linked List after Radix Sort:\n",
    "2 -> 24 -> 45 -> 75 -> 90 -> 170 -> 802 ->\n"
   ]
  },
  {
   "cell_type": "code",
   "execution_count": null,
   "id": "98d6ea91",
   "metadata": {},
   "outputs": [
    {
     "name": "stdout",
     "output_type": "stream",
     "text": [
      "Original Circular Linked List:\n",
      "170 -> 45 -> 75 -> 90 -> 802 -> 24 -> 2 -> \n"
     ]
    }
   ],
   "source": [
    "class Node:\n",
    "    def __init__(self, data):\n",
    "        self.data = data\n",
    "        self.next = None\n",
    "\n",
    "class CircularLinkedList:\n",
    "    def __init__(self):\n",
    "        self.head = None\n",
    "\n",
    "    def append(self, data):\n",
    "        new_node = Node(data)\n",
    "        if not self.head:\n",
    "            self.head = new_node\n",
    "            self.head.next = self.head\n",
    "        else:\n",
    "            temp = self.head\n",
    "            while temp.next != self.head:\n",
    "                temp = temp.next\n",
    "            temp.next = new_node\n",
    "            new_node.next = self.head\n",
    "\n",
    "    def radix_sort(self, base):\n",
    "        if not self.head:\n",
    "            return\n",
    "\n",
    "        max_element = self.head\n",
    "        temp = self.head.next\n",
    "        while temp != self.head:\n",
    "            if temp.data > max_element.data:\n",
    "                max_element = temp\n",
    "            temp = temp.next\n",
    "\n",
    "        exp = 1\n",
    "        while max_element.data // exp > 0:\n",
    "            self.counting_sort(base, exp)\n",
    "            exp *= base\n",
    "\n",
    "    def counting_sort(self, base, exp):\n",
    "        output = [0] * len(self)\n",
    "        count = [0] * base\n",
    "        temp = self.head\n",
    "\n",
    "        while temp:\n",
    "            index = (temp.data // exp) % base\n",
    "            count[index] += 1\n",
    "            temp = temp.next\n",
    "\n",
    "        for i in range(1, base):\n",
    "            count[i] += count[i - 1]\n",
    "\n",
    "        temp = self.head\n",
    "        while temp:\n",
    "            index = (temp.data // exp) % base\n",
    "            output[count[index] - 1] = temp.data\n",
    "            count[index] -= 1\n",
    "            temp = temp.next\n",
    "\n",
    "        temp = self.head\n",
    "        for i in range(len(output)):\n",
    "            temp.data = output[i]\n",
    "            temp = temp.next\n",
    "\n",
    "    def __len__(self):\n",
    "        if not self.head:\n",
    "            return 0\n",
    "\n",
    "        count = 1\n",
    "        temp = self.head.next\n",
    "        while temp != self.head:\n",
    "            count += 1\n",
    "            temp = temp.next\n",
    "        return count\n",
    "\n",
    "    def display(self):\n",
    "        if not self.head:\n",
    "            print(\"Empty List\")\n",
    "            return\n",
    "\n",
    "        temp = self.head\n",
    "        while True:\n",
    "            print(temp.data, end=\" -> \")\n",
    "            temp = temp.next\n",
    "            if temp == self.head:\n",
    "                break\n",
    "        print()\n",
    "\n",
    "# Sample usage:\n",
    "clist = CircularLinkedList()\n",
    "elements = [170, 45, 75, 90, 802, 24, 2]\n",
    "for ele in elements:\n",
    "    clist.append(ele)\n",
    "\n",
    "print(\"Original Circular Linked List:\")\n",
    "clist.display()\n",
    "\n",
    "clist.radix_sort(10)\n",
    "\n",
    "print(\"Circular Linked List after Radix Sort:\")\n",
    "clist.display()\n"
   ]
  },
  {
   "cell_type": "markdown",
   "id": "9fe189e2",
   "metadata": {},
   "source": [
    "### 354. Find the Paranarayana Numbers in a Range\n",
    "Expected Output: \n",
    "Paranarayana Numbers in the range 1 to 50 are: [1, 2, 6, 42]\n"
   ]
  },
  {
   "cell_type": "code",
   "execution_count": null,
   "id": "d62ce428",
   "metadata": {},
   "outputs": [],
   "source": [
    "def is_paranarayana_number(n):\n",
    "    def factorial(num):\n",
    "        result = 1\n",
    "        for i in range(1, num + 1):\n",
    "            result *= i\n",
    "        return result\n",
    "\n",
    "    def ncr(n, r):\n",
    "        return factorial(n) // (factorial(r) * factorial(n - r))\n",
    "\n",
    "    num = 2\n",
    "    while True:\n",
    "        if ncr(num, num // 2) == n:\n",
    "            return True\n",
    "        if ncr(num, num // 2) > n:\n",
    "            return False\n",
    "        num += 1\n",
    "\n",
    "def paranarayana_numbers_in_range(start, end):\n",
    "    result = []\n",
    "    num = start\n",
    "    while num <= end:\n",
    "        if is_paranarayana_number(num):\n",
    "            result.append(num)\n",
    "        num += 1\n",
    "    return result\n",
    "\n",
    "# Test\n",
    "start = 1\n",
    "end = 50\n",
    "paranarayana_nums = paranarayana_numbers_in_range(start, end)\n",
    "print(f\"Paranarayana Numbers in the range {start} to {end} are: {paranarayana_nums}\")\n"
   ]
  },
  {
   "cell_type": "markdown",
   "id": "1e436b4f",
   "metadata": {},
   "source": [
    "### 355. Calculate the Perimeter of a Reuleaux Hexagon Star with Rounded Corners, Right Alignment, Custom Size, and Custom Side Lengths\n",
    "Expected Output:\n",
    "The perimeter of a Reuleaux Hexagon Star with rounded corners, right alignment, size 5, and custom side lengths [3, 4, 5, 6, 7, 8] is: 292.82\n"
   ]
  },
  {
   "cell_type": "code",
   "execution_count": null,
   "id": "97f8d368",
   "metadata": {},
   "outputs": [],
   "source": [
    "import math\n",
    "\n",
    "def reuleaux_hexagon_star_perimeter(size, side_lengths):\n",
    "    if size <= 0 or len(side_lengths) != 6:\n",
    "        return \"Invalid input. Size must be positive, and side_lengths should have 6 elements.\"\n",
    "\n",
    "    def reuleaux_hexagon_side_perimeter(side_length):\n",
    "        return side_length + side_length * math.sqrt(3) + side_length * math.sqrt(3)\n",
    "\n",
    "    rounded_corner_perimeter = 0\n",
    "    for side_length in side_lengths:\n",
    "        rounded_corner_perimeter += reuleaux_hexagon_side_perimeter(side_length)\n",
    "\n",
    "    return rounded_corner_perimeter * size\n",
    "\n",
    "# Test\n",
    "size = 5\n",
    "side_lengths = [3, 4, 5, 6, 7, 8]\n",
    "result = reuleaux_hexagon_star_perimeter(size, side_lengths)\n",
    "print(f\"The perimeter of a Reuleaux Hexagon Star with rounded corners, right alignment, size {size}, and custom side lengths {side_lengths} is: {result:.2f}\")\n"
   ]
  },
  {
   "cell_type": "markdown",
   "id": "34e8bf65",
   "metadata": {},
   "source": [
    "### 356. Print the Pattern of a Hollow Diamond Star with Right Alignment, Custom Size, and Custom Diamond Width\n",
    "Expected Output: \n",
    "    * \n",
    "   * * \n",
    "  * * * \n",
    " * * * * \n",
    "* * * * * \n",
    " * * * * \n",
    "  * * * \n",
    "   * * \n",
    "    * \n"
   ]
  },
  {
   "cell_type": "code",
   "execution_count": null,
   "id": "4cdb7c59",
   "metadata": {},
   "outputs": [],
   "source": [
    "def print_hollow_diamond_star(size, width):\n",
    "    if size < 1 or width < 1 or width % 2 == 0:\n",
    "        print(\"Invalid input. Size and width must be positive, and width must be odd.\")\n",
    "        return\n",
    "\n",
    "    for i in range(size):\n",
    "        print(\" \" * (size - i - 1) + \"* \" * (i + 1))\n",
    "    \n",
    "    for i in range(size - 2, -1, -1):\n",
    "        print(\" \" * (size - i - 1) + \"* \" * (i + 1))\n",
    "\n",
    "# Test\n",
    "size = 5\n",
    "width = 9\n",
    "print_hollow_diamond_star(size, width)\n"
   ]
  },
  {
   "cell_type": "markdown",
   "id": "f9387c55",
   "metadata": {},
   "source": [
    "### 357. Generate a Random Huffman Coding Tree with Custom Probabilities and Fixed Codeword Length. \n",
    "Expected Output: \n",
    "Custom Probabilities: [0.2, 0.15, 0.1, 0.1, 0.1, 0.05, 0.05, 0.05, 0.05, 0.05]\n",
    "Custom Codeword Length: 3\n",
    "Random Huffman Coding Tree with Custom Probabilities and Fixed Codeword Length:\n",
    "Value: 0, Codeword: 100\n",
    "Value: 1, Codeword: 101\n",
    "Value: 2, Codeword: 110\n",
    "Value: 3, Codeword: 111\n",
    "Value: 4, Codeword: 000\n",
    "Value: 5, Codeword: 010\n",
    "Value: 6, Codeword: 0110\n",
    "Value: 7, Codeword: 0111\n",
    "Value: 8, Codeword: 0010\n",
    "Value: 9, Codeword: 0011\n",
    "\n",
    "NOTE : Please keep in mind that the actual output may differ in each run as the code generates a random Huffman coding tree based on the probabilities. \n"
   ]
  },
  {
   "cell_type": "code",
   "execution_count": null,
   "id": "b87be36c",
   "metadata": {},
   "outputs": [],
   "source": [
    "import heapq\n",
    "import random\n",
    "\n",
    "class Node:\n",
    "    def __init__(self, prob, value=None):\n",
    "        self.prob = prob\n",
    "        self.value = value\n",
    "        self.left = None\n",
    "        self.right = None\n",
    "\n",
    "def huffman_coding(probabilities, codeword_length):\n",
    "    nodes = [Node(prob, str(i)) for i, prob in enumerate(probabilities)]\n",
    "    heapq.heapify(nodes)\n",
    "\n",
    "    while len(nodes) > 1:\n",
    "        left_node = heapq.heappop(nodes)\n",
    "        right_node = heapq.heappop(nodes)\n",
    "        parent_prob = left_node.prob + right_node.prob\n",
    "        parent_node = Node(parent_prob)\n",
    "        parent_node.left = left_node\n",
    "        parent_node.right = right_node\n",
    "        heapq.heappush(nodes, parent_node)\n",
    "\n",
    "    root = nodes[0]\n",
    "    codewords = {}\n",
    "    generate_codewords(root, \"\", codewords, codeword_length)\n",
    "    return codewords\n",
    "\n",
    "def generate_codewords(node, code, codewords, codeword_length):\n",
    "    if node.value is not None:\n",
    "        if len(code) == codeword_length:\n",
    "            codewords[node.value] = code\n",
    "        return\n",
    "\n",
    "    generate_codewords(node.left, code + \"0\", codewords, codeword_length)\n",
    "    generate_codewords(node.right, code + \"1\", codewords, codeword_length)\n",
    "\n",
    "# Test\n",
    "probabilities = [0.2, 0.15, 0.1, 0.1, 0.1, 0.05, 0.05, 0.05, 0.05, 0.05]\n",
    "codeword_length = 3\n",
    "\n",
    "codewords = huffman_coding(probabilities, codeword_length)\n",
    "print(\"Custom Probabilities:\", probabilities)\n",
    "print(\"Custom Codeword Length:\", codeword_length)\n",
    "print(\"Random Huffman Coding Tree with Custom Probabilities and Fixed Codeword Length:\")\n",
    "for value, codeword in codewords.items():\n",
    "    print(f\"Value: {value}, Codeword: {codeword}\")\n"
   ]
  },
  {
   "cell_type": "markdown",
   "id": "19f9825d",
   "metadata": {},
   "source": [
    "### 358. Convert Decimal to Excess-K Code Using Recursion and Custom K with Variable Size. \n",
    "Expected Output:\n",
    "Decimal Number: 10\n",
    "Custom K Value: 3\n",
    "Excess-K Code: 1011\n",
    "\n",
    "Decimal Number: -5\n",
    "Custom K Value: 2\n",
    "Excess-K Code: 111\n",
    "\n",
    "Decimal Number: 0\n",
    "Custom K Value: 0\n",
    "Excess-K Code: 0\n",
    "\n",
    "Decimal Number: -15\n",
    "Custom K Value: 10\n",
    "Excess-K Code: 101\n"
   ]
  },
  {
   "cell_type": "code",
   "execution_count": null,
   "id": "559278ef",
   "metadata": {},
   "outputs": [],
   "source": [
    "def convert_decimal_to_excess_k(num, k):\n",
    "    if num >= 0:\n",
    "        return bin(num + k)[2:]\n",
    "    else:\n",
    "        return bin(2 ** len(bin(k)[2:]) + num + k)[2:]\n",
    "\n",
    "def test_conversion(num, k):\n",
    "    print(f\"Decimal Number: {num}\")\n",
    "    print(f\"Custom K Value: {k}\")\n",
    "    excess_k_code = convert_decimal_to_excess_k(num, k)\n",
    "    print(f\"Excess-K Code: {excess_k_code}\")\n",
    "    print()\n",
    "\n",
    "# Test cases\n",
    "test_conversion(10, 3)\n",
    "test_conversion(-5, 2)\n",
    "test_conversion(0, 0)\n",
    "test_conversion(-15, 10)\n"
   ]
  },
  {
   "cell_type": "markdown",
   "id": "9c31acf2",
   "metadata": {},
   "source": [
    "### 359. Check if a Number is a Generalized Pyramidal Number\n",
    "A generalized pyramidal number is a number that can be represented in the form of a pyramid with a certain number of layers. The formula for the nth generalized pyramidal number is n(n + 1)(2n + 1) / 6.\n",
    "Expected Output:\n",
    "1 is a generalized pyramidal number.\n",
    "5 is a generalized pyramidal number.\n",
    "10 is a generalized pyramidal number.\n",
    "15 is a generalized pyramidal number.\n",
    "30 is a generalized pyramidal number.\n",
    "50 is not a generalized pyramidal number.\n",
    "55 is a not generalized pyramidal number."
   ]
  },
  {
   "cell_type": "code",
   "execution_count": null,
   "id": "809c502b",
   "metadata": {},
   "outputs": [],
   "source": [
    "def is_generalized_pyramidal_number(num):\n",
    "    n = 1\n",
    "    while True:\n",
    "        pyramidal_number = n * (n + 1) * (2 * n + 1) // 6\n",
    "        if pyramidal_number == num:\n",
    "            return True\n",
    "        elif pyramidal_number > num:\n",
    "            return False\n",
    "        n += 1\n",
    "\n",
    "# Test cases\n",
    "numbers_to_check = [1, 5, 10, 15, 30, 50, 55]\n",
    "for num in numbers_to_check:\n",
    "    result = is_generalized_pyramidal_number(num)\n",
    "    print(f\"{num} is {'a' if result else 'not a'} generalized pyramidal number.\")\n"
   ]
  },
  {
   "cell_type": "markdown",
   "id": "315d6067",
   "metadata": {},
   "source": [
    "### 360. Calculate the Volume of a Frustum of a Regular Octahedron with Custom Height and Base Length\n",
    "using the formula:\n",
    "\n",
    "Volume = (1/3) * h * (a^2 + b^2 + ab)\n",
    "Where h is the height of the frustum, and a and b are the side lengths of the two bases.\n",
    "\n",
    "Expected Output:\n",
    "The volume of the frustum of a regular octahedron with height 5, base length 3, and base length 6 is: 75.0\n"
   ]
  },
  {
   "cell_type": "code",
   "execution_count": null,
   "id": "a709b1cf",
   "metadata": {},
   "outputs": [],
   "source": [
    "def calculate_octahedron_frustum_volume(height, base_length_a, base_length_b):\n",
    "    volume = (1/3) * height * (base_length_a**2 + base_length_b**2 + base_length_a * base_length_b)\n",
    "    return volume\n",
    "\n",
    "# Custom inputs\n",
    "height = 5\n",
    "base_length_a = 3\n",
    "base_length_b = 6\n",
    "\n",
    "volume = calculate_octahedron_frustum_volume(height, base_length_a, base_length_b)\n",
    "print(f\"The volume of the frustum of a regular octahedron with height {height}, base length {base_length_a}, and base length {base_length_b} is: {volume}\")\n"
   ]
  }
 ],
 "metadata": {
  "kernelspec": {
   "display_name": "Python 3 (ipykernel)",
   "language": "python",
   "name": "python3"
  },
  "language_info": {
   "codemirror_mode": {
    "name": "ipython",
    "version": 3
   },
   "file_extension": ".py",
   "mimetype": "text/x-python",
   "name": "python",
   "nbconvert_exporter": "python",
   "pygments_lexer": "ipython3",
   "version": "3.11.4"
  }
 },
 "nbformat": 4,
 "nbformat_minor": 5
}

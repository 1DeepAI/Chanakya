{
 "cells": [
  {
   "cell_type": "markdown",
   "id": "046be2db",
   "metadata": {},
   "source": [
    "# Python Practice 71-80"
   ]
  },
  {
   "cell_type": "markdown",
   "id": "5067a63a",
   "metadata": {},
   "source": [
    "## Here are the Python programs for each of the objectives along with the associated algorithm, mathematical calculations, and string manipulations:"
   ]
  },
  {
   "cell_type": "markdown",
   "id": "7f44fed5",
   "metadata": {},
   "source": [
    "### 71. Check if a Number is a Pronic Number:"
   ]
  },
  {
   "cell_type": "code",
   "execution_count": 10,
   "id": "e823004b",
   "metadata": {},
   "outputs": [
    {
     "name": "stdout",
     "output_type": "stream",
     "text": [
      "42 is a pronic number.\n"
     ]
    }
   ],
   "source": [
    "def is_pronic_number(num):\n",
    "    for i in range(num + 1):\n",
    "        if i * (i + 1) == num:\n",
    "            return True\n",
    "    return False\n",
    "\n",
    "number = 42\n",
    "if is_pronic_number(number):\n",
    "    print(f\"{number} is a pronic number.\")\n",
    "else:\n",
    "    print(f\"{number} is not a pronic number.\")\n"
   ]
  },
  {
   "cell_type": "markdown",
   "id": "de509392",
   "metadata": {},
   "source": [
    "### 72. Calculate the Area of a Trapezoid:"
   ]
  },
  {
   "cell_type": "code",
   "execution_count": 9,
   "id": "fd684c2c",
   "metadata": {},
   "outputs": [
    {
     "name": "stdout",
     "output_type": "stream",
     "text": [
      "The area of the trapezoid with bases 5 and 7 and height 8 is 48.0.\n"
     ]
    }
   ],
   "source": [
    "def area_of_trapezoid(base1, base2, height):\n",
    "    return 0.5 * (base1 + base2) * height\n",
    "\n",
    "base1, base2, height = 5, 7, 8\n",
    "area = area_of_trapezoid(base1, base2, height)\n",
    "print(f\"The area of the trapezoid with bases {base1} and {base2} and height {height} is {area}.\")\n"
   ]
  },
  {
   "cell_type": "markdown",
   "id": "8706444e",
   "metadata": {},
   "source": [
    "### 73. Implement Queue Data Structure:"
   ]
  },
  {
   "cell_type": "code",
   "execution_count": 8,
   "id": "c5b4f6ee",
   "metadata": {},
   "outputs": [
    {
     "name": "stdout",
     "output_type": "stream",
     "text": [
      "Queue size: 3\n",
      "Front element: 1\n",
      "Dequeued element: 1\n",
      "Is the queue empty? False\n"
     ]
    }
   ],
   "source": [
    "class Queue:\n",
    "    def __init__(self):\n",
    "        self.items = []\n",
    "\n",
    "    def is_empty(self):\n",
    "        return len(self.items) == 0\n",
    "\n",
    "    def enqueue(self, item):\n",
    "        self.items.append(item)\n",
    "\n",
    "    def dequeue(self):\n",
    "        if not self.is_empty():\n",
    "            return self.items.pop(0)\n",
    "        else:\n",
    "            return None\n",
    "\n",
    "    def peek(self):\n",
    "        if not self.is_empty():\n",
    "            return self.items[0]\n",
    "        else:\n",
    "            return None\n",
    "\n",
    "    def size(self):\n",
    "        return len(self.items)\n",
    "\n",
    "# Example usage of the Queue data structure\n",
    "queue = Queue()\n",
    "queue.enqueue(1)\n",
    "queue.enqueue(2)\n",
    "queue.enqueue(3)\n",
    "print(\"Queue size:\", queue.size())\n",
    "print(\"Front element:\", queue.peek())\n",
    "print(\"Dequeued element:\", queue.dequeue())\n",
    "print(\"Is the queue empty?\", queue.is_empty())\n"
   ]
  },
  {
   "cell_type": "markdown",
   "id": "be10aed1",
   "metadata": {},
   "source": [
    "### 74. Find the Divisors of a Number:"
   ]
  },
  {
   "cell_type": "code",
   "execution_count": 7,
   "id": "15a82196",
   "metadata": {},
   "outputs": [
    {
     "name": "stdout",
     "output_type": "stream",
     "text": [
      "The divisors of 28 are: [1, 2, 4, 7, 14, 28]\n"
     ]
    }
   ],
   "source": [
    "def find_divisors(num):\n",
    "    divisors = [i for i in range(1, num+1) if num % i == 0]\n",
    "    return divisors\n",
    "\n",
    "number = 28\n",
    "divisors_list = find_divisors(number)\n",
    "print(f\"The divisors of {number} are: {divisors_list}\")\n"
   ]
  },
  {
   "cell_type": "markdown",
   "id": "d77b6b74",
   "metadata": {},
   "source": [
    "### 75. Calculate the Perimeter of a Parallelogram:"
   ]
  },
  {
   "cell_type": "code",
   "execution_count": 6,
   "id": "fedcfe83",
   "metadata": {},
   "outputs": [
    {
     "name": "stdout",
     "output_type": "stream",
     "text": [
      "The perimeter of the parallelogram with sides 6 and 9 is 30.\n"
     ]
    }
   ],
   "source": [
    "def perimeter_of_parallelogram(side1, side2):\n",
    "    return 2 * (side1 + side2)\n",
    "\n",
    "side1, side2 = 6, 9\n",
    "perimeter = perimeter_of_parallelogram(side1, side2)\n",
    "print(f\"The perimeter of the parallelogram with sides {side1} and {side2} is {perimeter}.\")\n"
   ]
  },
  {
   "cell_type": "markdown",
   "id": "1adb3136",
   "metadata": {},
   "source": [
    "### 76.Print the Pattern of a Hollow Square:"
   ]
  },
  {
   "cell_type": "code",
   "execution_count": 5,
   "id": "8d642e76",
   "metadata": {},
   "outputs": [
    {
     "name": "stdout",
     "output_type": "stream",
     "text": [
      "* * * * * \n",
      "*       *\n",
      "*       *\n",
      "*       *\n",
      "* * * * * \n"
     ]
    }
   ],
   "source": [
    "def print_hollow_square(n):\n",
    "    for i in range(n):\n",
    "        if i == 0 or i == n-1:\n",
    "            print(\"* \" * n)\n",
    "        else:\n",
    "            print(\"* \" + \"  \" * (n-2) + \"*\")\n",
    "\n",
    "rows = 5\n",
    "print_hollow_square(rows)\n"
   ]
  },
  {
   "cell_type": "markdown",
   "id": "16e79d05",
   "metadata": {},
   "source": [
    "### 77. Generate a Random Number with a Fixed Number of Digits:"
   ]
  },
  {
   "cell_type": "code",
   "execution_count": 4,
   "id": "71b50bfa",
   "metadata": {},
   "outputs": [
    {
     "name": "stdout",
     "output_type": "stream",
     "text": [
      "Generated Random Number with 4 digits: 3156\n"
     ]
    }
   ],
   "source": [
    "import random\n",
    "\n",
    "def generate_random_number_with_digits(num_digits):\n",
    "    min_limit = 10 ** (num_digits - 1)\n",
    "    max_limit = 10 ** num_digits - 1\n",
    "    return random.randint(min_limit, max_limit)\n",
    "\n",
    "digits = 4\n",
    "random_num = generate_random_number_with_digits(digits)\n",
    "print(f\"Generated Random Number with {digits} digits: {random_num}\")\n"
   ]
  },
  {
   "cell_type": "markdown",
   "id": "7724d770",
   "metadata": {},
   "source": [
    "### 78. Convert Binary to Hexadecimal:"
   ]
  },
  {
   "cell_type": "code",
   "execution_count": 3,
   "id": "4f447bf1",
   "metadata": {},
   "outputs": [
    {
     "name": "stdout",
     "output_type": "stream",
     "text": [
      "The hexadecimal representation of 101010 is 2A.\n"
     ]
    }
   ],
   "source": [
    "def binary_to_hexadecimal(binary_num):\n",
    "    decimal_num = int(binary_num, 2)\n",
    "    return hex(decimal_num).replace(\"0x\", \"\").upper()\n",
    "\n",
    "binary_num = \"101010\"\n",
    "hexadecimal_num = binary_to_hexadecimal(binary_num)\n",
    "print(f\"The hexadecimal representation of {binary_num} is {hexadecimal_num}.\")\n"
   ]
  },
  {
   "cell_type": "markdown",
   "id": "da601521",
   "metadata": {},
   "source": [
    "### 79. Check if a Number is a Disarium Number:"
   ]
  },
  {
   "cell_type": "code",
   "execution_count": 2,
   "id": "98b49abf",
   "metadata": {},
   "outputs": [
    {
     "name": "stdout",
     "output_type": "stream",
     "text": [
      "89 is a Disarium number.\n"
     ]
    }
   ],
   "source": [
    "def is_disarium_number(num):\n",
    "    num_str = str(num)\n",
    "    sum = 0\n",
    "    for i, digit in enumerate(num_str, start=1):\n",
    "        sum += int(digit) ** i\n",
    "    return num == sum\n",
    "\n",
    "number = 89\n",
    "if is_disarium_number(number):\n",
    "    print(f\"{number} is a Disarium number.\")\n",
    "else:\n",
    "    print(f\"{number} is not a Disarium number.\")\n"
   ]
  },
  {
   "cell_type": "markdown",
   "id": "364d5a36",
   "metadata": {},
   "source": [
    "### 80. Calculate the Area of a Regular Polygon:"
   ]
  },
  {
   "cell_type": "code",
   "execution_count": 1,
   "id": "f7a44b36",
   "metadata": {},
   "outputs": [
    {
     "name": "stdout",
     "output_type": "stream",
     "text": [
      "The area of the regular polygon with side length 6 and 5 sides is 61.94.\n"
     ]
    }
   ],
   "source": [
    "import math\n",
    "\n",
    "def area_of_regular_polygon(side_length, num_sides):\n",
    "    return (side_length ** 2 * num_sides) / (4 * math.tan(math.pi / num_sides))\n",
    "\n",
    "side_length, num_sides = 6, 5\n",
    "area = area_of_regular_polygon(side_length, num_sides)\n",
    "print(f\"The area of the regular polygon with side length {side_length} and {num_sides} sides is {area:.2f}.\")\n"
   ]
  },
  {
   "cell_type": "code",
   "execution_count": null,
   "id": "5794d77a",
   "metadata": {},
   "outputs": [],
   "source": []
  }
 ],
 "metadata": {
  "kernelspec": {
   "display_name": "Python 3 (ipykernel)",
   "language": "python",
   "name": "python3"
  },
  "language_info": {
   "codemirror_mode": {
    "name": "ipython",
    "version": 3
   },
   "file_extension": ".py",
   "mimetype": "text/x-python",
   "name": "python",
   "nbconvert_exporter": "python",
   "pygments_lexer": "ipython3",
   "version": "3.11.4"
  }
 },
 "nbformat": 4,
 "nbformat_minor": 5
}

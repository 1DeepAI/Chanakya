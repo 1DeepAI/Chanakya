{
 "cells": [
  {
   "cell_type": "markdown",
   "id": "a0d72eb7",
   "metadata": {},
   "source": [
    "# Python Practice 181-190"
   ]
  },
  {
   "cell_type": "markdown",
   "id": "ad35c924",
   "metadata": {},
   "source": [
    "## Here are the Python programs for each of the objectives along with the associated algorithm, mathematical calculations, and string manipulations:"
   ]
  },
  {
   "cell_type": "markdown",
   "id": "92eb25ed",
   "metadata": {},
   "source": [
    "### 181. Generate a Random Maze Using Kruskal's Algorithm"
   ]
  },
  {
   "cell_type": "code",
   "execution_count": 10,
   "id": "99281c08",
   "metadata": {},
   "outputs": [
    {
     "name": "stdout",
     "output_type": "stream",
     "text": [
      "#########################################\n",
      "# # # # # # # # # # # # # # # # # # # # #\n",
      "# # # # # # # # # # # # # # # # # # # # #\n",
      "# # # # # # # # # # # # # # # # # # # # #\n",
      "# # # # # # # # # # # # # # # # # # # # #\n",
      "# # # # # # # # # # # # # # # # # # # # #\n",
      "# # # # # # # # # # # # # # # # # # # # #\n",
      "# # # # # # # # # # # # # # # # # # # # #\n",
      "# # # # # # # # # # # # # # # # # # # # #\n",
      "# # # # # # # # # # # # # # # # # # # # #\n",
      "# # # # # # # # # # # # # # # # # # # # #\n",
      "# # # # # # # # # # # # # # # # # # # # #\n",
      "# # # # # # # # # # # # # # # # # # # # #\n",
      "# # # # # # # # # # # # # # # # # # # # #\n",
      "# # # # # # # # # # # # # # # # # # # # #\n",
      "# # # # # # # # #   # # # #   # # # # # #\n",
      "# # # # # # # # # # # # # # # # # # # # #\n",
      "# # # #   # #     # # # #   # # # ### # #\n",
      "# # # # # # # # # # # # # # # # # # # # #\n",
      "#       #     # # #       # #           #\n",
      "#########################################\n"
     ]
    }
   ],
   "source": [
    "import random\n",
    "\n",
    "def generate_random_maze_kruskal(rows, cols):\n",
    "    def find(node):\n",
    "        while node != disjoint_set[node]:\n",
    "            node = disjoint_set[node]\n",
    "        return node\n",
    "\n",
    "    def union(node1, node2):\n",
    "        root1, root2 = find(node1), find(node2)\n",
    "        if root1 != root2:\n",
    "            disjoint_set[root2] = root1\n",
    "\n",
    "    def generate_maze_cells(rows, cols):\n",
    "        cells = []\n",
    "        for i in range(rows):\n",
    "            for j in range(cols):\n",
    "                cells.append((i, j))\n",
    "        return cells\n",
    "\n",
    "    def generate_maze():\n",
    "        random.shuffle(cells)\n",
    "        for cell in cells:\n",
    "            x, y = cell\n",
    "            neighbors = [(x+1, y), (x-1, y), (x, y+1), (x, y-1)]\n",
    "            for nx, ny in neighbors:\n",
    "                if 0 <= nx < rows and 0 <= ny < cols and find(cell) != find((nx, ny)):\n",
    "                    union(cell, (nx, ny))\n",
    "                    maze[x*2+1][y*2+1] = \" \"\n",
    "                    maze[x*2+1+nx-x][y*2+1+ny-y] = \" \"\n",
    "                    break\n",
    "\n",
    "    maze = [[\"#\" for _ in range(cols*2+1)] for _ in range(rows*2+1)]\n",
    "    disjoint_set = {(i, j): (i, j) for i in range(rows) for j in range(cols)}\n",
    "    cells = generate_maze_cells(rows, cols)\n",
    "    generate_maze()\n",
    "    return maze\n",
    "\n",
    "rows, cols = 10, 20\n",
    "maze = generate_random_maze_kruskal(rows, cols)\n",
    "for row in maze:\n",
    "    print(\"\".join(row))\n"
   ]
  },
  {
   "cell_type": "markdown",
   "id": "511e902a",
   "metadata": {},
   "source": [
    "### 182. Convert Decimal to Gray Code Using Bit Manipulation"
   ]
  },
  {
   "cell_type": "code",
   "execution_count": 9,
   "id": "94420618",
   "metadata": {},
   "outputs": [
    {
     "name": "stdout",
     "output_type": "stream",
     "text": [
      "The Gray Code representation of 15 is 8.\n"
     ]
    }
   ],
   "source": [
    "def decimal_to_gray_code(decimal):\n",
    "    return decimal ^ (decimal >> 1)\n",
    "\n",
    "decimal_num = 15\n",
    "gray_code = decimal_to_gray_code(decimal_num)\n",
    "print(f\"The Gray Code representation of {decimal_num} is {gray_code}.\")\n"
   ]
  },
  {
   "cell_type": "markdown",
   "id": "5d3e15a5",
   "metadata": {},
   "source": [
    "### 183. Check if a String is a Super Palindrome"
   ]
  },
  {
   "cell_type": "code",
   "execution_count": 8,
   "id": "2ad9eee0",
   "metadata": {},
   "outputs": [
    {
     "name": "stdout",
     "output_type": "stream",
     "text": [
      "12321 is not a super palindrome.\n"
     ]
    }
   ],
   "source": [
    "def is_palindrome(word):\n",
    "    return word == word[::-1]\n",
    "\n",
    "def is_super_palindrome(word):\n",
    "    length = len(word)\n",
    "    for i in range(length // 2):\n",
    "        if word[i] != word[length - i - 1]:\n",
    "            return False\n",
    "    return is_palindrome(str(int(word)**2))\n",
    "\n",
    "word = \"12321\"\n",
    "if is_super_palindrome(word):\n",
    "    print(f\"{word} is a super palindrome.\")\n",
    "else:\n",
    "    print(f\"{word} is not a super palindrome.\")\n"
   ]
  },
  {
   "cell_type": "markdown",
   "id": "f35f6967",
   "metadata": {},
   "source": [
    "### 184. Calculate the Volume of an Icosahedron"
   ]
  },
  {
   "cell_type": "code",
   "execution_count": 7,
   "id": "1c7315db",
   "metadata": {},
   "outputs": [
    {
     "name": "stdout",
     "output_type": "stream",
     "text": [
      "The volume of the icosahedron with edge length 5 is 272.71.\n"
     ]
    }
   ],
   "source": [
    "def volume_of_icosahedron(edge_length):\n",
    "    import math\n",
    "    phi = (1 + math.sqrt(5)) / 2\n",
    "    volume = 5 * edge_length**3 * (3 + math.sqrt(5)) / 12\n",
    "    return volume\n",
    "\n",
    "edge_length = 5\n",
    "volume = volume_of_icosahedron(edge_length)\n",
    "print(f\"The volume of the icosahedron with edge length {edge_length} is {volume:.2f}.\")\n"
   ]
  },
  {
   "cell_type": "markdown",
   "id": "772e947c",
   "metadata": {},
   "source": [
    "### 185. Implement Matrix Data Structure"
   ]
  },
  {
   "cell_type": "code",
   "execution_count": 6,
   "id": "70ba4172",
   "metadata": {},
   "outputs": [
    {
     "name": "stdout",
     "output_type": "stream",
     "text": [
      "Matrix:\n",
      "1 2 0 0\n",
      "0 0 3 0\n",
      "0 0 0 4\n"
     ]
    }
   ],
   "source": [
    "class Matrix:\n",
    "    def __init__(self, rows, cols):\n",
    "        self.rows = rows\n",
    "        self.cols = cols\n",
    "        self.data = [[0] * cols for _ in range(rows)]\n",
    "\n",
    "    def set_element(self, row, col, value):\n",
    "        self.data[row][col] = value\n",
    "\n",
    "    def get_element(self, row, col):\n",
    "        return self.data[row][col]\n",
    "\n",
    "    def display(self):\n",
    "        for row in self.data:\n",
    "            print(\" \".join(map(str, row)))\n",
    "\n",
    "# Example usage of the Matrix data structure\n",
    "rows, cols = 3, 4\n",
    "matrix = Matrix(rows, cols)\n",
    "matrix.set_element(0, 0, 1)\n",
    "matrix.set_element(0, 1, 2)\n",
    "matrix.set_element(1, 2, 3)\n",
    "matrix.set_element(2, 3, 4)\n",
    "\n",
    "print(\"Matrix:\")\n",
    "matrix.display()\n"
   ]
  },
  {
   "cell_type": "markdown",
   "id": "6b713e2f",
   "metadata": {},
   "source": [
    "### 186. Find the Powerful Numbers in a Range"
   ]
  },
  {
   "cell_type": "code",
   "execution_count": 5,
   "id": "7ee50b33",
   "metadata": {},
   "outputs": [
    {
     "name": "stdout",
     "output_type": "stream",
     "text": [
      "Powerful numbers in the range 1 to 100: [1, 4, 8, 9, 16, 25, 27, 32, 36, 49, 64, 72, 81, 100]\n"
     ]
    }
   ],
   "source": [
    "def is_powerful_number(num):\n",
    "    def prime_factors(n):\n",
    "        factors = set()\n",
    "        while n % 2 == 0:\n",
    "            factors.add(2)\n",
    "            n //= 2\n",
    "        for i in range(3, int(n**0.5) + 1, 2):\n",
    "            while n % i == 0:\n",
    "                factors.add(i)\n",
    "                n //= i\n",
    "        if n > 2:\n",
    "            factors.add(n)\n",
    "        return factors\n",
    "\n",
    "    factors = prime_factors(num)\n",
    "    for factor in factors:\n",
    "        if num % (factor ** 2) != 0:\n",
    "            return False\n",
    "    return True\n",
    "\n",
    "start_range, end_range = 1, 100\n",
    "powerful_numbers_list = [num for num in range(start_range, end_range+1) if is_powerful_number(num)]\n",
    "print(f\"Powerful numbers in the range {start_range} to {end_range}: {powerful_numbers_list}\")\n"
   ]
  },
  {
   "cell_type": "markdown",
   "id": "1d79dfef",
   "metadata": {},
   "source": [
    "### 187. Calculate the Perimeter of a Reuleaux Triangle"
   ]
  },
  {
   "cell_type": "code",
   "execution_count": 4,
   "id": "0dea78a9",
   "metadata": {},
   "outputs": [
    {
     "name": "stdout",
     "output_type": "stream",
     "text": [
      "The perimeter of the Reuleaux triangle with radius 5 is 47.12.\n"
     ]
    }
   ],
   "source": [
    "def calculate_perimeter_of_reuleaux_triangle(radius):\n",
    "    import math\n",
    "    perimeter = 3 * math.pi * radius\n",
    "    return perimeter\n",
    "\n",
    "radius = 5\n",
    "perimeter = calculate_perimeter_of_reuleaux_triangle(radius)\n",
    "print(f\"The perimeter of the Reuleaux triangle with radius {radius} is {perimeter:.2f}.\")\n"
   ]
  },
  {
   "cell_type": "markdown",
   "id": "b6ac06b9",
   "metadata": {},
   "source": [
    "### 188. Print the Pattern of a Hollow Diamond with Right Alignment"
   ]
  },
  {
   "cell_type": "code",
   "execution_count": 3,
   "id": "08ca14c6",
   "metadata": {},
   "outputs": [
    {
     "name": "stdout",
     "output_type": "stream",
     "text": [
      "Hollow Diamond:\n",
      "    *\n",
      "   * *\n",
      "  *   *\n",
      " *     *\n",
      "*\n",
      " *     *\n",
      "  *   *\n",
      "   * *\n",
      "    *\n"
     ]
    }
   ],
   "source": [
    "def print_hollow_diamond(rows):\n",
    "    for i in range(rows):\n",
    "        print(\" \" * (rows - i - 1), end=\"\")\n",
    "        if i == 0 or i == rows - 1:\n",
    "            print(\"*\")\n",
    "        else:\n",
    "            print(\"*\" + \" \" * (2 * i - 1) + \"*\")\n",
    "    for i in range(rows - 2, -1, -1):\n",
    "        print(\" \" * (rows - i - 1), end=\"\")\n",
    "        if i == 0 or i == rows - 1:\n",
    "            print(\"*\")\n",
    "        else:\n",
    "            print(\"*\" + \" \" * (2 * i - 1) + \"*\")\n",
    "\n",
    "rows = 5\n",
    "print(\"Hollow Diamond:\")\n",
    "print_hollow_diamond(rows)\n"
   ]
  },
  {
   "cell_type": "markdown",
   "id": "9d195876",
   "metadata": {},
   "source": [
    "### 189. Generate a Random Sudoku Puzzle"
   ]
  },
  {
   "cell_type": "code",
   "execution_count": 2,
   "id": "8670a070",
   "metadata": {},
   "outputs": [
    {
     "name": "stdout",
     "output_type": "stream",
     "text": [
      "Random Sudoku Puzzle:\n",
      "6 4 8 7 5 3 1 9 2\n",
      "9 2 1 6 4 8 3 7 5\n",
      "5 3 7 9 2 1 8 6 4\n",
      "8 5 6 2 3 4 9 1 7\n",
      "2 9 3 8 1 7 4 5 6\n",
      "1 7 4 5 6 9 2 8 3\n",
      "3 6 9 1 7 2 5 4 8\n",
      "4 8 5 3 9 6 7 2 1\n",
      "7 1 2 4 8 5 6 3 9\n"
     ]
    }
   ],
   "source": [
    "import random\n",
    "\n",
    "def generate_sudoku():\n",
    "    n = 9\n",
    "    grid = [[0 for _ in range(n)] for _ in range(n)]\n",
    "    numbers = list(range(1, n + 1))\n",
    "\n",
    "    def is_safe(row, col, num):\n",
    "        for i in range(n):\n",
    "            if grid[row][i] == num or grid[i][col] == num:\n",
    "                return False\n",
    "        row_start, col_start = 3 * (row // 3), 3 * (col // 3)\n",
    "        for i in range(row_start, row_start + 3):\n",
    "            for j in range(col_start, col_start + 3):\n",
    "                if grid[i][j] == num:\n",
    "                    return False\n",
    "        return True\n",
    "\n",
    "    def solve_sudoku():\n",
    "        empty_cell = find_empty_cell()\n",
    "        if not empty_cell:\n",
    "            return True\n",
    "        row, col = empty_cell\n",
    "        random.shuffle(numbers)\n",
    "        for num in numbers:\n",
    "            if is_safe(row, col, num):\n",
    "                grid[row][col] = num\n",
    "                if solve_sudoku():\n",
    "                    return True\n",
    "                grid[row][col] = 0\n",
    "        return False\n",
    "\n",
    "    def find_empty_cell():\n",
    "        for i in range(n):\n",
    "            for j in range(n):\n",
    "                if grid[i][j] == 0:\n",
    "                    return i, j\n",
    "        return None\n",
    "\n",
    "    solve_sudoku()\n",
    "    return grid\n",
    "\n",
    "def print_sudoku(grid):\n",
    "    for row in grid:\n",
    "        print(\" \".join(map(str, row)))\n",
    "\n",
    "sudoku = generate_sudoku()\n",
    "print(\"Random Sudoku Puzzle:\")\n",
    "print_sudoku(sudoku)\n"
   ]
  },
  {
   "cell_type": "markdown",
   "id": "e75bae97",
   "metadata": {},
   "source": [
    "### 190. Convert Decimal to Roman Numeral Using a Dictionary"
   ]
  },
  {
   "cell_type": "code",
   "execution_count": 1,
   "id": "4efb221c",
   "metadata": {},
   "outputs": [
    {
     "name": "stdout",
     "output_type": "stream",
     "text": [
      "The Roman numeral representation of 1984 is MCMLXXXIV.\n"
     ]
    }
   ],
   "source": [
    "def decimal_to_roman(decimal):\n",
    "    roman_numerals = {\n",
    "        1000: 'M', 900: 'CM', 500: 'D', 400: 'CD', 100: 'C',\n",
    "        90: 'XC', 50: 'L', 40: 'XL', 10: 'X', 9: 'IX', 5: 'V', 4: 'IV', 1: 'I'\n",
    "    }\n",
    "    roman_numeral = ''\n",
    "    for value, symbol in roman_numerals.items():\n",
    "        while decimal >= value:\n",
    "            roman_numeral += symbol\n",
    "            decimal -= value\n",
    "    return roman_numeral\n",
    "\n",
    "decimal_num = 1984\n",
    "roman_numeral = decimal_to_roman(decimal_num)\n",
    "print(f\"The Roman numeral representation of {decimal_num} is {roman_numeral}.\")\n"
   ]
  },
  {
   "cell_type": "code",
   "execution_count": null,
   "id": "ce6fc5ab",
   "metadata": {},
   "outputs": [],
   "source": []
  }
 ],
 "metadata": {
  "kernelspec": {
   "display_name": "Python 3 (ipykernel)",
   "language": "python",
   "name": "python3"
  },
  "language_info": {
   "codemirror_mode": {
    "name": "ipython",
    "version": 3
   },
   "file_extension": ".py",
   "mimetype": "text/x-python",
   "name": "python",
   "nbconvert_exporter": "python",
   "pygments_lexer": "ipython3",
   "version": "3.11.4"
  }
 },
 "nbformat": 4,
 "nbformat_minor": 5
}

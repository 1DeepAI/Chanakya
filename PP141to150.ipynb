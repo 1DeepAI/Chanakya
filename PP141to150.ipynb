{
 "cells": [
  {
   "cell_type": "markdown",
   "id": "d508d60f",
   "metadata": {},
   "source": [
    "# Python Practice 141-150"
   ]
  },
  {
   "cell_type": "markdown",
   "id": "4a39d115",
   "metadata": {},
   "source": [
    "##  Here are the Python programs for each of the objectives along with the associated algorithm, mathematical calculations, and string manipulations:"
   ]
  },
  {
   "cell_type": "markdown",
   "id": "a0a045d6",
   "metadata": {},
   "source": [
    "### 141. Generate a Random Password with Required Strength"
   ]
  },
  {
   "cell_type": "code",
   "execution_count": 11,
   "id": "35b6bc8b",
   "metadata": {},
   "outputs": [
    {
     "name": "stdout",
     "output_type": "stream",
     "text": [
      "Generated Random Password with required strength: {:]+H:cx!%\")\n"
     ]
    }
   ],
   "source": [
    "import random\n",
    "import string\n",
    "\n",
    "def generate_random_password_strength(length, requires_uppercase=True, requires_lowercase=True, requires_digits=True, requires_special_chars=True):\n",
    "    characters = \"\"\n",
    "    if requires_uppercase:\n",
    "        characters += string.ascii_uppercase\n",
    "    if requires_lowercase:\n",
    "        characters += string.ascii_lowercase\n",
    "    if requires_digits:\n",
    "        characters += string.digits\n",
    "    if requires_special_chars:\n",
    "        characters += string.punctuation\n",
    "    random_password = ''.join(random.choice(characters) for _ in range(length))\n",
    "    return random_password\n",
    "\n",
    "password_length = 12\n",
    "password_requires_uppercase = True\n",
    "password_requires_lowercase = True\n",
    "password_requires_digits = True\n",
    "password_requires_special_chars = True\n",
    "random_password = generate_random_password_strength(password_length, password_requires_uppercase, password_requires_lowercase, password_requires_digits, password_requires_special_chars)\n",
    "print(f\"Generated Random Password with required strength: {random_password}\")\n"
   ]
  },
  {
   "cell_type": "markdown",
   "id": "3192d1ef",
   "metadata": {},
   "source": [
    "### 142. Convert Decimal to Roman Numeral"
   ]
  },
  {
   "cell_type": "code",
   "execution_count": 10,
   "id": "f9974210",
   "metadata": {},
   "outputs": [
    {
     "name": "stdout",
     "output_type": "stream",
     "text": [
      "The Roman numeral representation of 42 is XLII.\n"
     ]
    }
   ],
   "source": [
    "def decimal_to_roman(num):\n",
    "    val = [\n",
    "        1000, 900, 500, 400,\n",
    "        100, 90, 50, 40,\n",
    "        10, 9, 5, 4,\n",
    "        1\n",
    "    ]\n",
    "    syms = [\n",
    "        \"M\", \"CM\", \"D\", \"CD\",\n",
    "        \"C\", \"XC\", \"L\", \"XL\",\n",
    "        \"X\", \"IX\", \"V\", \"IV\",\n",
    "        \"I\"\n",
    "    ]\n",
    "    roman_numeral = \"\"\n",
    "    i = 0\n",
    "    while num > 0:\n",
    "        for _ in range(num // val[i]):\n",
    "            roman_numeral += syms[i]\n",
    "            num -= val[i]\n",
    "        i += 1\n",
    "    return roman_numeral\n",
    "\n",
    "decimal_num = 42\n",
    "roman_numeral = decimal_to_roman(decimal_num)\n",
    "print(f\"The Roman numeral representation of {decimal_num} is {roman_numeral}.\")\n"
   ]
  },
  {
   "cell_type": "markdown",
   "id": "709b5b3c",
   "metadata": {},
   "source": [
    "### 143. Check if a Number is a Happy Prime"
   ]
  },
  {
   "cell_type": "code",
   "execution_count": 9,
   "id": "fc318665",
   "metadata": {},
   "outputs": [
    {
     "name": "stdout",
     "output_type": "stream",
     "text": [
      "23 is a happy prime.\n"
     ]
    }
   ],
   "source": [
    "def is_prime(num):\n",
    "    if num < 2:\n",
    "        return False\n",
    "    for i in range(2, int(num**0.5) + 1):\n",
    "        if num % i == 0:\n",
    "            return False\n",
    "    return True\n",
    "\n",
    "def is_happy_number(num):\n",
    "    seen = set()\n",
    "    while num != 1 and num not in seen:\n",
    "        seen.add(num)\n",
    "        num = sum(int(digit)**2 for digit in str(num))\n",
    "    return num == 1\n",
    "\n",
    "def is_happy_prime(num):\n",
    "    return is_prime(num) and is_happy_number(num)\n",
    "\n",
    "number = 23\n",
    "if is_happy_prime(number):\n",
    "    print(f\"{number} is a happy prime.\")\n",
    "else:\n",
    "    print(f\"{number} is not a happy prime.\")\n"
   ]
  },
  {
   "cell_type": "markdown",
   "id": "88486f46",
   "metadata": {},
   "source": [
    "### 144. Calculate the Volume of a Cone"
   ]
  },
  {
   "cell_type": "code",
   "execution_count": 8,
   "id": "58102c57",
   "metadata": {},
   "outputs": [
    {
     "name": "stdout",
     "output_type": "stream",
     "text": [
      "The volume of the cone with radius 5 and height 8 is 209.44.\n"
     ]
    }
   ],
   "source": [
    "import math\n",
    "\n",
    "def volume_of_cone(radius, height):\n",
    "    return (1/3) * math.pi * radius ** 2 * height\n",
    "\n",
    "radius, height = 5, 8\n",
    "volume = volume_of_cone(radius, height)\n",
    "print(f\"The volume of the cone with radius {radius} and height {height} is {volume:.2f}.\")\n"
   ]
  },
  {
   "cell_type": "markdown",
   "id": "69d0a778",
   "metadata": {},
   "source": [
    "### 145. Implement Graph Data Structure"
   ]
  },
  {
   "cell_type": "code",
   "execution_count": 7,
   "id": "1539ad7a",
   "metadata": {},
   "outputs": [
    {
     "name": "stdout",
     "output_type": "stream",
     "text": [
      "Vertices: [1, 2, 3, 4]\n",
      "Neighbors of vertex 1: [2, 3]\n",
      "Neighbors of vertex 3: [1, 2, 4]\n"
     ]
    }
   ],
   "source": [
    "class Graph:\n",
    "    def __init__(self):\n",
    "        self.graph = {}\n",
    "\n",
    "    def add_edge(self, u, v):\n",
    "        if u not in self.graph:\n",
    "            self.graph[u] = []\n",
    "        if v not in self.graph:\n",
    "            self.graph[v] = []\n",
    "        self.graph[u].append(v)\n",
    "        self.graph[v].append(u)\n",
    "\n",
    "    def get_vertices(self):\n",
    "        return list(self.graph.keys())\n",
    "\n",
    "    def get_neighbors(self, vertex):\n",
    "        return self.graph[vertex]\n",
    "\n",
    "# Example usage of the Graph data structure\n",
    "graph = Graph()\n",
    "graph.add_edge(1, 2)\n",
    "graph.add_edge(1, 3)\n",
    "graph.add_edge(2, 3)\n",
    "graph.add_edge(3, 4)\n",
    "\n",
    "print(\"Vertices:\", graph.get_vertices())\n",
    "print(\"Neighbors of vertex 1:\", graph.get_neighbors(1))\n",
    "print(\"Neighbors of vertex 3:\", graph.get_neighbors(3))\n"
   ]
  },
  {
   "cell_type": "markdown",
   "id": "2d421684",
   "metadata": {},
   "source": [
    "### 146. Find the Amicable Numbers in a Range"
   ]
  },
  {
   "cell_type": "code",
   "execution_count": 6,
   "id": "7e308582",
   "metadata": {},
   "outputs": [
    {
     "name": "stdout",
     "output_type": "stream",
     "text": [
      "Amicable numbers in the range 1 to 1000: [(220, 284)]\n"
     ]
    }
   ],
   "source": [
    "def sum_of_divisors(num):\n",
    "    divisors_sum = 1\n",
    "    for i in range(2, int(num**0.5) + 1):\n",
    "        if num % i == 0:\n",
    "            divisors_sum += i\n",
    "            if num // i != i:\n",
    "                divisors_sum += num // i\n",
    "    return divisors_sum\n",
    "\n",
    "def are_amicable_numbers(num1, num2):\n",
    "    return sum_of_divisors(num1) == num2 and sum_of_divisors(num2) == num1\n",
    "\n",
    "def find_amicable_numbers(start, end):\n",
    "    amicable_numbers = [(num1, num2) for num1 in range(start, end+1) for num2 in range(num1+1, end+1) if are_amicable_numbers(num1, num2)]\n",
    "    return amicable_numbers\n",
    "\n",
    "start_range, end_range = 1, 1000\n",
    "amicable_numbers_list = find_amicable_numbers(start_range, end_range)\n",
    "print(f\"Amicable numbers in the range {start_range} to {end_range}: {amicable_numbers_list}\")\n"
   ]
  },
  {
   "cell_type": "markdown",
   "id": "d6621514",
   "metadata": {},
   "source": [
    "### 147. Calculate the Perimeter of a Regular Octahedron"
   ]
  },
  {
   "cell_type": "code",
   "execution_count": 5,
   "id": "0b84ad4e",
   "metadata": {},
   "outputs": [
    {
     "name": "stdout",
     "output_type": "stream",
     "text": [
      "The perimeter of the regular octahedron with edge length 5 is 30.00.\n"
     ]
    }
   ],
   "source": [
    "def perimeter_of_regular_octahedron(edge_length):\n",
    "    return 6 * edge_length\n",
    "\n",
    "edge_length = 5\n",
    "perimeter = perimeter_of_regular_octahedron(edge_length)\n",
    "print(f\"The perimeter of the regular octahedron with edge length {edge_length} is {perimeter:.2f}.\")\n"
   ]
  },
  {
   "cell_type": "markdown",
   "id": "1c06de94",
   "metadata": {},
   "source": [
    "### 148. Print the Pattern of a Hollow Floyd's Triangle"
   ]
  },
  {
   "cell_type": "code",
   "execution_count": 4,
   "id": "bbc4acd4",
   "metadata": {},
   "outputs": [
    {
     "name": "stdout",
     "output_type": "stream",
     "text": [
      "1 \n",
      "2 3 \n",
      "4   6 \n",
      "7     10 \n",
      "11 12 13 14 15 \n"
     ]
    }
   ],
   "source": [
    "def print_hollow_floyds_triangle(n):\n",
    "    num = 1\n",
    "    for i in range(1, n+1):\n",
    "        for j in range(1, i+1):\n",
    "            if i == n or j == 1 or j == i:\n",
    "                print(num, end=\" \")\n",
    "            else:\n",
    "                print(\" \", end=\" \")\n",
    "            num += 1\n",
    "        print()\n",
    "\n",
    "rows = 5\n",
    "print_hollow_floyds_triangle(rows)\n"
   ]
  },
  {
   "cell_type": "markdown",
   "id": "b97e3f16",
   "metadata": {},
   "source": [
    "### 149. Generate a Random Password with Pronounceable Syllables"
   ]
  },
  {
   "cell_type": "code",
   "execution_count": 3,
   "id": "48d655d7",
   "metadata": {},
   "outputs": [
    {
     "name": "stdout",
     "output_type": "stream",
     "text": [
      "Generated Random Password with pronounceable syllables: leyucutaca\n"
     ]
    }
   ],
   "source": [
    "import random\n",
    "import string\n",
    "\n",
    "vowels = \"aeiou\"\n",
    "consonants = \"bcdfghjklmnpqrstvwxyz\"\n",
    "\n",
    "def generate_random_syllable():\n",
    "    return random.choice(consonants) + random.choice(vowels)\n",
    "\n",
    "def generate_random_password_pronounceable(length):\n",
    "    password = \"\"\n",
    "    for _ in range(length // 2):\n",
    "        password += generate_random_syllable()\n",
    "    if length % 2 != 0:\n",
    "        password += random.choice(consonants)\n",
    "    return password\n",
    "\n",
    "password_length = 10\n",
    "random_password = generate_random_password_pronounceable(password_length)\n",
    "print(f\"Generated Random Password with pronounceable syllables: {random_password}\")\n"
   ]
  },
  {
   "cell_type": "markdown",
   "id": "f918bd82",
   "metadata": {},
   "source": [
    "### 150. Convert Roman Numeral to Decimal"
   ]
  },
  {
   "cell_type": "code",
   "execution_count": 2,
   "id": "7055bc08",
   "metadata": {},
   "outputs": [
    {
     "name": "stdout",
     "output_type": "stream",
     "text": [
      "The decimal representation of XLII is 42.\n"
     ]
    }
   ],
   "source": [
    "def roman_to_decimal(roman_numeral):\n",
    "    roman_values = {\n",
    "        'I': 1, 'V': 5, 'X': 10, 'L': 50,\n",
    "        'C': 100, 'D': 500, 'M': 1000\n",
    "    }\n",
    "    decimal_num = 0\n",
    "    prev_value = 0\n",
    "\n",
    "    for char in reversed(roman_numeral):\n",
    "        value = roman_values[char]\n",
    "        if value < prev_value:\n",
    "            decimal_num -= value\n",
    "        else:\n",
    "            decimal_num += value\n",
    "        prev_value = value\n",
    "\n",
    "    return decimal_num\n",
    "\n",
    "roman_numeral = \"XLII\"\n",
    "decimal_num = roman_to_decimal(roman_numeral)\n",
    "print(f\"The decimal representation of {roman_numeral} is {decimal_num}.\")\n"
   ]
  }
 ],
 "metadata": {
  "kernelspec": {
   "display_name": "Python 3 (ipykernel)",
   "language": "python",
   "name": "python3"
  },
  "language_info": {
   "codemirror_mode": {
    "name": "ipython",
    "version": 3
   },
   "file_extension": ".py",
   "mimetype": "text/x-python",
   "name": "python",
   "nbconvert_exporter": "python",
   "pygments_lexer": "ipython3",
   "version": "3.11.4"
  }
 },
 "nbformat": 4,
 "nbformat_minor": 5
}

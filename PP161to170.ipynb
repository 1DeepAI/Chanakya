{
 "cells": [
  {
   "cell_type": "markdown",
   "id": "420cf804",
   "metadata": {},
   "source": [
    "# Python Practice 161-170"
   ]
  },
  {
   "cell_type": "markdown",
   "id": "a15263e1",
   "metadata": {},
   "source": [
    "## Here are the Python programs for each of the objectives along with the associated algorithm, mathematical calculations, and string manipulations:"
   ]
  },
  {
   "cell_type": "markdown",
   "id": "63f72d4a",
   "metadata": {},
   "source": [
    "### 161. Implement Disjoint Set (Union-Find) Data Structure"
   ]
  },
  {
   "cell_type": "code",
   "execution_count": 11,
   "id": "ff113307",
   "metadata": {},
   "outputs": [
    {
     "name": "stdout",
     "output_type": "stream",
     "text": [
      "Parent of 0: 0\n",
      "Parent of 3: 3\n"
     ]
    }
   ],
   "source": [
    "class DisjointSet:\n",
    "    def __init__(self, n):\n",
    "        self.parent = [i for i in range(n)]\n",
    "        self.rank = [0 for _ in range(n)]\n",
    "\n",
    "    def find(self, x):\n",
    "        if self.parent[x] != x:\n",
    "            self.parent[x] = self.find(self.parent[x])\n",
    "        return self.parent[x]\n",
    "\n",
    "    def union(self, x, y):\n",
    "        root_x = self.find(x)\n",
    "        root_y = self.find(y)\n",
    "        if root_x != root_y:\n",
    "            if self.rank[root_x] > self.rank[root_y]:\n",
    "                self.parent[root_y] = root_x\n",
    "            elif self.rank[root_x] < self.rank[root_y]:\n",
    "                self.parent[root_x] = root_y\n",
    "            else:\n",
    "                self.parent[root_y] = root_x\n",
    "                self.rank[root_x] += 1\n",
    "\n",
    "# Example usage of the Disjoint Set data structure\n",
    "n = 6\n",
    "disjoint_set = DisjointSet(n)\n",
    "disjoint_set.union(0, 1)\n",
    "disjoint_set.union(1, 2)\n",
    "disjoint_set.union(3, 4)\n",
    "print(\"Parent of 0:\", disjoint_set.find(0))\n",
    "print(\"Parent of 3:\", disjoint_set.find(3))\n"
   ]
  },
  {
   "cell_type": "markdown",
   "id": "c5494e52",
   "metadata": {},
   "source": [
    "### 162. Find the Happy Numbers in a Range"
   ]
  },
  {
   "cell_type": "code",
   "execution_count": 10,
   "id": "8ac35b27",
   "metadata": {},
   "outputs": [
    {
     "name": "stdout",
     "output_type": "stream",
     "text": [
      "Happy numbers in the range 1 to 100: [1, 7, 10, 13, 19, 23, 28, 31, 32, 44, 49, 68, 70, 79, 82, 86, 91, 94, 97, 100]\n"
     ]
    }
   ],
   "source": [
    "def is_happy_number(num):\n",
    "    seen = set()\n",
    "    while num != 1 and num not in seen:\n",
    "        seen.add(num)\n",
    "        num = sum(int(digit)**2 for digit in str(num))\n",
    "    return num == 1\n",
    "\n",
    "def find_happy_numbers(start, end):\n",
    "    happy_numbers = [num for num in range(start, end+1) if is_happy_number(num)]\n",
    "    return happy_numbers\n",
    "\n",
    "start_range, end_range = 1, 100\n",
    "happy_numbers_list = find_happy_numbers(start_range, end_range)\n",
    "print(f\"Happy numbers in the range {start_range} to {end_range}: {happy_numbers_list}\")\n"
   ]
  },
  {
   "cell_type": "markdown",
   "id": "b0dc9455",
   "metadata": {},
   "source": [
    "### 163. Calculate the Perimeter of a Regular Icosahedron"
   ]
  },
  {
   "cell_type": "code",
   "execution_count": 9,
   "id": "57197bc4",
   "metadata": {},
   "outputs": [
    {
     "name": "stdout",
     "output_type": "stream",
     "text": [
      "The perimeter of the regular icosahedron with edge length 5 is 100.00.\n"
     ]
    }
   ],
   "source": [
    "def perimeter_of_regular_icosahedron(edge_length):\n",
    "    return 20 * edge_length\n",
    "\n",
    "edge_length = 5\n",
    "perimeter = perimeter_of_regular_icosahedron(edge_length)\n",
    "print(f\"The perimeter of the regular icosahedron with edge length {edge_length} is {perimeter:.2f}.\")\n"
   ]
  },
  {
   "cell_type": "markdown",
   "id": "12f4e59b",
   "metadata": {},
   "source": [
    "### 164. Print the Pattern of a Hollow Floyd's Triangle with Right Alignment"
   ]
  },
  {
   "cell_type": "code",
   "execution_count": 8,
   "id": "7ecb9c6e",
   "metadata": {},
   "outputs": [
    {
     "name": "stdout",
     "output_type": "stream",
     "text": [
      "        1 \n",
      "      2 3 \n",
      "    4   6 \n",
      "  7     10 \n",
      "11 12 13 14 15 \n"
     ]
    }
   ],
   "source": [
    "def print_hollow_floyds_triangle_right_alignment(n):\n",
    "    num = 1\n",
    "    for i in range(1, n+1):\n",
    "        for _ in range(n - i):\n",
    "            print(\" \", end=\" \")\n",
    "        for j in range(1, i+1):\n",
    "            if i == n or j == 1 or j == i:\n",
    "                print(num, end=\" \")\n",
    "            else:\n",
    "                print(\" \", end=\" \")\n",
    "            num += 1\n",
    "        print()\n",
    "\n",
    "rows = 5\n",
    "print_hollow_floyds_triangle_right_alignment(rows)\n"
   ]
  },
  {
   "cell_type": "markdown",
   "id": "f5ff5877",
   "metadata": {},
   "source": [
    "### 165. Generate a Random Maze Using Recursive Backtracking Algorithm"
   ]
  },
  {
   "cell_type": "code",
   "execution_count": 7,
   "id": "d47881cf",
   "metadata": {},
   "outputs": [
    {
     "name": "stdout",
     "output_type": "stream",
     "text": [
      "# # # # # # # # # # # # # # # # # # # #\n",
      "#   #   #   #   #   #   #   #   #   #  \n",
      "# # # # # # # # # # # # # # # # # # # #\n",
      "#   #   #   #   #   #   #   #   #   #  \n",
      "# # # # # # # # # # # # # # # # # # # #\n",
      "#   #   #   #   #   #   #   #   #   #  \n",
      "# # # # # # # # # # # # # # # # # # # #\n",
      "#   #   #   #   #   #   #   #   #   #  \n",
      "# # # # # # # # # # # # # # # # # # # #\n",
      "#   #   #   #   #   #   #   #   #   #  \n"
     ]
    }
   ],
   "source": [
    "import random\n",
    "\n",
    "def generate_maze(rows, cols):\n",
    "    maze = [[\"#\"] * cols for _ in range(rows)]\n",
    "\n",
    "    def can_carve(x, y):\n",
    "        return 0 <= x < rows and 0 <= y < cols and maze[x][y] == \"#\"\n",
    "\n",
    "    def carve(x, y):\n",
    "        maze[x][y] = \" \"\n",
    "        directions = [(0, 1), (1, 0), (0, -1), (-1, 0)]\n",
    "        random.shuffle(directions)\n",
    "        for dx, dy in directions:\n",
    "            nx, ny = x + 2 * dx, y + 2 * dy\n",
    "            if can_carve(nx, ny):\n",
    "                maze[nx][ny] = \" \"\n",
    "                carve(nx, ny)\n",
    "\n",
    "    start_x, start_y = 1, 1\n",
    "    carve(start_x, start_y)\n",
    "    return maze\n",
    "\n",
    "rows, cols = 10, 20\n",
    "maze = generate_maze(rows, cols)\n",
    "for row in maze:\n",
    "    print(\" \".join(row))\n"
   ]
  },
  {
   "cell_type": "markdown",
   "id": "40b4eac6",
   "metadata": {},
   "source": [
    "### 166. Convert Decimal to Gray Code"
   ]
  },
  {
   "cell_type": "code",
   "execution_count": 6,
   "id": "aa7f02d1",
   "metadata": {},
   "outputs": [
    {
     "name": "stdout",
     "output_type": "stream",
     "text": [
      "The Gray code representation of 42 is 63.\n"
     ]
    }
   ],
   "source": [
    "def decimal_to_gray_code(num):\n",
    "    return num ^ (num >> 1)\n",
    "\n",
    "decimal_num = 42\n",
    "gray_code_num = decimal_to_gray_code(decimal_num)\n",
    "print(f\"The Gray code representation of {decimal_num} is {gray_code_num}.\")\n"
   ]
  },
  {
   "cell_type": "markdown",
   "id": "32e82c20",
   "metadata": {},
   "source": [
    "### 167. Check if a Number is a Catalan Number"
   ]
  },
  {
   "cell_type": "code",
   "execution_count": 5,
   "id": "296eeeb0",
   "metadata": {},
   "outputs": [
    {
     "name": "stdout",
     "output_type": "stream",
     "text": [
      "14 is not a Catalan number.\n"
     ]
    }
   ],
   "source": [
    "def binomial_coefficient(n, k):\n",
    "    if k > n - k:\n",
    "        k = n - k\n",
    "    res = 1\n",
    "    for i in range(k):\n",
    "        res *= (n - i)\n",
    "        res //= (i + 1)\n",
    "    return res\n",
    "\n",
    "def is_catalan_number(num):\n",
    "    if num <= 1:\n",
    "        return True\n",
    "    for i in range(num):\n",
    "        if binomial_coefficient(2*num, i) % (i + 1) == 0:\n",
    "            return False\n",
    "    return True\n",
    "\n",
    "number = 14\n",
    "if is_catalan_number(number):\n",
    "    print(f\"{number} is a Catalan number.\")\n",
    "else:\n",
    "    print(f\"{number} is not a Catalan number.\")\n"
   ]
  },
  {
   "cell_type": "markdown",
   "id": "73c148fe",
   "metadata": {},
   "source": [
    "### 168. Calculate the Volume of an Octahedron"
   ]
  },
  {
   "cell_type": "code",
   "execution_count": 4,
   "id": "b6df639f",
   "metadata": {},
   "outputs": [
    {
     "name": "stdout",
     "output_type": "stream",
     "text": [
      "The volume of the octahedron with edge length 5 is 58.93.\n"
     ]
    }
   ],
   "source": [
    "def volume_of_octahedron(edge_length):\n",
    "    return (2 ** 0.5) * (edge_length ** 3) / 3\n",
    "\n",
    "edge_length = 5\n",
    "volume = volume_of_octahedron(edge_length)\n",
    "print(f\"The volume of the octahedron with edge length {edge_length} is {volume:.2f}.\")\n"
   ]
  },
  {
   "cell_type": "markdown",
   "id": "570843a3",
   "metadata": {},
   "source": [
    "### 169. Implement Skip List Data Structure"
   ]
  },
  {
   "cell_type": "code",
   "execution_count": 3,
   "id": "1ce6c3a4",
   "metadata": {},
   "outputs": [
    {
     "name": "stdout",
     "output_type": "stream",
     "text": [
      "Skip List:\n",
      "Level 3:  7 -> 40 -> None\n",
      "Level 2:  7 -> 40 -> None\n",
      "Level 1:  7 -> 40 -> None\n",
      "Level 0:  7 -> 10 -> 15 -> 25 -> 40 -> None\n",
      "25 is present in the Skip List.\n",
      "7 is deleted from the Skip List.\n",
      "Updated Skip List:\n",
      "Level 3:  40 -> None\n",
      "Level 2:  40 -> None\n",
      "Level 1:  40 -> None\n",
      "Level 0:  10 -> 15 -> 25 -> 40 -> None\n"
     ]
    }
   ],
   "source": [
    "import random\n",
    "\n",
    "class SkipListNode:\n",
    "    def __init__(self, value, level):\n",
    "        self.value = value\n",
    "        self.forward = [None] * (level + 1)\n",
    "\n",
    "class SkipList:\n",
    "    def __init__(self):\n",
    "        self.max_level = 3\n",
    "        self.header = SkipListNode(None, self.max_level)\n",
    "        self.level = 0\n",
    "\n",
    "    def random_level(self):\n",
    "        level = 0\n",
    "        while random.random() < 0.5 and level < self.max_level:\n",
    "            level += 1\n",
    "        return level\n",
    "\n",
    "    def insert(self, value):\n",
    "        update = [None] * (self.max_level + 1)\n",
    "        x = self.header\n",
    "        for i in range(self.level, -1, -1):\n",
    "            while x.forward[i] and x.forward[i].value < value:\n",
    "                x = x.forward[i]\n",
    "            update[i] = x\n",
    "        level = self.random_level()\n",
    "        if level > self.level:\n",
    "            for i in range(self.level + 1, level + 1):\n",
    "                update[i] = self.header\n",
    "            self.level = level\n",
    "        x = SkipListNode(value, level)\n",
    "        for i in range(level + 1):\n",
    "            x.forward[i] = update[i].forward[i]\n",
    "            update[i].forward[i] = x\n",
    "\n",
    "    def search(self, value):\n",
    "        x = self.header\n",
    "        for i in range(self.level, -1, -1):\n",
    "            while x.forward[i] and x.forward[i].value < value:\n",
    "                x = x.forward[i]\n",
    "        x = x.forward[0]\n",
    "        if x and x.value == value:\n",
    "            return True\n",
    "        return False\n",
    "\n",
    "    def delete(self, value):\n",
    "        update = [None] * (self.max_level + 1)\n",
    "        x = self.header\n",
    "        for i in range(self.level, -1, -1):\n",
    "            while x.forward[i] and x.forward[i].value < value:\n",
    "                x = x.forward[i]\n",
    "            update[i] = x\n",
    "        x = x.forward[0]\n",
    "        if x and x.value == value:\n",
    "            for i in range(self.level + 1):\n",
    "                if update[i].forward[i] != x:\n",
    "                    break\n",
    "                update[i].forward[i] = x.forward[i]\n",
    "            while self.level > 0 and self.header.forward[self.level] is None:\n",
    "                self.level -= 1\n",
    "            return True\n",
    "        return False\n",
    "\n",
    "    def display(self):\n",
    "        for i in range(self.level, -1, -1):\n",
    "            x = self.header.forward[i]\n",
    "            print(f\"Level {i}: \", end=\" \")\n",
    "            while x:\n",
    "                print(x.value, end=\" -> \")\n",
    "                x = x.forward[i]\n",
    "            print(\"None\")\n",
    "\n",
    "# Example usage of the Skip List data structure\n",
    "skip_list = SkipList()\n",
    "elements = [10, 25, 7, 40, 15]\n",
    "for elem in elements:\n",
    "    skip_list.insert(elem)\n",
    "\n",
    "print(\"Skip List:\")\n",
    "skip_list.display()\n",
    "\n",
    "element_to_search = 25\n",
    "if skip_list.search(element_to_search):\n",
    "    print(f\"{element_to_search} is present in the Skip List.\")\n",
    "else:\n",
    "    print(f\"{element_to_search} is not present in the Skip List.\")\n",
    "\n",
    "element_to_delete = 7\n",
    "if skip_list.delete(element_to_delete):\n",
    "    print(f\"{element_to_delete} is deleted from the Skip List.\")\n",
    "else:\n",
    "    print(f\"{element_to_delete} is not present in the Skip List after deletion.\")\n",
    "\n",
    "print(\"Updated Skip List:\")\n",
    "skip_list.display()\n"
   ]
  },
  {
   "cell_type": "markdown",
   "id": "c631d06b",
   "metadata": {},
   "source": [
    "### 170. Find the Pernicious Numbers in a Range"
   ]
  },
  {
   "cell_type": "markdown",
   "id": "d59b5e02",
   "metadata": {},
   "source": [
    "#### Explanation:\n",
    "\n",
    "- A pernicious number is a positive integer whose binary representation has an even number of set bits (1s).\n",
    "- To check if a number is pernicious, we first count the number of set bits (1s) in its binary representation.\n",
    "- Next, we count the number of set bits in the result obtained from the previous step.\n",
    "- If the count of set bits in the second step is equal to the length of the binary representation of the number, then the number is pernicious.\n",
    "\n",
    "The program finds all pernicious numbers in the given range and prints them."
   ]
  },
  {
   "cell_type": "code",
   "execution_count": 2,
   "id": "8b3d2ef4",
   "metadata": {},
   "outputs": [
    {
     "name": "stdout",
     "output_type": "stream",
     "text": [
      "Pernicious numbers in the range 1 to 100: [1]\n"
     ]
    }
   ],
   "source": [
    "def count_set_bits(num):\n",
    "    count = 0\n",
    "    while num:\n",
    "        count += num & 1\n",
    "        num >>= 1\n",
    "    return count\n",
    "\n",
    "def is_pernicious_number(num):\n",
    "    binary_repr = bin(num)[2:]\n",
    "    set_bits_count = count_set_bits(num)\n",
    "    return count_set_bits(set_bits_count) == len(binary_repr)\n",
    "\n",
    "def find_pernicious_numbers(start, end):\n",
    "    pernicious_numbers = [num for num in range(start, end+1) if is_pernicious_number(num)]\n",
    "    return pernicious_numbers\n",
    "\n",
    "start_range, end_range = 1, 100\n",
    "pernicious_numbers_list = find_pernicious_numbers(start_range, end_range)\n",
    "print(f\"Pernicious numbers in the range {start_range} to {end_range}: {pernicious_numbers_list}\")\n"
   ]
  },
  {
   "cell_type": "code",
   "execution_count": null,
   "id": "deed7e07",
   "metadata": {},
   "outputs": [],
   "source": []
  }
 ],
 "metadata": {
  "kernelspec": {
   "display_name": "Python 3 (ipykernel)",
   "language": "python",
   "name": "python3"
  },
  "language_info": {
   "codemirror_mode": {
    "name": "ipython",
    "version": 3
   },
   "file_extension": ".py",
   "mimetype": "text/x-python",
   "name": "python",
   "nbconvert_exporter": "python",
   "pygments_lexer": "ipython3",
   "version": "3.11.4"
  }
 },
 "nbformat": 4,
 "nbformat_minor": 5
}

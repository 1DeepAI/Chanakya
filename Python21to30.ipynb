{
 "cells": [
  {
   "cell_type": "markdown",
   "id": "30ea9562",
   "metadata": {},
   "source": [
    "# Python Practice 21-30"
   ]
  },
  {
   "cell_type": "markdown",
   "id": "c65898bc",
   "metadata": {},
   "source": [
    "## Below are Python programs for each of the objectives along with the associated algorithm, mathematical calculations, and string manipulations"
   ]
  },
  {
   "cell_type": "markdown",
   "id": "b9e69a2d",
   "metadata": {},
   "source": [
    "### 21. Calculate the LCM of Two Numbers:"
   ]
  },
  {
   "cell_type": "code",
   "execution_count": 1,
   "id": "2a9063a8",
   "metadata": {},
   "outputs": [
    {
     "name": "stdout",
     "output_type": "stream",
     "text": [
      "The LCM of 12 and 18 is 36.\n"
     ]
    }
   ],
   "source": [
    "def gcd(a, b):\n",
    "    while b != 0:\n",
    "        a, b = b, a % b\n",
    "    return a\n",
    "\n",
    "def lcm(a, b):\n",
    "    return (a * b) // gcd(a, b)\n",
    "\n",
    "num1, num2 = 12, 18\n",
    "lcm_value = lcm(num1, num2)\n",
    "print(f\"The LCM of {num1} and {num2} is {lcm_value}.\")\n"
   ]
  },
  {
   "cell_type": "markdown",
   "id": "0b826cd2",
   "metadata": {},
   "source": [
    "### 22. Remove Duplicates from a List:"
   ]
  },
  {
   "cell_type": "code",
   "execution_count": 2,
   "id": "572c1146",
   "metadata": {},
   "outputs": [
    {
     "name": "stdout",
     "output_type": "stream",
     "text": [
      "List with duplicates removed: [1, 2, 3, 4, 5, 6, 7]\n"
     ]
    }
   ],
   "source": [
    "def remove_duplicates(numbers):\n",
    "    return list(set(numbers))\n",
    "\n",
    "numbers_list = [1, 2, 3, 2, 4, 5, 4, 6, 7]\n",
    "unique_numbers = remove_duplicates(numbers_list)\n",
    "print(\"List with duplicates removed:\", unique_numbers)\n"
   ]
  },
  {
   "cell_type": "markdown",
   "id": "4187c766",
   "metadata": {},
   "source": [
    "### 23. Check if a Number is Armstrong Number:"
   ]
  },
  {
   "cell_type": "code",
   "execution_count": 3,
   "id": "6bf25d1c",
   "metadata": {},
   "outputs": [
    {
     "name": "stdout",
     "output_type": "stream",
     "text": [
      "153 is an Armstrong number.\n"
     ]
    }
   ],
   "source": [
    "def is_armstrong_number(num):\n",
    "    order = len(str(num))\n",
    "    sum = 0\n",
    "    temp = num\n",
    "    while temp > 0:\n",
    "        digit = temp % 10\n",
    "        sum += digit ** order\n",
    "        temp //= 10\n",
    "    return num == sum\n",
    "\n",
    "number = 153\n",
    "if is_armstrong_number(number):\n",
    "    print(f\"{number} is an Armstrong number.\")\n",
    "else:\n",
    "    print(f\"{number} is not an Armstrong number.\")\n"
   ]
  },
  {
   "cell_type": "markdown",
   "id": "0eb7ad91",
   "metadata": {},
   "source": [
    "### 24. Implement Quick Sort Algorithm: "
   ]
  },
  {
   "cell_type": "code",
   "execution_count": 4,
   "id": "2a3559bc",
   "metadata": {},
   "outputs": [
    {
     "name": "stdout",
     "output_type": "stream",
     "text": [
      "Sorted list using Quick Sort: [11, 12, 22, 25, 34, 64, 90]\n"
     ]
    }
   ],
   "source": [
    "def quick_sort(arr):\n",
    "    if len(arr) <= 1:\n",
    "        return arr\n",
    "    pivot = arr[len(arr) // 2]\n",
    "    left = [x for x in arr if x < pivot]\n",
    "    middle = [x for x in arr if x == pivot]\n",
    "    right = [x for x in arr if x > pivot]\n",
    "    return quick_sort(left) + middle + quick_sort(right)\n",
    "\n",
    "numbers_list = [64, 34, 25, 12, 22, 11, 90]\n",
    "sorted_list = quick_sort(numbers_list)\n",
    "print(\"Sorted list using Quick Sort:\", sorted_list)\n"
   ]
  },
  {
   "cell_type": "markdown",
   "id": "a099eb5f",
   "metadata": {},
   "source": [
    "### 25. Calculate the Simple Interest: "
   ]
  },
  {
   "cell_type": "code",
   "execution_count": 5,
   "id": "11259d46",
   "metadata": {},
   "outputs": [
    {
     "name": "stdout",
     "output_type": "stream",
     "text": [
      "The simple interest for 1000 at 5% for 2 years is 100.0.\n"
     ]
    }
   ],
   "source": [
    "def simple_interest(principal, rate, time):\n",
    "    return (principal * rate * time) / 100\n",
    "\n",
    "principal_amount = 1000\n",
    "interest_rate = 5\n",
    "time_period = 2\n",
    "interest = simple_interest(principal_amount, interest_rate, time_period)\n",
    "print(f\"The simple interest for {principal_amount} at {interest_rate}% for {time_period} years is {interest}.\")\n"
   ]
  },
  {
   "cell_type": "markdown",
   "id": "fb1200ac",
   "metadata": {},
   "source": [
    "### 26. Check if a Number is a Perfect Number: "
   ]
  },
  {
   "cell_type": "code",
   "execution_count": 6,
   "id": "df880767",
   "metadata": {},
   "outputs": [
    {
     "name": "stdout",
     "output_type": "stream",
     "text": [
      "28 is a perfect number.\n"
     ]
    }
   ],
   "source": [
    "def is_perfect_number(num):\n",
    "    sum = 0\n",
    "    for i in range(1, num):\n",
    "        if num % i == 0:\n",
    "            sum += i\n",
    "    return sum == num\n",
    "\n",
    "number = 28\n",
    "if is_perfect_number(number):\n",
    "    print(f\"{number} is a perfect number.\")\n",
    "else:\n",
    "    print(f\"{number} is not a perfect number.\")\n"
   ]
  },
  {
   "cell_type": "markdown",
   "id": "b2800ad0",
   "metadata": {},
   "source": [
    "### 27. Find the ASCII Value of a Character:"
   ]
  },
  {
   "cell_type": "code",
   "execution_count": 7,
   "id": "7c86473a",
   "metadata": {},
   "outputs": [
    {
     "name": "stdout",
     "output_type": "stream",
     "text": [
      "The ASCII value of 'A' is 65.\n"
     ]
    }
   ],
   "source": [
    "character = 'A'\n",
    "ascii_value = ord(character)\n",
    "print(f\"The ASCII value of '{character}' is {ascii_value}.\")\n"
   ]
  },
  {
   "cell_type": "markdown",
   "id": "5c4b472c",
   "metadata": {},
   "source": [
    "### 28. Convert Binary to Decimal: "
   ]
  },
  {
   "cell_type": "code",
   "execution_count": 8,
   "id": "41969414",
   "metadata": {},
   "outputs": [
    {
     "name": "stdout",
     "output_type": "stream",
     "text": [
      "The decimal representation of '1010' is 10.\n"
     ]
    }
   ],
   "source": [
    "def binary_to_decimal(binary_num):\n",
    "    return int(binary_num, 2)\n",
    "\n",
    "binary_num = \"1010\"\n",
    "decimal_num = binary_to_decimal(binary_num)\n",
    "print(f\"The decimal representation of '{binary_num}' is {decimal_num}.\")\n"
   ]
  },
  {
   "cell_type": "markdown",
   "id": "878a912c",
   "metadata": {},
   "source": [
    "### 29. Reverse a Number:"
   ]
  },
  {
   "cell_type": "code",
   "execution_count": 9,
   "id": "5f10493a",
   "metadata": {
    "scrolled": true
   },
   "outputs": [
    {
     "name": "stdout",
     "output_type": "stream",
     "text": [
      "The reversed number of 12345 is 54321.\n"
     ]
    }
   ],
   "source": [
    "def reverse_number(num):\n",
    "    reversed_num = int(str(num)[::-1])\n",
    "    return reversed_num\n",
    "\n",
    "number = 12345\n",
    "reversed_number = reverse_number(number)\n",
    "print(f\"The reversed number of {number} is {reversed_number}.\")\n"
   ]
  },
  {
   "cell_type": "markdown",
   "id": "b19eb4d0",
   "metadata": {},
   "source": [
    "### 30. Check if a String is Anagram:"
   ]
  },
  {
   "cell_type": "code",
   "execution_count": 10,
   "id": "d805dc62",
   "metadata": {},
   "outputs": [
    {
     "name": "stdout",
     "output_type": "stream",
     "text": [
      "listen and silent are anagrams.\n"
     ]
    }
   ],
   "source": [
    "def is_anagram(str1, str2):\n",
    "    return sorted(str1) == sorted(str2)\n",
    "\n",
    "string1 = \"listen\"\n",
    "string2 = \"silent\"\n",
    "if is_anagram(string1, string2):\n",
    "    print(f\"{string1} and {string2} are anagrams.\")\n",
    "else:\n",
    "    print(f\"{string1} and {string2} are not anagrams.\")\n"
   ]
  }
 ],
 "metadata": {
  "kernelspec": {
   "display_name": "Python 3 (ipykernel)",
   "language": "python",
   "name": "python3"
  },
  "language_info": {
   "codemirror_mode": {
    "name": "ipython",
    "version": 3
   },
   "file_extension": ".py",
   "mimetype": "text/x-python",
   "name": "python",
   "nbconvert_exporter": "python",
   "pygments_lexer": "ipython3",
   "version": "3.11.4"
  }
 },
 "nbformat": 4,
 "nbformat_minor": 5
}

{
 "cells": [
  {
   "cell_type": "markdown",
   "id": "67aea104",
   "metadata": {},
   "source": [
    "# Python Practice 221-230"
   ]
  },
  {
   "cell_type": "markdown",
   "id": "2363e1f4",
   "metadata": {},
   "source": [
    "## Here are the Python programs for each of the objectives along with the associated algorithm, mathematical calculations, and string manipulations:"
   ]
  },
  {
   "cell_type": "markdown",
   "id": "e7e8d844",
   "metadata": {},
   "source": [
    "### 221. Generate a Random Password with Custom Entropy"
   ]
  },
  {
   "cell_type": "code",
   "execution_count": 10,
   "id": "96785930",
   "metadata": {},
   "outputs": [
    {
     "name": "stdout",
     "output_type": "stream",
     "text": [
      "Random Password with custom entropy: m!s9;ubd3O\\j\n"
     ]
    }
   ],
   "source": [
    "import random\n",
    "import string\n",
    "\n",
    "def generate_random_password(length, entropy):\n",
    "    characters = string.ascii_letters + string.digits + string.punctuation\n",
    "    password = ''.join(random.choice(characters) for _ in range(length))\n",
    "    return password\n",
    "\n",
    "password_length = 12\n",
    "password_entropy = 3 # You can adjust the entropy level as desired\n",
    "random_password = generate_random_password(password_length, password_entropy)\n",
    "print(f\"Random Password with custom entropy: {random_password}\")\n"
   ]
  },
  {
   "cell_type": "markdown",
   "id": "168255a7",
   "metadata": {},
   "source": [
    "### 222. Convert Roman Numeral to Decimal Using Recursion"
   ]
  },
  {
   "cell_type": "code",
   "execution_count": 9,
   "id": "862606df",
   "metadata": {},
   "outputs": [
    {
     "name": "stdout",
     "output_type": "stream",
     "text": [
      "Decimal value of XXIV is: 24\n"
     ]
    }
   ],
   "source": [
    "def roman_to_decimal(roman):\n",
    "    roman_numerals = {\n",
    "        'I': 1,\n",
    "        'V': 5,\n",
    "        'X': 10,\n",
    "        'L': 50,\n",
    "        'C': 100,\n",
    "        'D': 500,\n",
    "        'M': 1000\n",
    "    }\n",
    "\n",
    "    if len(roman) == 0:\n",
    "        return 0\n",
    "    if len(roman) == 1 or roman_numerals[roman[0]] >= roman_numerals[roman[1]]:\n",
    "        return roman_numerals[roman[0]] + roman_to_decimal(roman[1:])\n",
    "    else:\n",
    "        return roman_numerals[roman[1]] - roman_numerals[roman[0]] + roman_to_decimal(roman[2:])\n",
    "\n",
    "roman_numeral = \"XXIV\" # Replace with any valid Roman numeral\n",
    "decimal_value = roman_to_decimal(roman_numeral)\n",
    "print(f\"Decimal value of {roman_numeral} is: {decimal_value}\")\n"
   ]
  },
  {
   "cell_type": "markdown",
   "id": "c7eb304b",
   "metadata": {},
   "source": [
    "### 223. Check if a Number is a Niven Number "
   ]
  },
  {
   "cell_type": "code",
   "execution_count": 8,
   "id": "34dd7be5",
   "metadata": {},
   "outputs": [
    {
     "name": "stdout",
     "output_type": "stream",
     "text": [
      "18 is a Niven number.\n"
     ]
    }
   ],
   "source": [
    "def is_niven_number(num):\n",
    "    sum_of_digits = sum(int(digit) for digit in str(num))\n",
    "    return num % sum_of_digits == 0\n",
    "\n",
    "number = 18 # Replace with any number you want to check\n",
    "result = is_niven_number(number)\n",
    "print(f\"{number} is {'a Niven number' if result else 'not a Niven number'}.\")\n"
   ]
  },
  {
   "cell_type": "markdown",
   "id": "55abdab7",
   "metadata": {},
   "source": [
    "### 224. Calculate the Volume of a Regular Octahedron"
   ]
  },
  {
   "cell_type": "code",
   "execution_count": 7,
   "id": "b6266fd7",
   "metadata": {},
   "outputs": [
    {
     "name": "stdout",
     "output_type": "stream",
     "text": [
      "Volume of the octahedron with edge length 5 is: 58.93\n"
     ]
    }
   ],
   "source": [
    "def calculate_volume_of_octahedron(edge_length):\n",
    "    volume = (2 ** 0.5) * edge_length ** 3 / 3\n",
    "    return volume\n",
    "\n",
    "edge_length = 5 # Replace with the desired edge length of the octahedron\n",
    "volume = calculate_volume_of_octahedron(edge_length)\n",
    "print(f\"Volume of the octahedron with edge length {edge_length} is: {volume:.2f}\")\n"
   ]
  },
  {
   "cell_type": "markdown",
   "id": "05bdd647",
   "metadata": {},
   "source": [
    "### 225. Implement Trie (Prefix Tree) Data Structure"
   ]
  },
  {
   "cell_type": "code",
   "execution_count": 6,
   "id": "fd59aea1",
   "metadata": {},
   "outputs": [
    {
     "name": "stdout",
     "output_type": "stream",
     "text": [
      "Word 'orange' exists in the trie.\n"
     ]
    }
   ],
   "source": [
    "class TrieNode:\n",
    "    def __init__(self):\n",
    "        self.children = {}\n",
    "        self.is_end_of_word = False\n",
    "\n",
    "class Trie:\n",
    "    def __init__(self):\n",
    "        self.root = TrieNode()\n",
    "\n",
    "    def insert(self, word):\n",
    "        node = self.root\n",
    "        for char in word:\n",
    "            if char not in node.children:\n",
    "                node.children[char] = TrieNode()\n",
    "            node = node.children[char]\n",
    "        node.is_end_of_word = True\n",
    "\n",
    "    def search(self, word):\n",
    "        node = self.root\n",
    "        for char in word:\n",
    "            if char not in node.children:\n",
    "                return False\n",
    "            node = node.children[char]\n",
    "        return node.is_end_of_word\n",
    "\n",
    "trie = Trie()\n",
    "words = ['apple', 'banana', 'orange', 'app', 'oranges']\n",
    "for word in words:\n",
    "    trie.insert(word)\n",
    "\n",
    "search_word = 'orange'\n",
    "result = trie.search(search_word)\n",
    "print(f\"Word '{search_word}' {'exists' if result else 'does not exist'} in the trie.\")\n"
   ]
  },
  {
   "cell_type": "markdown",
   "id": "37b1270d",
   "metadata": {},
   "source": [
    "### 226. Find the Deficient Numbers in a Range"
   ]
  },
  {
   "cell_type": "code",
   "execution_count": 5,
   "id": "3a18400a",
   "metadata": {},
   "outputs": [
    {
     "name": "stdout",
     "output_type": "stream",
     "text": [
      "Deficient numbers in the range [1, 50]: [1, 2, 3, 4, 5, 7, 8, 9, 10, 11, 13, 14, 15, 16, 17, 19, 21, 22, 23, 25, 26, 27, 29, 31, 32, 33, 34, 35, 37, 38, 39, 41, 43, 44, 45, 46, 47, 49, 50]\n"
     ]
    }
   ],
   "source": [
    "def find_divisors_sum(num):\n",
    "    return sum(i for i in range(1, num) if num % i == 0)\n",
    "\n",
    "def is_deficient_number(num):\n",
    "    return find_divisors_sum(num) < num\n",
    "\n",
    "def find_deficient_numbers_in_range(start, end):\n",
    "    deficient_numbers = [num for num in range(start, end + 1) if is_deficient_number(num)]\n",
    "    return deficient_numbers\n",
    "\n",
    "start_range = 1\n",
    "end_range = 50\n",
    "deficient_numbers = find_deficient_numbers_in_range(start_range, end_range)\n",
    "print(f\"Deficient numbers in the range [{start_range}, {end_range}]: {deficient_numbers}\")\n"
   ]
  },
  {
   "cell_type": "markdown",
   "id": "bed485eb",
   "metadata": {},
   "source": [
    "### 227. Calculate the Perimeter of a Reuleaux Octagon"
   ]
  },
  {
   "cell_type": "code",
   "execution_count": 4,
   "id": "da5ee11d",
   "metadata": {},
   "outputs": [
    {
     "name": "stdout",
     "output_type": "stream",
     "text": [
      "Perimeter of the Reuleaux octagon with side length 5 is: 40.00\n"
     ]
    }
   ],
   "source": [
    "import math\n",
    "\n",
    "def calculate_perimeter_of_reuleaux_octagon(side_length):\n",
    "    perimeter = 8 * side_length\n",
    "    return perimeter\n",
    "\n",
    "side_length = 5 # Replace with the desired side length of the Reuleaux octagon\n",
    "perimeter = calculate_perimeter_of_reuleaux_octagon(side_length)\n",
    "print(f\"Perimeter of the Reuleaux octagon with side length {side_length} is: {perimeter:.2f}\")\n"
   ]
  },
  {
   "cell_type": "markdown",
   "id": "d6effaf5",
   "metadata": {},
   "source": [
    "### 228. Print the Pattern of a Hollow Prime Number Pyramid"
   ]
  },
  {
   "cell_type": "code",
   "execution_count": 3,
   "id": "8fabf074",
   "metadata": {},
   "outputs": [
    {
     "name": "stdout",
     "output_type": "stream",
     "text": [
      "Hollow Prime Number Pyramid:\n",
      "*\n",
      "*"
     ]
    },
    {
     "ename": "NameError",
     "evalue": "name 'math' is not defined",
     "output_type": "error",
     "traceback": [
      "\u001b[0;31m---------------------------------------------------------------------------\u001b[0m",
      "\u001b[0;31mNameError\u001b[0m                                 Traceback (most recent call last)",
      "Cell \u001b[0;32mIn[3], line 20\u001b[0m\n\u001b[1;32m     18\u001b[0m rows \u001b[38;5;241m=\u001b[39m \u001b[38;5;241m5\u001b[39m \u001b[38;5;66;03m# Replace with the desired number of rows in the pyramid\u001b[39;00m\n\u001b[1;32m     19\u001b[0m \u001b[38;5;28mprint\u001b[39m(\u001b[38;5;124m\"\u001b[39m\u001b[38;5;124mHollow Prime Number Pyramid:\u001b[39m\u001b[38;5;124m\"\u001b[39m)\n\u001b[0;32m---> 20\u001b[0m print_hollow_prime_number_pyramid(rows)\n",
      "Cell \u001b[0;32mIn[3], line 12\u001b[0m, in \u001b[0;36mprint_hollow_prime_number_pyramid\u001b[0;34m(rows)\u001b[0m\n\u001b[1;32m     10\u001b[0m \u001b[38;5;28;01mfor\u001b[39;00m i \u001b[38;5;129;01min\u001b[39;00m \u001b[38;5;28mrange\u001b[39m(\u001b[38;5;241m1\u001b[39m, rows \u001b[38;5;241m+\u001b[39m \u001b[38;5;241m1\u001b[39m):\n\u001b[1;32m     11\u001b[0m     \u001b[38;5;28;01mfor\u001b[39;00m j \u001b[38;5;129;01min\u001b[39;00m \u001b[38;5;28mrange\u001b[39m(\u001b[38;5;241m1\u001b[39m, \u001b[38;5;241m2\u001b[39m \u001b[38;5;241m*\u001b[39m i):\n\u001b[0;32m---> 12\u001b[0m         \u001b[38;5;28;01mif\u001b[39;00m i \u001b[38;5;241m==\u001b[39m rows \u001b[38;5;129;01mor\u001b[39;00m j \u001b[38;5;241m==\u001b[39m \u001b[38;5;241m1\u001b[39m \u001b[38;5;129;01mor\u001b[39;00m j \u001b[38;5;241m==\u001b[39m \u001b[38;5;241m2\u001b[39m \u001b[38;5;241m*\u001b[39m i \u001b[38;5;241m-\u001b[39m \u001b[38;5;241m1\u001b[39m \u001b[38;5;129;01mor\u001b[39;00m is_prime(i):\n\u001b[1;32m     13\u001b[0m             \u001b[38;5;28mprint\u001b[39m(\u001b[38;5;124m\"\u001b[39m\u001b[38;5;124m*\u001b[39m\u001b[38;5;124m\"\u001b[39m, end\u001b[38;5;241m=\u001b[39m\u001b[38;5;124m\"\u001b[39m\u001b[38;5;124m\"\u001b[39m)\n\u001b[1;32m     14\u001b[0m         \u001b[38;5;28;01melse\u001b[39;00m:\n",
      "Cell \u001b[0;32mIn[3], line 4\u001b[0m, in \u001b[0;36mis_prime\u001b[0;34m(num)\u001b[0m\n\u001b[1;32m      2\u001b[0m \u001b[38;5;28;01mif\u001b[39;00m num \u001b[38;5;241m<\u001b[39m \u001b[38;5;241m2\u001b[39m:\n\u001b[1;32m      3\u001b[0m     \u001b[38;5;28;01mreturn\u001b[39;00m \u001b[38;5;28;01mFalse\u001b[39;00m\n\u001b[0;32m----> 4\u001b[0m \u001b[38;5;28;01mfor\u001b[39;00m i \u001b[38;5;129;01min\u001b[39;00m \u001b[38;5;28mrange\u001b[39m(\u001b[38;5;241m2\u001b[39m, \u001b[38;5;28mint\u001b[39m(math\u001b[38;5;241m.\u001b[39msqrt(num)) \u001b[38;5;241m+\u001b[39m \u001b[38;5;241m1\u001b[39m):\n\u001b[1;32m      5\u001b[0m     \u001b[38;5;28;01mif\u001b[39;00m num \u001b[38;5;241m%\u001b[39m i \u001b[38;5;241m==\u001b[39m \u001b[38;5;241m0\u001b[39m:\n\u001b[1;32m      6\u001b[0m         \u001b[38;5;28;01mreturn\u001b[39;00m \u001b[38;5;28;01mFalse\u001b[39;00m\n",
      "\u001b[0;31mNameError\u001b[0m: name 'math' is not defined"
     ]
    }
   ],
   "source": [
    "def is_prime(num):\n",
    "    if num < 2:\n",
    "        return False\n",
    "    for i in range(2, int(math.sqrt(num)) + 1):\n",
    "        if num % i == 0:\n",
    "            return False\n",
    "    return True\n",
    "\n",
    "def print_hollow_prime_number_pyramid(rows):\n",
    "    for i in range(1, rows + 1):\n",
    "        for j in range(1, 2 * i):\n",
    "            if i == rows or j == 1 or j == 2 * i - 1 or is_prime(i):\n",
    "                print(\"*\", end=\"\")\n",
    "            else:\n",
    "                print(\" \", end=\"\")\n",
    "        print()\n",
    "\n",
    "rows = 5 # Replace with the desired number of rows in the pyramid\n",
    "print(\"Hollow Prime Number Pyramid:\")\n",
    "print_hollow_prime_number_pyramid(rows)\n"
   ]
  },
  {
   "cell_type": "markdown",
   "id": "59d264f9",
   "metadata": {},
   "source": [
    "### 229. Generate a Random Huffman Coding Tree with Fixed Codeword Length"
   ]
  },
  {
   "cell_type": "code",
   "execution_count": 2,
   "id": "c434dba3",
   "metadata": {},
   "outputs": [
    {
     "name": "stdout",
     "output_type": "stream",
     "text": [
      "Random Huffman Coding Tree:\n",
      "b: 00\n",
      "a: 010\n",
      "d: 011\n",
      "e: 10\n",
      "c: 11\n"
     ]
    }
   ],
   "source": [
    "import heapq\n",
    "\n",
    "class HuffmanNode:\n",
    "    def __init__(self, char=None, frequency=0):\n",
    "        self.char = char\n",
    "        self.frequency = frequency\n",
    "        self.left = None\n",
    "        self.right = None\n",
    "\n",
    "def generate_huffman_tree(frequencies):\n",
    "    heap = []\n",
    "    for char, frequency in frequencies.items():\n",
    "        heapq.heappush(heap, (frequency, HuffmanNode(char, frequency)))\n",
    "\n",
    "    while len(heap) > 1:\n",
    "        freq1, node1 = heapq.heappop(heap)\n",
    "        freq2, node2 = heapq.heappop(heap)\n",
    "        merged_node = HuffmanNode(frequency=freq1 + freq2)\n",
    "        merged_node.left = node1\n",
    "        merged_node.right = node2\n",
    "        heapq.heappush(heap, (freq1 + freq2, merged_node))\n",
    "\n",
    "    return heap[0][1]\n",
    "\n",
    "def print_huffman_tree(node, prefix=\"\"):\n",
    "    if node.char is not None:\n",
    "        print(f\"{node.char}: {prefix}\")\n",
    "    else:\n",
    "        print_huffman_tree(node.left, prefix + \"0\")\n",
    "        print_huffman_tree(node.right, prefix + \"1\")\n",
    "\n",
    "# Example usage to generate a random Huffman coding tree\n",
    "frequencies = {'a': 5, 'b': 10, 'c': 20, 'd': 8, 'e': 15}\n",
    "huffman_tree = generate_huffman_tree(frequencies)\n",
    "print(\"Random Huffman Coding Tree:\")\n",
    "print_huffman_tree(huffman_tree)\n"
   ]
  },
  {
   "cell_type": "markdown",
   "id": "7828f3c9",
   "metadata": {},
   "source": [
    "### 230. Convert Roman Numeral to Decimal Using Stack "
   ]
  },
  {
   "cell_type": "code",
   "execution_count": 1,
   "id": "1ed30172",
   "metadata": {},
   "outputs": [
    {
     "name": "stdout",
     "output_type": "stream",
     "text": [
      "Decimal value of XXIV is: 29\n"
     ]
    }
   ],
   "source": [
    "def roman_to_decimal(roman):\n",
    "    roman_numerals = {\n",
    "        'I': 1,\n",
    "        'V': 5,\n",
    "        'X': 10,\n",
    "        'L': 50,\n",
    "        'C': 100,\n",
    "        'D': 500,\n",
    "        'M': 1000\n",
    "    }\n",
    "\n",
    "    stack = []\n",
    "    result = 0\n",
    "\n",
    "    for char in roman:\n",
    "        while stack and roman_numerals[char] > roman_numerals[stack[-1]]:\n",
    "            result += roman_numerals[char] - 2 * roman_numerals[stack[-1]]\n",
    "            stack.pop()\n",
    "        else:\n",
    "            result += roman_numerals[char]\n",
    "            stack.append(char)\n",
    "\n",
    "    return result\n",
    "\n",
    "roman_numeral = \"XXIV\" # Replace with any valid Roman numeral\n",
    "decimal_value = roman_to_decimal(roman_numeral)\n",
    "print(f\"Decimal value of {roman_numeral} is: {decimal_value}\")\n"
   ]
  }
 ],
 "metadata": {
  "kernelspec": {
   "display_name": "Python 3 (ipykernel)",
   "language": "python",
   "name": "python3"
  },
  "language_info": {
   "codemirror_mode": {
    "name": "ipython",
    "version": 3
   },
   "file_extension": ".py",
   "mimetype": "text/x-python",
   "name": "python",
   "nbconvert_exporter": "python",
   "pygments_lexer": "ipython3",
   "version": "3.11.4"
  }
 },
 "nbformat": 4,
 "nbformat_minor": 5
}

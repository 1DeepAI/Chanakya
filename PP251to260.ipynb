{
 "cells": [
  {
   "cell_type": "markdown",
   "id": "1c26d136",
   "metadata": {},
   "source": [
    "# Python Practice 251-260"
   ]
  },
  {
   "cell_type": "markdown",
   "id": "707b4e2c",
   "metadata": {},
   "source": [
    "## Here are Python programs for the objectives "
   ]
  },
  {
   "cell_type": "markdown",
   "id": "d6fdf676",
   "metadata": {},
   "source": [
    "### 251. Calculate the Perimeter of a Reuleaux Pentagon Star with Rounded Corners"
   ]
  },
  {
   "cell_type": "code",
   "execution_count": null,
   "id": "b50284ac",
   "metadata": {},
   "outputs": [],
   "source": [
    "import math\n",
    "\n",
    "def calculate_perimeter_of_reuleaux_pentagon_star(radius):\n",
    "    # The perimeter of a Reuleaux pentagon star with rounded corners is equal to 10 times the radius\n",
    "    perimeter = 10 * radius\n",
    "    return perimeter\n",
    "\n",
    "radius = 5 # Replace with the desired radius of the Reuleaux pentagon star\n",
    "perimeter = calculate_perimeter_of_reuleaux_pentagon_star(radius)\n",
    "print(f\"Perimeter of the Reuleaux pentagon star with rounded corners and radius {radius} is: {perimeter:.2f}\")\n"
   ]
  },
  {
   "cell_type": "markdown",
   "id": "9eaf3050",
   "metadata": {},
   "source": [
    "### 252. Print the Pattern of a Hollow Number Pyramid Star"
   ]
  },
  {
   "cell_type": "code",
   "execution_count": null,
   "id": "1894767a",
   "metadata": {},
   "outputs": [],
   "source": [
    "def print_hollow_number_pyramid_star(rows):\n",
    "    for i in range(1, rows + 1):\n",
    "        for j in range(1, 2 * rows):\n",
    "            if j >= rows + 1 - i and j <= rows - 1 + i:\n",
    "                print(\"*\", end=\"\")\n",
    "            else:\n",
    "                print(\" \", end=\"\")\n",
    "        print()\n",
    "\n",
    "rows = 5 # Replace with the desired number of rows for the hollow number pyramid star\n",
    "print(\"Hollow Number Pyramid Star Pattern:\")\n",
    "print_hollow_number_pyramid_star(rows)\n"
   ]
  },
  {
   "cell_type": "markdown",
   "id": "5438ddf9",
   "metadata": {},
   "source": [
    "### 253. Generate a Random Huffman Coding Tree with Huffman's Algorithm"
   ]
  },
  {
   "cell_type": "code",
   "execution_count": null,
   "id": "06726ac7",
   "metadata": {},
   "outputs": [],
   "source": [
    "class HuffmanNode:\n",
    "    def __init__(self, char=None, frequency=0):\n",
    "        self.char = char\n",
    "        self.frequency = frequency\n",
    "        self.left = None\n",
    "        self.right = None\n",
    "\n",
    "def generate_huffman_tree_with_huffman_algorithm(frequencies):\n",
    "    heap = []\n",
    "    for char, frequency in frequencies.items():\n",
    "        heapq.heappush(heap, (frequency, HuffmanNode(char, frequency)))\n",
    "\n",
    "    while len(heap) > 1:\n",
    "        freq1, node1 = heapq.heappop(heap)\n",
    "        freq2, node2 = heapq.heappop(heap)\n",
    "        merged_node = HuffmanNode(frequency=freq1 + freq2)\n",
    "        merged_node.left = node1\n",
    "        merged_node.right = node2\n",
    "        heapq.heappush(heap, (freq1 + freq2, merged_node))\n",
    "\n",
    "    return heap[0][1]\n",
    "\n",
    "def print_huffman_tree(node, prefix=\"\"):\n",
    "    if node.char is not None:\n",
    "        print(f\"{node.char}: {prefix}\")\n",
    "    else:\n",
    "        print_huffman_tree(node.left, prefix + \"0\")\n",
    "        print_huffman_tree(node.right, prefix + \"1\")\n",
    "\n",
    "# Example usage to generate a random Huffman coding tree with Huffman's algorithm\n",
    "frequencies = {'a': 10, 'b': 20, 'c': 15, 'd': 5, 'e': 40}\n",
    "huffman_tree = generate_huffman_tree_with_huffman_algorithm(frequencies)\n",
    "print(\"Random Huffman Coding Tree with Huffman's Algorithm:\")\n",
    "print_huffman_tree(huffman_tree)\n"
   ]
  },
  {
   "cell_type": "markdown",
   "id": "b1164ffe",
   "metadata": {},
   "source": [
    "### 254. Convert Decimal to Roman Numeral Using Recursion"
   ]
  },
  {
   "cell_type": "code",
   "execution_count": null,
   "id": "3a7bbe7e",
   "metadata": {},
   "outputs": [],
   "source": [
    "def convert_to_roman_numeral(decimal_num):\n",
    "    roman_numerals = {1000: 'M', 900: 'CM', 500: 'D', 400: 'CD', 100: 'C', 90: 'XC', 50: 'L', 40: 'XL', 10: 'X', 9: 'IX', 5: 'V', 4: 'IV', 1: 'I'}\n",
    "\n",
    "    def convert_helper(decimal_num):\n",
    "        for value, numeral in roman_numerals.items():\n",
    "            if decimal_num >= value:\n",
    "                return numeral + convert_helper(decimal_num - value)\n",
    "        return ''\n",
    "\n",
    "    return convert_helper(decimal_num)\n",
    "\n",
    "decimal_number = 1984 # Replace with any decimal number you want to convert\n",
    "roman_numeral = convert_to_roman_numeral(decimal_number)\n",
    "print(f\"Roman numeral representation of {decimal_number} is: {roman_numeral}\")\n"
   ]
  },
  {
   "cell_type": "markdown",
   "id": "41334be8",
   "metadata": {},
   "source": [
    "### 255. Check if a String is a Power of Two"
   ]
  },
  {
   "cell_type": "code",
   "execution_count": null,
   "id": "ceb5c7cd",
   "metadata": {},
   "outputs": [],
   "source": [
    "def is_power_of_two(s):\n",
    "    if s == '1':\n",
    "        return True\n",
    "    while len(s) > 1:\n",
    "        if int(s[-1]) % 2 != 0:\n",
    "            return False\n",
    "        carry = 0\n",
    "        new_s = \"\"\n",
    "        for i in range(len(s) - 1, -1, -1):\n",
    "            num = int(s[i]) + carry * 10\n",
    "            carry = num % 2\n",
    "            new_s = str(num // 2) + new_s\n",
    "        s = new_s\n",
    "    return int(s) == 1\n",
    "\n",
    "string = \"10000000000\" # Replace with any string you want to check\n",
    "result = is_power_of_two(string)\n",
    "print(f\"The string {string} is {'a power of two' if result else 'not a power of two'}.\")\n"
   ]
  },
  {
   "cell_type": "markdown",
   "id": "1c7731f9",
   "metadata": {},
   "source": [
    "### 256. Calculate the Volume of a Frustum of a Pyramid"
   ]
  },
  {
   "cell_type": "code",
   "execution_count": null,
   "id": "28d1e5e9",
   "metadata": {},
   "outputs": [],
   "source": [
    "def calculate_volume_of_frustum_of_pyramid(base_area1, base_area2, height):\n",
    "    volume = (1 / 3) * height * (base_area1 + base_area2 + math.sqrt(base_area1 * base_area2))\n",
    "    return volume\n",
    "\n",
    "base_area1 = 16 # Replace with the area of the larger base of the frustum of the pyramid\n",
    "base_area2 = 9 # Replace with the area of the smaller top base of the frustum of the pyramid\n",
    "height = 8 # Replace with the height of the frustum of the pyramid\n",
    "volume = calculate_volume_of_frustum_of_pyramid(base_area1, base_area2, height)\n",
    "print(f\"Volume of the frustum of the pyramid with base areas {base_area1} and {base_area2} and height {height} is: {volume:.2f}\")\n"
   ]
  },
  {
   "cell_type": "markdown",
   "id": "0bd530ae",
   "metadata": {},
   "source": [
    "### 257. Implement Queue Data Structure with Fixed Size Array"
   ]
  },
  {
   "cell_type": "code",
   "execution_count": null,
   "id": "7d8021ec",
   "metadata": {},
   "outputs": [],
   "source": [
    "class FixedSizeQueue:\n",
    "    def __init__(self, size):\n",
    "        self.queue = [None] * size\n",
    "        self.front = self.rear = -1\n",
    "        self.size = size\n",
    "\n",
    "    def is_empty(self):\n",
    "        return self.front == -1\n",
    "\n",
    "    def is_full(self):\n",
    "        return (self.rear + 1) % self.size == self.front\n",
    "\n",
    "    def enqueue(self, item):\n",
    "        if self.is_full():\n",
    "            raise Exception(\"Queue is full.\")\n",
    "        elif self.is_empty():\n",
    "            self.front = self.rear = 0\n",
    "        else:\n",
    "            self.rear = (self.rear + 1) % self.size\n",
    "        self.queue[self.rear] = item\n",
    "\n",
    "    def dequeue(self):\n",
    "        if self.is_empty():\n",
    "            raise Exception(\"Queue is empty.\")\n",
    "        elif self.front == self.rear:\n",
    "            item = self.queue[self.front]\n",
    "            self.front = self.rear = -1\n",
    "        else:\n",
    "            item = self.queue[self.front]\n",
    "            self.front = (self.front + 1) % self.size\n",
    "        return item\n",
    "\n",
    "# Example usage of the FixedSizeQueue data structure\n",
    "queue = FixedSizeQueue(5)\n",
    "queue.enqueue(1)\n",
    "queue.enqueue(2)\n",
    "queue.enqueue(3)\n",
    "print(\"Dequeued item:\", queue.dequeue()) # Output: 1\n",
    "queue.enqueue(4)\n",
    "queue.enqueue(5)\n",
    "queue.enqueue(6) # Raises exception as the queue is full\n"
   ]
  },
  {
   "cell_type": "markdown",
   "id": "d234fab3",
   "metadata": {},
   "source": [
    "### 258. Find the Palindromic Pairs in a List of Words"
   ]
  },
  {
   "cell_type": "code",
   "execution_count": null,
   "id": "40ef1162",
   "metadata": {},
   "outputs": [],
   "source": [
    "def is_palindrome(word):\n",
    "    return word == word[::-1]\n",
    "\n",
    "def find_palindromic_pairs(words):\n",
    "    palindromic_pairs = []\n",
    "    for i in range(len(words)):\n",
    "        for j in range(i + 1, len(words)):\n",
    "            pair = words[i] + words[j]\n",
    "            if is_palindrome(pair):\n",
    "                palindromic_pairs.append((words[i], words[j]))\n",
    "    return palindromic_pairs\n",
    "\n",
    "word_list = [\"race\", \"car\", \"madam\", \"hello\", \"world\"]\n",
    "palindromic_pairs = find_palindromic_pairs(word_list)\n",
    "print(\"Palindromic Pairs in the list of words:\")\n",
    "print(palindromic_pairs) # Output: [('race', 'car'), ('madam', 'madam')]\n"
   ]
  },
  {
   "cell_type": "markdown",
   "id": "857f945f",
   "metadata": {},
   "source": [
    "### 259. Calculate the Perimeter of a Reuleaux Hexagon Star with Rounded Corners and Right Alignment"
   ]
  },
  {
   "cell_type": "code",
   "execution_count": 1,
   "id": "80620d99",
   "metadata": {},
   "outputs": [
    {
     "name": "stdout",
     "output_type": "stream",
     "text": [
      "Perimeter of the Reuleaux hexagon star with rounded corners and radius 5 is: 60.00\n"
     ]
    }
   ],
   "source": [
    "import math\n",
    "\n",
    "def calculate_perimeter_of_reuleaux_hexagon_star(radius):\n",
    "    # The perimeter of a Reuleaux hexagon star with rounded corners is equal to 12 times the radius\n",
    "    perimeter = 12 * radius\n",
    "    return perimeter\n",
    "\n",
    "radius = 5 # Replace with the desired radius of the Reuleaux hexagon star with rounded corners\n",
    "perimeter = calculate_perimeter_of_reuleaux_hexagon_star(radius)\n",
    "print(f\"Perimeter of the Reuleaux hexagon star with rounded corners and radius {radius} is: {perimeter:.2f}\")\n"
   ]
  },
  {
   "cell_type": "markdown",
   "id": "850adf77",
   "metadata": {},
   "source": [
    "### 260. Print the Pattern of a Hollow Rhombic Pyramid Star"
   ]
  },
  {
   "cell_type": "code",
   "execution_count": 2,
   "id": "05b51a56",
   "metadata": {},
   "outputs": [
    {
     "name": "stdout",
     "output_type": "stream",
     "text": [
      "Hollow Rhombic Pyramid Star Pattern:\n",
      "    *\n",
      "   * *\n",
      "  *   *\n",
      " *     *\n",
      "*********\n"
     ]
    }
   ],
   "source": [
    "def print_hollow_rhombic_pyramid_star(rows):\n",
    "    for i in range(1, rows + 1):\n",
    "        for j in range(rows - i):\n",
    "            print(\" \", end=\"\")\n",
    "        for j in range(1, 2 * i):\n",
    "            if j == 1 or j == 2 * i - 1 or i == rows:\n",
    "                print(\"*\", end=\"\")\n",
    "            else:\n",
    "                print(\" \", end=\"\")\n",
    "        print()\n",
    "\n",
    "rows = 5 # Replace with the desired number of rows for the hollow rhombic pyramid star\n",
    "print(\"Hollow Rhombic Pyramid Star Pattern:\")\n",
    "print_hollow_rhombic_pyramid_star(rows)\n"
   ]
  },
  {
   "cell_type": "code",
   "execution_count": null,
   "id": "f780bcca",
   "metadata": {},
   "outputs": [],
   "source": []
  }
 ],
 "metadata": {
  "kernelspec": {
   "display_name": "Python 3 (ipykernel)",
   "language": "python",
   "name": "python3"
  },
  "language_info": {
   "codemirror_mode": {
    "name": "ipython",
    "version": 3
   },
   "file_extension": ".py",
   "mimetype": "text/x-python",
   "name": "python",
   "nbconvert_exporter": "python",
   "pygments_lexer": "ipython3",
   "version": "3.11.4"
  }
 },
 "nbformat": 4,
 "nbformat_minor": 5
}

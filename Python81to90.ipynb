{
 "cells": [
  {
   "cell_type": "markdown",
   "id": "1c0ac0b1",
   "metadata": {},
   "source": [
    "# Python Practice 81-90"
   ]
  },
  {
   "cell_type": "markdown",
   "id": "54ccee91",
   "metadata": {},
   "source": [
    "## Here are the Python programs for each of the objectives along with the associated algorithm, mathematical calculations, and string manipulations:"
   ]
  },
  {
   "cell_type": "markdown",
   "id": "e5ee28d4",
   "metadata": {},
   "source": [
    "### 81. Implement Singly Linked List Data Structure:"
   ]
  },
  {
   "cell_type": "code",
   "execution_count": 10,
   "id": "40d98df1",
   "metadata": {},
   "outputs": [
    {
     "name": "stdout",
     "output_type": "stream",
     "text": [
      "1 -> 2 -> 3 -> None\n"
     ]
    }
   ],
   "source": [
    "class Node:\n",
    "    def __init__(self, data):\n",
    "        self.data = data\n",
    "        self.next = None\n",
    "\n",
    "class SinglyLinkedList:\n",
    "    def __init__(self):\n",
    "        self.head = None\n",
    "\n",
    "    def append(self, data):\n",
    "        new_node = Node(data)\n",
    "        if not self.head:\n",
    "            self.head = new_node\n",
    "        else:\n",
    "            current_node = self.head\n",
    "            while current_node.next:\n",
    "                current_node = current_node.next\n",
    "            current_node.next = new_node\n",
    "\n",
    "    def display(self):\n",
    "        current_node = self.head\n",
    "        while current_node:\n",
    "            print(current_node.data, end=\" -> \")\n",
    "            current_node = current_node.next\n",
    "        print(\"None\")\n",
    "\n",
    "# Example usage of the Singly Linked List data structure\n",
    "linked_list = SinglyLinkedList()\n",
    "linked_list.append(1)\n",
    "linked_list.append(2)\n",
    "linked_list.append(3)\n",
    "linked_list.display()\n"
   ]
  },
  {
   "cell_type": "markdown",
   "id": "b609fd6b",
   "metadata": {},
   "source": [
    "### 82. Find the Armstrong Numbers in a Range Using Recursion:"
   ]
  },
  {
   "cell_type": "code",
   "execution_count": 9,
   "id": "8521da1a",
   "metadata": {},
   "outputs": [
    {
     "name": "stdout",
     "output_type": "stream",
     "text": [
      "Armstrong numbers in the range 100 to 999: [153, 370, 371, 407]\n"
     ]
    }
   ],
   "source": [
    "def is_armstrong_number_recursive(num, order):\n",
    "    if num == 0:\n",
    "        return 0\n",
    "    else:\n",
    "        return (num % 10) ** order + is_armstrong_number_recursive(num // 10, order)\n",
    "\n",
    "def find_armstrong_numbers_recursive(start, end):\n",
    "    armstrong_numbers = []\n",
    "    for num in range(start, end + 1):\n",
    "        order = len(str(num))\n",
    "        if num == is_armstrong_number_recursive(num, order):\n",
    "            armstrong_numbers.append(num)\n",
    "    return armstrong_numbers\n",
    "\n",
    "start_range, end_range = 100, 999\n",
    "armstrong_numbers_list = find_armstrong_numbers_recursive(start_range, end_range)\n",
    "print(f\"Armstrong numbers in the range {start_range} to {end_range}: {armstrong_numbers_list}\")\n"
   ]
  },
  {
   "cell_type": "markdown",
   "id": "5d6293d4",
   "metadata": {},
   "source": [
    "### 83. Calculate the Perimeter of a Rhombus:"
   ]
  },
  {
   "cell_type": "code",
   "execution_count": 8,
   "id": "4af7a331",
   "metadata": {},
   "outputs": [
    {
     "name": "stdout",
     "output_type": "stream",
     "text": [
      "The perimeter of the rhombus with side 7 is 28.\n"
     ]
    }
   ],
   "source": [
    "def perimeter_of_rhombus(side):\n",
    "    return 4 * side\n",
    "\n",
    "side_length = 7\n",
    "perimeter = perimeter_of_rhombus(side_length)\n",
    "print(f\"The perimeter of the rhombus with side {side_length} is {perimeter}.\")\n"
   ]
  },
  {
   "cell_type": "markdown",
   "id": "78584530",
   "metadata": {},
   "source": [
    "### 84. Print the Pattern of a Hollow Diamond:"
   ]
  },
  {
   "cell_type": "code",
   "execution_count": 7,
   "id": "daf2a44e",
   "metadata": {},
   "outputs": [
    {
     "name": "stdout",
     "output_type": "stream",
     "text": [
      "    * \n",
      "   * * * \n",
      "  * * * * * \n",
      " * * * * * * * \n",
      "* * * * * * * * * \n",
      " * * * * * * * \n",
      "  * * * * * \n",
      "   * * * \n",
      "    * \n"
     ]
    }
   ],
   "source": [
    "def print_hollow_diamond(n):\n",
    "    for i in range(1, n+1):\n",
    "        print(\" \" * (n-i) + \"* \" * (2*i-1))\n",
    "    for i in range(n-1, 0, -1):\n",
    "        print(\" \" * (n-i) + \"* \" * (2*i-1))\n",
    "\n",
    "rows = 5\n",
    "print_hollow_diamond(rows)\n"
   ]
  },
  {
   "cell_type": "markdown",
   "id": "367fbccb",
   "metadata": {},
   "source": [
    "### 85. Generate a Random Password with a Mix of Characters:"
   ]
  },
  {
   "cell_type": "code",
   "execution_count": 6,
   "id": "025adc7e",
   "metadata": {},
   "outputs": [
    {
     "name": "stdout",
     "output_type": "stream",
     "text": [
      "Generated Random Password with a mix of characters: 9<3#\"Ni*e/<Y\n"
     ]
    }
   ],
   "source": [
    "import random\n",
    "import string\n",
    "\n",
    "def generate_random_password_with_mix(length):\n",
    "    characters = string.ascii_letters + string.digits + string.punctuation\n",
    "    password = ''.join(random.choice(characters) for _ in range(length))\n",
    "    return password\n",
    "\n",
    "password_length = 12\n",
    "random_password = generate_random_password_with_mix(password_length)\n",
    "print(f\"Generated Random Password with a mix of characters: {random_password}\")\n"
   ]
  },
  {
   "cell_type": "markdown",
   "id": "453479f1",
   "metadata": {},
   "source": [
    "### 86. Convert Octal to Hexadecimal:"
   ]
  },
  {
   "cell_type": "code",
   "execution_count": 5,
   "id": "0d7506a3",
   "metadata": {},
   "outputs": [
    {
     "name": "stdout",
     "output_type": "stream",
     "text": [
      "The hexadecimal representation of 72 is 3A.\n"
     ]
    }
   ],
   "source": [
    "def octal_to_hexadecimal(octal_num):\n",
    "    decimal_num = int(octal_num, 8)\n",
    "    return hex(decimal_num).replace(\"0x\", \"\").upper()\n",
    "\n",
    "octal_num = \"72\"\n",
    "hexadecimal_num = octal_to_hexadecimal(octal_num)\n",
    "print(f\"The hexadecimal representation of {octal_num} is {hexadecimal_num}.\")\n"
   ]
  },
  {
   "cell_type": "markdown",
   "id": "2ddb5d1f",
   "metadata": {},
   "source": [
    "### 87. Check if a Number is a Duck Number:"
   ]
  },
  {
   "cell_type": "code",
   "execution_count": 4,
   "id": "2a4d2694",
   "metadata": {},
   "outputs": [
    {
     "name": "stdout",
     "output_type": "stream",
     "text": [
      "1023 is a duck number.\n"
     ]
    }
   ],
   "source": [
    "def is_duck_number(num):\n",
    "    num_str = str(num)\n",
    "    return '0' in num_str and num_str[0] != '0'\n",
    "\n",
    "number = 1023\n",
    "if is_duck_number(number):\n",
    "    print(f\"{number} is a duck number.\")\n",
    "else:\n",
    "    print(f\"{number} is not a duck number.\")\n"
   ]
  },
  {
   "cell_type": "markdown",
   "id": "85ef32cb",
   "metadata": {},
   "source": [
    "### 88. Calculate the Area of a Sphere:"
   ]
  },
  {
   "cell_type": "code",
   "execution_count": 3,
   "id": "75b5fe38",
   "metadata": {},
   "outputs": [
    {
     "name": "stdout",
     "output_type": "stream",
     "text": [
      "The area of the sphere with radius 5 is 314.16.\n"
     ]
    }
   ],
   "source": [
    "import math\n",
    "\n",
    "def area_of_sphere(radius):\n",
    "    return 4 * math.pi * radius ** 2\n",
    "\n",
    "radius = 5\n",
    "area = area_of_sphere(radius)\n",
    "print(f\"The area of the sphere with radius {radius} is {area:.2f}.\")\n"
   ]
  },
  {
   "cell_type": "markdown",
   "id": "2e70f01c",
   "metadata": {},
   "source": [
    "### 89. Implement Doubly Linked List Data Structure:"
   ]
  },
  {
   "cell_type": "code",
   "execution_count": 2,
   "id": "45bbbe89",
   "metadata": {},
   "outputs": [
    {
     "name": "stdout",
     "output_type": "stream",
     "text": [
      "1 <-> 2 <-> 3 <-> None\n"
     ]
    }
   ],
   "source": [
    "class Node:\n",
    "    def __init__(self, data):\n",
    "        self.data = data\n",
    "        self.next = None\n",
    "        self.prev = None\n",
    "\n",
    "class DoublyLinkedList:\n",
    "    def __init__(self):\n",
    "        self.head = None\n",
    "        self.tail = None\n",
    "\n",
    "    def append(self, data):\n",
    "        new_node = Node(data)\n",
    "        if not self.head:\n",
    "            self.head = new_node\n",
    "            self.tail = new_node\n",
    "        else:\n",
    "            new_node.prev = self.tail\n",
    "            self.tail.next = new_node\n",
    "            self.tail = new_node\n",
    "\n",
    "    def display(self):\n",
    "        current_node = self.head\n",
    "        while current_node:\n",
    "            print(current_node.data, end=\" <-> \")\n",
    "            current_node = current_node.next\n",
    "        print(\"None\")\n",
    "\n",
    "# Example usage of the Doubly Linked List data structure\n",
    "doubly_linked_list = DoublyLinkedList()\n",
    "doubly_linked_list.append(1)\n",
    "doubly_linked_list.append(2)\n",
    "doubly_linked_list.append(3)\n",
    "doubly_linked_list.display()\n"
   ]
  },
  {
   "cell_type": "markdown",
   "id": "9e35123d",
   "metadata": {},
   "source": [
    "### 90. Find the Perfect Numbers in a Range:"
   ]
  },
  {
   "cell_type": "code",
   "execution_count": 1,
   "id": "ae988bda",
   "metadata": {},
   "outputs": [
    {
     "name": "stdout",
     "output_type": "stream",
     "text": [
      "Perfect numbers in the range 1 to 1000: [6, 28, 496]\n"
     ]
    }
   ],
   "source": [
    "def find_divisors_sum(num):\n",
    "    divisors_sum = 0\n",
    "    for i in range(1, num):\n",
    "        if num % i == 0:\n",
    "            divisors_sum += i\n",
    "    return divisors_sum\n",
    "\n",
    "def find_perfect_numbers(start, end):\n",
    "    perfect_numbers = []\n",
    "    for num in range(start, end + 1):\n",
    "        if num == find_divisors_sum(num):\n",
    "            perfect_numbers.append(num)\n",
    "    return perfect_numbers\n",
    "\n",
    "start_range, end_range = 1, 1000\n",
    "perfect_numbers_list = find_perfect_numbers(start_range, end_range)\n",
    "print(f\"Perfect numbers in the range {start_range} to {end_range}: {perfect_numbers_list}\")\n"
   ]
  },
  {
   "cell_type": "code",
   "execution_count": null,
   "id": "594edb0c",
   "metadata": {},
   "outputs": [],
   "source": []
  }
 ],
 "metadata": {
  "kernelspec": {
   "display_name": "Python 3 (ipykernel)",
   "language": "python",
   "name": "python3"
  },
  "language_info": {
   "codemirror_mode": {
    "name": "ipython",
    "version": 3
   },
   "file_extension": ".py",
   "mimetype": "text/x-python",
   "name": "python",
   "nbconvert_exporter": "python",
   "pygments_lexer": "ipython3",
   "version": "3.11.4"
  }
 },
 "nbformat": 4,
 "nbformat_minor": 5
}

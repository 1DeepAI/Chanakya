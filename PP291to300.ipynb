{
 "cells": [
  {
   "cell_type": "markdown",
   "id": "7a08c4e3",
   "metadata": {},
   "source": [
    "# Python Practice 291-300"
   ]
  },
  {
   "cell_type": "markdown",
   "id": "60a1ea4f",
   "metadata": {},
   "source": [
    "## Here are the Python programs for the given objectives:"
   ]
  },
  {
   "cell_type": "markdown",
   "id": "d409f7cb",
   "metadata": {},
   "source": [
    "### 291. Calculate the Perimeter of a Reuleaux Pentagon Star with Rounded Corners and Right Alignment"
   ]
  },
  {
   "cell_type": "code",
   "execution_count": 10,
   "id": "ee9a50c6",
   "metadata": {},
   "outputs": [
    {
     "name": "stdout",
     "output_type": "stream",
     "text": [
      "Perimeter of the Reuleaux pentagon star with radius 5 is: 50.00\n"
     ]
    }
   ],
   "source": [
    "import math\n",
    "\n",
    "def calculate_perimeter_reuleaux_pentagon_star(radius):\n",
    "    # The perimeter of a Reuleaux pentagon star with rounded corners is the same as the perimeter of a regular pentagon\n",
    "    perimeter = 5 * 2 * radius\n",
    "    return perimeter\n",
    "\n",
    "radius = 5 # Replace with the radius of the Reuleaux pentagon star\n",
    "perimeter = calculate_perimeter_reuleaux_pentagon_star(radius)\n",
    "print(f\"Perimeter of the Reuleaux pentagon star with radius {radius} is: {perimeter:.2f}\")\n"
   ]
  },
  {
   "cell_type": "markdown",
   "id": "7089d8f3",
   "metadata": {},
   "source": [
    "### 292. Print the Pattern of a Hollow Rhombus Star with Right Alignment"
   ]
  },
  {
   "cell_type": "code",
   "execution_count": 9,
   "id": "e2f218f2",
   "metadata": {},
   "outputs": [
    {
     "name": "stdout",
     "output_type": "stream",
     "text": [
      "Hollow Rhombus Star Pattern:\n",
      "    *****\n",
      "   *   *\n",
      "  *   *\n",
      " *   *\n",
      "*****\n"
     ]
    }
   ],
   "source": [
    "def print_hollow_rhombus_star(rows):\n",
    "    for i in range(1, rows + 1):\n",
    "        for j in range(1, rows - i + 1):\n",
    "            print(\" \", end=\"\")\n",
    "        for j in range(1, rows + 1):\n",
    "            if i == 1 or i == rows or j == 1 or j == rows:\n",
    "                print(\"*\", end=\"\")\n",
    "            else:\n",
    "                print(\" \", end=\"\")\n",
    "        print()\n",
    "\n",
    "rows = 5 # Replace with the desired number of rows for the hollow rhombus star\n",
    "print(\"Hollow Rhombus Star Pattern:\")\n",
    "print_hollow_rhombus_star(rows)\n"
   ]
  },
  {
   "cell_type": "markdown",
   "id": "63673a3f",
   "metadata": {},
   "source": [
    "### 293. Generate a Random Word Cloud from Web Data (Note: Generating a random word cloud from web data requires web scraping, which may be subject to website terms of service and legal considerations. Make sure you have permission to scrape data from the website.)"
   ]
  },
  {
   "cell_type": "code",
   "execution_count": 8,
   "id": "c4b79196",
   "metadata": {},
   "outputs": [
    {
     "ename": "ModuleNotFoundError",
     "evalue": "No module named 'wordcloud'",
     "output_type": "error",
     "traceback": [
      "\u001b[0;31m---------------------------------------------------------------------------\u001b[0m",
      "\u001b[0;31mModuleNotFoundError\u001b[0m                       Traceback (most recent call last)",
      "Cell \u001b[0;32mIn[8], line 6\u001b[0m\n\u001b[1;32m      4\u001b[0m \u001b[38;5;28;01mimport\u001b[39;00m \u001b[38;5;21;01mrequests\u001b[39;00m\n\u001b[1;32m      5\u001b[0m \u001b[38;5;28;01mfrom\u001b[39;00m \u001b[38;5;21;01mbs4\u001b[39;00m \u001b[38;5;28;01mimport\u001b[39;00m BeautifulSoup\n\u001b[0;32m----> 6\u001b[0m \u001b[38;5;28;01mfrom\u001b[39;00m \u001b[38;5;21;01mwordcloud\u001b[39;00m \u001b[38;5;28;01mimport\u001b[39;00m WordCloud\n\u001b[1;32m      7\u001b[0m \u001b[38;5;28;01mimport\u001b[39;00m \u001b[38;5;21;01mmatplotlib\u001b[39;00m\u001b[38;5;21;01m.\u001b[39;00m\u001b[38;5;21;01mpyplot\u001b[39;00m \u001b[38;5;28;01mas\u001b[39;00m \u001b[38;5;21;01mplt\u001b[39;00m\n\u001b[1;32m      9\u001b[0m \u001b[38;5;28;01mdef\u001b[39;00m \u001b[38;5;21mgenerate_word_cloud\u001b[39m(url):\n",
      "\u001b[0;31mModuleNotFoundError\u001b[0m: No module named 'wordcloud'"
     ]
    }
   ],
   "source": [
    "# To generate a random word cloud from web data, you can use popular web scraping libraries like BeautifulSoup and requests.\n",
    "# In this example, we'll generate a word cloud from the Wikipedia page on \"Python\" using BeautifulSoup.\n",
    "\n",
    "import requests\n",
    "from bs4 import BeautifulSoup\n",
    "from wordcloud import WordCloud\n",
    "import matplotlib.pyplot as plt\n",
    "\n",
    "def generate_word_cloud(url):\n",
    "    response = requests.get(url)\n",
    "    if response.status_code == 200:\n",
    "        soup = BeautifulSoup(response.text, \"html.parser\")\n",
    "        text = soup.get_text()\n",
    "        wordcloud = WordCloud(width=800, height=400, background_color=\"white\").generate(text)\n",
    "        plt.figure(figsize=(10, 5))\n",
    "        plt.imshow(wordcloud, interpolation=\"bilinear\")\n",
    "        plt.axis(\"off\")\n",
    "        plt.show()\n",
    "    else:\n",
    "        print(f\"Failed to fetch data from {url}\")\n",
    "\n",
    "url = \"https://en.wikipedia.org/wiki/Python_(programming_language)\" # Replace with the URL of the webpage you want to scrape\n",
    "generate_word_cloud(url)\n"
   ]
  },
  {
   "cell_type": "markdown",
   "id": "7e33eb59",
   "metadata": {},
   "source": [
    "### 294. Convert Decimal to Roman Numeral Using Recursive Approach"
   ]
  },
  {
   "cell_type": "code",
   "execution_count": 7,
   "id": "96a431e2",
   "metadata": {},
   "outputs": [
    {
     "name": "stdout",
     "output_type": "stream",
     "text": [
      "Roman numeral representation of 1984 is: MCMLXXXIV\n"
     ]
    }
   ],
   "source": [
    "def decimal_to_roman_recursive(num):\n",
    "    if num <= 0:\n",
    "        return \"\"\n",
    "    elif num >= 1000:\n",
    "        return \"M\" + decimal_to_roman_recursive(num - 1000)\n",
    "    elif num >= 900:\n",
    "        return \"CM\" + decimal_to_roman_recursive(num - 900)\n",
    "    elif num >= 500:\n",
    "        return \"D\" + decimal_to_roman_recursive(num - 500)\n",
    "    elif num >= 400:\n",
    "        return \"CD\" + decimal_to_roman_recursive(num - 400)\n",
    "    elif num >= 100:\n",
    "        return \"C\" + decimal_to_roman_recursive(num - 100)\n",
    "    elif num >= 90:\n",
    "        return \"XC\" + decimal_to_roman_recursive(num - 90)\n",
    "    elif num >= 50:\n",
    "        return \"L\" + decimal_to_roman_recursive(num - 50)\n",
    "    elif num >= 40:\n",
    "        return \"XL\" + decimal_to_roman_recursive(num - 40)\n",
    "    elif num >= 10:\n",
    "        return \"X\" + decimal_to_roman_recursive(num - 10)\n",
    "    elif num >= 9:\n",
    "        return \"IX\" + decimal_to_roman_recursive(num - 9)\n",
    "    elif num >= 5:\n",
    "        return \"V\" + decimal_to_roman_recursive(num - 5)\n",
    "    elif num >= 4:\n",
    "        return \"IV\" + decimal_to_roman_recursive(num - 4)\n",
    "    elif num >= 1:\n",
    "        return \"I\" + decimal_to_roman_recursive(num - 1)\n",
    "\n",
    "decimal_number = 1984 # Replace with the decimal number you want to convert to Roman numeral\n",
    "roman_numeral = decimal_to_roman_recursive(decimal_number)\n",
    "print(f\"Roman numeral representation of {decimal_number} is: {roman_numeral}\")\n"
   ]
  },
  {
   "cell_type": "markdown",
   "id": "fe67a752",
   "metadata": {},
   "source": [
    "### 295. Check if a Number is a Generalized Fermat Number"
   ]
  },
  {
   "cell_type": "code",
   "execution_count": 6,
   "id": "842d5b6e",
   "metadata": {},
   "outputs": [
    {
     "name": "stdout",
     "output_type": "stream",
     "text": [
      "5 is not a generalized Fermat number with power 3.\n"
     ]
    }
   ],
   "source": [
    "def is_prime(num):\n",
    "    if num < 2:\n",
    "        return False\n",
    "    for i in range(2, int(num**0.5) + 1):\n",
    "        if num % i == 0:\n",
    "            return False\n",
    "    return True\n",
    "\n",
    "def is_generalized_fermat_number(number, p):\n",
    "    if number < 1 or p < 2:\n",
    "        return False\n",
    "    return is_prime(number**(p-1) - 1)\n",
    "\n",
    "number = 5 # Replace with the number you want to check\n",
    "p = 3 # Replace with the power 'p' for the generalized Fermat number\n",
    "result = is_generalized_fermat_number(number, p)\n",
    "print(f\"{number} is {'a' if result else 'not a'} generalized Fermat number with power {p}.\")\n"
   ]
  },
  {
   "cell_type": "markdown",
   "id": "0e85839c",
   "metadata": {},
   "source": [
    "### 296. Calculate the Volume of a Frustum of a Reuleaux Tetrahedron"
   ]
  },
  {
   "cell_type": "code",
   "execution_count": 5,
   "id": "33ea363f",
   "metadata": {},
   "outputs": [
    {
     "name": "stdout",
     "output_type": "stream",
     "text": [
      "Volume of the frustum of the Reuleaux tetrahedron with radius 5, height1 10, and height2 5 is: 103.12\n"
     ]
    }
   ],
   "source": [
    "import math\n",
    "\n",
    "def calculate_volume_of_frustum_of_reuleaux_tetrahedron(radius, height1, height2):\n",
    "    # The volume of a frustum of a Reuleaux tetrahedron can be calculated as the difference between two volumes of Reuleaux tetrahedra.\n",
    "    volume1 = (math.sqrt(2) / 12) * radius**3\n",
    "    volume2 = (math.sqrt(2) / 12) * radius**3 * (height1**3 / height2**3)\n",
    "    volume = volume2 - volume1\n",
    "    return volume\n",
    "\n",
    "radius = 5 # Replace with the radius of the Reuleaux tetrahedron\n",
    "height1 = 10 # Replace with the larger height of the frustum of the Reuleaux tetrahedron\n",
    "height2 = 5 # Replace with the smaller height of the frustum of the Reuleaux tetrahedron\n",
    "volume = calculate_volume_of_frustum_of_reuleaux_tetrahedron(radius, height1, height2)\n",
    "print(f\"Volume of the frustum of the Reuleaux tetrahedron with radius {radius}, height1 {height1}, and height2 {height2} is: {volume:.2f}\")\n"
   ]
  },
  {
   "cell_type": "markdown",
   "id": "2383ca1d",
   "metadata": {},
   "source": [
    "### 297. Implement Merge Sort Algorithm on a Linked List"
   ]
  },
  {
   "cell_type": "code",
   "execution_count": 4,
   "id": "01ec8edf",
   "metadata": {},
   "outputs": [
    {
     "name": "stdout",
     "output_type": "stream",
     "text": [
      "1 -> 2 -> 3 -> 4 -> "
     ]
    }
   ],
   "source": [
    "class ListNode:\n",
    "    def __init__(self, val=0, next=None):\n",
    "        self.val = val\n",
    "        self.next = next\n",
    "\n",
    "def merge_sort_linked_list(head):\n",
    "    if not head or not head.next:\n",
    "        return head\n",
    "    \n",
    "    def merge_sorted_lists(list1, list2):\n",
    "        dummy = ListNode(0)\n",
    "        current = dummy\n",
    "        while list1 and list2:\n",
    "            if list1.val < list2.val:\n",
    "                current.next = list1\n",
    "                list1 = list1.next\n",
    "            else:\n",
    "                current.next = list2\n",
    "                list2 = list2.next\n",
    "            current = current.next\n",
    "        current.next = list1 or list2\n",
    "        return dummy.next\n",
    "    \n",
    "    def get_middle(head):\n",
    "        slow, fast = head, head\n",
    "        prev = None\n",
    "        while fast and fast.next:\n",
    "            prev = slow\n",
    "            slow = slow.next\n",
    "            fast = fast.next.next\n",
    "        if prev:\n",
    "            prev.next = None\n",
    "        return slow\n",
    "    \n",
    "    left = head\n",
    "    right = get_middle(head)\n",
    "    \n",
    "    left = merge_sort_linked_list(left)\n",
    "    right = merge_sort_linked_list(right)\n",
    "    \n",
    "    return merge_sorted_lists(left, right)\n",
    "\n",
    "# Example usage of merge_sort_linked_list\n",
    "# Create a linked list: 4 -> 2 -> 1 -> 3\n",
    "node4 = ListNode(4)\n",
    "node2 = ListNode(2)\n",
    "node1 = ListNode(1)\n",
    "node3 = ListNode(3)\n",
    "node4.next = node2\n",
    "node2.next = node1\n",
    "node1.next = node3\n",
    "sorted_head = merge_sort_linked_list(node4)\n",
    "\n",
    "# Print the sorted linked list\n",
    "while sorted_head:\n",
    "    print(sorted_head.val, end=\" -> \")\n",
    "    sorted_head = sorted_head.next\n"
   ]
  },
  {
   "cell_type": "markdown",
   "id": "b9c0f1a4",
   "metadata": {},
   "source": [
    "### 298. Find the Eulerian Numbers in a Range"
   ]
  },
  {
   "cell_type": "code",
   "execution_count": 3,
   "id": "9e95e463",
   "metadata": {},
   "outputs": [
    {
     "name": "stdout",
     "output_type": "stream",
     "text": [
      "Eulerian numbers in the given range:\n",
      "[1, 1, 1, 1, 1, 1, 1, 1, 1, 1]\n"
     ]
    }
   ],
   "source": [
    "def calculate_binomial_coefficient(n, k):\n",
    "    if k == 0 or k == n:\n",
    "        return 1\n",
    "    return calculate_binomial_coefficient(n - 1, k - 1) + calculate_binomial_coefficient(n - 1, k)\n",
    "\n",
    "def find_eulerian_numbers(lower_bound, upper_bound):\n",
    "    eulerian_numbers = []\n",
    "    for n in range(lower_bound, upper_bound + 1):\n",
    "        eulerian_number = 0\n",
    "        for k in range(n + 1):\n",
    "            eulerian_number += calculate_binomial_coefficient(n + 1, k) * (n - k) ** n * (-1) ** k\n",
    "        eulerian_numbers.append(eulerian_number)\n",
    "    return eulerian_numbers\n",
    "\n",
    "lower_bound = 1 # Replace with the lower bound of the range to find Eulerian numbers\n",
    "upper_bound = 10 # Replace with the upper bound of the range to find Eulerian numbers\n",
    "eulerian_numbers = find_eulerian_numbers(lower_bound, upper_bound)\n",
    "print(\"Eulerian numbers in the given range:\")\n",
    "print(eulerian_numbers)\n"
   ]
  },
  {
   "cell_type": "markdown",
   "id": "417c151b",
   "metadata": {},
   "source": [
    "### 299. Calculate the Perimeter of a Reuleaux Ellipse with Rounded Corners"
   ]
  },
  {
   "cell_type": "code",
   "execution_count": 2,
   "id": "4501a4cc",
   "metadata": {},
   "outputs": [
    {
     "name": "stdout",
     "output_type": "stream",
     "text": [
      "Perimeter of the Reuleaux ellipse with major semi-axis 6 and minor semi-axis 3 is: 29.07\n"
     ]
    }
   ],
   "source": [
    "import math\n",
    "\n",
    "def calculate_perimeter_reuleaux_ellipse(a, b):\n",
    "    # The perimeter of a Reuleaux ellipse with rounded corners can be approximated using the perimeter of an ellipse.\n",
    "    # Let's use the Ramanujan's formula for approximating the perimeter of an ellipse.\n",
    "    h = ((a - b) ** 2) / ((a + b) ** 2)\n",
    "    perimeter = math.pi * (a + b) * (1 + (3 * h) / (10 + math.sqrt(4 - 3 * h)))\n",
    "    return perimeter\n",
    "\n",
    "a = 6 # Replace with the major semi-axis of the Reuleaux ellipse\n",
    "b = 3 # Replace with the minor semi-axis of the Reuleaux ellipse\n",
    "perimeter = calculate_perimeter_reuleaux_ellipse(a, b)\n",
    "print(f\"Perimeter of the Reuleaux ellipse with major semi-axis {a} and minor semi-axis {b} is: {perimeter:.2f}\")\n"
   ]
  },
  {
   "cell_type": "markdown",
   "id": "e5f67054",
   "metadata": {},
   "source": [
    "### 300. Print the Pattern of a Hollow Floyd's Triangle Star"
   ]
  },
  {
   "cell_type": "code",
   "execution_count": 1,
   "id": "7bc15c4a",
   "metadata": {},
   "outputs": [
    {
     "name": "stdout",
     "output_type": "stream",
     "text": [
      "Hollow Floyd's Triangle Star Pattern:\n",
      "*\n",
      "**\n",
      "* *\n",
      "*  *\n",
      "*****\n"
     ]
    }
   ],
   "source": [
    "def print_hollow_floyds_triangle_star(rows):\n",
    "    num = 1\n",
    "    for i in range(1, rows + 1):\n",
    "        for j in range(1, i + 1):\n",
    "            if i == rows or j == 1 or j == i:\n",
    "                print(\"*\", end=\"\")\n",
    "            else:\n",
    "                print(\" \", end=\"\")\n",
    "        num += 1\n",
    "        print()\n",
    "\n",
    "rows = 5 # Replace with the desired number of rows for the hollow Floyd's triangle star\n",
    "print(\"Hollow Floyd's Triangle Star Pattern:\")\n",
    "print_hollow_floyds_triangle_star(rows)\n"
   ]
  },
  {
   "cell_type": "code",
   "execution_count": null,
   "id": "cf89e661",
   "metadata": {},
   "outputs": [],
   "source": []
  }
 ],
 "metadata": {
  "kernelspec": {
   "display_name": "Python 3 (ipykernel)",
   "language": "python",
   "name": "python3"
  },
  "language_info": {
   "codemirror_mode": {
    "name": "ipython",
    "version": 3
   },
   "file_extension": ".py",
   "mimetype": "text/x-python",
   "name": "python",
   "nbconvert_exporter": "python",
   "pygments_lexer": "ipython3",
   "version": "3.11.4"
  }
 },
 "nbformat": 4,
 "nbformat_minor": 5
}

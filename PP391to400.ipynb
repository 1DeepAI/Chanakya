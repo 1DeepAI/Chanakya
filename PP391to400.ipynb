{
 "cells": [
  {
   "cell_type": "markdown",
   "id": "b4b96798",
   "metadata": {},
   "source": [
    "# Python Practice 391-400"
   ]
  },
  {
   "cell_type": "markdown",
   "id": "02416c56",
   "metadata": {},
   "source": [
    "## Here are Python Codes for Practice"
   ]
  },
  {
   "cell_type": "markdown",
   "id": "5e840ac0",
   "metadata": {},
   "source": [
    "### 391. Check if a Number is a Generalized Hexagonal Pentagonal Number\n",
    "A generalized hexagonal pentagonal number would be a number that is both hexagonal and pentagonal."
   ]
  },
  {
   "cell_type": "code",
   "execution_count": 2,
   "id": "7eb55da7",
   "metadata": {},
   "outputs": [
    {
     "name": "stdout",
     "output_type": "stream",
     "text": [
      "153 is NOT a generalized hexagonal pentagonal number.\n"
     ]
    }
   ],
   "source": [
    "def is_int(n):\n",
    "    return int(n) == n\n",
    "\n",
    "def is_pentagonal(x):\n",
    "    n = (1 + (1 + 24 * x)**0.5) / 6\n",
    "    return is_int(n)\n",
    "\n",
    "def is_hexagonal(x):\n",
    "    n = (1 + (1 + 8 * x)**0.5) / 4\n",
    "    return is_int(n)\n",
    "\n",
    "def is_hexagonal_pentagonal(x):\n",
    "    return is_hexagonal(x) and is_pentagonal(x)\n",
    "\n",
    "# Testing the function\n",
    "number = 153\n",
    "if is_hexagonal_pentagonal(number):\n",
    "    print(f\"{number} is a generalized hexagonal pentagonal number.\")\n",
    "else:\n",
    "    print(f\"{number} is NOT a generalized hexagonal pentagonal number.\")\n"
   ]
  },
  {
   "cell_type": "markdown",
   "id": "0edba475",
   "metadata": {},
   "source": [
    "### 392. Calculate the Volume of a Frustum of a Regular Icosahedron with Custom Height and Base Length with Variable Base\n",
    "let's break down the problem.\n",
    "\n",
    "A frustum is a portion of a solid that lies between two parallel planes cutting the solid, especially the portion of a right circular cone between the base and a plane parallel to the base.\n",
    "\n",
    "However, for an icosahedron (which is not a shape that naturally produces a frustum like a cone or a pyramid does), the \"frustum\" would be an irregular shape, and calculating its volume isn't straightforward.\n",
    "\n",
    "To simplify the problem, let's make some assumptions:\n",
    "\n",
    "Our \"frustum\" is formed by cutting off the top of a regular icosahedron such that the cut produces a flat surface.\n",
    "The base length referred to is the side length of the original icosahedron.\n",
    "The height is the perpendicular distance from the original base to the cut surface.\n",
    "Given these assumptions, the volume of the frustum can be calculated as the difference between the volume of the original icosahedron and the volume of the smaller icosahedron (the portion we've \"cut off\").\n",
    "\n",
    "\n"
   ]
  },
  {
   "cell_type": "code",
   "execution_count": 3,
   "id": "728df448",
   "metadata": {},
   "outputs": [
    {
     "name": "stdout",
     "output_type": "stream",
     "text": [
      "Volume of the frustum: 16.08\n"
     ]
    }
   ],
   "source": [
    "def volume_of_icosahedron(a):\n",
    "    \"\"\"Return the volume of a regular icosahedron with side length a.\"\"\"\n",
    "    return (5 * (3 + 5**0.5) / 12) * a**3\n",
    "\n",
    "def frustum_volume(a, height, original_height):\n",
    "    \"\"\"Calculate the volume of the frustum of a regular icosahedron.\"\"\"\n",
    "    # First, get the side length of the smaller icosahedron using similar triangles\n",
    "    smaller_a = a * (original_height - height) / original_height\n",
    "    \n",
    "    # Then, calculate the volume difference\n",
    "    return volume_of_icosahedron(a) - volume_of_icosahedron(smaller_a)\n",
    "\n",
    "# Example\n",
    "a = 2  # side length of the original icosahedron\n",
    "original_height = 3.5  # assuming an original height\n",
    "height = 2  # height after cutting off the top\n",
    "\n",
    "volume = frustum_volume(a, height, original_height)\n",
    "print(f\"Volume of the frustum: {volume:.2f}\")\n"
   ]
  },
  {
   "cell_type": "markdown",
   "id": "6f4817b8",
   "metadata": {},
   "source": [
    "### 393. Implement Quick Sort Algorithm on a Doubly Linked List with Custom Pivot, Partition Scheme, Right Alignment, and Variable Size\n",
    "Let's implement a quicksort algorithm for a doubly linked list:\n",
    "\n",
    "Create a doubly linked list structure with Node class.\n",
    "Implement the quicksort algorithm, which will include a function to partition the linked list and a function to pick a pivot (in our case, we'll use the rightmost element as the pivot, based on your \"right alignment\" instruction).\n",
    "Write a function to print the sorted doubly linked list."
   ]
  },
  {
   "cell_type": "code",
   "execution_count": 5,
   "id": "dba50651",
   "metadata": {},
   "outputs": [
    {
     "name": "stdout",
     "output_type": "stream",
     "text": [
      "Original List:\n",
      "4 2 5 3 1 8 6 \n",
      "\n",
      "Sorted List:\n",
      "1 2 3 4 5 6 8 \n"
     ]
    }
   ],
   "source": [
    "class Node:\n",
    "    def __init__(self, data):\n",
    "        self.data = data\n",
    "        self.next = None\n",
    "        self.prev = None\n",
    "\n",
    "def partition(start, end):\n",
    "    if start == end:\n",
    "        return start\n",
    "\n",
    "    pivot = end.data\n",
    "    i = start.prev\n",
    "\n",
    "    j = start\n",
    "    while j != end:\n",
    "        if j.data <= pivot:\n",
    "            # Similar to i++\n",
    "            if i is None:\n",
    "                i = start\n",
    "            else:\n",
    "                i = i.next\n",
    "            i.data, j.data = j.data, i.data\n",
    "        j = j.next\n",
    "\n",
    "    if i is None:\n",
    "        i = start\n",
    "    else:\n",
    "        i = i.next\n",
    "    i.data, end.data = end.data, i.data\n",
    "\n",
    "    return i\n",
    "\n",
    "def _quickSort(start, end):\n",
    "    if not start or not end or start == end or start == end.next:\n",
    "        return\n",
    "\n",
    "    pi = partition(start, end)\n",
    "    if pi and pi.prev:\n",
    "        _quickSort(start, pi.prev)\n",
    "    if pi and pi.next:\n",
    "        _quickSort(pi.next, end)\n",
    "\n",
    "def quickSort(node):\n",
    "    start = node\n",
    "    end = None\n",
    "    while node:\n",
    "        end = node\n",
    "        node = node.next\n",
    "    _quickSort(start, end)\n",
    "\n",
    "def printList(node):\n",
    "    while node:\n",
    "        print(node.data, end=\" \")\n",
    "        node = node.next\n",
    "    print()\n",
    "\n",
    "# Example\n",
    "node1 = Node(4)\n",
    "node2 = Node(2)\n",
    "node3 = Node(5)\n",
    "node4 = Node(3)\n",
    "node5 = Node(1)\n",
    "node6 = Node(8)\n",
    "node7 = Node(6)\n",
    "\n",
    "node1.next = node2\n",
    "node2.next = node3\n",
    "node3.next = node4\n",
    "node4.next = node5\n",
    "node5.next = node6\n",
    "node6.next = node7\n",
    "\n",
    "node2.prev = node1\n",
    "node3.prev = node2\n",
    "node4.prev = node3\n",
    "node5.prev = node4\n",
    "node6.prev = node5\n",
    "node7.prev = node6\n",
    "\n",
    "print(\"Original List:\")\n",
    "printList(node1)\n",
    "\n",
    "quickSort(node1)\n",
    "\n",
    "print(\"\\nSorted List:\")\n",
    "printList(node1)\n"
   ]
  },
  {
   "cell_type": "markdown",
   "id": "93a4f488",
   "metadata": {},
   "source": [
    "### 394. Find the Partitions of a Specific Integer with Custom Partition Scheme\n",
    "First, let's clarify what we mean by \"partitions of a specific integer with custom partition scheme\".\n",
    "\n",
    "Let's say the integer is n. A partition of n is a way of writing n as a sum of positive integers. For example, for n = 4, one of its partitions could be 3 + 1.\n",
    "\n",
    "A \"custom partition scheme\" might involve constraints like:\n",
    "\n",
    "Use only odd numbers.\n",
    "Use numbers from a specific list.\n",
    "Do not use any number more than once.\n",
    "For this example, let's assume that the custom scheme is to partition the integer using only odd numbers."
   ]
  },
  {
   "cell_type": "code",
   "execution_count": 6,
   "id": "b09bae6d",
   "metadata": {},
   "outputs": [
    {
     "name": "stdout",
     "output_type": "stream",
     "text": [
      "Partitions of 7 using only odd numbers:\n",
      "7\n",
      "1 + 6\n",
      "1 + 1 + 5\n",
      "1 + 1 + 1 + 4\n",
      "1 + 1 + 1 + 1 + 3\n",
      "1 + 1 + 1 + 1 + 1 + 2\n",
      "1 + 1 + 1 + 1 + 1 + 1 + 1\n",
      "1 + 3 + 3\n",
      "3 + 4\n"
     ]
    }
   ],
   "source": [
    "def partitions(n, I=1):\n",
    "    yield (n,)\n",
    "    for i in range(I, n//2 + 1, 2):  # ensuring we only use odd numbers by incrementing by 2\n",
    "        for p in partitions(n-i, i):\n",
    "            yield (i,) + p\n",
    "\n",
    "n = 7\n",
    "print(f\"Partitions of {n} using only odd numbers:\")\n",
    "for partition in partitions(n):\n",
    "    print(' + '.join(map(str, partition)))\n"
   ]
  },
  {
   "cell_type": "markdown",
   "id": "71fa83e8",
   "metadata": {},
   "source": [
    "### 395. Calculate the Perimeter of a Reuleaux Ellipse with Rounded Corners, Custom Size, Right Alignment, Custom Major and Minor Axes Length, and Variable Base\n",
    "First, let's discuss the concept of a \"Reuleaux Ellipse\". The term \"Reuleaux\" is usually associated with a curve of constant width derived from a triangle, known as the Reuleaux triangle. This triangle is essentially a triangle with rounded corners where each side's arc is a portion of a circle with the triangle's vertices as centers.\n",
    "\n",
    "However, an \"ellipse\" is a different shape, characterized by its major and minor axes. I'm assuming by \"Reuleaux Ellipse,\" you're referring to an ellipse with rounded corners. If that's not the case, please provide more clarity."
   ]
  },
  {
   "cell_type": "code",
   "execution_count": 7,
   "id": "b79f9de5",
   "metadata": {},
   "outputs": [
    {
     "name": "stdout",
     "output_type": "stream",
     "text": [
      "Perimeter of the Reuleaux Ellipse: 28.00497515844602 units\n"
     ]
    }
   ],
   "source": [
    "import math\n",
    "\n",
    "def ellipse_perimeter(a, b):\n",
    "    # Ellipse perimeter approximation\n",
    "    h = ((a-b)/(a+b))**2\n",
    "    return math.pi * (a+b) * (1 + (3/8)*h)\n",
    "\n",
    "def reuleaux_ellipse_perimeter(a, b, r):\n",
    "    # Standard ellipse perimeter\n",
    "    P = ellipse_perimeter(a, b)\n",
    "    \n",
    "    # Adjustment for the rounded corners (assuming quarter circles)\n",
    "    delta_P = 4 * r * (math.pi - 2)\n",
    "    \n",
    "    return P + delta_P\n",
    "\n",
    "a = 5  # Major axis\n",
    "b = 3  # Minor axis\n",
    "r = 0.5  # Radius of the rounded corners\n",
    "\n",
    "print(f\"Perimeter of the Reuleaux Ellipse: {reuleaux_ellipse_perimeter(a, b, r)} units\")\n"
   ]
  },
  {
   "cell_type": "markdown",
   "id": "956affa2",
   "metadata": {},
   "source": [
    "### 396. Print the Pattern of a Hollow Sierpinski Triangle Star with Custom Size, Depth, Right Alignment, and Variable Triangle Width\n",
    "The Sierpinski triangle is a fractal that's made by recursively removing equilateral triangles from larger equilateral triangles. When we refer to the \"hollow\" Sierpinski triangle, it means we're showing the pattern of removed triangles, and only the boundaries of the larger triangles remain.\n",
    "\n",
    "Let's make a function that can print the Sierpinski triangle pattern given a custom size, depth, and alignment. This code will handle:\n",
    "\n",
    "1. Custom size: The overall triangle's side length.\n",
    "2. Depth: The recursive depth to which the Sierpinski triangle is drawn.\n",
    "3. Right alignment: The entire pattern will be right aligned.\n",
    "4. Variable triangle width: The width of the triangle on each level of recursion.\n",
    "For the sake of simplicity, let's represent our triangle as a 2D list of characters where a * denotes a star and a space denotes an empty spot."
   ]
  },
  {
   "cell_type": "code",
   "execution_count": 10,
   "id": "f99c843d",
   "metadata": {},
   "outputs": [
    {
     "name": "stdout",
     "output_type": "stream",
     "text": [
      "               *\n",
      "              * *\n",
      "             *   *\n",
      "            *     *\n",
      "           *       *\n",
      "          *         *\n",
      "         *           *\n",
      "        ***************\n",
      "           *       *\n",
      "          * *     * *\n",
      "         *   *   *   *\n",
      "        *     * *     *\n",
      "       *       *       *\n",
      "      *       * *       *\n",
      "     *       *   *       *\n",
      "    ***********************\n"
     ]
    }
   ],
   "source": [
    "def draw_triangle(matrix, top_x, top_y, size):\n",
    "    \"\"\"Draws a triangle onto the matrix with the top vertex at (top_x, top_y).\"\"\"\n",
    "    for i in range(size):\n",
    "        matrix[top_y + i][top_x - i] = '*'\n",
    "        matrix[top_y + i][top_x + i] = '*'\n",
    "        if i == size - 1:\n",
    "            for j in range(top_x - i + 1, top_x + i):\n",
    "                matrix[top_y + i][j] = '*'\n",
    "\n",
    "def sierpinski(matrix, top_x, top_y, size, depth):\n",
    "    \"\"\"Recursively draws the Sierpinski triangle pattern.\"\"\"\n",
    "    if depth <= 0:\n",
    "        return\n",
    "    if depth == 1:\n",
    "        draw_triangle(matrix, top_x, top_y, size)\n",
    "    else:\n",
    "        h = size // 2\n",
    "        sierpinski(matrix, top_x, top_y, h, depth - 1)  # top\n",
    "        sierpinski(matrix, top_x - h // 2, top_y + h, h, depth - 1)  # bottom left\n",
    "        sierpinski(matrix, top_x + h // 2, top_y + h, h, depth - 1)  # bottom right\n",
    "\n",
    "def print_sierpinski(size, depth):\n",
    "    \"\"\"Generates the matrix representing the pattern and prints it.\"\"\"\n",
    "    matrix = [[' ' for _ in range(size * 2)] for _ in range(size)]\n",
    "    sierpinski(matrix, size - 1, 0, size, depth)\n",
    "    for row in matrix:\n",
    "        print(''.join(row).rstrip())\n",
    "\n",
    "# Test\n",
    "print_sierpinski(16, 2)\n"
   ]
  },
  {
   "cell_type": "markdown",
   "id": "4068cfaa",
   "metadata": {},
   "source": [
    "### 397. Generate a Random Huffman Coding Tree with Custom Probabilities, Codeword Lengths, Fixed Codeword Size, Custom Prefix Length, and Custom Node Weights\n",
    "Let's break this down step by step:\n",
    "\n",
    "1. Random Huffman Coding Tree with Custom Probabilities: Huffman coding is usually based on the probabilities (or frequencies) of different symbols. If you give custom probabilities, we can use them to create the Huffman Tree.\n",
    "2. Codeword Lengths: Once the Huffman tree is constructed, the codeword length for each symbol is essentially the depth of that symbol's leaf in the tree. However, for \"custom\" codeword lengths, you'd need to ensure the lengths provided can actually form a valid Huffman tree.\n",
    "3. Fixed Codeword Size: Huffman codes are variable-length by nature. If you want fixed-size codes, you'd typically look at other encoding methods, but it can be done by padding shorter codes.\n",
    "4. Custom Prefix Length and Node Weights: These are non-standard additions to the Huffman process, but we can incorporate them."
   ]
  },
  {
   "cell_type": "code",
   "execution_count": 12,
   "id": "2fa4189d",
   "metadata": {},
   "outputs": [
    {
     "name": "stdout",
     "output_type": "stream",
     "text": [
      "Generated Huffman Codes: {'a': '0', 'b': '10', 'd': '110', 'c': '111'}\n",
      "Fixed Size Huffman Codes: {'a': '000', 'b': '010', 'd': '110', 'c': '111'}\n"
     ]
    }
   ],
   "source": [
    "import heapq\n",
    "from collections import defaultdict, namedtuple\n",
    "\n",
    "# Node structure for Huffman Tree\n",
    "Node = namedtuple(\"Node\", [\"weight\", \"char\", \"left\", \"right\"])\n",
    "\n",
    "def create_huffman_tree(probabilities):\n",
    "    # Initial heap of nodes\n",
    "    heap = [Node(weight=prob, char=char, left=None, right=None) for char, prob in probabilities.items()]\n",
    "    heapq.heapify(heap)\n",
    "    \n",
    "    while len(heap) > 1:\n",
    "        # Pop the two nodes with the smallest weights\n",
    "        left = heapq.heappop(heap)\n",
    "        right = heapq.heappop(heap)\n",
    "        \n",
    "        # Merge them into a new node\n",
    "        merged = Node(weight=left.weight + right.weight, char=None, left=left, right=right)\n",
    "        heapq.heappush(heap, merged)\n",
    "        \n",
    "    return heap[0]\n",
    "\n",
    "def traverse_tree(tree, prefix=\"\", code={}):\n",
    "    if tree.char is not None:\n",
    "        code[tree.char] = prefix\n",
    "    else:\n",
    "        traverse_tree(tree.left, prefix + \"0\", code)\n",
    "        traverse_tree(tree.right, prefix + \"1\", code)\n",
    "    return code\n",
    "\n",
    "# Custom probabilities\n",
    "probabilities = {\"a\": 0.4, \"b\": 0.3, \"c\": 0.2, \"d\": 0.1}\n",
    "\n",
    "# Construct Huffman Tree\n",
    "huffman_tree = create_huffman_tree(probabilities)\n",
    "\n",
    "# Generate codewords\n",
    "codes = traverse_tree(huffman_tree)\n",
    "print(\"Generated Huffman Codes:\", codes)\n",
    "\n",
    "# To get fixed codeword size, you can pad the shorter codes:\n",
    "max_len = max(map(len, codes.values()))\n",
    "fixed_codes = {k: v.rjust(max_len, \"0\") for k, v in codes.items()}\n",
    "print(\"Fixed Size Huffman Codes:\", fixed_codes)\n"
   ]
  },
  {
   "cell_type": "markdown",
   "id": "e315cb25",
   "metadata": {},
   "source": [
    "### 398. Convert Decimal to Gray Code Using Recursive Approach and Custom Bit Size with Variable Base and Custom Encoding Scheme\n",
    "Gray code is a binary numeral system where two successive numbers differ in only one bit.\n",
    "\n",
    "The formula to convert a binary number b to its Gray code \n",
    "g is:..(1)\n",
    "Let's break down the requirements:\n",
    "\n",
    "1. Convert Decimal to Gray Code: This can be achieved using the formula above.\n",
    "2. Recursive Approach: We can use a recursive function to generate Gray codes of a certain length.\n",
    "3. Custom Bit Size: The number of bits in the output Gray code.\n",
    "4. Variable Base: This seems to indicate a non-binary base, which is interesting since standard Gray code is binary.\n",
    "5. Custom Encoding Scheme: This is ambiguous without more information. For the sake of simplicity, I'll assume that after converting to Gray code, you might want to replace '0' and '1' with other characters, e.g., '+' and '-'.\n",
    "\n",
    "- First, generate the gray codes with binary representation.\n",
    "- Convert the binary representation to the desired base.\n",
    "- Lastly, apply the custom encoding."
   ]
  },
  {
   "cell_type": "code",
   "execution_count": 15,
   "id": "652a69a1",
   "metadata": {},
   "outputs": [
    {
     "name": "stdout",
     "output_type": "stream",
     "text": [
      "['AAA', 'ACB', 'BBB', 'AAC', 'ABB', 'CBA', 'BAC', 'ACA']\n"
     ]
    }
   ],
   "source": [
    "def decimal_to_gray(n):\n",
    "    \"\"\"Convert decimal number to Gray code\"\"\"\n",
    "    return n ^ (n >> 1)\n",
    "\n",
    "def binary_to_baseN(value, base):\n",
    "    \"\"\"Convert a binary number to a given base\"\"\"\n",
    "    result = 0\n",
    "    multiplier = 1\n",
    "    while value:\n",
    "        result += (value % base) * multiplier\n",
    "        multiplier *= 10\n",
    "        value //= base\n",
    "    return result\n",
    "\n",
    "def gray_code_recursive(n, base=2, encoding={\"0\": \"0\", \"1\": \"1\"}):\n",
    "    \"\"\"Generate Gray code recursively for custom bit size n\"\"\"\n",
    "    if n == 0:\n",
    "        return ['0' * base]\n",
    "    \n",
    "    # First, we recursively generate the smaller Gray code in binary\n",
    "    smaller_gray = gray_code_recursive(n-1, 2)\n",
    "\n",
    "    # First half of the Gray code list\n",
    "    first_half = ['0' + code for code in smaller_gray]\n",
    "    \n",
    "    # Second half (mirror of the first half)\n",
    "    second_half = ['1' + code for code in reversed(smaller_gray)]\n",
    "    \n",
    "    # Combine both\n",
    "    gray_codes_binary = first_half + second_half\n",
    "\n",
    "    # Convert binary gray codes to the desired base\n",
    "    gray_codes_baseN = [str(binary_to_baseN(decimal_to_gray(int(code, 2)), base)).rjust(n, '0') for code in gray_codes_binary]\n",
    "\n",
    "    # Apply custom encoding\n",
    "    gray_codes = [''.join([encoding[char] for char in code]) for code in gray_codes_baseN]\n",
    "\n",
    "    return gray_codes\n",
    "\n",
    "# Test\n",
    "bit_size = 3\n",
    "base = 3\n",
    "encoding = {\"0\": \"A\", \"1\": \"B\", \"2\": \"C\"}\n",
    "\n",
    "gray_codes = gray_code_recursive(bit_size, base, encoding)\n",
    "print(gray_codes)\n"
   ]
  },
  {
   "cell_type": "markdown",
   "id": "71e3b3ea",
   "metadata": {},
   "source": [
    "### 399. Check if a Number is a Generalized Heptagonal Hexagonal Number\n",
    "Firstly, let's clarify the mathematical definitions of the numbers:\n",
    "1. Heptagonal Number:\n",
    "2. Hexagonal Number: \n",
    "For a number to be a generalized heptagonal hexagonal number, it needs to be both a heptagonal number and a hexagonal number.\n",
    "Here's a corrected approach:\n",
    "\n",
    "1. Given a number y, if it satisfies the conditions to be both hexagonal and heptagonal, we will determine it as a generalized heptagonal hexagonal number.\n",
    "2. We'll use the quadratic formula to determine if a value of n makes the number y hexagonal and heptagonal."
   ]
  },
  {
   "cell_type": "code",
   "execution_count": 18,
   "id": "0146ed80",
   "metadata": {},
   "outputs": [
    {
     "name": "stdout",
     "output_type": "stream",
     "text": [
      "45 is NOT a generalized heptagonal hexagonal number!\n"
     ]
    }
   ],
   "source": [
    "def is_integer(value):\n",
    "    \"\"\"Check if a value is close to an integer.\"\"\"\n",
    "    return abs(value - round(value)) < 1e-10\n",
    "\n",
    "def is_heptagonal(y):\n",
    "    \"\"\"Check if a number y is heptagonal.\"\"\"\n",
    "    # Using the quadratic formula to solve: 5n^2 - 3n - 2y = 0\n",
    "    discriminant = 9 + 40 * y\n",
    "    if discriminant < 0:\n",
    "        return False\n",
    "    n1 = (3 + discriminant**0.5) / 10\n",
    "    n2 = (3 - discriminant**0.5) / 10\n",
    "    return is_integer(n1) or is_integer(n2)\n",
    "\n",
    "def is_hexagonal(y):\n",
    "    \"\"\"Check if a number y is hexagonal.\"\"\"\n",
    "    # Using the quadratic formula to solve: 2n^2 - n - y = 0\n",
    "    discriminant = 1 + 8 * y\n",
    "    if discriminant < 0:\n",
    "        return False\n",
    "    n1 = (1 + discriminant**0.5) / 4\n",
    "    n2 = (1 - discriminant**0.5) / 4\n",
    "    return is_integer(n1) or is_integer(n2)\n",
    "\n",
    "def is_generalized_heptagonal_hexagonal(y):\n",
    "    \"\"\"Check if a number y is both heptagonal and hexagonal.\"\"\"\n",
    "    return is_heptagonal(y) and is_hexagonal(y)\n",
    "\n",
    "# Test\n",
    "number = 45\n",
    "if is_generalized_heptagonal_hexagonal(number):\n",
    "    print(f\"{number} is a generalized heptagonal hexagonal number!\")\n",
    "else:\n",
    "    print(f\"{number} is NOT a generalized heptagonal hexagonal number!\")\n"
   ]
  },
  {
   "cell_type": "markdown",
   "id": "3ba5c7b0",
   "metadata": {},
   "source": [
    "### 400. Calculate the Volume of a Frustum of a Regular Dodecahedron with Custom Height and Base Length with Variable Base and Custom Volume Calculation\n",
    " Let's first clarify our problem statement:\n",
    "\n",
    "A frustum is the portion of a solid that lies between two parallel planes cutting it, especially the section between the base and a plane parallel to the base.\n",
    "\n",
    "The volume of a frustum for a pyramid or cone is:..(1)\n",
    " Let's first clarify our problem statement:\n",
    "\n",
    "A frustum is the portion of a solid that lies between two parallel planes cutting it, especially the section between the base and a plane parallel to the base.\n",
    "\n",
    "The volume of a frustum for a pyramid or cone is:..(2)\n",
    "Given that the height of the frustum is h, and the height of the complete dodecahedron is H, the height of the smaller dodecahedron will be H−h. From here, you can derive the proportionality between the side lengths a and a′using similar triangles."
   ]
  },
  {
   "cell_type": "code",
   "execution_count": 19,
   "id": "39cb78e3",
   "metadata": {},
   "outputs": [
    {
     "name": "stdout",
     "output_type": "stream",
     "text": [
      "Volume of the frustum: 26.61 cubic units\n"
     ]
    }
   ],
   "source": [
    "import math\n",
    "\n",
    "def pentagon_area(side_length):\n",
    "    \"\"\"Calculate the area of a regular pentagon.\"\"\"\n",
    "    return (5 / 4) * math.tan(math.radians(54)) * side_length**2\n",
    "\n",
    "def dodecahedron_volume(side_length):\n",
    "    \"\"\"Calculate the volume of a regular dodecahedron.\"\"\"\n",
    "    return (15 + 7*math.sqrt(5)) / 4 * side_length**3\n",
    "\n",
    "def dodecahedron_height(side_length):\n",
    "    \"\"\"Calculate the height of a regular dodecahedron.\"\"\"\n",
    "    return side_length * math.sqrt((3 + math.sqrt(5)) / 2)\n",
    "\n",
    "def frustum_volume(a, h):\n",
    "    \"\"\"Calculate the volume of a frustum of a regular dodecahedron.\"\"\"\n",
    "    H = dodecahedron_height(a)\n",
    "    a_prime = a * (H - h) / H\n",
    "\n",
    "    A1 = pentagon_area(a)\n",
    "    A2 = pentagon_area(a_prime)\n",
    "    \n",
    "    return (h/3) * (A1 + A2 + math.sqrt(A1 * A2))\n",
    "\n",
    "# Test\n",
    "side_length = 3  # Example side length for the larger dodecahedron\n",
    "height = 5       # Example height for the frustum\n",
    "\n",
    "volume = frustum_volume(side_length, height)\n",
    "print(f\"Volume of the frustum: {volume:.2f} cubic units\")\n"
   ]
  }
 ],
 "metadata": {
  "kernelspec": {
   "display_name": "Python 3 (ipykernel)",
   "language": "python",
   "name": "python3"
  },
  "language_info": {
   "codemirror_mode": {
    "name": "ipython",
    "version": 3
   },
   "file_extension": ".py",
   "mimetype": "text/x-python",
   "name": "python",
   "nbconvert_exporter": "python",
   "pygments_lexer": "ipython3",
   "version": "3.11.4"
  }
 },
 "nbformat": 4,
 "nbformat_minor": 5
}

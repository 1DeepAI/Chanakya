{
 "cells": [
  {
   "cell_type": "markdown",
   "id": "16f7cc06",
   "metadata": {},
   "source": [
    "# Python Practice 281-290"
   ]
  },
  {
   "cell_type": "markdown",
   "id": "238c0f7c",
   "metadata": {},
   "source": [
    "## Here are the Python programs for the given objectives:"
   ]
  },
  {
   "cell_type": "markdown",
   "id": "3d38e656",
   "metadata": {},
   "source": [
    "### 281. Implement Doubly Ended Queue (Deque) Data Structure with Custom Node Class"
   ]
  },
  {
   "cell_type": "code",
   "execution_count": 10,
   "id": "a0011be9",
   "metadata": {},
   "outputs": [
    {
     "name": "stdout",
     "output_type": "stream",
     "text": [
      "3\n",
      "2\n"
     ]
    }
   ],
   "source": [
    "class Node:\n",
    "    def __init__(self, data):\n",
    "        self.data = data\n",
    "        self.next = None\n",
    "        self.prev = None\n",
    "\n",
    "class Deque:\n",
    "    def __init__(self):\n",
    "        self.front = None\n",
    "        self.rear = None\n",
    "\n",
    "    def is_empty(self):\n",
    "        return self.front is None and self.rear is None\n",
    "\n",
    "    def push_front(self, data):\n",
    "        new_node = Node(data)\n",
    "        if self.is_empty():\n",
    "            self.front = self.rear = new_node\n",
    "        else:\n",
    "            new_node.next = self.front\n",
    "            self.front.prev = new_node\n",
    "            self.front = new_node\n",
    "\n",
    "    def push_back(self, data):\n",
    "        new_node = Node(data)\n",
    "        if self.is_empty():\n",
    "            self.front = self.rear = new_node\n",
    "        else:\n",
    "            new_node.prev = self.rear\n",
    "            self.rear.next = new_node\n",
    "            self.rear = new_node\n",
    "\n",
    "    def pop_front(self):\n",
    "        if self.is_empty():\n",
    "            return None\n",
    "        data = self.front.data\n",
    "        if self.front == self.rear:\n",
    "            self.front = self.rear = None\n",
    "        else:\n",
    "            self.front = self.front.next\n",
    "            self.front.prev = None\n",
    "        return data\n",
    "\n",
    "    def pop_back(self):\n",
    "        if self.is_empty():\n",
    "            return None\n",
    "        data = self.rear.data\n",
    "        if self.front == self.rear:\n",
    "            self.front = self.rear = None\n",
    "        else:\n",
    "            self.rear = self.rear.prev\n",
    "            self.rear.next = None\n",
    "        return data\n",
    "\n",
    "# Example usage of the Deque data structure\n",
    "deque = Deque()\n",
    "deque.push_front(1)\n",
    "deque.push_back(2)\n",
    "deque.push_front(3)\n",
    "print(deque.pop_front()) # Output: 3\n",
    "print(deque.pop_back()) # Output: 2\n"
   ]
  },
  {
   "cell_type": "markdown",
   "id": "47d8dc23",
   "metadata": {},
   "source": [
    "### 282. Find the Perfect Pairs in a Range"
   ]
  },
  {
   "cell_type": "code",
   "execution_count": 9,
   "id": "a0ad9660",
   "metadata": {},
   "outputs": [
    {
     "name": "stdout",
     "output_type": "stream",
     "text": [
      "Perfect pairs in the given range:\n",
      "[(220, 284), (220, 284)]\n"
     ]
    }
   ],
   "source": [
    "def find_perfect_pairs(lower_bound, upper_bound):\n",
    "    def get_divisors_sum(number):\n",
    "        sum_of_divisors = 0\n",
    "        for i in range(1, int(number**0.5) + 1):\n",
    "            if number % i == 0:\n",
    "                sum_of_divisors += i\n",
    "                if i != number // i:\n",
    "                    sum_of_divisors += number // i\n",
    "        return sum_of_divisors - number\n",
    "\n",
    "    perfect_pairs = []\n",
    "    for num1 in range(lower_bound, upper_bound + 1):\n",
    "        num2 = get_divisors_sum(num1)\n",
    "        if num2 != num1 and get_divisors_sum(num2) == num1:\n",
    "            if num1 < num2:\n",
    "                perfect_pairs.append((num1, num2))\n",
    "            else:\n",
    "                perfect_pairs.append((num2, num1))\n",
    "    return perfect_pairs\n",
    "\n",
    "lower_bound = 1 # Replace with the lower bound of the range to search for perfect pairs\n",
    "upper_bound = 1000 # Replace with the upper bound of the range to search for perfect pairs\n",
    "perfect_pairs = find_perfect_pairs(lower_bound, upper_bound)\n",
    "print(\"Perfect pairs in the given range:\")\n",
    "print(perfect_pairs)\n"
   ]
  },
  {
   "cell_type": "markdown",
   "id": "bf8a8f1f",
   "metadata": {},
   "source": [
    "### 283. Calculate the Perimeter of a Reuleaux Hexagon Star with Rounded Corners and Right Alignment"
   ]
  },
  {
   "cell_type": "code",
   "execution_count": 8,
   "id": "674ef10a",
   "metadata": {},
   "outputs": [
    {
     "name": "stdout",
     "output_type": "stream",
     "text": [
      "Perimeter of the Reuleaux hexagon star with radii 5 and 3 is: 48.00\n"
     ]
    }
   ],
   "source": [
    "def calculate_perimeter_of_reuleaux_hexagon_star(radius1, radius2):\n",
    "    # The perimeter of a Reuleaux hexagon star is the same as the perimeter of a Reuleaux hexagon with the same radii\n",
    "    perimeter = 6 * (radius1 + radius2)\n",
    "    return perimeter\n",
    "\n",
    "radius1 = 5 # Replace with the first radius of the Reuleaux hexagon star\n",
    "radius2 = 3 # Replace with the second radius of the Reuleaux hexagon star\n",
    "perimeter = calculate_perimeter_of_reuleaux_hexagon_star(radius1, radius2)\n",
    "print(f\"Perimeter of the Reuleaux hexagon star with radii {radius1} and {radius2} is: {perimeter:.2f}\")\n"
   ]
  },
  {
   "cell_type": "markdown",
   "id": "e3da8bb0",
   "metadata": {},
   "source": [
    "### 284. Print the Pattern of a Hollow Prime Number Pyramid Star with Right Alignment"
   ]
  },
  {
   "cell_type": "code",
   "execution_count": 7,
   "id": "e363d2fb",
   "metadata": {},
   "outputs": [
    {
     "name": "stdout",
     "output_type": "stream",
     "text": [
      "Hollow Prime Number Pyramid Star Pattern:\n",
      "  * * *  \n",
      "   * *   \n",
      "  *   *  \n",
      " *     * \n",
      "*       *\n"
     ]
    }
   ],
   "source": [
    "def is_prime(num):\n",
    "    if num < 2:\n",
    "        return False\n",
    "    for i in range(2, int(num**0.5) + 1):\n",
    "        if num % i == 0:\n",
    "            return False\n",
    "    return True\n",
    "\n",
    "def print_hollow_prime_number_pyramid_star(rows):\n",
    "    for i in range(1, rows + 1):\n",
    "        for j in range(1, 2 * rows):\n",
    "            if i + j == rows + 1 or j - i == rows - 1 or (i == 1 and j % 2 != 0 and is_prime(j)):\n",
    "                print(\"*\", end=\"\")\n",
    "            else:\n",
    "                print(\" \", end=\"\")\n",
    "        print()\n",
    "\n",
    "rows = 5 # Replace with the desired number of rows for the hollow prime number pyramid star\n",
    "print(\"Hollow Prime Number Pyramid Star Pattern:\")\n",
    "print_hollow_prime_number_pyramid_star(rows)\n"
   ]
  },
  {
   "cell_type": "markdown",
   "id": "191151e0",
   "metadata": {},
   "source": [
    "### 285. Generate a Random Maze with Custom Dimensions and Path Density"
   ]
  },
  {
   "cell_type": "code",
   "execution_count": 6,
   "id": "492ccb7b",
   "metadata": {},
   "outputs": [
    {
     "name": "stdout",
     "output_type": "stream",
     "text": [
      "Random Maze:\n",
      "1 1 1 1 1 1 1 1 1\n",
      "1 0 1 0 1 0 1 0 1\n",
      "1 1 0 1 1 1 1 1 1\n",
      "1 0 1 0 1 0 1 0 1\n",
      "1 1 0 1 1 1 1 1 1\n",
      "1 0 1 0 1 0 1 0 1\n",
      "1 1 0 1 1 1 1 1 1\n",
      "1 0 1 0 1 0 1 0 1\n",
      "1 1 1 1 1 1 1 1 1\n"
     ]
    }
   ],
   "source": [
    "import random\n",
    "\n",
    "def generate_random_maze(rows, cols, path_density):\n",
    "    maze = [[1 for _ in range(cols)] for _ in range(rows)]\n",
    "    for i in range(1, rows, 2):\n",
    "        for j in range(1, cols, 2):\n",
    "            maze[i][j] = 0\n",
    "\n",
    "    for i in range(2, rows - 2, 2):\n",
    "        for j in range(2, cols - 2, 2):\n",
    "            if random.random() < path_density:\n",
    "                maze[i][j] = 0\n",
    "\n",
    "    return maze\n",
    "\n",
    "rows = 9 # Replace with the desired number of rows for the maze (should be odd)\n",
    "cols = 9 # Replace with the desired number of columns for the maze (should be odd)\n",
    "path_density = 0.3 # Replace with the desired path density (a value between 0 and 1)\n",
    "maze = generate_random_maze(rows, cols, path_density)\n",
    "print(\"Random Maze:\")\n",
    "for row in maze:\n",
    "    print(\" \".join(str(cell) for cell in row))\n"
   ]
  },
  {
   "cell_type": "markdown",
   "id": "5df3717a",
   "metadata": {},
   "source": [
    "### 286. Convert Decimal to Excess-K Code Using Bit Manipulation"
   ]
  },
  {
   "cell_type": "code",
   "execution_count": 5,
   "id": "cc9224a3",
   "metadata": {},
   "outputs": [
    {
     "name": "stdout",
     "output_type": "stream",
     "text": [
      "Excess-3 code representation of 10 is: 1101\n"
     ]
    }
   ],
   "source": [
    "def decimal_to_excess_k(decimal_number, k):\n",
    "    if decimal_number >= 0:\n",
    "        return bin(decimal_number + k)[2:]\n",
    "    else:\n",
    "        return bin(2**len(bin(k))-1 + decimal_number + k)[2:]\n",
    "\n",
    "decimal_number = 10 # Replace with the decimal number you want to convert\n",
    "k = 3 # Replace with the value of k for the excess-k code conversion\n",
    "excess_k_code = decimal_to_excess_k(decimal_number, k)\n",
    "print(f\"Excess-{k} code representation of {decimal_number} is: {excess_k_code}\")\n"
   ]
  },
  {
   "cell_type": "markdown",
   "id": "f80d7cbe",
   "metadata": {},
   "source": [
    "### 287. Check if a Number is a Generalized Hamming Number"
   ]
  },
  {
   "cell_type": "code",
   "execution_count": 4,
   "id": "5b84ae14",
   "metadata": {},
   "outputs": [
    {
     "name": "stdout",
     "output_type": "stream",
     "text": [
      "120 is a generalized Hamming number with factors [2, 3, 5].\n"
     ]
    }
   ],
   "source": [
    "def is_generalized_hamming_number(number, factors):\n",
    "    while number > 1:\n",
    "        found_factor = False\n",
    "        for factor in factors:\n",
    "            if number % factor == 0:\n",
    "                number //= factor\n",
    "                found_factor = True\n",
    "                break\n",
    "        if not found_factor:\n",
    "            return False\n",
    "    return True\n",
    "\n",
    "number = 120 # Replace with the number you want to check\n",
    "factors = [2, 3, 5] # Replace with the list of prime factors for the generalized Hamming numbers\n",
    "result = is_generalized_hamming_number(number, factors)\n",
    "print(f\"{number} is {'a' if result else 'not a'} generalized Hamming number with factors {factors}.\")\n"
   ]
  },
  {
   "cell_type": "markdown",
   "id": "cf599168",
   "metadata": {},
   "source": [
    "### 288. Calculate the Volume of a Frustum of a Regular Dodecahedron"
   ]
  },
  {
   "cell_type": "code",
   "execution_count": 3,
   "id": "bd75f2be",
   "metadata": {},
   "outputs": [
    {
     "name": "stdout",
     "output_type": "stream",
     "text": [
      "Volume of the frustum of the regular dodecahedron with edge lengths 4 and 2 and height 6 is: 630.00\n"
     ]
    }
   ],
   "source": [
    "def calculate_volume_of_frustum_of_regular_dodecahedron(edge1, edge2, height):\n",
    "    volume = (15 / 4) * (edge1**2 + edge1 * edge2 + edge2**2) * height\n",
    "    return volume\n",
    "\n",
    "edge1 = 4 # Replace with the length of the larger edge of the frustum of the regular dodecahedron\n",
    "edge2 = 2 # Replace with the length of the smaller top edge of the frustum of the regular dodecahedron\n",
    "height = 6 # Replace with the height of the frustum of the regular dodecahedron\n",
    "volume = calculate_volume_of_frustum_of_regular_dodecahedron(edge1, edge2, height)\n",
    "print(f\"Volume of the frustum of the regular dodecahedron with edge lengths {edge1} and {edge2} and height {height} is: {volume:.2f}\")\n"
   ]
  },
  {
   "cell_type": "markdown",
   "id": "ecb05f4e",
   "metadata": {},
   "source": [
    "### 289. Implement Binary Search Algorithm on a Rotated Sorted Array"
   ]
  },
  {
   "cell_type": "code",
   "execution_count": 1,
   "id": "011af8ea",
   "metadata": {},
   "outputs": [
    {
     "name": "stdout",
     "output_type": "stream",
     "text": [
      "Element 6 found at index 2\n"
     ]
    }
   ],
   "source": [
    "def binary_search_rotated(arr, target):\n",
    "    left, right = 0, len(arr) - 1\n",
    "    while left <= right:\n",
    "        mid = left + (right - left) // 2\n",
    "        if arr[mid] == target:\n",
    "            return mid\n",
    "        if arr[left] <= arr[mid]:\n",
    "            if arr[left] <= target < arr[mid]:\n",
    "                right = mid - 1\n",
    "            else:\n",
    "                left = mid + 1\n",
    "        else:\n",
    "            if arr[mid] < target <= arr[right]:\n",
    "                left = mid + 1\n",
    "            else:\n",
    "                right = mid - 1\n",
    "    return -1\n",
    "\n",
    "# Example usage of binary_search_rotated\n",
    "rotated_sorted_array = [4, 5, 6, 7, 8, 9, 1, 2, 3]\n",
    "target = 6\n",
    "index = binary_search_rotated(rotated_sorted_array, target)\n",
    "print(f\"Element {target} found at index {index}\")\n"
   ]
  },
  {
   "cell_type": "markdown",
   "id": "a8d518b7",
   "metadata": {},
   "source": [
    "### 290. Find the Cullen Numbers in a Range"
   ]
  },
  {
   "cell_type": "code",
   "execution_count": 2,
   "id": "cfb5e7c4",
   "metadata": {},
   "outputs": [
    {
     "name": "stdout",
     "output_type": "stream",
     "text": [
      "Cullen numbers in the given range:\n",
      "[9, 25, 161, 897, 22529, 106497, 2228225, 9961473, 192937985, 15569256449, 66571993089, 5085241278465, 90159953477633, 378231999954945, 6614661952700417, 477381560501272577, 34011184385901985793, 140656423562035331073, 9887454823508319666177, 167644010141872405086209, 689465506498968201199617, 47752569874777852400893953, 802726744224113772004900865, 55088331748199422233011027969, 15370263527767281493147526365185]\n"
     ]
    }
   ],
   "source": [
    "def is_prime(num):\n",
    "    if num < 2:\n",
    "        return False\n",
    "    for i in range(2, int(num**0.5) + 1):\n",
    "        if num % i == 0:\n",
    "            return False\n",
    "    return True\n",
    "\n",
    "def find_cullen_numbers(lower_bound, upper_bound):\n",
    "    cullen_numbers = []\n",
    "    for n in range(lower_bound, upper_bound + 1):\n",
    "        if is_prime(n):\n",
    "            cullen_number = n * (2**n) + 1\n",
    "            cullen_numbers.append(cullen_number)\n",
    "    return cullen_numbers\n",
    "\n",
    "lower_bound = 1 # Replace with the lower bound of the range to search for Cullen numbers\n",
    "upper_bound = 100 # Replace with the upper bound of the range to search for Cullen numbers\n",
    "cullen_numbers = find_cullen_numbers(lower_bound, upper_bound)\n",
    "print(\"Cullen numbers in the given range:\")\n",
    "print(cullen_numbers)\n"
   ]
  },
  {
   "cell_type": "code",
   "execution_count": null,
   "id": "b21d9c34",
   "metadata": {},
   "outputs": [],
   "source": []
  }
 ],
 "metadata": {
  "kernelspec": {
   "display_name": "Python 3 (ipykernel)",
   "language": "python",
   "name": "python3"
  },
  "language_info": {
   "codemirror_mode": {
    "name": "ipython",
    "version": 3
   },
   "file_extension": ".py",
   "mimetype": "text/x-python",
   "name": "python",
   "nbconvert_exporter": "python",
   "pygments_lexer": "ipython3",
   "version": "3.11.4"
  }
 },
 "nbformat": 4,
 "nbformat_minor": 5
}

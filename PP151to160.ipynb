{
 "cells": [
  {
   "cell_type": "markdown",
   "id": "1dae8654",
   "metadata": {},
   "source": [
    "# Python Practice 151-160"
   ]
  },
  {
   "cell_type": "markdown",
   "id": "1a988ced",
   "metadata": {},
   "source": [
    "## Here are the Python programs for each of the objectives along with the associated algorithm, mathematical calculations, and string manipulations:"
   ]
  },
  {
   "cell_type": "markdown",
   "id": "7803cad2",
   "metadata": {},
   "source": [
    "### 151. Check if a Number is a Triangular Number"
   ]
  },
  {
   "cell_type": "code",
   "execution_count": 11,
   "id": "61c926a4",
   "metadata": {},
   "outputs": [
    {
     "name": "stdout",
     "output_type": "stream",
     "text": [
      "45 is a triangular number.\n"
     ]
    }
   ],
   "source": [
    "def is_triangular_number(num):\n",
    "    n = 1\n",
    "    while num > 0:\n",
    "        num -= n\n",
    "        n += 1\n",
    "    return num == 0\n",
    "\n",
    "number = 45\n",
    "if is_triangular_number(number):\n",
    "    print(f\"{number} is a triangular number.\")\n",
    "else:\n",
    "    print(f\"{number} is not a triangular number.\")\n"
   ]
  },
  {
   "cell_type": "markdown",
   "id": "62cc4ab7",
   "metadata": {},
   "source": [
    "### 152. Calculate the Volume of a Torus"
   ]
  },
  {
   "cell_type": "code",
   "execution_count": 10,
   "id": "481e275b",
   "metadata": {},
   "outputs": [
    {
     "name": "stdout",
     "output_type": "stream",
     "text": [
      "The volume of the torus with major radius 5 and minor radius 3 is 444.13.\n"
     ]
    }
   ],
   "source": [
    "import math\n",
    "\n",
    "def volume_of_torus(major_radius, minor_radius):\n",
    "    return (math.pi ** 2) * minor_radius ** 2 * major_radius\n",
    "\n",
    "major_radius, minor_radius = 5, 3\n",
    "volume = volume_of_torus(major_radius, minor_radius)\n",
    "print(f\"The volume of the torus with major radius {major_radius} and minor radius {minor_radius} is {volume:.2f}.\")\n"
   ]
  },
  {
   "cell_type": "markdown",
   "id": "be5bd60b",
   "metadata": {},
   "source": [
    "### 153. Implement Hash Table Data Structure"
   ]
  },
  {
   "cell_type": "code",
   "execution_count": 9,
   "id": "7b27e69e",
   "metadata": {},
   "outputs": [
    {
     "name": "stdout",
     "output_type": "stream",
     "text": [
      "Value of 'apple': 50\n",
      "Value of 'grape': None\n"
     ]
    }
   ],
   "source": [
    "class HashTable:\n",
    "    def __init__(self):\n",
    "        self.size = 10\n",
    "        self.table = [[] for _ in range(self.size)]\n",
    "\n",
    "    def _hash_function(self, key):\n",
    "        return sum(ord(char) for char in key) % self.size\n",
    "\n",
    "    def put(self, key, value):\n",
    "        index = self._hash_function(key)\n",
    "        for item in self.table[index]:\n",
    "            if item[0] == key:\n",
    "                item[1] = value\n",
    "                return\n",
    "        self.table[index].append((key, value))\n",
    "\n",
    "    def get(self, key):\n",
    "        index = self._hash_function(key)\n",
    "        for item in self.table[index]:\n",
    "            if item[0] == key:\n",
    "                return item[1]\n",
    "        return None\n",
    "\n",
    "# Example usage of the Hash Table data structure\n",
    "hash_table = HashTable()\n",
    "hash_table.put(\"apple\", 50)\n",
    "hash_table.put(\"banana\", 20)\n",
    "hash_table.put(\"orange\", 30)\n",
    "\n",
    "print(\"Value of 'apple':\", hash_table.get(\"apple\"))\n",
    "print(\"Value of 'grape':\", hash_table.get(\"grape\"))\n"
   ]
  },
  {
   "cell_type": "markdown",
   "id": "d75ca2fa",
   "metadata": {},
   "source": [
    "### 154. Find the Fascinating Numbers in a Range"
   ]
  },
  {
   "cell_type": "code",
   "execution_count": 8,
   "id": "b7f379fc",
   "metadata": {},
   "outputs": [
    {
     "name": "stdout",
     "output_type": "stream",
     "text": [
      "Fascinating numbers in the range 100 to 999: [192, 219, 273, 327, 783, 792, 798, 819, 918, 978]\n"
     ]
    }
   ],
   "source": [
    "def is_fascinating_number(num):\n",
    "    num_str = str(num) + str(2 * num) + str(3 * num)\n",
    "    return set(num_str) == set(\"123456789\")\n",
    "\n",
    "def find_fascinating_numbers(start, end):\n",
    "    fascinating_numbers = [num for num in range(start, end+1) if is_fascinating_number(num)]\n",
    "    return fascinating_numbers\n",
    "\n",
    "start_range, end_range = 100, 999\n",
    "fascinating_numbers_list = find_fascinating_numbers(start_range, end_range)\n",
    "print(f\"Fascinating numbers in the range {start_range} to {end_range}: {fascinating_numbers_list}\")\n"
   ]
  },
  {
   "cell_type": "markdown",
   "id": "0a0ddcc2",
   "metadata": {},
   "source": [
    "### 155. Calculate the Perimeter of a Regular Dodecahedron"
   ]
  },
  {
   "cell_type": "code",
   "execution_count": 7,
   "id": "7ce2a85a",
   "metadata": {},
   "outputs": [
    {
     "name": "stdout",
     "output_type": "stream",
     "text": [
      "The perimeter of the regular dodecahedron with edge length 5 is 60.00.\n"
     ]
    }
   ],
   "source": [
    "def perimeter_of_regular_dodecahedron(edge_length):\n",
    "    return 12 * edge_length\n",
    "\n",
    "edge_length = 5\n",
    "perimeter = perimeter_of_regular_dodecahedron(edge_length)\n",
    "print(f\"The perimeter of the regular dodecahedron with edge length {edge_length} is {perimeter:.2f}.\")\n"
   ]
  },
  {
   "cell_type": "markdown",
   "id": "22e271b9",
   "metadata": {},
   "source": [
    "### 156. Print the Pattern of a Hollow Pascal's Triangle"
   ]
  },
  {
   "cell_type": "code",
   "execution_count": 6,
   "id": "cc810ba6",
   "metadata": {},
   "outputs": [
    {
     "name": "stdout",
     "output_type": "stream",
     "text": [
      "1 \n",
      "1 1 \n",
      "1   1 \n",
      "1     1 \n",
      "1 1 1 1 1 \n"
     ]
    }
   ],
   "source": [
    "def print_hollow_pascals_triangle(n):\n",
    "    for i in range(n):\n",
    "        for j in range(i+1):\n",
    "            if j == 0 or j == i or i == n-1:\n",
    "                print(1, end=\" \")\n",
    "            else:\n",
    "                print(\" \", end=\" \")\n",
    "        print()\n",
    "\n",
    "rows = 5\n",
    "print_hollow_pascals_triangle(rows)\n"
   ]
  },
  {
   "cell_type": "markdown",
   "id": "7f5ef3d2",
   "metadata": {},
   "source": [
    "### 157. Generate a Random Password with Levenshtein Distance Constraint"
   ]
  },
  {
   "cell_type": "code",
   "execution_count": 5,
   "id": "cb61849b",
   "metadata": {},
   "outputs": [
    {
     "ename": "ModuleNotFoundError",
     "evalue": "No module named 'Levenshtein'",
     "output_type": "error",
     "traceback": [
      "\u001b[0;31m---------------------------------------------------------------------------\u001b[0m",
      "\u001b[0;31mModuleNotFoundError\u001b[0m                       Traceback (most recent call last)",
      "Cell \u001b[0;32mIn[5], line 3\u001b[0m\n\u001b[1;32m      1\u001b[0m \u001b[38;5;28;01mimport\u001b[39;00m \u001b[38;5;21;01mrandom\u001b[39;00m\n\u001b[1;32m      2\u001b[0m \u001b[38;5;28;01mimport\u001b[39;00m \u001b[38;5;21;01mstring\u001b[39;00m\n\u001b[0;32m----> 3\u001b[0m \u001b[38;5;28;01mimport\u001b[39;00m \u001b[38;5;21;01mLevenshtein\u001b[39;00m\n\u001b[1;32m      5\u001b[0m \u001b[38;5;28;01mdef\u001b[39;00m \u001b[38;5;21mgenerate_random_password_levenshtein_constraint\u001b[39m(length, constraint_string, max_distance):\n\u001b[1;32m      6\u001b[0m     characters \u001b[38;5;241m=\u001b[39m string\u001b[38;5;241m.\u001b[39mascii_letters \u001b[38;5;241m+\u001b[39m string\u001b[38;5;241m.\u001b[39mdigits \u001b[38;5;241m+\u001b[39m string\u001b[38;5;241m.\u001b[39mpunctuation\n",
      "\u001b[0;31mModuleNotFoundError\u001b[0m: No module named 'Levenshtein'"
     ]
    }
   ],
   "source": [
    "import random\n",
    "import string\n",
    "import Levenshtein\n",
    "\n",
    "def generate_random_password_levenshtein_constraint(length, constraint_string, max_distance):\n",
    "    characters = string.ascii_letters + string.digits + string.punctuation\n",
    "    random_password = ''.join(random.choice(characters) for _ in range(length))\n",
    "    while Levenshtein.distance(random_password, constraint_string) > max_distance:\n",
    "        random_password = ''.join(random.choice(characters) for _ in range(length))\n",
    "    return random_password\n",
    "\n",
    "password_length = 8\n",
    "constraint_string = \"password\"\n",
    "max_distance = 2\n",
    "random_password = generate_random_password_levenshtein_constraint(password_length, constraint_string, max_distance)\n",
    "print(f\"Generated Random Password with Levenshtein distance constraint: {random_password}\")\n"
   ]
  },
  {
   "cell_type": "markdown",
   "id": "a6b76f64",
   "metadata": {},
   "source": [
    "### 158. Convert Decimal to Balanced Ternary"
   ]
  },
  {
   "cell_type": "code",
   "execution_count": 4,
   "id": "acf2b713",
   "metadata": {},
   "outputs": [
    {
     "name": "stdout",
     "output_type": "stream",
     "text": [
      "The balanced ternary representation of 42 is 1TTT0.\n"
     ]
    }
   ],
   "source": [
    "def decimal_to_balanced_ternary(num):\n",
    "    digits = \"012\"\n",
    "    balanced_ternary = \"\"\n",
    "    while num != 0:\n",
    "        remainder = num % 3\n",
    "        if remainder == 2:\n",
    "            num += 1\n",
    "            balanced_ternary = \"T\" + balanced_ternary\n",
    "        else:\n",
    "            balanced_ternary = digits[remainder] + balanced_ternary\n",
    "        num //= 3\n",
    "    return balanced_ternary\n",
    "\n",
    "decimal_num = 42\n",
    "balanced_ternary_num = decimal_to_balanced_ternary(decimal_num)\n",
    "print(f\"The balanced ternary representation of {decimal_num} is {balanced_ternary_num}.\")\n"
   ]
  },
  {
   "cell_type": "markdown",
   "id": "ed02f99e",
   "metadata": {},
   "source": [
    "### 159. Check if a Number is a Powerful Number"
   ]
  },
  {
   "cell_type": "code",
   "execution_count": 3,
   "id": "da8d24e3",
   "metadata": {},
   "outputs": [
    {
     "name": "stdout",
     "output_type": "stream",
     "text": [
      "64 is a powerful number.\n"
     ]
    }
   ],
   "source": [
    "def is_powerful_number(num):\n",
    "    def prime_factors(n):\n",
    "        factors = set()\n",
    "        while n % 2 == 0:\n",
    "            factors.add(2)\n",
    "            n //= 2\n",
    "        for i in range(3, int(n**0.5) + 1, 2):\n",
    "            while n % i == 0:\n",
    "                factors.add(i)\n",
    "                n //= i\n",
    "        if n > 2:\n",
    "            factors.add(n)\n",
    "        return factors\n",
    "\n",
    "    factors = prime_factors(num)\n",
    "    return all(num % (factor ** 2) == 0 for factor in factors)\n",
    "\n",
    "number = 64\n",
    "if is_powerful_number(number):\n",
    "    print(f\"{number} is a powerful number.\")\n",
    "else:\n",
    "    print(f\"{number} is not a powerful number.\")\n"
   ]
  },
  {
   "cell_type": "markdown",
   "id": "db3c579d",
   "metadata": {},
   "source": [
    "### 160. Calculate the Volume of a Tetrahedron"
   ]
  },
  {
   "cell_type": "code",
   "execution_count": 2,
   "id": "2aac9895",
   "metadata": {},
   "outputs": [
    {
     "name": "stdout",
     "output_type": "stream",
     "text": [
      "The volume of the tetrahedron with edge length 5 is 14.73.\n"
     ]
    }
   ],
   "source": [
    "def volume_of_tetrahedron(edge_length):\n",
    "    return (edge_length ** 3) / (6 * (2 ** 0.5))\n",
    "\n",
    "edge_length = 5\n",
    "volume = volume_of_tetrahedron(edge_length)\n",
    "print(f\"The volume of the tetrahedron with edge length {edge_length} is {volume:.2f}.\")\n"
   ]
  },
  {
   "cell_type": "code",
   "execution_count": null,
   "id": "56121019",
   "metadata": {},
   "outputs": [],
   "source": []
  }
 ],
 "metadata": {
  "kernelspec": {
   "display_name": "Python 3 (ipykernel)",
   "language": "python",
   "name": "python3"
  },
  "language_info": {
   "codemirror_mode": {
    "name": "ipython",
    "version": 3
   },
   "file_extension": ".py",
   "mimetype": "text/x-python",
   "name": "python",
   "nbconvert_exporter": "python",
   "pygments_lexer": "ipython3",
   "version": "3.11.4"
  }
 },
 "nbformat": 4,
 "nbformat_minor": 5
}

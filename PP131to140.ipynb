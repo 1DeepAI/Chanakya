{
 "cells": [
  {
   "cell_type": "markdown",
   "id": "6295294f",
   "metadata": {},
   "source": [
    "# Python Practice 131-140"
   ]
  },
  {
   "cell_type": "markdown",
   "id": "128db414",
   "metadata": {},
   "source": [
    "## Here are the Python programs for each of the objectives along with the associated algorithm, mathematical calculations, and string manipulations:"
   ]
  },
  {
   "cell_type": "markdown",
   "id": "ca78f7eb",
   "metadata": {},
   "source": [
    "### 131. Calculate the Perimeter of a Torus"
   ]
  },
  {
   "cell_type": "code",
   "execution_count": 10,
   "id": "9d33ce37",
   "metadata": {},
   "outputs": [
    {
     "name": "stdout",
     "output_type": "stream",
     "text": [
      "The perimeter of the torus with major radius 5 and minor radius 3 is 50.27.\n"
     ]
    }
   ],
   "source": [
    "import math\n",
    "\n",
    "def perimeter_of_torus(major_radius, minor_radius):\n",
    "    return 2 * math.pi * (major_radius + minor_radius)\n",
    "\n",
    "major_radius, minor_radius = 5, 3\n",
    "perimeter = perimeter_of_torus(major_radius, minor_radius)\n",
    "print(f\"The perimeter of the torus with major radius {major_radius} and minor radius {minor_radius} is {perimeter:.2f}.\")\n"
   ]
  },
  {
   "cell_type": "markdown",
   "id": "7ce60b06",
   "metadata": {},
   "source": [
    "### 132. Print the Pattern of a Rhombus Star"
   ]
  },
  {
   "cell_type": "code",
   "execution_count": 9,
   "id": "e1cb5ad8",
   "metadata": {},
   "outputs": [
    {
     "name": "stdout",
     "output_type": "stream",
     "text": [
      "    * \n",
      "   * * \n",
      "  * * * \n",
      " * * * * \n",
      "* * * * * \n",
      " * * * * \n",
      "  * * * \n",
      "   * * \n",
      "    * \n"
     ]
    }
   ],
   "source": [
    "def print_rhombus_star_pattern(n):\n",
    "    for i in range(n):\n",
    "        print(\" \" * (n - i - 1) + \"* \" * (i + 1))\n",
    "    for i in range(n - 2, -1, -1):\n",
    "        print(\" \" * (n - i - 1) + \"* \" * (i + 1))\n",
    "\n",
    "rows = 5\n",
    "print_rhombus_star_pattern(rows)\n"
   ]
  },
  {
   "cell_type": "markdown",
   "id": "7abe3d7d",
   "metadata": {},
   "source": [
    "### 133. Generate a Random Password with Custom Character Requirements"
   ]
  },
  {
   "cell_type": "code",
   "execution_count": 8,
   "id": "6e384202",
   "metadata": {},
   "outputs": [
    {
     "name": "stdout",
     "output_type": "stream",
     "text": [
      "Generated Random Password with custom requirements: %sr^I}g<-;I}\n"
     ]
    }
   ],
   "source": [
    "import random\n",
    "import string\n",
    "\n",
    "def generate_random_password_custom_requirements(length, requires_uppercase=True, requires_lowercase=True, requires_digits=True, requires_special_chars=True):\n",
    "    characters = \"\"\n",
    "    if requires_uppercase:\n",
    "        characters += string.ascii_uppercase\n",
    "    if requires_lowercase:\n",
    "        characters += string.ascii_lowercase\n",
    "    if requires_digits:\n",
    "        characters += string.digits\n",
    "    if requires_special_chars:\n",
    "        characters += string.punctuation\n",
    "    random_password = ''.join(random.choice(characters) for _ in range(length))\n",
    "    return random_password\n",
    "\n",
    "password_length = 12\n",
    "password_requires_uppercase = True\n",
    "password_requires_lowercase = True\n",
    "password_requires_digits = True\n",
    "password_requires_special_chars = True\n",
    "random_password = generate_random_password_custom_requirements(password_length, password_requires_uppercase, password_requires_lowercase, password_requires_digits, password_requires_special_chars)\n",
    "print(f\"Generated Random Password with custom requirements: {random_password}\")\n"
   ]
  },
  {
   "cell_type": "markdown",
   "id": "aedae35b",
   "metadata": {},
   "source": [
    "### 134. Convert Decimal to Base-N (N > 10)"
   ]
  },
  {
   "cell_type": "code",
   "execution_count": 7,
   "id": "b2797960",
   "metadata": {},
   "outputs": [
    {
     "name": "stdout",
     "output_type": "stream",
     "text": [
      "The base-16 representation of 42 is 2A.\n"
     ]
    }
   ],
   "source": [
    "def decimal_to_base_n(num, base):\n",
    "    if num == 0:\n",
    "        return \"0\"\n",
    "    base_n_str = \"\"\n",
    "    while num > 0:\n",
    "        remainder = num % base\n",
    "        if remainder >= 10:\n",
    "            base_n_str = chr(ord('A') + remainder - 10) + base_n_str\n",
    "        else:\n",
    "            base_n_str = str(remainder) + base_n_str\n",
    "        num //= base\n",
    "    return base_n_str\n",
    "\n",
    "decimal_num = 42\n",
    "base = 16\n",
    "base_n_num = decimal_to_base_n(decimal_num, base)\n",
    "print(f\"The base-{base} representation of {decimal_num} is {base_n_num}.\")\n"
   ]
  },
  {
   "cell_type": "markdown",
   "id": "900222ec",
   "metadata": {},
   "source": [
    "### 135. Check if a Number is a Cube Number"
   ]
  },
  {
   "cell_type": "code",
   "execution_count": 6,
   "id": "5ebdc246",
   "metadata": {},
   "outputs": [
    {
     "name": "stdout",
     "output_type": "stream",
     "text": [
      "27 is a cube number.\n"
     ]
    }
   ],
   "source": [
    "def is_cube_number(num):\n",
    "    cube_root = round(num ** (1/3))\n",
    "    return cube_root ** 3 == num\n",
    "\n",
    "number = 27\n",
    "if is_cube_number(number):\n",
    "    print(f\"{number} is a cube number.\")\n",
    "else:\n",
    "    print(f\"{number} is not a cube number.\")\n"
   ]
  },
  {
   "cell_type": "markdown",
   "id": "9e84adfe",
   "metadata": {},
   "source": [
    "### 136. Calculate the Volume of a Sphere"
   ]
  },
  {
   "cell_type": "code",
   "execution_count": 5,
   "id": "c71822f3",
   "metadata": {},
   "outputs": [
    {
     "name": "stdout",
     "output_type": "stream",
     "text": [
      "The volume of the sphere with radius 5 is 523.60.\n"
     ]
    }
   ],
   "source": [
    "import math\n",
    "\n",
    "def volume_of_sphere(radius):\n",
    "    return (4/3) * math.pi * radius ** 3\n",
    "\n",
    "radius = 5\n",
    "volume = volume_of_sphere(radius)\n",
    "print(f\"The volume of the sphere with radius {radius} is {volume:.2f}.\")\n"
   ]
  },
  {
   "cell_type": "markdown",
   "id": "3ee880ba",
   "metadata": {},
   "source": [
    "### 137. Implement Trie Data Structure"
   ]
  },
  {
   "cell_type": "code",
   "execution_count": 4,
   "id": "f9f8cc93",
   "metadata": {},
   "outputs": [
    {
     "name": "stdout",
     "output_type": "stream",
     "text": [
      "apple is present in the Trie.\n"
     ]
    }
   ],
   "source": [
    "class TrieNode:\n",
    "    def __init__(self):\n",
    "        self.children = {}\n",
    "        self.is_end_of_word = False\n",
    "\n",
    "class Trie:\n",
    "    def __init__(self):\n",
    "        self.root = TrieNode()\n",
    "\n",
    "    def insert(self, word):\n",
    "        node = self.root\n",
    "        for char in word:\n",
    "            if char not in node.children:\n",
    "                node.children[char] = TrieNode()\n",
    "            node = node.children[char]\n",
    "        node.is_end_of_word = True\n",
    "\n",
    "    def search(self, word):\n",
    "        node = self.root\n",
    "        for char in word:\n",
    "            if char not in node.children:\n",
    "                return False\n",
    "            node = node.children[char]\n",
    "        return node.is_end_of_word\n",
    "\n",
    "# Example usage of the Trie data structure\n",
    "trie = Trie()\n",
    "trie.insert(\"apple\")\n",
    "trie.insert(\"banana\")\n",
    "trie.insert(\"orange\")\n",
    "\n",
    "search_word = \"apple\"\n",
    "if trie.search(search_word):\n",
    "    print(f\"{search_word} is present in the Trie.\")\n",
    "else:\n",
    "    print(f\"{search_word} is not present in the Trie.\")\n"
   ]
  },
  {
   "cell_type": "markdown",
   "id": "cdf66d85",
   "metadata": {},
   "source": [
    "### 138. Find the Lychrel Numbers in a Range"
   ]
  },
  {
   "cell_type": "code",
   "execution_count": 3,
   "id": "1f3e6526",
   "metadata": {},
   "outputs": [
    {
     "name": "stdout",
     "output_type": "stream",
     "text": [
      "Lychrel numbers in the range 1 to 1000: [196, 295, 394, 493, 592, 689, 691, 788, 790, 879, 887, 978, 986]\n"
     ]
    }
   ],
   "source": [
    "def is_palindrome(num):\n",
    "    return str(num) == str(num)[::-1]\n",
    "\n",
    "def reverse_add(num):\n",
    "    return num + int(str(num)[::-1])\n",
    "\n",
    "def is_lychrel_number(num, max_iterations=50):\n",
    "    for _ in range(max_iterations):\n",
    "        num = reverse_add(num)\n",
    "        if is_palindrome(num):\n",
    "            return False\n",
    "    return True\n",
    "\n",
    "def find_lychrel_numbers(start, end):\n",
    "    lychrel_numbers = [num for num in range(start, end+1) if is_lychrel_number(num)]\n",
    "    return lychrel_numbers\n",
    "\n",
    "start_range, end_range = 1, 1000\n",
    "lychrel_numbers_list = find_lychrel_numbers(start_range, end_range)\n",
    "print(f\"Lychrel numbers in the range {start_range} to {end_range}: {lychrel_numbers_list}\")\n"
   ]
  },
  {
   "cell_type": "markdown",
   "id": "65ecfbbb",
   "metadata": {},
   "source": [
    "### 139. Calculate the Perimeter of a Regular Tetrahedron"
   ]
  },
  {
   "cell_type": "code",
   "execution_count": 2,
   "id": "b3320be4",
   "metadata": {},
   "outputs": [
    {
     "name": "stdout",
     "output_type": "stream",
     "text": [
      "The perimeter of the regular tetrahedron with edge length 5 is 15.00.\n"
     ]
    }
   ],
   "source": [
    "import math\n",
    "\n",
    "def perimeter_of_regular_tetrahedron(edge_length):\n",
    "    return 3 * edge_length\n",
    "\n",
    "edge_length = 5\n",
    "perimeter = perimeter_of_regular_tetrahedron(edge_length)\n",
    "print(f\"The perimeter of the regular tetrahedron with edge length {edge_length} is {perimeter:.2f}.\")\n"
   ]
  },
  {
   "cell_type": "markdown",
   "id": "6b107e45",
   "metadata": {},
   "source": [
    "### 140. Print the Pattern of a Hollow Rhombus Star"
   ]
  },
  {
   "cell_type": "code",
   "execution_count": 1,
   "id": "e17a4103",
   "metadata": {},
   "outputs": [
    {
     "name": "stdout",
     "output_type": "stream",
     "text": [
      "    * * * * * \n",
      "   * * * * * \n",
      "  * * * * * \n",
      " * * * * * \n",
      "* * * * * \n",
      " * * * * \n",
      "  * * * \n",
      "   * * \n",
      "    * \n"
     ]
    }
   ],
   "source": [
    "def print_hollow_rhombus_star_pattern(n):\n",
    "    for i in range(n):\n",
    "        print(\" \" * (n - i - 1) + \"* \" * n)\n",
    "    for i in range(1, n):\n",
    "        print(\" \" * i + \"* \" * (n - i))\n",
    "\n",
    "rows = 5\n",
    "print_hollow_rhombus_star_pattern(rows)\n"
   ]
  },
  {
   "cell_type": "code",
   "execution_count": null,
   "id": "4ae410a7",
   "metadata": {},
   "outputs": [],
   "source": []
  }
 ],
 "metadata": {
  "kernelspec": {
   "display_name": "Python 3 (ipykernel)",
   "language": "python",
   "name": "python3"
  },
  "language_info": {
   "codemirror_mode": {
    "name": "ipython",
    "version": 3
   },
   "file_extension": ".py",
   "mimetype": "text/x-python",
   "name": "python",
   "nbconvert_exporter": "python",
   "pygments_lexer": "ipython3",
   "version": "3.11.4"
  }
 },
 "nbformat": 4,
 "nbformat_minor": 5
}

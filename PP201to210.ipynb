{
 "cells": [
  {
   "cell_type": "markdown",
   "id": "142c6ab1",
   "metadata": {},
   "source": [
    "# Python Practice 201-210"
   ]
  },
  {
   "cell_type": "markdown",
   "id": "59c17358",
   "metadata": {},
   "source": [
    "## Here are the Python programs for each of the objectives along with the associated algorithm, mathematical calculations, and string manipulations: "
   ]
  },
  {
   "cell_type": "markdown",
   "id": "8dec7c40",
   "metadata": {},
   "source": [
    "### 201. Implement Circular Queue Data Structure"
   ]
  },
  {
   "cell_type": "code",
   "execution_count": 14,
   "id": "00a1bfeb",
   "metadata": {},
   "outputs": [
    {
     "name": "stdout",
     "output_type": "stream",
     "text": [
      "Queue is full. Cannot enqueue.\n",
      "1\n",
      "2\n"
     ]
    }
   ],
   "source": [
    "class CircularQueue:\n",
    "    def __init__(self, capacity):\n",
    "        self.capacity = capacity\n",
    "        self.queue = [None] * capacity\n",
    "        self.front = self.rear = -1\n",
    "\n",
    "    def is_empty(self):\n",
    "        return self.front == -1\n",
    "\n",
    "    def is_full(self):\n",
    "        return (self.rear + 1) % self.capacity == self.front\n",
    "\n",
    "    def enqueue(self, item):\n",
    "        if self.is_full():\n",
    "            print(\"Queue is full. Cannot enqueue.\")\n",
    "            return\n",
    "        if self.is_empty():\n",
    "            self.front = 0\n",
    "        self.rear = (self.rear + 1) % self.capacity\n",
    "        self.queue[self.rear] = item\n",
    "\n",
    "    def dequeue(self):\n",
    "        if self.is_empty():\n",
    "            print(\"Queue is empty. Cannot dequeue.\")\n",
    "            return None\n",
    "        item = self.queue[self.front]\n",
    "        if self.front == self.rear:\n",
    "            self.front = self.rear = -1\n",
    "        else:\n",
    "            self.front = (self.front + 1) % self.capacity\n",
    "        return item\n",
    "\n",
    "# Example usage of the Circular Queue data structure\n",
    "cq = CircularQueue(5)\n",
    "cq.enqueue(1)\n",
    "cq.enqueue(2)\n",
    "cq.enqueue(3)\n",
    "cq.enqueue(4)\n",
    "cq.enqueue(5)\n",
    "cq.enqueue(6)  # Queue is full.\n",
    "print(cq.dequeue())  # Output: 1\n",
    "cq.enqueue(6)\n",
    "print(cq.dequeue())  # Output: 2\n"
   ]
  },
  {
   "cell_type": "markdown",
   "id": "add94405",
   "metadata": {},
   "source": [
    "### 202. Find the Untouchable Numbers in a Range"
   ]
  },
  {
   "cell_type": "code",
   "execution_count": 13,
   "id": "e23db399",
   "metadata": {},
   "outputs": [
    {
     "name": "stdout",
     "output_type": "stream",
     "text": [
      "Untouchable numbers in the range 1 to 1000: [220, 284]\n"
     ]
    }
   ],
   "source": [
    "def sum_of_divisors(n):\n",
    "    divisors_sum = 1\n",
    "    for i in range(2, int(n**0.5) + 1):\n",
    "        if n % i == 0:\n",
    "            divisors_sum += i\n",
    "            if i != n // i:\n",
    "                divisors_sum += n // i\n",
    "    return divisors_sum\n",
    "\n",
    "def find_untouchable_numbers(start_range, end_range):\n",
    "    untouchable_numbers = []\n",
    "    for num in range(start_range, end_range + 1):\n",
    "        if sum_of_divisors(sum_of_divisors(num)) == num and num != sum_of_divisors(num):\n",
    "            untouchable_numbers.append(num)\n",
    "    return untouchable_numbers\n",
    "\n",
    "start_range, end_range = 1, 1000\n",
    "untouchable_numbers_list = find_untouchable_numbers(start_range, end_range)\n",
    "print(f\"Untouchable numbers in the range {start_range} to {end_range}: {untouchable_numbers_list}\")\n"
   ]
  },
  {
   "cell_type": "markdown",
   "id": "0f5e631f",
   "metadata": {},
   "source": [
    "### 203. Calculate the Perimeter of a Reuleaux Hexagon"
   ]
  },
  {
   "cell_type": "code",
   "execution_count": 12,
   "id": "192503a9",
   "metadata": {},
   "outputs": [
    {
     "name": "stdout",
     "output_type": "stream",
     "text": [
      "The perimeter of the Reuleaux hexagon with radius 5 is 94.25.\n"
     ]
    }
   ],
   "source": [
    "def calculate_perimeter_of_reuleaux_hexagon(radius):\n",
    "    import math\n",
    "    perimeter = 6 * math.pi * radius\n",
    "    return perimeter\n",
    "\n",
    "radius = 5\n",
    "perimeter = calculate_perimeter_of_reuleaux_hexagon(radius)\n",
    "print(f\"The perimeter of the Reuleaux hexagon with radius {radius} is {perimeter:.2f}.\")\n"
   ]
  },
  {
   "cell_type": "markdown",
   "id": "7b7d62cb",
   "metadata": {},
   "source": [
    "### 204. Print the Pattern of a Hollow Pascal's Triangle with Right Alignment"
   ]
  },
  {
   "cell_type": "code",
   "execution_count": 11,
   "id": "1e6d67c3",
   "metadata": {},
   "outputs": [
    {
     "name": "stdout",
     "output_type": "stream",
     "text": [
      "Hollow Pascal's Triangle:\n",
      "        1 \n",
      "      1 1 \n",
      "    1   1 \n",
      "  1     1 \n",
      "1 1 1 1 1 \n"
     ]
    }
   ],
   "source": [
    "def print_hollow_pascals_triangle(rows):\n",
    "    for i in range(rows):\n",
    "        print(\" \" * (2 * (rows - i - 1)), end=\"\")\n",
    "        for j in range(i + 1):\n",
    "            if j == 0 or j == i or i == rows - 1:\n",
    "                print(1, end=\" \")\n",
    "            else:\n",
    "                print(\" \", end=\" \")\n",
    "        print()\n",
    "\n",
    "rows = 5\n",
    "print(\"Hollow Pascal's Triangle:\")\n",
    "print_hollow_pascals_triangle(rows)\n"
   ]
  },
  {
   "cell_type": "markdown",
   "id": "f3462cc8",
   "metadata": {},
   "source": [
    "### 205. Generate a Random Word Cloud from Text Data"
   ]
  },
  {
   "cell_type": "code",
   "execution_count": 10,
   "id": "a1b33b9f",
   "metadata": {},
   "outputs": [
    {
     "ename": "ModuleNotFoundError",
     "evalue": "No module named 'wordcloud'",
     "output_type": "error",
     "traceback": [
      "\u001b[0;31m---------------------------------------------------------------------------\u001b[0m",
      "\u001b[0;31mModuleNotFoundError\u001b[0m                       Traceback (most recent call last)",
      "Cell \u001b[0;32mIn[10], line 1\u001b[0m\n\u001b[0;32m----> 1\u001b[0m \u001b[38;5;28;01mfrom\u001b[39;00m \u001b[38;5;21;01mwordcloud\u001b[39;00m \u001b[38;5;28;01mimport\u001b[39;00m WordCloud\n\u001b[1;32m      2\u001b[0m \u001b[38;5;28;01mimport\u001b[39;00m \u001b[38;5;21;01mmatplotlib\u001b[39;00m\u001b[38;5;21;01m.\u001b[39;00m\u001b[38;5;21;01mpyplot\u001b[39;00m \u001b[38;5;28;01mas\u001b[39;00m \u001b[38;5;21;01mplt\u001b[39;00m\n\u001b[1;32m      4\u001b[0m \u001b[38;5;28;01mdef\u001b[39;00m \u001b[38;5;21mgenerate_word_cloud\u001b[39m(text):\n",
      "\u001b[0;31mModuleNotFoundError\u001b[0m: No module named 'wordcloud'"
     ]
    }
   ],
   "source": [
    "from wordcloud import WordCloud\n",
    "import matplotlib.pyplot as plt\n",
    "\n",
    "def generate_word_cloud(text):\n",
    "    wordcloud = WordCloud(width=800, height=400, background_color='white').generate(text)\n",
    "    plt.figure(figsize=(10, 5))\n",
    "    plt.imshow(wordcloud, interpolation='bilinear')\n",
    "    plt.axis('off')\n",
    "    plt.show()\n",
    "\n",
    "text_data = \"Lorem ipsum dolor sit amet, consectetur adipiscing elit, sed do eiusmod tempor incididunt ut labore et dolore magna aliqua.\"\n",
    "generate_word_cloud(text_data)\n"
   ]
  },
  {
   "cell_type": "markdown",
   "id": "7e9611f2",
   "metadata": {},
   "source": [
    "### 206. Convert Roman Numeral to Decimal Using a Dictionary"
   ]
  },
  {
   "cell_type": "code",
   "execution_count": 9,
   "id": "16f1ac30",
   "metadata": {},
   "outputs": [
    {
     "name": "stdout",
     "output_type": "stream",
     "text": [
      "The decimal representation of CXLII is 142.\n"
     ]
    }
   ],
   "source": [
    "def roman_to_decimal(roman):\n",
    "    roman_numerals = {\n",
    "        'I': 1, 'V': 5, 'X': 10, 'L': 50, 'C': 100, 'D': 500, 'M': 1000\n",
    "    }\n",
    "    decimal = 0\n",
    "    prev_value = 0\n",
    "    for char in reversed(roman):\n",
    "        value = roman_numerals[char]\n",
    "        if value < prev_value:\n",
    "            decimal -= value\n",
    "        else:\n",
    "            decimal += value\n",
    "        prev_value = value\n",
    "    return decimal\n",
    "\n",
    "roman_numeral = \"CXLII\"\n",
    "decimal_num = roman_to_decimal(roman_numeral)\n",
    "print(f\"The decimal representation of {roman_numeral} is {decimal_num}.\")\n"
   ]
  },
  {
   "cell_type": "markdown",
   "id": "110e8f10",
   "metadata": {},
   "source": [
    "### 207. Check if a String is a Rotated Palindrome"
   ]
  },
  {
   "cell_type": "code",
   "execution_count": 8,
   "id": "efb38043",
   "metadata": {},
   "outputs": [
    {
     "name": "stdout",
     "output_type": "stream",
     "text": [
      "The string 'radar' is a rotated palindrome.\n"
     ]
    }
   ],
   "source": [
    "def is_palindrome(string):\n",
    "    return string == string[::-1]\n",
    "\n",
    "def is_rotated_palindrome(string):\n",
    "    for i in range(len(string)):\n",
    "        rotated_string = string[i:] + string[:i]\n",
    "        if is_palindrome(rotated_string):\n",
    "            return True\n",
    "    return False\n",
    "\n",
    "text = \"radar\"\n",
    "if is_rotated_palindrome(text):\n",
    "    print(f\"The string '{text}' is a rotated palindrome.\")\n",
    "else:\n",
    "    print(f\"The string '{text}' is not a rotated palindrome.\")\n"
   ]
  },
  {
   "cell_type": "markdown",
   "id": "3f22e842",
   "metadata": {},
   "source": [
    "### 208. Calculate the Volume of a Reuleaux Dodecahedron"
   ]
  },
  {
   "cell_type": "code",
   "execution_count": 7,
   "id": "9f68518a",
   "metadata": {},
   "outputs": [
    {
     "name": "stdout",
     "output_type": "stream",
     "text": [
      "The volume of the Reuleaux dodecahedron with side length 5 is 773.40.\n"
     ]
    }
   ],
   "source": [
    "def volume_of_reuleaux_dodecahedron(a):\n",
    "    import math\n",
    "    volume = (35 / 8) * math.sqrt(2) * a**3\n",
    "    return volume\n",
    "\n",
    "side_length = 5\n",
    "volume = volume_of_reuleaux_dodecahedron(side_length)\n",
    "print(f\"The volume of the Reuleaux dodecahedron with side length {side_length} is {volume:.2f}.\")\n"
   ]
  },
  {
   "cell_type": "markdown",
   "id": "6938ff0f",
   "metadata": {},
   "source": [
    "### 209. Implement Bloom Filter Data Structure"
   ]
  },
  {
   "cell_type": "code",
   "execution_count": 16,
   "id": "aa48fb8e",
   "metadata": {},
   "outputs": [
    {
     "ename": "ModuleNotFoundError",
     "evalue": "No module named 'bitarray'",
     "output_type": "error",
     "traceback": [
      "\u001b[0;31m---------------------------------------------------------------------------\u001b[0m",
      "\u001b[0;31mModuleNotFoundError\u001b[0m                       Traceback (most recent call last)",
      "Cell \u001b[0;32mIn[16], line 2\u001b[0m\n\u001b[1;32m      1\u001b[0m \u001b[38;5;28;01mimport\u001b[39;00m \u001b[38;5;21;01mmmh3\u001b[39;00m\n\u001b[0;32m----> 2\u001b[0m \u001b[38;5;28;01mfrom\u001b[39;00m \u001b[38;5;21;01mbitarray\u001b[39;00m \u001b[38;5;28;01mimport\u001b[39;00m bitarray\n\u001b[1;32m      4\u001b[0m \u001b[38;5;28;01mclass\u001b[39;00m \u001b[38;5;21;01mBloomFilter\u001b[39;00m:\n\u001b[1;32m      5\u001b[0m     \u001b[38;5;28;01mdef\u001b[39;00m \u001b[38;5;21m__init__\u001b[39m(\u001b[38;5;28mself\u001b[39m, size, num_hash_functions):\n",
      "\u001b[0;31mModuleNotFoundError\u001b[0m: No module named 'bitarray'"
     ]
    }
   ],
   "source": [
    "import mmh3\n",
    "from bitarray import bitarray\n",
    "\n",
    "class BloomFilter:\n",
    "    def __init__(self, size, num_hash_functions):\n",
    "        self.size = size\n",
    "        self.num_hash_functions = num_hash_functions\n",
    "        self.bit_array = bitarray(size)\n",
    "        self.bit_array.setall(0)\n",
    "\n",
    "    def add(self, item):\n",
    "        for seed in range(self.num_hash_functions):\n",
    "            index = mmh3.hash(item, seed) % self.size\n",
    "            self.bit_array[index] = 1\n",
    "\n",
    "    def contains(self, item):\n",
    "        for seed in range(self.num_hash_functions):\n",
    "            index = mmh3.hash(item, seed) % self.size\n",
    "            if self.bit_array[index] == 0:\n",
    "                return False\n",
    "        return True\n",
    "\n",
    "# Example usage of the Bloom Filter data structure\n",
    "bloom_filter = BloomFilter(100, 3)\n",
    "bloom_filter.add(\"apple\")\n",
    "bloom_filter.add(\"orange\")\n",
    "print(bloom_filter.contains(\"apple\"))  # Output: True\n",
    "print(bloom_filter.contains(\"banana\"))  # Output: False\n"
   ]
  },
  {
   "cell_type": "markdown",
   "id": "06276bab",
   "metadata": {},
   "source": [
    "### 210. Find the Narcissistic Numbers in a Range"
   ]
  },
  {
   "cell_type": "code",
   "execution_count": 4,
   "id": "ac184c2f",
   "metadata": {},
   "outputs": [
    {
     "name": "stdout",
     "output_type": "stream",
     "text": [
      "Narcissistic numbers in the range 1 to 1000: [1, 2, 3, 4, 5, 6, 7, 8, 9, 153, 370, 371, 407]\n"
     ]
    }
   ],
   "source": [
    "def is_narcissistic_number(num):\n",
    "    num_str = str(num)\n",
    "    n = len(num_str)\n",
    "    total = sum(int(digit)**n for digit in num_str)\n",
    "    return total == num\n",
    "\n",
    "def find_narcissistic_numbers(start_range, end_range):\n",
    "    narcissistic_numbers = []\n",
    "    for num in range(start_range, end_range + 1):\n",
    "        if is_narcissistic_number(num):\n",
    "            narcissistic_numbers.append(num)\n",
    "    return narcissistic_numbers\n",
    "\n",
    "start_range, end_range = 1, 1000\n",
    "narcissistic_numbers_list = find_narcissistic_numbers(start_range, end_range)\n",
    "print(f\"Narcissistic numbers in the range {start_range} to {end_range}: {narcissistic_numbers_list}\")\n"
   ]
  }
 ],
 "metadata": {
  "kernelspec": {
   "display_name": "Python 3 (ipykernel)",
   "language": "python",
   "name": "python3"
  },
  "language_info": {
   "codemirror_mode": {
    "name": "ipython",
    "version": 3
   },
   "file_extension": ".py",
   "mimetype": "text/x-python",
   "name": "python",
   "nbconvert_exporter": "python",
   "pygments_lexer": "ipython3",
   "version": "3.11.4"
  }
 },
 "nbformat": 4,
 "nbformat_minor": 5
}

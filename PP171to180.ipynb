{
 "cells": [
  {
   "cell_type": "markdown",
   "id": "5f67d26f",
   "metadata": {},
   "source": [
    "# Python Practice 171-180"
   ]
  },
  {
   "cell_type": "markdown",
   "id": "fd972af2",
   "metadata": {},
   "source": [
    "## "
   ]
  },
  {
   "cell_type": "markdown",
   "id": "e50f88a9",
   "metadata": {},
   "source": [
    "### 171. Calculate the Perimeter of an Ellipse"
   ]
  },
  {
   "cell_type": "code",
   "execution_count": 10,
   "id": "d43d464b",
   "metadata": {},
   "outputs": [
    {
     "name": "stdout",
     "output_type": "stream",
     "text": [
      "The perimeter of the ellipse with semi-major axis 5 and semi-minor axis 3 is 25.91.\n"
     ]
    }
   ],
   "source": [
    "def calculate_perimeter_of_ellipse(a, b):\n",
    "    import math\n",
    "    perimeter = 2 * math.pi * math.sqrt((a ** 2 + b ** 2) / 2)\n",
    "    return perimeter\n",
    "\n",
    "semi_major_axis = 5\n",
    "semi_minor_axis = 3\n",
    "perimeter = calculate_perimeter_of_ellipse(semi_major_axis, semi_minor_axis)\n",
    "print(f\"The perimeter of the ellipse with semi-major axis {semi_major_axis} and semi-minor axis {semi_minor_axis} is {perimeter:.2f}.\")\n"
   ]
  },
  {
   "cell_type": "markdown",
   "id": "2b842c98",
   "metadata": {},
   "source": [
    "### 172. Print the Pattern of a Prime Number Pyramid"
   ]
  },
  {
   "cell_type": "code",
   "execution_count": 9,
   "id": "7d257fd3",
   "metadata": {},
   "outputs": [
    {
     "name": "stdout",
     "output_type": "stream",
     "text": [
      "Prime number pyramid:\n",
      "2 \n",
      "3 5 \n",
      "7 11 13 \n",
      "17 19 23 29 \n",
      "31 37 41 43 47 \n"
     ]
    }
   ],
   "source": [
    "def is_prime(num):\n",
    "    if num < 2:\n",
    "        return False\n",
    "    for i in range(2, int(num**0.5)+1):\n",
    "        if num % i == 0:\n",
    "            return False\n",
    "    return True\n",
    "\n",
    "def print_prime_number_pyramid(rows):\n",
    "    current_number = 1\n",
    "    for i in range(1, rows+1):\n",
    "        for j in range(1, i+1):\n",
    "            while not is_prime(current_number):\n",
    "                current_number += 1\n",
    "            print(current_number, end=\" \")\n",
    "            current_number += 1\n",
    "        print()\n",
    "\n",
    "rows = 5\n",
    "print(\"Prime number pyramid:\")\n",
    "print_prime_number_pyramid(rows)\n"
   ]
  },
  {
   "cell_type": "markdown",
   "id": "baf4a3a3",
   "metadata": {},
   "source": [
    "### 173. Generate a Random Maze Using Prim's Algorithm"
   ]
  },
  {
   "cell_type": "code",
   "execution_count": 8,
   "id": "fcdc55ec",
   "metadata": {},
   "outputs": [
    {
     "name": "stdout",
     "output_type": "stream",
     "text": [
      "           #       #\n",
      "## ####### ####### #\n",
      "   #     #     #   #\n",
      " ##### # ##### # ###\n",
      "   # # # #     #   #\n",
      "## # # # # ####### #\n",
      "   # # #   #   #   #\n",
      " ### # ##### # # # #\n",
      "     #       #   # #\n",
      "####################\n"
     ]
    }
   ],
   "source": [
    "import random\n",
    "\n",
    "def generate_random_maze(rows, cols):\n",
    "    maze = [[\"#\"] * cols for _ in range(rows)]\n",
    "    visited = set()\n",
    "\n",
    "    def valid_neighbors(x, y):\n",
    "        neighbors = [(x+2, y), (x-2, y), (x, y+2), (x, y-2)]\n",
    "        valid_neighbors = [(nx, ny) for nx, ny in neighbors if 0 <= nx < rows and 0 <= ny < cols and (nx, ny) not in visited]\n",
    "        return valid_neighbors\n",
    "\n",
    "    def break_wall(x1, y1, x2, y2):\n",
    "        maze[x1][y1] = \" \"\n",
    "        maze[x2][y2] = \" \"\n",
    "        maze[(x1 + x2) // 2][(y1 + y2) // 2] = \" \"\n",
    "        visited.add((x2, y2))\n",
    "\n",
    "    start_x, start_y = random.randrange(0, rows, 2), random.randrange(0, cols, 2)\n",
    "    visited.add((start_x, start_y))\n",
    "    stack = [(start_x, start_y)]\n",
    "\n",
    "    while stack:\n",
    "        x, y = stack[-1]\n",
    "        neighbors = valid_neighbors(x, y)\n",
    "        if neighbors:\n",
    "            nx, ny = random.choice(neighbors)\n",
    "            break_wall(x, y, nx, ny)\n",
    "            stack.append((nx, ny))\n",
    "        else:\n",
    "            stack.pop()\n",
    "\n",
    "    return maze\n",
    "\n",
    "rows, cols = 10, 20\n",
    "maze = generate_random_maze(rows, cols)\n",
    "for row in maze:\n",
    "    print(\"\".join(row))\n"
   ]
  },
  {
   "cell_type": "markdown",
   "id": "3efb9aec",
   "metadata": {},
   "source": [
    "### 174. Convert Decimal to Excess-K Code"
   ]
  },
  {
   "cell_type": "code",
   "execution_count": 7,
   "id": "03980a57",
   "metadata": {},
   "outputs": [
    {
     "name": "stdout",
     "output_type": "stream",
     "text": [
      "The Excess-5 code representation of 15 is 10100.\n"
     ]
    }
   ],
   "source": [
    "def decimal_to_excess_k(decimal, k):\n",
    "    excess_k = decimal + k\n",
    "    binary_repr = bin(excess_k)[2:]\n",
    "    return binary_repr\n",
    "\n",
    "decimal_num = 15\n",
    "k_value = 5\n",
    "excess_k_code = decimal_to_excess_k(decimal_num, k_value)\n",
    "print(f\"The Excess-{k_value} code representation of {decimal_num} is {excess_k_code}.\")\n"
   ]
  },
  {
   "cell_type": "markdown",
   "id": "c87b2fa1",
   "metadata": {},
   "source": [
    "### 175. Check if a Number is a Strobogrammatic Number"
   ]
  },
  {
   "cell_type": "code",
   "execution_count": 6,
   "id": "df4653ad",
   "metadata": {},
   "outputs": [
    {
     "name": "stdout",
     "output_type": "stream",
     "text": [
      "6969 is a strobogrammatic number.\n"
     ]
    }
   ],
   "source": [
    "def is_strobogrammatic_number(num):\n",
    "    strobogrammatic_map = {\"0\": \"0\", \"1\": \"1\", \"6\": \"9\", \"8\": \"8\", \"9\": \"6\"}\n",
    "    strobogrammatic_num = \"\".join(strobogrammatic_map[digit] for digit in num[::-1] if digit in strobogrammatic_map)\n",
    "    return strobogrammatic_num == num\n",
    "\n",
    "number = \"6969\"\n",
    "if is_strobogrammatic_number(number):\n",
    "    print(f\"{number} is a strobogrammatic number.\")\n",
    "else:\n",
    "    print(f\"{number} is not a strobogrammatic number.\")\n"
   ]
  },
  {
   "cell_type": "markdown",
   "id": "6251eb19",
   "metadata": {},
   "source": [
    "### 176. Calculate the Volume of a Dodecahedron"
   ]
  },
  {
   "cell_type": "code",
   "execution_count": 5,
   "id": "b43d9962",
   "metadata": {},
   "outputs": [
    {
     "name": "stdout",
     "output_type": "stream",
     "text": [
      "The volume of the dodecahedron with edge length 5 is 592.01.\n"
     ]
    }
   ],
   "source": [
    "def volume_of_dodecahedron(edge_length):\n",
    "    import math\n",
    "    phi = (1 + math.sqrt(5)) / 2\n",
    "    volume = (15 + 7 * math.sqrt(5)) * edge_length**3 / (4 * phi)\n",
    "    return volume\n",
    "\n",
    "edge_length = 5\n",
    "volume = volume_of_dodecahedron(edge_length)\n",
    "print(f\"The volume of the dodecahedron with edge length {edge_length} is {volume:.2f}.\")\n"
   ]
  },
  {
   "cell_type": "markdown",
   "id": "804e26e0",
   "metadata": {},
   "source": [
    "### 177. Implement Bitset Data Structure"
   ]
  },
  {
   "cell_type": "code",
   "execution_count": 4,
   "id": "a652a24f",
   "metadata": {},
   "outputs": [
    {
     "name": "stdout",
     "output_type": "stream",
     "text": [
      "BitSet:\n",
      "0 0 1 0 0 1 0 0 0 1 \n"
     ]
    }
   ],
   "source": [
    "class BitSet:\n",
    "    def __init__(self, size):\n",
    "        self.size = size\n",
    "        self.bits = [0] * ((size + 31) // 32)\n",
    "\n",
    "    def set(self, index):\n",
    "        if index < 0 or index >= self.size:\n",
    "            raise ValueError(\"Index out of range.\")\n",
    "        self.bits[index // 32] |= 1 << (index % 32)\n",
    "\n",
    "    def clear(self, index):\n",
    "        if index < 0 or index >= self.size:\n",
    "            raise ValueError(\"Index out of range.\")\n",
    "        self.bits[index // 32] &= ~(1 << (index % 32))\n",
    "\n",
    "    def get(self, index):\n",
    "        if index < 0 or index >= self.size:\n",
    "            raise ValueError(\"Index out of range.\")\n",
    "        return (self.bits[index // 32] >> (index % 32)) & 1\n",
    "\n",
    "# Example usage of the BitSet data structure\n",
    "size = 10\n",
    "bit_set = BitSet(size)\n",
    "bit_set.set(2)\n",
    "bit_set.set(5)\n",
    "bit_set.set(9)\n",
    "\n",
    "print(\"BitSet:\")\n",
    "for i in range(size):\n",
    "    print(bit_set.get(i), end=\" \")\n",
    "print()\n"
   ]
  },
  {
   "cell_type": "markdown",
   "id": "dfc768bf",
   "metadata": {},
   "source": [
    "### 178. Find the Anti-Prime Numbers in a Range"
   ]
  },
  {
   "cell_type": "code",
   "execution_count": 3,
   "id": "75886617",
   "metadata": {},
   "outputs": [
    {
     "name": "stdout",
     "output_type": "stream",
     "text": [
      "Anti-prime numbers in the range 1 to 100: [60, 72, 84, 90, 96]\n"
     ]
    }
   ],
   "source": [
    "def is_prime(num):\n",
    "    if num < 2:\n",
    "        return False\n",
    "    for i in range(2, int(num**0.5)+1):\n",
    "        if num % i == 0:\n",
    "            return False\n",
    "    return True\n",
    "\n",
    "def find_anti_prime_numbers(start, end):\n",
    "    anti_prime_numbers = []\n",
    "    max_divisors = -1\n",
    "    for num in range(start, end+1):\n",
    "        divisor_count = sum(1 for i in range(1, num+1) if num % i == 0)\n",
    "        if divisor_count > max_divisors:\n",
    "            anti_prime_numbers = [num]\n",
    "            max_divisors = divisor_count\n",
    "        elif divisor_count == max_divisors:\n",
    "            anti_prime_numbers.append(num)\n",
    "    return anti_prime_numbers\n",
    "\n",
    "start_range, end_range = 1, 100\n",
    "anti_prime_numbers_list = find_anti_prime_numbers(start_range, end_range)\n",
    "print(f\"Anti-prime numbers in the range {start_range} to {end_range}: {anti_prime_numbers_list}\")\n"
   ]
  },
  {
   "cell_type": "markdown",
   "id": "b0fe4330",
   "metadata": {},
   "source": [
    "### 179. Calculate the Perimeter of a Lune"
   ]
  },
  {
   "cell_type": "code",
   "execution_count": 2,
   "id": "c5838a7c",
   "metadata": {},
   "outputs": [
    {
     "name": "stdout",
     "output_type": "stream",
     "text": [
      "The perimeter of the lune with radius 5 and central angle 60 degrees is 15.00.\n"
     ]
    }
   ],
   "source": [
    "def calculate_perimeter_of_lune(radius, angle_degrees):\n",
    "    import math\n",
    "    angle_radians = math.radians(angle_degrees)\n",
    "    perimeter = 2 * radius * (1 + math.cos(angle_radians))\n",
    "    return perimeter\n",
    "\n",
    "radius = 5\n",
    "angle_degrees = 60\n",
    "perimeter = calculate_perimeter_of_lune(radius, angle_degrees)\n",
    "print(f\"The perimeter of the lune with radius {radius} and central angle {angle_degrees} degrees is {perimeter:.2f}.\")\n"
   ]
  },
  {
   "cell_type": "markdown",
   "id": "c3beb38e",
   "metadata": {},
   "source": [
    "### 180. Print the Pattern of a Hollow Sierpinski Triangle"
   ]
  },
  {
   "cell_type": "code",
   "execution_count": 1,
   "id": "8e07b733",
   "metadata": {},
   "outputs": [
    {
     "name": "stdout",
     "output_type": "stream",
     "text": [
      "Hollow Sierpinski Triangle:\n",
      "****\n",
      " * *\n",
      "  **\n",
      "   *\n"
     ]
    }
   ],
   "source": [
    "def print_hollow_sierpinski_triangle(n):\n",
    "    def draw_pattern(x, y, size):\n",
    "        if size == 1:\n",
    "            pattern[x][y] = \"*\"\n",
    "        else:\n",
    "            draw_pattern(x, y, size // 2)\n",
    "            draw_pattern(x, y + size // 2, size // 2)\n",
    "            draw_pattern(x + size // 2, y + size // 2, size // 2)\n",
    "\n",
    "    pattern = [[\" \" for _ in range(n)] for _ in range(n)]\n",
    "    draw_pattern(0, 0, n)\n",
    "    for row in pattern:\n",
    "        print(\"\".join(row))\n",
    "\n",
    "size_of_triangle = 4\n",
    "print(\"Hollow Sierpinski Triangle:\")\n",
    "print_hollow_sierpinski_triangle(size_of_triangle)\n"
   ]
  },
  {
   "cell_type": "code",
   "execution_count": null,
   "id": "2e4c7e91",
   "metadata": {},
   "outputs": [],
   "source": []
  }
 ],
 "metadata": {
  "kernelspec": {
   "display_name": "Python 3 (ipykernel)",
   "language": "python",
   "name": "python3"
  },
  "language_info": {
   "codemirror_mode": {
    "name": "ipython",
    "version": 3
   },
   "file_extension": ".py",
   "mimetype": "text/x-python",
   "name": "python",
   "nbconvert_exporter": "python",
   "pygments_lexer": "ipython3",
   "version": "3.11.4"
  }
 },
 "nbformat": 4,
 "nbformat_minor": 5
}

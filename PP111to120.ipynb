{
 "cells": [
  {
   "cell_type": "markdown",
   "id": "75a095a6",
   "metadata": {},
   "source": [
    "# Python Practice 111-120"
   ]
  },
  {
   "cell_type": "markdown",
   "id": "ff213f37",
   "metadata": {},
   "source": [
    "##  "
   ]
  },
  {
   "cell_type": "markdown",
   "id": "8e445957",
   "metadata": {},
   "source": [
    "###  111. Check if a Number is a Magic Number"
   ]
  },
  {
   "cell_type": "code",
   "execution_count": 10,
   "id": "798c2c2b",
   "metadata": {},
   "outputs": [
    {
     "name": "stdout",
     "output_type": "stream",
     "text": [
      "19 is not a magic number.\n"
     ]
    }
   ],
   "source": [
    "def is_magic_number(num):\n",
    "    num_str = str(num)\n",
    "    sum_of_digits = sum(int(digit) for digit in num_str)\n",
    "    return num == sum_of_digits\n",
    "\n",
    "number = 19\n",
    "if is_magic_number(number):\n",
    "    print(f\"{number} is a magic number.\")\n",
    "else:\n",
    "    print(f\"{number} is not a magic number.\")\n"
   ]
  },
  {
   "cell_type": "markdown",
   "id": "5f685eed",
   "metadata": {},
   "source": [
    "### 112. Calculate the Volume of a Cube"
   ]
  },
  {
   "cell_type": "code",
   "execution_count": 9,
   "id": "ad855946",
   "metadata": {},
   "outputs": [
    {
     "name": "stdout",
     "output_type": "stream",
     "text": [
      "The volume of the cube with side length 5 is 125.\n"
     ]
    }
   ],
   "source": [
    "def volume_of_cube(side_length):\n",
    "    return side_length ** 3\n",
    "\n",
    "side_length = 5\n",
    "volume = volume_of_cube(side_length)\n",
    "print(f\"The volume of the cube with side length {side_length} is {volume}.\")\n"
   ]
  },
  {
   "cell_type": "markdown",
   "id": "94ce34f7",
   "metadata": {},
   "source": [
    "### 113. Implement Binary Search Tree Data Structure"
   ]
  },
  {
   "cell_type": "code",
   "execution_count": 8,
   "id": "5d570a7e",
   "metadata": {},
   "outputs": [
    {
     "name": "stdout",
     "output_type": "stream",
     "text": [
      "40 is present in the Binary Search Tree.\n"
     ]
    }
   ],
   "source": [
    "class TreeNode:\n",
    "    def __init__(self, key):\n",
    "        self.key = key\n",
    "        self.left = None\n",
    "        self.right = None\n",
    "\n",
    "class BinarySearchTree:\n",
    "    def __init__(self):\n",
    "        self.root = None\n",
    "\n",
    "    def insert(self, key):\n",
    "        self.root = self._insert_recursive(self.root, key)\n",
    "\n",
    "    def _insert_recursive(self, node, key):\n",
    "        if not node:\n",
    "            return TreeNode(key)\n",
    "        if key < node.key:\n",
    "            node.left = self._insert_recursive(node.left, key)\n",
    "        else:\n",
    "            node.right = self._insert_recursive(node.right, key)\n",
    "        return node\n",
    "\n",
    "    def search(self, key):\n",
    "        return self._search_recursive(self.root, key)\n",
    "\n",
    "    def _search_recursive(self, node, key):\n",
    "        if not node or node.key == key:\n",
    "            return node\n",
    "        if key < node.key:\n",
    "            return self._search_recursive(node.left, key)\n",
    "        else:\n",
    "            return self._search_recursive(node.right, key)\n",
    "\n",
    "# Example usage of the Binary Search Tree data structure\n",
    "bst = BinarySearchTree()\n",
    "bst.insert(50)\n",
    "bst.insert(30)\n",
    "bst.insert(70)\n",
    "bst.insert(20)\n",
    "bst.insert(40)\n",
    "bst.insert(60)\n",
    "bst.insert(80)\n",
    "\n",
    "search_key = 40\n",
    "if bst.search(search_key):\n",
    "    print(f\"{search_key} is present in the Binary Search Tree.\")\n",
    "else:\n",
    "    print(f\"{search_key} is not present in the Binary Search Tree.\")\n"
   ]
  },
  {
   "cell_type": "markdown",
   "id": "514881a3",
   "metadata": {},
   "source": [
    "### 114. Find the Harshad Numbers in a Range"
   ]
  },
  {
   "cell_type": "code",
   "execution_count": 7,
   "id": "bf4cf440",
   "metadata": {},
   "outputs": [
    {
     "name": "stdout",
     "output_type": "stream",
     "text": [
      "Harshad numbers in the range 1 to 100: [1, 2, 3, 4, 5, 6, 7, 8, 9, 10, 12, 18, 20, 21, 24, 27, 30, 36, 40, 42, 45, 48, 50, 54, 60, 63, 70, 72, 80, 81, 84, 90, 100]\n"
     ]
    }
   ],
   "source": [
    "def is_harshad_number(num):\n",
    "    return num % sum(int(digit) for digit in str(num)) == 0\n",
    "\n",
    "def find_harshad_numbers(start, end):\n",
    "    harshad_numbers = [num for num in range(start, end+1) if is_harshad_number(num)]\n",
    "    return harshad_numbers\n",
    "\n",
    "start_range, end_range = 1, 100\n",
    "harshad_numbers_list = find_harshad_numbers(start_range, end_range)\n",
    "print(f\"Harshad numbers in the range {start_range} to {end_range}: {harshad_numbers_list}\")\n"
   ]
  },
  {
   "cell_type": "markdown",
   "id": "81230bf8",
   "metadata": {},
   "source": [
    "### 115. Calculate the Perimeter of a Cone"
   ]
  },
  {
   "cell_type": "code",
   "execution_count": 6,
   "id": "1b6358ce",
   "metadata": {},
   "outputs": [
    {
     "name": "stdout",
     "output_type": "stream",
     "text": [
      "The perimeter of the cone with radius 5 and slant height 8 is 31.71.\n"
     ]
    }
   ],
   "source": [
    "import math\n",
    "\n",
    "def perimeter_of_cone(radius, slant_height):\n",
    "    return math.pi * radius + 2 * slant_height\n",
    "\n",
    "radius, slant_height = 5, 8\n",
    "perimeter = perimeter_of_cone(radius, slant_height)\n",
    "print(f\"The perimeter of the cone with radius {radius} and slant height {slant_height} is {perimeter:.2f}.\")\n"
   ]
  },
  {
   "cell_type": "markdown",
   "id": "228beffb",
   "metadata": {},
   "source": [
    "### 116. Print the Pattern of a Pascal's Triangle"
   ]
  },
  {
   "cell_type": "code",
   "execution_count": 5,
   "id": "83a71915",
   "metadata": {},
   "outputs": [
    {
     "name": "stdout",
     "output_type": "stream",
     "text": [
      "1 \n",
      "1 1 \n",
      "1 2 1 \n",
      "1 3 3 1 \n",
      "1 4 6 4 1 \n"
     ]
    }
   ],
   "source": [
    "def print_pascals_triangle(n):\n",
    "    for line in range(1, n + 1):\n",
    "        num = 1\n",
    "        for i in range(1, line + 1):\n",
    "            print(num, end=\" \")\n",
    "            num = num * (line - i) // i\n",
    "        print()\n",
    "\n",
    "rows = 5\n",
    "print_pascals_triangle(rows)\n"
   ]
  },
  {
   "cell_type": "markdown",
   "id": "5b00d109",
   "metadata": {},
   "source": [
    "### 117. Generate a Random Password with Custom Length and Character Set"
   ]
  },
  {
   "cell_type": "code",
   "execution_count": 4,
   "id": "9849f593",
   "metadata": {},
   "outputs": [
    {
     "name": "stdout",
     "output_type": "stream",
     "text": [
      "Generated Random Password with custom characters: aa@2#ec$fe\n"
     ]
    }
   ],
   "source": [
    "import random\n",
    "import string\n",
    "\n",
    "def generate_random_password_custom(length, characters):\n",
    "    random_password = ''.join(random.choice(characters) for _ in range(length))\n",
    "    return random_password\n",
    "\n",
    "custom_characters = \"@#$%abcdef123\"\n",
    "password_length = 10\n",
    "random_password = generate_random_password_custom(password_length, custom_characters)\n",
    "print(f\"Generated Random Password with custom characters: {random_password}\")\n"
   ]
  },
  {
   "cell_type": "markdown",
   "id": "a4a9083e",
   "metadata": {},
   "source": [
    "### 118. Convert Base-N to Decimal (N > 10)"
   ]
  },
  {
   "cell_type": "code",
   "execution_count": 3,
   "id": "cea5c064",
   "metadata": {},
   "outputs": [
    {
     "name": "stdout",
     "output_type": "stream",
     "text": [
      "The decimal representation of 1A3 in base 16 is 419.\n"
     ]
    }
   ],
   "source": [
    "def base_n_to_decimal(num, base):\n",
    "    decimal_num = 0\n",
    "    num_str = str(num)\n",
    "    for i, digit in enumerate(num_str[::-1]):\n",
    "        decimal_num += int(digit, base) * (base ** i)\n",
    "    return decimal_num\n",
    "\n",
    "number = \"1A3\"\n",
    "base = 16\n",
    "decimal_num = base_n_to_decimal(number, base)\n",
    "print(f\"The decimal representation of {number} in base {base} is {decimal_num}.\")\n"
   ]
  },
  {
   "cell_type": "markdown",
   "id": "36f9f0cf",
   "metadata": {},
   "source": [
    "### 119. Check if a Number is a Neon Number"
   ]
  },
  {
   "cell_type": "code",
   "execution_count": 2,
   "id": "1df8275e",
   "metadata": {},
   "outputs": [
    {
     "name": "stdout",
     "output_type": "stream",
     "text": [
      "9 is a neon number.\n"
     ]
    }
   ],
   "source": [
    "def is_neon_number(num):\n",
    "    square = num ** 2\n",
    "    return sum(int(digit) for digit in str(square)) == num\n",
    "\n",
    "number = 9\n",
    "if is_neon_number(number):\n",
    "    print(f\"{number} is a neon number.\")\n",
    "else:\n",
    "    print(f\"{number} is not a neon number.\")\n"
   ]
  },
  {
   "cell_type": "markdown",
   "id": "bf6cefd4",
   "metadata": {},
   "source": [
    "### 120. Calculate the Volume of a Cuboid"
   ]
  },
  {
   "cell_type": "code",
   "execution_count": 1,
   "id": "793fafe9",
   "metadata": {},
   "outputs": [
    {
     "name": "stdout",
     "output_type": "stream",
     "text": [
      "The volume of the cuboid with length 5, width 3, and height 8 is 120.\n"
     ]
    }
   ],
   "source": [
    "def volume_of_cuboid(length, width, height):\n",
    "    return length * width * height\n",
    "\n",
    "length, width, height = 5, 3, 8\n",
    "volume = volume_of_cuboid(length, width, height)\n",
    "print(f\"The volume of the cuboid with length {length}, width {width}, and height {height} is {volume}.\")\n"
   ]
  },
  {
   "cell_type": "code",
   "execution_count": null,
   "id": "01d42da2",
   "metadata": {},
   "outputs": [],
   "source": []
  }
 ],
 "metadata": {
  "kernelspec": {
   "display_name": "Python 3 (ipykernel)",
   "language": "python",
   "name": "python3"
  },
  "language_info": {
   "codemirror_mode": {
    "name": "ipython",
    "version": 3
   },
   "file_extension": ".py",
   "mimetype": "text/x-python",
   "name": "python",
   "nbconvert_exporter": "python",
   "pygments_lexer": "ipython3",
   "version": "3.11.4"
  }
 },
 "nbformat": 4,
 "nbformat_minor": 5
}

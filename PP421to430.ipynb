{
 "cells": [
  {
   "cell_type": "markdown",
   "id": "b6b7724f",
   "metadata": {},
   "source": [
    "# Python Practice 421-430"
   ]
  },
  {
   "cell_type": "markdown",
   "id": "aa0c8c97",
   "metadata": {},
   "source": [
    "## "
   ]
  },
  {
   "cell_type": "markdown",
   "id": "c17e10be",
   "metadata": {},
   "source": [
    "### 421. Implement Bucket Sort Algorithm on a List of Floating-Point Numbers\n",
    "Bucket sort works by dividing a list into several smaller \"buckets\" based on the range of the input, sorting those buckets, and then concatenating the sorted buckets to get the final sorted list."
   ]
  },
  {
   "cell_type": "code",
   "execution_count": 1,
   "id": "d0ec4865",
   "metadata": {},
   "outputs": [
    {
     "name": "stdout",
     "output_type": "stream",
     "text": [
      "[0.07, 0.12, 0.32, 0.42, 0.55, 0.67, 0.78, 0.89]\n"
     ]
    }
   ],
   "source": [
    "def bucket_sort(arr):\n",
    "    # Step 1: Create empty buckets\n",
    "    num_buckets = len(arr)\n",
    "    buckets = [[] for _ in range(num_buckets)]\n",
    "\n",
    "    # Step 2: Insert elements into buckets\n",
    "    for num in arr:\n",
    "        index = int(num * num_buckets)\n",
    "        buckets[index].append(num)\n",
    "\n",
    "    # Step 3: Sort each bucket\n",
    "    for bucket in buckets:\n",
    "        bucket.sort()\n",
    "\n",
    "    # Step 4: Concatenate the sorted buckets\n",
    "    sorted_arr = []\n",
    "    for bucket in buckets:\n",
    "        sorted_arr.extend(bucket)\n",
    "\n",
    "    return sorted_arr\n",
    "\n",
    "# Example usage:\n",
    "arr = [0.42, 0.32, 0.67, 0.12, 0.78, 0.55, 0.89, 0.07]\n",
    "sorted_arr = bucket_sort(arr)\n",
    "print(sorted_arr)\n"
   ]
  },
  {
   "cell_type": "markdown",
   "id": "535b39dc",
   "metadata": {},
   "source": [
    "### 422. Find the Partitions of a Specific Integer with Custom Partition Scheme, Variable Size, Custom Position, Custom Border, and Custom Units\n",
    "Let's break down your request into specific requirements:\n",
    "\n",
    "1. Partitions of a Specific Integer: This means you want to split an integer into various parts based on some conditions.\n",
    "2. Custom Partition Scheme: The way in which you want to split the integer.\n",
    "3. Variable Size: Each partition might have a different size.\n",
    "4. Custom Position: The position/order in which partitions are presented.\n",
    "5. Custom Border: Visual representation of each partition.\n",
    "6. Custom Units: The unit representation of each partition."
   ]
  },
  {
   "cell_type": "code",
   "execution_count": 11,
   "id": "1c0e54e3",
   "metadata": {},
   "outputs": [
    {
     "name": "stdout",
     "output_type": "stream",
     "text": [
      "[4k] (123h) {5d}\n"
     ]
    }
   ],
   "source": [
    "def custom_partition(n, partition_scheme, position, border, units):\n",
    "    \"\"\"\n",
    "    Custom partition function.\n",
    "\n",
    "    Parameters:\n",
    "    - n (int): Number to be partitioned.\n",
    "    - partition_scheme (list): List of integers, where each integer represents the size of a partition.\n",
    "    - position (list): List of integers representing the position/order of each partition.\n",
    "    - border (list): List of strings representing the border for each partition. Each string must have exactly 2 characters.\n",
    "    - units (list): List of strings representing the unit for each partition.\n",
    "\n",
    "    Returns:\n",
    "    - result (str): String representing the partitioned number.\n",
    "    \"\"\"\n",
    "    \n",
    "    # Ensure all lists are of the same length\n",
    "    if not all(len(lst) == len(partition_scheme) for lst in [position, border, units]):\n",
    "        raise ValueError(\"All lists must have the same length.\")\n",
    "\n",
    "    # Ensure each border string has exactly 2 characters\n",
    "    if any(len(b) != 2 for b in border):\n",
    "        raise ValueError(\"Each border string must have exactly 2 characters.\")\n",
    "    \n",
    "    partitions = []\n",
    "    for size in partition_scheme:\n",
    "        partition_value = n // size\n",
    "        partitions.append(partition_value)\n",
    "        n %= size\n",
    "    \n",
    "    # Reorder partitions based on position\n",
    "    ordered_partitions = [partitions[idx] for idx in position]\n",
    "    \n",
    "    result = []\n",
    "    for value, b, u in zip(ordered_partitions, border, units):\n",
    "        result.append(f\"{b[0]}{value}{u}{b[1]}\")\n",
    "\n",
    "    return \" \".join(result)\n",
    "\n",
    "# Example\n",
    "n = 123456\n",
    "partition_scheme = [1000, 100, 10]\n",
    "position = [1, 0, 2]\n",
    "border = [\"[]\", \"()\", \"{}\"]\n",
    "units = [\"k\", \"h\", \"d\"]\n",
    "\n",
    "print(custom_partition(n, partition_scheme, position, border, units))\n"
   ]
  },
  {
   "cell_type": "markdown",
   "id": "42f74f70",
   "metadata": {},
   "source": [
    "### 423. Calculate the Perimeter of a Reuleaux Hexagon Star with Rounded Corners, Right Alignment, Custom Size, Custom Side Lengths, Variable Base, Custom Position, Custom Border, and Custom Units\n",
    "Calculating the perimeter of such a shape can be complex. If you were to \"unroll\" the perimeter of the Reuleaux hexagon, you'd have six arcs, each corresponding to one-sixth of the circumference of a circle with a radius equal to the side length of the hexagon.\n",
    "\n",
    "However, this task has some additional complexities:\n",
    "\n",
    "1. Rounded Corners: Typically, a Reuleaux polygon doesn't have \"rounded corners\" as it is already formed by arcs. I'll assume you mean some additional rounding on the point where arcs meet, and that would alter the perimeter slightly.\n",
    "2. Right Alignment, Custom Position, Custom Border, and Custom Units: These seem more like display or formatting requirements. They would not influence the actual computation of the perimeter.\n"
   ]
  },
  {
   "cell_type": "code",
   "execution_count": 12,
   "id": "6ef27782",
   "metadata": {},
   "outputs": [
    {
     "name": "stdout",
     "output_type": "stream",
     "text": [
      "[62.831853071795855cm]\n"
     ]
    }
   ],
   "source": [
    "import math\n",
    "\n",
    "def reuleaux_hexagon_perimeter(side_length):\n",
    "    # A Reuleaux hexagon's perimeter is made of 6 arcs.\n",
    "    # Each arc is 1/6th of the circumference of a circle with a radius of the hexagon's side length.\n",
    "    arc_length = (1/6) * 2 * math.pi * side_length\n",
    "    return 6 * arc_length\n",
    "\n",
    "def formatted_perimeter(side_length, base, position, border, units):\n",
    "    # Calculate the raw perimeter\n",
    "    perimeter = reuleaux_hexagon_perimeter(side_length)\n",
    "\n",
    "    # Convert to the desired base (assuming the default base is 10)\n",
    "    if base != 10:\n",
    "        perimeter_str = format(perimeter, f\".{position}f\").split(\".\")\n",
    "        int_part = int(perimeter_str[0], 10)  # convert integer part to base 10\n",
    "        frac_part = int(perimeter_str[1], 10) / (10 ** position)  # convert fractional part\n",
    "        perimeter = int_part + frac_part\n",
    "        perimeter = round(perimeter, position)\n",
    "\n",
    "    # Format the string\n",
    "    formatted_str = f\"{border[0]}{perimeter:>{position}}{units}{border[1]}\"\n",
    "    return formatted_str\n",
    "\n",
    "# Example usage\n",
    "side_length = 10\n",
    "base = 10\n",
    "position = 2\n",
    "border = [\"[\", \"]\"]\n",
    "units = \"cm\"\n",
    "\n",
    "print(formatted_perimeter(side_length, base, position, border, units))\n"
   ]
  },
  {
   "cell_type": "markdown",
   "id": "b3ac242f",
   "metadata": {},
   "source": [
    "### 424. Print the Pattern of a Hollow Diamond Star with Right Alignment, Custom Size, Custom Diamond Width, Variable Base Length, Custom Position, and Custom Border\n",
    "To produce a hollow diamond star pattern with the provided customizations, let's break down the requirements:\n",
    "\n",
    "1. Right Alignment: The pattern should be right-aligned.\n",
    "2. Custom Size: This probably refers to the number of rows for the diamond.\n",
    "3. Custom Diamond Width: Determines the width of the diamond.\n",
    "4. Variable Base Length: A base to determine the overall width of the pattern.\n",
    "5. Custom Position: I assume you mean the start position or offset for the pattern.\n",
    "6. Custom Border: Characters to be printed at the border of the diamond."
   ]
  },
  {
   "cell_type": "code",
   "execution_count": 16,
   "id": "1bd5bcb8",
   "metadata": {},
   "outputs": [
    {
     "name": "stdout",
     "output_type": "stream",
     "text": [
      "               ****\n",
      "              **  **\n",
      "             **    **\n",
      "              **  **\n",
      "               ****\n"
     ]
    }
   ],
   "source": [
    "def hollow_diamond_star_pattern(rows, diamond_width, base_length, position, border):\n",
    "    \"\"\"\n",
    "    Print a hollow diamond star pattern.\n",
    "\n",
    "    Parameters:\n",
    "    - rows (int): Number of rows for the diamond.\n",
    "    - diamond_width (int): Width of the diamond.\n",
    "    - base_length (int): The base width for alignment.\n",
    "    - position (int): The start position or offset.\n",
    "    - border (str): Characters for the diamond border.\n",
    "    \"\"\"\n",
    "    \n",
    "    # For the given number of rows, iterate and print pattern\n",
    "    for i in range(rows):\n",
    "        # For the upper part of the diamond\n",
    "        if i < rows // 2:\n",
    "            print(' ' * (base_length - position - i) + border * diamond_width + ' ' * (2 * i) + border * diamond_width)\n",
    "        # For the middle of the diamond\n",
    "        elif i == rows // 2:\n",
    "            if rows % 2 == 0:\n",
    "                print(' ' * (base_length - position - i) + border * diamond_width + ' ' * (2 * i) + border * diamond_width)\n",
    "            else:\n",
    "                print(' ' * (base_length - position - i) + border * diamond_width + ' ' * (2 * i) + border * diamond_width)\n",
    "        # For the lower part of the diamond\n",
    "        else:\n",
    "            print(' ' * (base_length - position + i - rows + 1) + border * diamond_width + ' ' * (2 * (rows - i) - 2) + border * diamond_width)\n",
    "\n",
    "# Example usage\n",
    "rows = 5\n",
    "diamond_width = 2\n",
    "base_length = 25\n",
    "position = 10\n",
    "border = '*'\n",
    "\n",
    "hollow_diamond_star_pattern(rows, diamond_width, base_length, position, border)\n"
   ]
  },
  {
   "cell_type": "markdown",
   "id": "b158f4cc",
   "metadata": {},
   "source": [
    "### 425. Generate a Random Word Cloud from Web Data with Custom Word Frequency, Size, Color, Font, Position, Shape, Background, and Custom Image Mask\n",
    "Creating a word cloud from web data with the specified customizations is a complex process, but I'll provide you with an outline and code to get started.\n",
    "\n",
    "Steps:\n",
    "\n",
    "- Extract web data.\n",
    "- Process and filter the text.\n",
    "- Generate the word cloud with custom parameters.\n",
    "Here's a code outline for these steps:\n",
    "\n",
    "1. Extract web data:\n",
    "We'll use requests and BeautifulSoup for this purpose.\n",
    "2. Process the text:\n",
    "Tokenize the text, remove stopwords, and determine word frequencies using nltk or simple Python string methods.\n",
    "\n",
    "3. Generate the word cloud:\n",
    "We'll use the wordcloud library. To customize the appearance, you can use a custom image mask.\n"
   ]
  },
  {
   "cell_type": "code",
   "execution_count": null,
   "id": "e7b05a2c",
   "metadata": {},
   "outputs": [],
   "source": [
    "import requests\n",
    "from bs4 import BeautifulSoup\n",
    "from wordcloud import WordCloud, STOPWORDS\n",
    "import matplotlib.pyplot as plt\n",
    "from PIL import Image\n",
    "import numpy as np\n",
    "import nltk\n",
    "\n",
    "# 1. Extract web data\n",
    "url = 'YOUR_TARGET_URL_HERE'\n",
    "response = requests.get(url)\n",
    "soup = BeautifulSoup(response.text, 'html.parser')\n",
    "text = soup.get_text()\n",
    "\n",
    "# 2. Process the text\n",
    "# Tokenization (using NLTK here, but you can choose your method)\n",
    "nltk.download('punkt')\n",
    "tokens = nltk.word_tokenize(text)\n",
    "tokens = [word.lower() for word in tokens if word.isalpha()]\n",
    "\n",
    "# Remove stopwords\n",
    "stopwords = set(STOPWORDS)\n",
    "filtered_tokens = [word for word in tokens if word not in stopwords]\n",
    "\n",
    "# Here, you can add custom word frequency if needed\n",
    "# For demonstration, we're using the default frequency computation\n",
    "\n",
    "# 3. Generate the word cloud\n",
    "# Load the image mask if you have one\n",
    "mask = np.array(Image.open('YOUR_IMAGE_MASK_PATH.png'))\n",
    "\n",
    "wc = WordCloud(\n",
    "    background_color='white',\n",
    "    max_words=2000,\n",
    "    mask=mask,\n",
    "    contour_width=1,\n",
    "    contour_color='blue',\n",
    "    colormap='viridis',   # Choose a colormap: https://matplotlib.org/stable/tutorials/colors/colormaps.html\n",
    "    font_path='YOUR_FONT_PATH.ttf',   # Path to a font file for custom font\n",
    "    max_font_size=90,     # Maximum font size\n",
    "    random_state=42,      # Random state for reproducibility\n",
    "    collocations=False,   # To not consider bi-grams\n",
    ")\n",
    "\n",
    "wc.generate(' '.join(filtered_tokens))\n",
    "\n",
    "# Display the word cloud\n",
    "plt.figure(figsize=(10, 8))\n",
    "plt.imshow(wc, interpolation='bilinear')\n",
    "plt.axis('off')\n",
    "plt.show()\n"
   ]
  },
  {
   "cell_type": "markdown",
   "id": "822bf390",
   "metadata": {},
   "source": [
    "### 426. Convert Decimal to Excess-K Code Using Recursion, Custom K with Variable Size, Custom Encoding Scheme, Variable Base, Custom Precision, and Custom Position\n",
    "The Excess-K code, also known as the biased representation, is a way to represent integers where the represented integer is the sum of the actual integer and K. This coding scheme is often used in floating-point arithmetic to represent the exponent.\n",
    "\n",
    "The process to convert a decimal number to Excess-K:\n",
    "\n",
    "1. Add K to the decimal number.\n",
    "2. Convert the resultant decimal to binary.\n",
    "For this problem, we'll consider K as an input and use a recursive function to convert the sum to binary."
   ]
  },
  {
   "cell_type": "code",
   "execution_count": 5,
   "id": "b7f55b39",
   "metadata": {},
   "outputs": [
    {
     "name": "stdout",
     "output_type": "stream",
     "text": [
      "10000101\n"
     ]
    }
   ],
   "source": [
    "def decimal_to_binary(n):\n",
    "    if n == 0:\n",
    "        return \"0\"\n",
    "    elif n == 1:\n",
    "        return \"1\"\n",
    "    else:\n",
    "        return decimal_to_binary(n // 2) + str(n % 2)\n",
    "\n",
    "def decimal_to_excess_k(number, k, position=\"right\"):\n",
    "    biased_number = number + k\n",
    "    binary_representation = decimal_to_binary(biased_number)\n",
    "    \n",
    "    if position == \"right\":\n",
    "        return binary_representation.rjust(8, '0')  # Padding to 8 bits for example\n",
    "    elif position == \"left\":\n",
    "        return binary_representation.ljust(8, '0')\n",
    "    else:\n",
    "        return binary_representation.center(8, '0')\n",
    "\n",
    "# Testing the function\n",
    "decimal_number = 5  # Example number\n",
    "k = 128  # Example bias\n",
    "print(decimal_to_excess_k(decimal_number, k))\n"
   ]
  },
  {
   "cell_type": "markdown",
   "id": "fb9c8e59",
   "metadata": {},
   "source": [
    "### 427. Check if a Number is a Generalized Heptagonal Hexagonal Number Using Modular Arithmetic\n",
    "A basic (and possibly inefficient) approach is to generate heptagonal and hexagonal numbers and check if any number exists in both sequences up to a reasonable limit. However, for modular arithmetic, we're often considering residues and checking if numbers satisfy specific properties under modular arithmetic, which can sometimes allow for quicker identification of properties of numbers without computing them directly.\n",
    "\n",
    "Without further clarifications on the specific modular arithmetic approach desired, here's a basic function that checks if a number is both heptagonal and hexagonal:"
   ]
  },
  {
   "cell_type": "code",
   "execution_count": 6,
   "id": "e5057ce5",
   "metadata": {},
   "outputs": [
    {
     "name": "stdout",
     "output_type": "stream",
     "text": [
      "True\n"
     ]
    }
   ],
   "source": [
    "def is_heptagonal(n):\n",
    "    # Formula for heptagonal numbers\n",
    "    return ((8*n + 1)**0.5 + 1) / 2 % 1 == 0\n",
    "\n",
    "def is_hexagonal(n):\n",
    "    # Formula for hexagonal numbers\n",
    "    return ((1 + 8*n)**0.5 + 1) / 4 % 1 == 0\n",
    "\n",
    "def is_heptagonal_hexagonal(n):\n",
    "    return is_heptagonal(n) and is_hexagonal(n)\n",
    "\n",
    "# Testing\n",
    "x = 40755  # This is an example of a number that is both heptagonal and hexagonal\n",
    "print(is_heptagonal_hexagonal(x))\n"
   ]
  },
  {
   "cell_type": "markdown",
   "id": "d1c6cbcc",
   "metadata": {},
   "source": [
    "### 428. Calculate the Volume of a Frustum of a Regular Octahedron with Custom Height and Base Length with Variable Base, Custom Volume Calculation, Custom Units, and Custom Position\n",
    "A frustum is a portion of a solid that lies between two parallel planes cutting the solid, especially the section between the base and a plane parallel to the base.\n",
    "\n",
    "For the problem at hand, consider a regular octahedron (a polyhedron with 8 equilateral triangle faces). When you slice off the top of an octahedron by a plane parallel to its base, you get a frustum of an octahedron. The frustum will have an upper triangular face, a larger lower triangular base, and three trapezoidal lateral faces.\n",
    "\n",
    "We will:\n",
    "\n",
    "1. Calculate the volume of the original octahedron using the given base length.\n",
    "2. Calculate the volume of the smaller octahedron that was sliced off to create the frustum.\n",
    "3. Subtract the smaller octahedron's volume from the original octahedron's volume to get the volume of the frustum.\n",
    "Volume of an Octahedron = (sqrt(2)/3) * edge_length^3"
   ]
  },
  {
   "cell_type": "code",
   "execution_count": 4,
   "id": "29abf680",
   "metadata": {},
   "outputs": [
    {
     "name": "stdout",
     "output_type": "stream",
     "text": [
      "     54.10 cm^3\n"
     ]
    }
   ],
   "source": [
    "import math\n",
    "\n",
    "def octahedron_volume(edge_length):\n",
    "    return (math.sqrt(2) / 3) * edge_length**3\n",
    "\n",
    "def frustum_volume(base_length, height, units=\"cm^3\", position=\"right\"):\n",
    "    # Volume of the full octahedron\n",
    "    full_volume = octahedron_volume(base_length)\n",
    "    \n",
    "    # Height of the original octahedron\n",
    "    original_height = base_length * math.sqrt(2)\n",
    "    \n",
    "    # Edge length of the smaller octahedron\n",
    "    smaller_edge_length = base_length * (original_height - height) / original_height\n",
    "    \n",
    "    # Volume of the smaller octahedron\n",
    "    small_volume = octahedron_volume(smaller_edge_length)\n",
    "    \n",
    "    # Volume of the frustum\n",
    "    frustum_vol = full_volume - small_volume\n",
    "    \n",
    "    result = f\"{frustum_vol:.2f} {units}\"\n",
    "    \n",
    "    if position == \"right\":\n",
    "        return result.rjust(15)\n",
    "    elif position == \"left\":\n",
    "        return result.ljust(15)\n",
    "    else:\n",
    "        return result.center(15)\n",
    "\n",
    "# Test the function\n",
    "base_length = 5  # Example base length\n",
    "height = 4       # Example height (should be less than base_length * sqrt(2))\n",
    "print(frustum_volume(base_length, height))\n"
   ]
  },
  {
   "cell_type": "markdown",
   "id": "dde11ee4",
   "metadata": {},
   "source": [
    "### 429. Implement Bucket Sort Algorithm on a List of Floating-Point Numbers with Custom Bucket Size and Variable Data Distribution\n",
    "Bucket sort works by distributing the input over a set of buckets. Each bucket is then sorted individually, either using a different sorting algorithm or recursively applying the bucket sort algorithm.\n",
    "\n",
    "For floating-point numbers between 0 and 1, we can use their value directly to decide on which bucket they should be placed. If our numbers are not in this range, we'll need to normalize them first.\n",
    "\n",
    "Here's how you can implement bucket sort for a list of floating-point numbers:\n",
    "\n",
    "1. Step 1: Create empty buckets.\n",
    "2. Step 2: Insert the numbers in the buckets.\n",
    "3. Step 3: Sort each bucket.\n",
    "4. Step 4: Concatenate the buckets.\n"
   ]
  },
  {
   "cell_type": "code",
   "execution_count": 3,
   "id": "b1cb762d",
   "metadata": {},
   "outputs": [
    {
     "name": "stdout",
     "output_type": "stream",
     "text": [
      "[0.16, 0.2, 0.22, 0.32, 0.38, 0.42, 0.59, 0.85, 0.92, 0.99]\n"
     ]
    }
   ],
   "source": [
    "def bucket_sort(arr, bucket_size=5):\n",
    "    # Step 1: Create empty buckets\n",
    "    min_value, max_value = min(arr), max(arr)\n",
    "    bucket_count = (max_value - min_value) // bucket_size + 1\n",
    "    buckets = [[] for _ in range(int(bucket_count))]\n",
    "\n",
    "    # Step 2: Insert numbers in buckets\n",
    "    for num in arr:\n",
    "        index = int((num - min_value) // bucket_size)\n",
    "        buckets[index].append(num)\n",
    "\n",
    "    # Step 3: Sort each bucket and Step 4: Concatenate\n",
    "    return [num for bucket in buckets for num in sorted(bucket)]\n",
    "\n",
    "# Example:\n",
    "arr = [0.42, 0.32, 0.59, 0.85, 0.92, 0.38, 0.22, 0.99, 0.20, 0.16]\n",
    "sorted_arr = bucket_sort(arr, bucket_size=0.1)\n",
    "print(sorted_arr)\n"
   ]
  },
  {
   "cell_type": "markdown",
   "id": "c85c2473",
   "metadata": {},
   "source": [
    "### 430. Find the Partitions of a Specific Integer with Custom Partition Scheme, Variable Size, Custom Position, Custom Border, Custom Units, and Custom Precision\n",
    "\n",
    "Objective:\n",
    "Partition a specific integer based on a custom scheme. The output should display the partitions in a formatted way, based on various customization parameters.\n",
    "\n",
    "Parameters:\n",
    "\n",
    "1. Specific Integer: The integer that we want to partition.\n",
    "2. Custom Partition Scheme: A list of ratios to determine the partitions. For instance, if our integer is 100 and our scheme is [0.5, 0.3, 0.2], the partitions would be 50, 30, and 20 respectively.\n",
    "3. Variable Size: If True, the partitions can have variable sizes based on the scheme. If False, they must have fixed sizes.\n",
    "4. Custom Position: A parameter to determine the position of the display (e.g., center, left, right). For simplicity, we'll handle left and right alignments.\n",
    "5. Custom Border: A character to encapsulate the result.\n",
    "6. Custom Units: The unit for each partition (e.g., \"k\", \"m\", \"h\").\n",
    "7. Custom Precision: Decimal precision for the partitioned values."
   ]
  },
  {
   "cell_type": "code",
   "execution_count": 2,
   "id": "4a0bb735",
   "metadata": {},
   "outputs": [
    {
     "name": "stdout",
     "output_type": "stream",
     "text": [
      "[50.0h[ [30.0h[ [20.0h[\n"
     ]
    }
   ],
   "source": [
    "def partition_integer(n, scheme, variable_size=True, position=\"right\", border=\"|\", units=\"k\", precision=2):\n",
    "    # Calculate partitioned values\n",
    "    if variable_size:\n",
    "        partitions = [round(n * ratio, precision) for ratio in scheme]\n",
    "    else:\n",
    "        avg = round(n / len(scheme), precision)\n",
    "        partitions = [avg for _ in scheme]\n",
    "\n",
    "    # Format partitioned values\n",
    "    partition_strs = [f\"{value}{units}\" for value in partitions]\n",
    "    max_length = max(len(p) for p in partition_strs)\n",
    "\n",
    "    # Align based on the position\n",
    "    if position == \"right\":\n",
    "        partition_strs = [p.rjust(max_length) for p in partition_strs]\n",
    "    elif position == \"left\":\n",
    "        partition_strs = [p.ljust(max_length) for p in partition_strs]\n",
    "\n",
    "    # Add borders\n",
    "    partition_strs = [f\"{border}{p}{border}\" for p in partition_strs]\n",
    "\n",
    "    return \" \".join(partition_strs)\n",
    "\n",
    "# Example\n",
    "n = 100\n",
    "scheme = [0.5, 0.3, 0.2]\n",
    "result = partition_integer(n, scheme, variable_size=True, position=\"right\", border=\"[\", units=\"h\", precision=2)\n",
    "print(result)\n"
   ]
  }
 ],
 "metadata": {
  "kernelspec": {
   "display_name": "Python 3 (ipykernel)",
   "language": "python",
   "name": "python3"
  },
  "language_info": {
   "codemirror_mode": {
    "name": "ipython",
    "version": 3
   },
   "file_extension": ".py",
   "mimetype": "text/x-python",
   "name": "python",
   "nbconvert_exporter": "python",
   "pygments_lexer": "ipython3",
   "version": "3.11.4"
  }
 },
 "nbformat": 4,
 "nbformat_minor": 5
}

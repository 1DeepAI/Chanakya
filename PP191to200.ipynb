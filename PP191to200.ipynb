{
 "cells": [
  {
   "cell_type": "markdown",
   "id": "9bad7e05",
   "metadata": {},
   "source": [
    "# Python Practice 191-200"
   ]
  },
  {
   "cell_type": "markdown",
   "id": "1e8ccf03",
   "metadata": {},
   "source": [
    "## Here are the Python programs for each of the objectives along with the associated algorithm, mathematical calculations, and string manipulations:"
   ]
  },
  {
   "cell_type": "markdown",
   "id": "049ca8a6",
   "metadata": {},
   "source": [
    "### 191. Check if a String is an Isogram"
   ]
  },
  {
   "cell_type": "code",
   "execution_count": 10,
   "id": "1c3b4c68",
   "metadata": {},
   "outputs": [
    {
     "name": "stdout",
     "output_type": "stream",
     "text": [
      "algorithm is an isogram.\n"
     ]
    }
   ],
   "source": [
    "def is_isogram(string):\n",
    "    seen = set()\n",
    "    for char in string:\n",
    "        if char.isalpha() and char.lower() in seen:\n",
    "            return False\n",
    "        seen.add(char.lower())\n",
    "    return True\n",
    "\n",
    "word = \"algorithm\"\n",
    "if is_isogram(word):\n",
    "    print(f\"{word} is an isogram.\")\n",
    "else:\n",
    "    print(f\"{word} is not an isogram.\")\n"
   ]
  },
  {
   "cell_type": "markdown",
   "id": "bdea3def",
   "metadata": {},
   "source": [
    "### 192. Calculate the Volume of a Reuleaux Tetrahedron"
   ]
  },
  {
   "cell_type": "code",
   "execution_count": 9,
   "id": "3799921f",
   "metadata": {},
   "outputs": [
    {
     "name": "stdout",
     "output_type": "stream",
     "text": [
      "The volume of the Reuleaux tetrahedron with side length 5 is 235.70.\n"
     ]
    }
   ],
   "source": [
    "def volume_of_reuleaux_tetrahedron(a):\n",
    "    import math\n",
    "    volume = (4 / 3) * math.sqrt(2) * a**3\n",
    "    return volume\n",
    "\n",
    "side_length = 5\n",
    "volume = volume_of_reuleaux_tetrahedron(side_length)\n",
    "print(f\"The volume of the Reuleaux tetrahedron with side length {side_length} is {volume:.2f}.\")\n"
   ]
  },
  {
   "cell_type": "markdown",
   "id": "13704791",
   "metadata": {},
   "source": [
    "### 193. Implement Priority Queue Data Structure"
   ]
  },
  {
   "cell_type": "code",
   "execution_count": 8,
   "id": "0cb27a84",
   "metadata": {},
   "outputs": [
    {
     "name": "stdout",
     "output_type": "stream",
     "text": [
      "Processing: Task 2\n",
      "Processing: Task 3\n",
      "Processing: Task 1\n"
     ]
    }
   ],
   "source": [
    "class PriorityQueue:\n",
    "    def __init__(self):\n",
    "        self.queue = []\n",
    "\n",
    "    def is_empty(self):\n",
    "        return len(self.queue) == 0\n",
    "\n",
    "    def insert(self, item, priority):\n",
    "        self.queue.append((item, priority))\n",
    "        self.queue.sort(key=lambda x: x[1])\n",
    "\n",
    "    def remove(self):\n",
    "        if self.is_empty():\n",
    "            raise IndexError(\"Priority queue is empty\")\n",
    "        return self.queue.pop(0)[0]\n",
    "\n",
    "# Example usage of the Priority Queue data structure\n",
    "priority_queue = PriorityQueue()\n",
    "priority_queue.insert(\"Task 1\", 3)\n",
    "priority_queue.insert(\"Task 2\", 1)\n",
    "priority_queue.insert(\"Task 3\", 2)\n",
    "\n",
    "while not priority_queue.is_empty():\n",
    "    task = priority_queue.remove()\n",
    "    print(f\"Processing: {task}\")\n"
   ]
  },
  {
   "cell_type": "markdown",
   "id": "2485bbf5",
   "metadata": {},
   "source": [
    "### 194. Find the Amicable Pairs in a Range"
   ]
  },
  {
   "cell_type": "code",
   "execution_count": 7,
   "id": "ae338a84",
   "metadata": {},
   "outputs": [
    {
     "name": "stdout",
     "output_type": "stream",
     "text": [
      "Amicable pairs in the range 1 to 1000: [(220, 284), (284, 220)]\n"
     ]
    }
   ],
   "source": [
    "def sum_of_divisors(n):\n",
    "    divisors_sum = 1\n",
    "    for i in range(2, int(n**0.5) + 1):\n",
    "        if n % i == 0:\n",
    "            divisors_sum += i\n",
    "            if i != n // i:\n",
    "                divisors_sum += n // i\n",
    "    return divisors_sum\n",
    "\n",
    "def find_amicable_pairs(start_range, end_range):\n",
    "    amicable_pairs = []\n",
    "    for num in range(start_range, end_range + 1):\n",
    "        sum_divisors = sum_of_divisors(num)\n",
    "        if sum_of_divisors(sum_divisors) == num and num != sum_divisors:\n",
    "            amicable_pairs.append((num, sum_divisors))\n",
    "    return amicable_pairs\n",
    "\n",
    "start_range, end_range = 1, 1000\n",
    "amicable_pairs_list = find_amicable_pairs(start_range, end_range)\n",
    "print(f\"Amicable pairs in the range {start_range} to {end_range}: {amicable_pairs_list}\")\n"
   ]
  },
  {
   "cell_type": "markdown",
   "id": "6f790f20",
   "metadata": {},
   "source": [
    "### 195. Calculate the Perimeter of a Reuleaux Pentagon"
   ]
  },
  {
   "cell_type": "code",
   "execution_count": 6,
   "id": "f29619da",
   "metadata": {},
   "outputs": [
    {
     "name": "stdout",
     "output_type": "stream",
     "text": [
      "The perimeter of the Reuleaux pentagon with radius 5 is 78.54.\n"
     ]
    }
   ],
   "source": [
    "def calculate_perimeter_of_reuleaux_pentagon(radius):\n",
    "    import math\n",
    "    perimeter = 5 * math.pi * radius\n",
    "    return perimeter\n",
    "\n",
    "radius = 5\n",
    "perimeter = calculate_perimeter_of_reuleaux_pentagon(radius)\n",
    "print(f\"The perimeter of the Reuleaux pentagon with radius {radius} is {perimeter:.2f}.\")\n"
   ]
  },
  {
   "cell_type": "markdown",
   "id": "21ee19b7",
   "metadata": {},
   "source": [
    "### 196. Print the Pattern of a Hollow Number Diamond with Right Alignment"
   ]
  },
  {
   "cell_type": "code",
   "execution_count": 5,
   "id": "91cabd80",
   "metadata": {},
   "outputs": [
    {
     "name": "stdout",
     "output_type": "stream",
     "text": [
      "Hollow Number Diamond:\n",
      "    1\n",
      "   1 3\n",
      "  1   5\n",
      " 1     7\n",
      "1       9\n",
      " 1     7\n",
      "  1   5\n",
      "   1 3\n",
      "    1\n"
     ]
    }
   ],
   "source": [
    "def print_hollow_number_diamond(rows):\n",
    "    for i in range(1, rows + 1):\n",
    "        print(\" \" * (rows - i), end=\"\")\n",
    "        for j in range(1, 2 * i):\n",
    "            if j == 1 or j == 2 * i - 1:\n",
    "                print(j, end=\"\")\n",
    "            else:\n",
    "                print(\" \", end=\"\")\n",
    "        print()\n",
    "\n",
    "    for i in range(rows - 1, 0, -1):\n",
    "        print(\" \" * (rows - i), end=\"\")\n",
    "        for j in range(1, 2 * i):\n",
    "            if j == 1 or j == 2 * i - 1:\n",
    "                print(j, end=\"\")\n",
    "            else:\n",
    "                print(\" \", end=\"\")\n",
    "        print()\n",
    "\n",
    "rows = 5\n",
    "print(\"Hollow Number Diamond:\")\n",
    "print_hollow_number_diamond(rows)\n"
   ]
  },
  {
   "cell_type": "markdown",
   "id": "b8b97839",
   "metadata": {},
   "source": [
    "### 197. Generate a Random Sudoku Solution"
   ]
  },
  {
   "cell_type": "code",
   "execution_count": 4,
   "id": "44283ed9",
   "metadata": {},
   "outputs": [
    {
     "name": "stdout",
     "output_type": "stream",
     "text": [
      "Random Sudoku Solution:\n",
      "1 7 4 8 5 3 6 9 2\n",
      "9 8 2 7 1 6 5 4 3\n",
      "3 5 6 2 9 4 8 1 7\n",
      "8 4 1 9 7 5 2 3 6\n",
      "7 2 9 3 6 8 1 5 4\n",
      "6 3 5 1 4 2 7 8 9\n",
      "2 9 3 6 8 1 4 7 5\n",
      "5 1 7 4 2 9 3 6 8\n",
      "4 6 8 5 3 7 9 2 1\n"
     ]
    }
   ],
   "source": [
    "import random\n",
    "\n",
    "def generate_sudoku_solution():\n",
    "    n = 9\n",
    "    grid = [[0 for _ in range(n)] for _ in range(n)]\n",
    "    numbers = list(range(1, n + 1))\n",
    "\n",
    "    def is_safe(row, col, num):\n",
    "        for i in range(n):\n",
    "            if grid[row][i] == num or grid[i][col] == num:\n",
    "                return False\n",
    "        row_start, col_start = 3 * (row // 3), 3 * (col // 3)\n",
    "        for i in range(row_start, row_start + 3):\n",
    "            for j in range(col_start, col_start + 3):\n",
    "                if grid[i][j] == num:\n",
    "                    return False\n",
    "        return True\n",
    "\n",
    "    def solve_sudoku():\n",
    "        empty_cell = find_empty_cell()\n",
    "        if not empty_cell:\n",
    "            return True\n",
    "        row, col = empty_cell\n",
    "        random.shuffle(numbers)\n",
    "        for num in numbers:\n",
    "            if is_safe(row, col, num):\n",
    "                grid[row][col] = num\n",
    "                if solve_sudoku():\n",
    "                    return True\n",
    "                grid[row][col] = 0\n",
    "        return False\n",
    "\n",
    "    def find_empty_cell():\n",
    "        for i in range(n):\n",
    "            for j in range(n):\n",
    "                if grid[i][j] == 0:\n",
    "                    return i, j\n",
    "        return None\n",
    "\n",
    "    solve_sudoku()\n",
    "    return grid\n",
    "\n",
    "def print_sudoku(grid):\n",
    "    for row in grid:\n",
    "        print(\" \".join(map(str, row)))\n",
    "\n",
    "sudoku_solution = generate_sudoku_solution()\n",
    "print(\"Random Sudoku Solution:\")\n",
    "print_sudoku(sudoku_solution)\n"
   ]
  },
  {
   "cell_type": "markdown",
   "id": "3ea630c6",
   "metadata": {},
   "source": [
    "### 198. Convert Decimal to Excess-K Code Using Bit Manipulation"
   ]
  },
  {
   "cell_type": "code",
   "execution_count": 3,
   "id": "f0d1af66",
   "metadata": {},
   "outputs": [
    {
     "name": "stdout",
     "output_type": "stream",
     "text": [
      "The Excess-3 code representation of 15 is 10010.\n"
     ]
    }
   ],
   "source": [
    "def decimal_to_excess_k(decimal, k):\n",
    "    excess_k = decimal + k\n",
    "    return bin(excess_k)[2:]\n",
    "\n",
    "decimal_num, k_value = 15, 3\n",
    "excess_k_code = decimal_to_excess_k(decimal_num, k_value)\n",
    "print(f\"The Excess-{k_value} code representation of {decimal_num} is {excess_k_code}.\")\n"
   ]
  },
  {
   "cell_type": "markdown",
   "id": "cf99985b",
   "metadata": {},
   "source": [
    "### 199. Check if a String is a Pangrammatic Lipogram"
   ]
  },
  {
   "cell_type": "code",
   "execution_count": 2,
   "id": "059f8a3d",
   "metadata": {},
   "outputs": [
    {
     "name": "stdout",
     "output_type": "stream",
     "text": [
      "The text is not a pangrammatic lipogram.\n"
     ]
    }
   ],
   "source": [
    "def is_pangrammatic_lipogram(string):\n",
    "    alphabet = set(\"abcdefghijklmnopqrstuvwxyz\")\n",
    "    string_chars = set(string.lower().replace(\" \", \"\"))\n",
    "    return string_chars != alphabet\n",
    "\n",
    "text = \"The quick brown fox jumps over the lazy dog\"\n",
    "if is_pangrammatic_lipogram(text):\n",
    "    print(\"The text is a pangrammatic lipogram.\")\n",
    "else:\n",
    "    print(\"The text is not a pangrammatic lipogram.\")\n"
   ]
  },
  {
   "cell_type": "markdown",
   "id": "3804e3db",
   "metadata": {},
   "source": [
    "### 200. Calculate the Volume of a Reuleaux Octahedron"
   ]
  },
  {
   "cell_type": "code",
   "execution_count": 1,
   "id": "dbfb1569",
   "metadata": {},
   "outputs": [
    {
     "name": "stdout",
     "output_type": "stream",
     "text": [
      "The volume of the Reuleaux octahedron with side length 5 is 942.81.\n"
     ]
    }
   ],
   "source": [
    "def volume_of_reuleaux_octahedron(a):\n",
    "    import math\n",
    "    volume = (16 / 3) * math.sqrt(2) * a**3\n",
    "    return volume\n",
    "\n",
    "side_length = 5\n",
    "volume = volume_of_reuleaux_octahedron(side_length)\n",
    "print(f\"The volume of the Reuleaux octahedron with side length {side_length} is {volume:.2f}.\")\n"
   ]
  }
 ],
 "metadata": {
  "kernelspec": {
   "display_name": "Python 3 (ipykernel)",
   "language": "python",
   "name": "python3"
  },
  "language_info": {
   "codemirror_mode": {
    "name": "ipython",
    "version": 3
   },
   "file_extension": ".py",
   "mimetype": "text/x-python",
   "name": "python",
   "nbconvert_exporter": "python",
   "pygments_lexer": "ipython3",
   "version": "3.11.4"
  }
 },
 "nbformat": 4,
 "nbformat_minor": 5
}

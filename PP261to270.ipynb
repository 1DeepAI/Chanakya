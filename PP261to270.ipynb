{
 "cells": [
  {
   "cell_type": "markdown",
   "id": "d90fa906",
   "metadata": {},
   "source": [
    "# Python Practice 261-270"
   ]
  },
  {
   "cell_type": "markdown",
   "id": "fbfd94a4",
   "metadata": {},
   "source": [
    "## Here are Python programs for the objectives"
   ]
  },
  {
   "cell_type": "markdown",
   "id": "c826f55f",
   "metadata": {},
   "source": [
    "### 261. Generate a Random Sudoku Puzzle with Custom Difficulty Level"
   ]
  },
  {
   "cell_type": "code",
   "execution_count": 10,
   "id": "0eec9c10",
   "metadata": {},
   "outputs": [
    {
     "ename": "IndentationError",
     "evalue": "expected an indented block after function definition on line 3 (653127470.py, line 9)",
     "output_type": "error",
     "traceback": [
      "\u001b[0;36m  Cell \u001b[0;32mIn[10], line 9\u001b[0;36m\u001b[0m\n\u001b[0;31m    difficulty = \"easy\" # Replace with the desired difficulty level (\"easy\", \"medium\", \"hard\", etc.)\u001b[0m\n\u001b[0m    ^\u001b[0m\n\u001b[0;31mIndentationError\u001b[0m\u001b[0;31m:\u001b[0m expected an indented block after function definition on line 3\n"
     ]
    }
   ],
   "source": [
    "import random\n",
    "\n",
    "def generate_sudoku_puzzle(difficulty):\n",
    "    # Your code to generate a random Sudoku puzzle with the specified difficulty goes here\n",
    "    # You can use any Sudoku generation algorithm to create the puzzle\n",
    "    # The difficulty level will determine the number of cells to keep visible in the puzzle\n",
    "\n",
    "# Example usage:\n",
    "difficulty = \"easy\" # Replace with the desired difficulty level (\"easy\", \"medium\", \"hard\", etc.)\n",
    "puzzle = generate_sudoku_puzzle(difficulty)\n",
    "print(\"Generated Sudoku Puzzle:\")\n",
    "print(puzzle)\n"
   ]
  },
  {
   "cell_type": "markdown",
   "id": "0c3a5901",
   "metadata": {},
   "source": [
    "### 262. Convert Decimal to Gray Code Using Recursion"
   ]
  },
  {
   "cell_type": "code",
   "execution_count": 9,
   "id": "b89f22a3",
   "metadata": {},
   "outputs": [
    {
     "name": "stdout",
     "output_type": "stream",
     "text": [
      "Gray code representation of 15 is: 8\n"
     ]
    }
   ],
   "source": [
    "def decimal_to_gray_code(n):\n",
    "    return n ^ (n >> 1)\n",
    "\n",
    "decimal_number = 15 # Replace with any decimal number you want to convert to Gray code\n",
    "gray_code = decimal_to_gray_code(decimal_number)\n",
    "print(f\"Gray code representation of {decimal_number} is: {gray_code}\")\n"
   ]
  },
  {
   "cell_type": "markdown",
   "id": "f8d50f63",
   "metadata": {},
   "source": [
    "### 263. Check if a String is a Power of Four"
   ]
  },
  {
   "cell_type": "code",
   "execution_count": 8,
   "id": "aa495241",
   "metadata": {},
   "outputs": [
    {
     "name": "stdout",
     "output_type": "stream",
     "text": [
      "The binary string 10000 is a power of four.\n"
     ]
    }
   ],
   "source": [
    "def is_power_of_four(s):\n",
    "    n = int(s, 2)\n",
    "    return n > 0 and (n & (n - 1) == 0) and (n & 0xAAAAAAAA == 0)\n",
    "\n",
    "binary_string = \"10000\" # Replace with any binary string you want to check\n",
    "result = is_power_of_four(binary_string)\n",
    "print(f\"The binary string {binary_string} is {'a power of four' if result else 'not a power of four'}.\")\n"
   ]
  },
  {
   "cell_type": "markdown",
   "id": "90d4cf0c",
   "metadata": {},
   "source": [
    "### 264. Calculate the Volume of a Frustum of a Regular Pyramid"
   ]
  },
  {
   "cell_type": "code",
   "execution_count": 7,
   "id": "87f63b26",
   "metadata": {},
   "outputs": [
    {
     "name": "stdout",
     "output_type": "stream",
     "text": [
      "Volume of the frustum of the pyramid with base areas 16 and 9 and height 8 is: 98.67\n"
     ]
    }
   ],
   "source": [
    "def calculate_volume_of_frustum_of_pyramid(base_area1, base_area2, height):\n",
    "    return (1 / 3) * height * (base_area1 + base_area2 + math.sqrt(base_area1 * base_area2))\n",
    "\n",
    "base_area1 = 16 # Replace with the area of the larger base of the frustum of the pyramid\n",
    "base_area2 = 9 # Replace with the area of the smaller top base of the frustum of the pyramid\n",
    "height = 8 # Replace with the height of the frustum of the pyramid\n",
    "volume = calculate_volume_of_frustum_of_pyramid(base_area1, base_area2, height)\n",
    "print(f\"Volume of the frustum of the pyramid with base areas {base_area1} and {base_area2} and height {height} is: {volume:.2f}\")\n"
   ]
  },
  {
   "cell_type": "markdown",
   "id": "d39c2724",
   "metadata": {},
   "source": [
    "### 265. Implement Stack Data Structure with Linked List"
   ]
  },
  {
   "cell_type": "code",
   "execution_count": 6,
   "id": "e4f8cecb",
   "metadata": {},
   "outputs": [
    {
     "name": "stdout",
     "output_type": "stream",
     "text": [
      "Popped item: 3\n",
      "Popped item: 5\n"
     ]
    }
   ],
   "source": [
    "class Node:\n",
    "    def __init__(self, data):\n",
    "        self.data = data\n",
    "        self.next = None\n",
    "\n",
    "class Stack:\n",
    "    def __init__(self):\n",
    "        self.top = None\n",
    "\n",
    "    def is_empty(self):\n",
    "        return self.top is None\n",
    "\n",
    "    def push(self, data):\n",
    "        new_node = Node(data)\n",
    "        new_node.next = self.top\n",
    "        self.top = new_node\n",
    "\n",
    "    def pop(self):\n",
    "        if self.is_empty():\n",
    "            raise Exception(\"Stack is empty.\")\n",
    "        data = self.top.data\n",
    "        self.top = self.top.next\n",
    "        return data\n",
    "\n",
    "# Example usage of the Stack data structure\n",
    "stack = Stack()\n",
    "stack.push(1)\n",
    "stack.push(2)\n",
    "stack.push(3)\n",
    "print(\"Popped item:\", stack.pop()) # Output: 3\n",
    "stack.push(4)\n",
    "stack.push(5)\n",
    "print(\"Popped item:\", stack.pop()) # Output: 5\n"
   ]
  },
  {
   "cell_type": "markdown",
   "id": "2bbfcb30",
   "metadata": {},
   "source": [
    "### 266. Find the Semi-Perfect Numbers in a Range"
   ]
  },
  {
   "cell_type": "code",
   "execution_count": 5,
   "id": "424b689c",
   "metadata": {},
   "outputs": [
    {
     "name": "stdout",
     "output_type": "stream",
     "text": [
      "Semi-perfect numbers in the given range:\n",
      "[1, 6, 12, 18, 20, 24, 28, 30, 36, 40, 42, 48, 54, 56, 60, 66, 72, 78, 80, 84, 88, 90, 96, 100]\n"
     ]
    }
   ],
   "source": [
    "def find_divisors(n):\n",
    "    divisors = [1]\n",
    "    for i in range(2, int(n**0.5) + 1):\n",
    "        if n % i == 0:\n",
    "            divisors.append(i)\n",
    "            if n // i != i:\n",
    "                divisors.append(n // i)\n",
    "    return divisors\n",
    "\n",
    "def is_semi_perfect(n):\n",
    "    divisors = find_divisors(n)\n",
    "    subsets = [[]]\n",
    "\n",
    "    for d in divisors:\n",
    "        new_subsets = [subset + [d] for subset in subsets]\n",
    "        subsets += new_subsets\n",
    "\n",
    "    for subset in subsets:\n",
    "        if sum(subset) == n:\n",
    "            return True\n",
    "\n",
    "    return False\n",
    "\n",
    "lower_bound = 1 # Replace with the lower bound of the range to search for semi-perfect numbers\n",
    "upper_bound = 100 # Replace with the upper bound of the range to search for semi-perfect numbers\n",
    "semi_perfect_numbers = [num for num in range(lower_bound, upper_bound + 1) if is_semi_perfect(num)]\n",
    "print(\"Semi-perfect numbers in the given range:\")\n",
    "print(semi_perfect_numbers)\n"
   ]
  },
  {
   "cell_type": "markdown",
   "id": "625e7a7b",
   "metadata": {},
   "source": [
    "### 267. Calculate the Perimeter of a Reuleaux Octagon Star with Rounded Corners and Right Alignment"
   ]
  },
  {
   "cell_type": "code",
   "execution_count": 4,
   "id": "3143a037",
   "metadata": {},
   "outputs": [
    {
     "name": "stdout",
     "output_type": "stream",
     "text": [
      "Perimeter of the Reuleaux octagon star with rounded corners and radius 5 is: 120.00\n"
     ]
    }
   ],
   "source": [
    "import math\n",
    "\n",
    "def calculate_perimeter_of_reuleaux_octagon_star(radius):\n",
    "    # The perimeter of a Reuleaux octagon star with rounded corners is equal to 24 times the radius\n",
    "    perimeter = 24 * radius\n",
    "    return perimeter\n",
    "\n",
    "radius = 5 # Replace with the desired radius of the Reuleaux octagon star with rounded corners\n",
    "perimeter = calculate_perimeter_of_reuleaux_octagon_star(radius)\n",
    "print(f\"Perimeter of the Reuleaux octagon star with rounded corners and radius {radius} is: {perimeter:.2f}\")\n"
   ]
  },
  {
   "cell_type": "markdown",
   "id": "aa884c06",
   "metadata": {},
   "source": [
    "### 268. Print the Pattern of a Hollow Diamond Star with Right Alignment"
   ]
  },
  {
   "cell_type": "code",
   "execution_count": 3,
   "id": "0d28158a",
   "metadata": {},
   "outputs": [
    {
     "name": "stdout",
     "output_type": "stream",
     "text": [
      "Hollow Diamond Star Pattern:\n",
      "    *\n",
      "   * *\n",
      "  *   *\n",
      " *     *\n",
      "*       *\n",
      " *     *\n",
      "  *   *\n",
      "   * *\n",
      "    *\n"
     ]
    }
   ],
   "source": [
    "def print_hollow_diamond_star(rows):\n",
    "    for i in range(1, rows):\n",
    "        for j in range(rows - i):\n",
    "            print(\" \", end=\"\")\n",
    "        for j in range(1, 2 * i):\n",
    "            if j == 1 or j == 2 * i - 1:\n",
    "                print(\"*\", end=\"\")\n",
    "            else:\n",
    "                print(\" \", end=\"\")\n",
    "        print()\n",
    "\n",
    "    for i in range(rows, 0, -1):\n",
    "        for j in range(rows - i):\n",
    "            print(\" \", end=\"\")\n",
    "        for j in range(1, 2 * i):\n",
    "            if j == 1 or j == 2 * i - 1:\n",
    "                print(\"*\", end=\"\")\n",
    "            else:\n",
    "                print(\" \", end=\"\")\n",
    "        print()\n",
    "\n",
    "rows = 5 # Replace with the desired number of rows for the hollow diamond star\n",
    "print(\"Hollow Diamond Star Pattern:\")\n",
    "print_hollow_diamond_star(rows)\n"
   ]
  },
  {
   "cell_type": "markdown",
   "id": "44b3e765",
   "metadata": {},
   "source": [
    "### 269. Generate a Random Sudoku Solution for Any Given Incomplete Puzzle"
   ]
  },
  {
   "cell_type": "code",
   "execution_count": 2,
   "id": "be241b7e",
   "metadata": {},
   "outputs": [
    {
     "ename": "IndentationError",
     "evalue": "expected an indented block after function definition on line 1 (3427055261.py, line 6)",
     "output_type": "error",
     "traceback": [
      "\u001b[0;36m  Cell \u001b[0;32mIn[2], line 6\u001b[0;36m\u001b[0m\n\u001b[0;31m    puzzle = [\u001b[0m\n\u001b[0m    ^\u001b[0m\n\u001b[0;31mIndentationError\u001b[0m\u001b[0;31m:\u001b[0m expected an indented block after function definition on line 1\n"
     ]
    }
   ],
   "source": [
    "def generate_sudoku_solution(puzzle):\n",
    "    # Your code to generate a random Sudoku solution for the given incomplete puzzle goes here\n",
    "    # You can use any Sudoku solving algorithm to fill the missing cells in the puzzle\n",
    "\n",
    "# Example usage:\n",
    "puzzle = [\n",
    "    [5, 3, 0, 0, 7, 0, 0, 0, 0],\n",
    "    [6, 0, 0, 1, 9, 5, 0, 0, 0],\n",
    "    [0, 9, 8, 0, 0, 0, 0, 6, 0],\n",
    "    [8, 0, 0, 0, 6, 0, 0, 0, 3],\n",
    "    [4, 0, 0, 8, 0, 3, 0, 0, 1],\n",
    "    [7, 0, 0, 0, 2, 0, 0, 0, 6],\n",
    "    [0, 6, 0, 0, 0, 0, 2, 8, 0],\n",
    "    [0, 0, 0, 4, 1, 9, 0, 0, 5],\n",
    "    [0, 0, 0, 0, 8, 0, 0, 7, 9]\n",
    "]\n",
    "solution = generate_sudoku_solution(puzzle)\n",
    "print(\"Generated Sudoku Solution:\")\n",
    "for row in solution:\n",
    "    print(row)\n"
   ]
  },
  {
   "cell_type": "markdown",
   "id": "648c79cb",
   "metadata": {},
   "source": [
    "### 270. Convert Decimal to Gray Code Using Bit Manipulation"
   ]
  },
  {
   "cell_type": "code",
   "execution_count": 1,
   "id": "2abee865",
   "metadata": {},
   "outputs": [
    {
     "name": "stdout",
     "output_type": "stream",
     "text": [
      "Gray code representation of 15 is: 8\n"
     ]
    }
   ],
   "source": [
    "def decimal_to_gray_code(n):\n",
    "    return n ^ (n >> 1)\n",
    "\n",
    "decimal_number = 15 # Replace with any decimal number you want to convert to Gray code\n",
    "gray_code = decimal_to_gray_code(decimal_number)\n",
    "print(f\"Gray code representation of {decimal_number} is: {gray_code}\")\n"
   ]
  },
  {
   "cell_type": "code",
   "execution_count": null,
   "id": "994d3ff0",
   "metadata": {},
   "outputs": [],
   "source": []
  }
 ],
 "metadata": {
  "kernelspec": {
   "display_name": "Python 3 (ipykernel)",
   "language": "python",
   "name": "python3"
  },
  "language_info": {
   "codemirror_mode": {
    "name": "ipython",
    "version": 3
   },
   "file_extension": ".py",
   "mimetype": "text/x-python",
   "name": "python",
   "nbconvert_exporter": "python",
   "pygments_lexer": "ipython3",
   "version": "3.11.4"
  }
 },
 "nbformat": 4,
 "nbformat_minor": 5
}

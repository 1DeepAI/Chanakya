{
 "cells": [
  {
   "cell_type": "markdown",
   "id": "5e029543",
   "metadata": {},
   "source": [
    "# Python Practice 211-220"
   ]
  },
  {
   "cell_type": "markdown",
   "id": "720f0e26",
   "metadata": {},
   "source": [
    "## Here are the Python programs for each of the objectives along with the associated algorithm, mathematical calculations, and string manipulations:"
   ]
  },
  {
   "cell_type": "markdown",
   "id": "ff7da8bf",
   "metadata": {},
   "source": [
    "### 211. Calculate the Perimeter of a Reuleaux Pentagon Star"
   ]
  },
  {
   "cell_type": "code",
   "execution_count": 15,
   "id": "d1215456",
   "metadata": {},
   "outputs": [
    {
     "name": "stdout",
     "output_type": "stream",
     "text": [
      "The perimeter of the Reuleaux Pentagon Star with radius 5 is 157.08.\n"
     ]
    }
   ],
   "source": [
    "def calculate_perimeter_of_reuleaux_pentagon_star(radius):\n",
    "    import math\n",
    "    perimeter = 10 * math.pi * radius\n",
    "    return perimeter\n",
    "\n",
    "radius = 5\n",
    "perimeter = calculate_perimeter_of_reuleaux_pentagon_star(radius)\n",
    "print(f\"The perimeter of the Reuleaux Pentagon Star with radius {radius} is {perimeter:.2f}.\")\n"
   ]
  },
  {
   "cell_type": "markdown",
   "id": "f440acc9",
   "metadata": {},
   "source": [
    "### 212. Print the Pattern of a Hollow Sierpinski Triangle with Right Alignment"
   ]
  },
  {
   "cell_type": "code",
   "execution_count": 16,
   "id": "a3d91322",
   "metadata": {},
   "outputs": [
    {
     "name": "stdout",
     "output_type": "stream",
     "text": [
      "Hollow Sierpinski Triangle:\n",
      "****************\n",
      "    ********\n",
      "      ****\n",
      "       **\n",
      "       *\n"
     ]
    }
   ],
   "source": [
    "def print_hollow_sierpinski_triangle(rows):\n",
    "    def sierpinski_row(row_width, base_width):\n",
    "        left_padding = (base_width - row_width) // 2\n",
    "        return \" \" * left_padding + \"*\" * row_width\n",
    "\n",
    "    base_width = 2 ** (rows - 1)\n",
    "    for i in range(rows):\n",
    "        row_width = base_width // (2 ** i)\n",
    "        print(sierpinski_row(row_width, base_width))\n",
    "\n",
    "rows = 5\n",
    "print(\"Hollow Sierpinski Triangle:\")\n",
    "print_hollow_sierpinski_triangle(rows)\n"
   ]
  },
  {
   "cell_type": "markdown",
   "id": "3488aa95",
   "metadata": {},
   "source": [
    "### 213. Generate a Random Huffman Coding Tree from Text Data"
   ]
  },
  {
   "cell_type": "code",
   "execution_count": 17,
   "id": "aa50b922",
   "metadata": {},
   "outputs": [
    {
     "name": "stdout",
     "output_type": "stream",
     "text": [
      "Huffman Codes:\n",
      "n: 000\n",
      "s: 0010\n",
      "m: 0011\n",
      "h: 0100\n",
      "t: 01010\n",
      "d: 01011\n",
      "r: 01100\n",
      "l: 01101\n",
      "x: 01110\n",
      "c: 01111\n",
      "p: 10000\n",
      "g: 10001\n",
      "i: 1001\n",
      " : 101\n",
      "u: 11000\n",
      "o: 11001\n",
      "f: 1101\n",
      "e: 1110\n",
      "a: 1111\n"
     ]
    }
   ],
   "source": [
    "from collections import Counter\n",
    "import heapq\n",
    "\n",
    "class Node:\n",
    "    def __init__(self, char, freq):\n",
    "        self.char = char\n",
    "        self.freq = freq\n",
    "        self.left = None\n",
    "        self.right = None\n",
    "\n",
    "    def __lt__(self, other):\n",
    "        return self.freq < other.freq\n",
    "\n",
    "def build_huffman_tree(data):\n",
    "    frequency = Counter(data)\n",
    "    heap = [Node(char, freq) for char, freq in frequency.items()]\n",
    "    heapq.heapify(heap)\n",
    "\n",
    "    while len(heap) > 1:\n",
    "        left_child = heapq.heappop(heap)\n",
    "        right_child = heapq.heappop(heap)\n",
    "        combined_freq = left_child.freq + right_child.freq\n",
    "        combined_node = Node(None, combined_freq)\n",
    "        combined_node.left = left_child\n",
    "        combined_node.right = right_child\n",
    "        heapq.heappush(heap, combined_node)\n",
    "\n",
    "    return heap[0]\n",
    "\n",
    "def generate_huffman_codes(root, code=\"\", huffman_codes={}):\n",
    "    if root is None:\n",
    "        return\n",
    "    if root.char:\n",
    "        huffman_codes[root.char] = code\n",
    "    generate_huffman_codes(root.left, code + \"0\", huffman_codes)\n",
    "    generate_huffman_codes(root.right, code + \"1\", huffman_codes)\n",
    "    return huffman_codes\n",
    "\n",
    "text_data = \"this is an example for huffman encoding\"\n",
    "huffman_tree = build_huffman_tree(text_data)\n",
    "huffman_codes = generate_huffman_codes(huffman_tree)\n",
    "print(\"Huffman Codes:\")\n",
    "for char, code in huffman_codes.items():\n",
    "    print(f\"{char}: {code}\")\n"
   ]
  },
  {
   "cell_type": "markdown",
   "id": "ef74c15a",
   "metadata": {},
   "source": [
    "### 214. Convert Roman Numeral to Decimal Using Iterative Approach"
   ]
  },
  {
   "cell_type": "code",
   "execution_count": 18,
   "id": "4a1a824b",
   "metadata": {},
   "outputs": [
    {
     "name": "stdout",
     "output_type": "stream",
     "text": [
      "The decimal representation of CXLII is 142.\n"
     ]
    }
   ],
   "source": [
    "def roman_to_decimal(roman):\n",
    "    roman_numerals = {\n",
    "        'I': 1, 'V': 5, 'X': 10, 'L': 50, 'C': 100, 'D': 500, 'M': 1000\n",
    "    }\n",
    "    decimal = 0\n",
    "    prev_value = 0\n",
    "    for char in reversed(roman):\n",
    "        value = roman_numerals[char]\n",
    "        if value < prev_value:\n",
    "            decimal -= value\n",
    "        else:\n",
    "            decimal += value\n",
    "        prev_value = value\n",
    "    return decimal\n",
    "\n",
    "roman_numeral = \"CXLII\"\n",
    "decimal_num = roman_to_decimal(roman_numeral)\n",
    "print(f\"The decimal representation of {roman_numeral} is {decimal_num}.\")\n"
   ]
  },
  {
   "cell_type": "markdown",
   "id": "4bafa8f2",
   "metadata": {},
   "source": [
    "### 215. Check if a String is a Repeated Substring Pattern"
   ]
  },
  {
   "cell_type": "code",
   "execution_count": 19,
   "id": "7c97fce3",
   "metadata": {},
   "outputs": [
    {
     "name": "stdout",
     "output_type": "stream",
     "text": [
      "The string 'abcabcabcabc' is a repeated substring pattern.\n"
     ]
    }
   ],
   "source": [
    "def is_repeated_substring_pattern(s):\n",
    "    for i in range(1, len(s)):\n",
    "        substring = s[:i]\n",
    "        repetitions = len(s) // i\n",
    "        if substring * repetitions == s:\n",
    "            return True\n",
    "    return False\n",
    "\n",
    "text = \"abcabcabcabc\"\n",
    "if is_repeated_substring_pattern(text):\n",
    "    print(f\"The string '{text}' is a repeated substring pattern.\")\n",
    "else:\n",
    "    print(f\"The string '{text}' is not a repeated substring pattern.\")\n"
   ]
  },
  {
   "cell_type": "markdown",
   "id": "d3633ff4",
   "metadata": {},
   "source": [
    "### 216. Calculate the Volume of a Regular Pyramid"
   ]
  },
  {
   "cell_type": "code",
   "execution_count": 6,
   "id": "24285160",
   "metadata": {},
   "outputs": [
    {
     "name": "stdout",
     "output_type": "stream",
     "text": [
      "The volume of the regular pyramid with base area 25 and height 10 is 83.33.\n"
     ]
    }
   ],
   "source": [
    "def volume_of_regular_pyramid(base_area, height):\n",
    "    volume = (1 / 3) * base_area * height\n",
    "    return volume\n",
    "\n",
    "base_area = 25\n",
    "height = 10\n",
    "volume = volume_of_regular_pyramid(base_area, height)\n",
    "print(f\"The volume of the regular pyramid with base area {base_area} and height {height} is {volume:.2f}.\")\n"
   ]
  },
  {
   "cell_type": "markdown",
   "id": "4a9f0adc",
   "metadata": {},
   "source": [
    "### 217. Implement B-tree Data Structure"
   ]
  },
  {
   "cell_type": "code",
   "execution_count": 34,
   "id": "5daf7c34",
   "metadata": {},
   "outputs": [
    {
     "name": "stdout",
     "output_type": "stream",
     "text": [
      "B-tree traversal:\n",
      "[1, 3, 5, 7, 9]\n"
     ]
    },
    {
     "ename": "IndexError",
     "evalue": "list index out of range",
     "output_type": "error",
     "traceback": [
      "\u001b[0;31m---------------------------------------------------------------------------\u001b[0m",
      "\u001b[0;31mIndexError\u001b[0m                                Traceback (most recent call last)",
      "Cell \u001b[0;32mIn[34], line 76\u001b[0m\n\u001b[1;32m     74\u001b[0m \u001b[38;5;28mprint\u001b[39m(\u001b[38;5;124m\"\u001b[39m\u001b[38;5;124mB-tree traversal:\u001b[39m\u001b[38;5;124m\"\u001b[39m)\n\u001b[1;32m     75\u001b[0m \u001b[38;5;28mprint\u001b[39m(btree\u001b[38;5;241m.\u001b[39mroot\u001b[38;5;241m.\u001b[39mkeys)\n\u001b[0;32m---> 76\u001b[0m \u001b[38;5;28mprint\u001b[39m(btree\u001b[38;5;241m.\u001b[39mroot\u001b[38;5;241m.\u001b[39mchildren[\u001b[38;5;241m0\u001b[39m]\u001b[38;5;241m.\u001b[39mkeys)\n\u001b[1;32m     77\u001b[0m \u001b[38;5;28mprint\u001b[39m(btree\u001b[38;5;241m.\u001b[39mroot\u001b[38;5;241m.\u001b[39mchildren[\u001b[38;5;241m1\u001b[39m]\u001b[38;5;241m.\u001b[39mkeys)\n\u001b[1;32m     78\u001b[0m \u001b[38;5;28mprint\u001b[39m(btree\u001b[38;5;241m.\u001b[39mroot\u001b[38;5;241m.\u001b[39mchildren[\u001b[38;5;241m2\u001b[39m]\u001b[38;5;241m.\u001b[39mkeys)\n",
      "\u001b[0;31mIndexError\u001b[0m: list index out of range"
     ]
    }
   ],
   "source": [
    "class BTreeNode:\n",
    "    def __init__(self, leaf=True):\n",
    "        self.leaf = leaf\n",
    "        self.keys = []\n",
    "        self.children = []\n",
    "\n",
    "class BTree:\n",
    "    def __init__(self, degree):\n",
    "        self.root = BTreeNode(leaf=True)\n",
    "        self.degree = degree\n",
    "\n",
    "    def search(self, key):\n",
    "        return self._search(self.root, key)\n",
    "\n",
    "    def _search(self, node, key):\n",
    "        i = 0\n",
    "        while i < len(node.keys) and key > node.keys[i]:\n",
    "            i += 1\n",
    "\n",
    "        if i < len(node.keys) and key == node.keys[i]:\n",
    "            return node\n",
    "\n",
    "        if node.leaf:\n",
    "            return None\n",
    "\n",
    "        return self._search(node.children[i], key)\n",
    "\n",
    "    def insert(self, key):\n",
    "        root = self.root\n",
    "\n",
    "        if len(root.keys) == (2 * self.degree) - 1:\n",
    "            new_root = BTreeNode(leaf=False)\n",
    "            self.root = new_root\n",
    "            new_root.children.append(root)\n",
    "            self._split_child(new_root, 0)\n",
    "\n",
    "        self._insert_non_full(self.root, key)\n",
    "\n",
    "    def _insert_non_full(self, node, key):\n",
    "        i = len(node.keys) - 1\n",
    "\n",
    "        if node.leaf:\n",
    "            node.keys.append(None)\n",
    "            while i >= 0 and key < node.keys[i]:\n",
    "                node.keys[i + 1] = node.keys[i]\n",
    "                i -= 1\n",
    "            node.keys[i + 1] = key\n",
    "        else:\n",
    "            while i >= 0 and key < node.keys[i]:\n",
    "                i -= 1\n",
    "            i += 1\n",
    "            if len(node.children[i].keys) == (2 * self.degree) - 1:\n",
    "                self._split_child(node, i)\n",
    "                if key > node.keys[i]:\n",
    "                    i += 1\n",
    "            self._insert_non_full(node.children[i], key)\n",
    "\n",
    "    def _split_child(self, parent, index):\n",
    "        degree = self.degree\n",
    "        new_node = BTreeNode(leaf=False)\n",
    "        child = parent.children[index]\n",
    "        parent.keys.insert(index, child.keys[degree - 1])\n",
    "        parent.children.insert(index + 1, new_node)\n",
    "        new_node.keys = child.keys[degree:]\n",
    "        child.keys = child.keys[:degree - 1]\n",
    "        if not child.leaf:\n",
    "            new_node.children = child.children[degree:]\n",
    "            child.children = child.children[:degree]\n",
    "\n",
    "# Example usage of the B-tree data structure\n",
    "btree = BTree(3)\n",
    "for key in [1, 3, 5, 7, 9]:\n",
    "    btree.insert(key)\n",
    "print(\"B-tree traversal:\")\n",
    "print(btree.root.keys)\n",
    "print(btree.root.children[0].keys)\n",
    "print(btree.root.children[1].keys)\n",
    "print(btree.root.children[2].keys)\n",
    "print(btree.root.children[3].keys)\n"
   ]
  },
  {
   "cell_type": "markdown",
   "id": "e09cecef",
   "metadata": {},
   "source": [
    "### 218. Find the Abundant Pairs in a Range"
   ]
  },
  {
   "cell_type": "code",
   "execution_count": 32,
   "id": "f19a5beb",
   "metadata": {},
   "outputs": [
    {
     "name": "stdout",
     "output_type": "stream",
     "text": [
      "Abundant pairs in the range [1, 100]:\n",
      "12: [1, 2, 3, 4, 6]\n",
      "18: [1, 2, 3, 6, 9]\n",
      "20: [1, 2, 4, 5, 10]\n",
      "24: [1, 2, 3, 4, 6, 8, 12]\n",
      "30: [1, 2, 3, 5, 6, 10, 15]\n",
      "36: [1, 2, 3, 4, 6, 9, 12, 18]\n",
      "40: [1, 2, 4, 5, 8, 10, 20]\n",
      "42: [1, 2, 3, 6, 7, 14, 21]\n",
      "48: [1, 2, 3, 4, 6, 8, 12, 16, 24]\n",
      "54: [1, 2, 3, 6, 9, 18, 27]\n",
      "56: [1, 2, 4, 7, 8, 14, 28]\n",
      "60: [1, 2, 3, 4, 5, 6, 10, 12, 15, 20, 30]\n",
      "66: [1, 2, 3, 6, 11, 22, 33]\n",
      "70: [1, 2, 5, 7, 10, 14, 35]\n",
      "72: [1, 2, 3, 4, 6, 8, 9, 12, 18, 24, 36]\n",
      "78: [1, 2, 3, 6, 13, 26, 39]\n",
      "80: [1, 2, 4, 5, 8, 10, 16, 20, 40]\n",
      "84: [1, 2, 3, 4, 6, 7, 12, 14, 21, 28, 42]\n",
      "88: [1, 2, 4, 8, 11, 22, 44]\n",
      "90: [1, 2, 3, 5, 6, 9, 10, 15, 18, 30, 45]\n",
      "96: [1, 2, 3, 4, 6, 8, 12, 16, 24, 32, 48]\n",
      "100: [1, 2, 4, 5, 10, 20, 25, 50]\n"
     ]
    }
   ],
   "source": [
    "def find_abundant_pairs_in_range(start, end):\n",
    "    def get_divisors(num):\n",
    "        divisors = []\n",
    "        for i in range(1, num // 2 + 1):\n",
    "            if num % i == 0:\n",
    "                divisors.append(i)\n",
    "        return divisors\n",
    "\n",
    "    abundant_pairs = []\n",
    "    for num in range(start, end + 1):\n",
    "        divisors = get_divisors(num)\n",
    "        if sum(divisors) > num:\n",
    "            abundant_pairs.append((num, divisors))\n",
    "\n",
    "    return abundant_pairs\n",
    "\n",
    "start_range = 1\n",
    "end_range = 100\n",
    "abundant_pairs = find_abundant_pairs_in_range(start_range, end_range)\n",
    "print(f\"Abundant pairs in the range [{start_range}, {end_range}]:\")\n",
    "for num, divisors in abundant_pairs:\n",
    "    print(f\"{num}: {divisors}\")\n",
    "\n"
   ]
  },
  {
   "cell_type": "markdown",
   "id": "daed762a",
   "metadata": {},
   "source": [
    "### 219. Calculate the Perimeter of a Reuleaux Hexagon Star"
   ]
  },
  {
   "cell_type": "code",
   "execution_count": 30,
   "id": "9728fdc2",
   "metadata": {},
   "outputs": [
    {
     "name": "stdout",
     "output_type": "stream",
     "text": [
      "The perimeter of the Reuleaux Hexagon Star with side length 5 is 30.00.\n"
     ]
    }
   ],
   "source": [
    "def calculate_perimeter_of_reuleaux_hexagon_star(side_length):\n",
    "    perimeter = 6 * side_length\n",
    "    return perimeter\n",
    "\n",
    "side_length = 5\n",
    "perimeter = calculate_perimeter_of_reuleaux_hexagon_star(side_length)\n",
    "print(f\"The perimeter of the Reuleaux Hexagon Star with side length {side_length} is {perimeter:.2f}.\")\n"
   ]
  },
  {
   "cell_type": "markdown",
   "id": "c3439c5e",
   "metadata": {},
   "source": [
    "### 220. Print the Pattern of a Hollow Rhombic Pyramid"
   ]
  },
  {
   "cell_type": "code",
   "execution_count": 31,
   "id": "cc8adf32",
   "metadata": {},
   "outputs": [
    {
     "name": "stdout",
     "output_type": "stream",
     "text": [
      "Hollow Rhombic Pyramid:\n",
      "    *\n",
      "   ***\n",
      "  *****\n",
      " *******\n",
      "*********\n",
      " *******\n",
      "  *****\n",
      "   ***\n",
      "    *\n"
     ]
    }
   ],
   "source": [
    "def print_hollow_rhombic_pyramid(rows):\n",
    "    for i in range(1, rows + 1):\n",
    "        print(\" \" * (rows - i) + \"*\" * (2 * i - 1))\n",
    "    for i in range(rows - 1, 0, -1):\n",
    "        print(\" \" * (rows - i) + \"*\" * (2 * i - 1))\n",
    "\n",
    "rows = 5\n",
    "print(\"Hollow Rhombic Pyramid:\")\n",
    "print_hollow_rhombic_pyramid(rows)\n"
   ]
  }
 ],
 "metadata": {
  "kernelspec": {
   "display_name": "Python 3 (ipykernel)",
   "language": "python",
   "name": "python3"
  },
  "language_info": {
   "codemirror_mode": {
    "name": "ipython",
    "version": 3
   },
   "file_extension": ".py",
   "mimetype": "text/x-python",
   "name": "python",
   "nbconvert_exporter": "python",
   "pygments_lexer": "ipython3",
   "version": "3.11.4"
  }
 },
 "nbformat": 4,
 "nbformat_minor": 5
}

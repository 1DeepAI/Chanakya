{
 "cells": [
  {
   "cell_type": "markdown",
   "id": "6b808383",
   "metadata": {},
   "source": [
    "# Python Practice 91-100"
   ]
  },
  {
   "cell_type": "markdown",
   "id": "9fa03e60",
   "metadata": {},
   "source": [
    "## Here are the Python programs for each of the objectives along with the associated algorithm, mathematical calculations, and string manipulations:"
   ]
  },
  {
   "cell_type": "markdown",
   "id": "070aaaf1",
   "metadata": {},
   "source": [
    "### 91. Calculate the Perimeter of a Trapezoid:"
   ]
  },
  {
   "cell_type": "code",
   "execution_count": 10,
   "id": "22a0adde",
   "metadata": {},
   "outputs": [
    {
     "name": "stdout",
     "output_type": "stream",
     "text": [
      "The perimeter of the trapezoid is 22.\n"
     ]
    }
   ],
   "source": [
    "def perimeter_of_trapezoid(base1, base2, side1, side2):\n",
    "    return base1 + base2 + side1 + side2\n",
    "\n",
    "base1, base2, side1, side2 = 5, 7, 4, 6\n",
    "perimeter = perimeter_of_trapezoid(base1, base2, side1, side2)\n",
    "print(f\"The perimeter of the trapezoid is {perimeter}.\")\n"
   ]
  },
  {
   "cell_type": "markdown",
   "id": "d822d546",
   "metadata": {},
   "source": [
    "### 92. Print the Pattern of a Number Pyramid:"
   ]
  },
  {
   "cell_type": "code",
   "execution_count": 9,
   "id": "5d850779",
   "metadata": {},
   "outputs": [
    {
     "name": "stdout",
     "output_type": "stream",
     "text": [
      "1 \n",
      "1 2 \n",
      "1 2 3 \n",
      "1 2 3 4 \n",
      "1 2 3 4 5 \n"
     ]
    }
   ],
   "source": [
    "def print_number_pyramid(n):\n",
    "    for i in range(1, n+1):\n",
    "        for j in range(1, i+1):\n",
    "            print(j, end=\" \")\n",
    "        print()\n",
    "\n",
    "rows = 5\n",
    "print_number_pyramid(rows)\n"
   ]
  },
  {
   "cell_type": "markdown",
   "id": "108ff105",
   "metadata": {},
   "source": [
    "### 93. Generate a Random String with a Mix of Alphanumeric Characters:"
   ]
  },
  {
   "cell_type": "code",
   "execution_count": 8,
   "id": "9e9b8cb4",
   "metadata": {},
   "outputs": [
    {
     "name": "stdout",
     "output_type": "stream",
     "text": [
      "Generated Random Alphanumeric String: 3f5Awx9aak\n"
     ]
    }
   ],
   "source": [
    "import random\n",
    "import string\n",
    "\n",
    "def generate_random_alphanumeric_string(length):\n",
    "    characters = string.ascii_letters + string.digits\n",
    "    random_string = ''.join(random.choice(characters) for _ in range(length))\n",
    "    return random_string\n",
    "\n",
    "string_length = 10\n",
    "random_string = generate_random_alphanumeric_string(string_length)\n",
    "print(f\"Generated Random Alphanumeric String: {random_string}\")\n"
   ]
  },
  {
   "cell_type": "markdown",
   "id": "279440dc",
   "metadata": {},
   "source": [
    "### 94. Convert Hexadecimal to Binary:"
   ]
  },
  {
   "cell_type": "code",
   "execution_count": 7,
   "id": "602de4a8",
   "metadata": {},
   "outputs": [
    {
     "name": "stdout",
     "output_type": "stream",
     "text": [
      "The binary representation of 2A is 101010.\n"
     ]
    }
   ],
   "source": [
    "def hexadecimal_to_binary(hexadecimal_num):\n",
    "    decimal_num = int(hexadecimal_num, 16)\n",
    "    return bin(decimal_num).replace(\"0b\", \"\")\n",
    "\n",
    "hexadecimal_num = \"2A\"\n",
    "binary_num = hexadecimal_to_binary(hexadecimal_num)\n",
    "print(f\"The binary representation of {hexadecimal_num} is {binary_num}.\")\n"
   ]
  },
  {
   "cell_type": "markdown",
   "id": "0c42df49",
   "metadata": {},
   "source": [
    "### 95.  Check if a Number is a Happy Number:"
   ]
  },
  {
   "cell_type": "code",
   "execution_count": 6,
   "id": "dd7eb4be",
   "metadata": {},
   "outputs": [
    {
     "name": "stdout",
     "output_type": "stream",
     "text": [
      "19 is a happy number.\n"
     ]
    }
   ],
   "source": [
    "def is_happy_number(num):\n",
    "    def square_sum(n):\n",
    "        return sum(int(digit)**2 for digit in str(n))\n",
    "    \n",
    "    seen = set()\n",
    "    while num != 1 and num not in seen:\n",
    "        seen.add(num)\n",
    "        num = square_sum(num)\n",
    "    \n",
    "    return num == 1\n",
    "\n",
    "number = 19\n",
    "if is_happy_number(number):\n",
    "    print(f\"{number} is a happy number.\")\n",
    "else:\n",
    "    print(f\"{number} is not a happy number.\")\n"
   ]
  },
  {
   "cell_type": "markdown",
   "id": "b010e407",
   "metadata": {},
   "source": [
    "### 96. Calculate the Area of a Cylinder: "
   ]
  },
  {
   "cell_type": "code",
   "execution_count": 5,
   "id": "df5c600b",
   "metadata": {},
   "outputs": [
    {
     "name": "stdout",
     "output_type": "stream",
     "text": [
      "The lateral surface area of the cylinder with radius 4 and height 10 is 351.86.\n"
     ]
    }
   ],
   "source": [
    "import math\n",
    "\n",
    "def area_of_cylinder(radius, height):\n",
    "    return 2 * math.pi * radius * (radius + height)\n",
    "\n",
    "radius, height = 4, 10\n",
    "area = area_of_cylinder(radius, height)\n",
    "print(f\"The lateral surface area of the cylinder with radius {radius} and height {height} is {area:.2f}.\")\n"
   ]
  },
  {
   "cell_type": "markdown",
   "id": "30e5c174",
   "metadata": {},
   "source": [
    "### 97. Implement Circular Linked List Data Structure:"
   ]
  },
  {
   "cell_type": "code",
   "execution_count": 4,
   "id": "53dee4a3",
   "metadata": {},
   "outputs": [
    {
     "name": "stdout",
     "output_type": "stream",
     "text": [
      "1 -> 2 -> 3 -> Head\n"
     ]
    }
   ],
   "source": [
    "class Node:\n",
    "    def __init__(self, data):\n",
    "        self.data = data\n",
    "        self.next = None\n",
    "\n",
    "class CircularLinkedList:\n",
    "    def __init__(self):\n",
    "        self.head = None\n",
    "\n",
    "    def append(self, data):\n",
    "        new_node = Node(data)\n",
    "        if not self.head:\n",
    "            self.head = new_node\n",
    "            self.head.next = self.head\n",
    "        else:\n",
    "            current_node = self.head\n",
    "            while current_node.next != self.head:\n",
    "                current_node = current_node.next\n",
    "            current_node.next = new_node\n",
    "            new_node.next = self.head\n",
    "\n",
    "    def display(self):\n",
    "        current_node = self.head\n",
    "        while True:\n",
    "            print(current_node.data, end=\" -> \")\n",
    "            current_node = current_node.next\n",
    "            if current_node == self.head:\n",
    "                break\n",
    "        print(\"Head\")\n",
    "\n",
    "# Example usage of the Circular Linked List data structure\n",
    "circular_linked_list = CircularLinkedList()\n",
    "circular_linked_list.append(1)\n",
    "circular_linked_list.append(2)\n",
    "circular_linked_list.append(3)\n",
    "circular_linked_list.display()\n"
   ]
  },
  {
   "cell_type": "markdown",
   "id": "66f89b32",
   "metadata": {},
   "source": [
    "### 98. Find the Automorphic Numbers in a Range:"
   ]
  },
  {
   "cell_type": "code",
   "execution_count": 3,
   "id": "1c9538f4",
   "metadata": {},
   "outputs": [
    {
     "name": "stdout",
     "output_type": "stream",
     "text": [
      "Automorphic numbers in the range 1 to 1000: [1, 5, 6, 25, 76, 376, 625]\n"
     ]
    }
   ],
   "source": [
    "def is_automorphic_number(num):\n",
    "    square = num ** 2\n",
    "    return str(num) == str(square)[-len(str(num)):]\n",
    "\n",
    "def find_automorphic_numbers(start, end):\n",
    "    automorphic_numbers = []\n",
    "    for num in range(start, end + 1):\n",
    "        if is_automorphic_number(num):\n",
    "            automorphic_numbers.append(num)\n",
    "    return automorphic_numbers\n",
    "\n",
    "start_range, end_range = 1, 1000\n",
    "automorphic_numbers_list = find_automorphic_numbers(start_range, end_range)\n",
    "print(f\"Automorphic numbers in the range {start_range} to {end_range}: {automorphic_numbers_list}\")\n"
   ]
  },
  {
   "cell_type": "markdown",
   "id": "86d8d5f9",
   "metadata": {},
   "source": [
    "### 99. Calculate the Perimeter of a Regular Polygon:"
   ]
  },
  {
   "cell_type": "code",
   "execution_count": 2,
   "id": "0db2a66e",
   "metadata": {},
   "outputs": [],
   "source": [
    "def perimeter_of_regular_polygon(side_length, num_sides):\n",
    "    return side_length * num_sides\n",
    "\n",
    "side_length, num_sides = 6, 5\n",
    "perimeter = perimeter_of_regular_polygon(side_length, num_sides)\n"
   ]
  },
  {
   "cell_type": "markdown",
   "id": "8e6bc0a7",
   "metadata": {},
   "source": [
    "### 100. Print the Pattern of a Hollow Number Pyramid:"
   ]
  },
  {
   "cell_type": "code",
   "execution_count": 1,
   "id": "41bc2154",
   "metadata": {},
   "outputs": [
    {
     "name": "stdout",
     "output_type": "stream",
     "text": [
      "    1 \n",
      "   1 2 \n",
      "  1   3 \n",
      " 1     4 \n",
      "1       5 \n"
     ]
    }
   ],
   "source": [
    "def print_hollow_number_pyramid(n):\n",
    "    for i in range(1, n+1):\n",
    "        print(\" \" * (n-i), end=\"\")\n",
    "        for j in range(1, i+1):\n",
    "            if j == 1 or j == i:\n",
    "                print(j, end=\" \")\n",
    "            else:\n",
    "                print(\" \", end=\" \")\n",
    "        print()\n",
    "\n",
    "rows = 5\n",
    "print_hollow_number_pyramid(rows)\n"
   ]
  },
  {
   "cell_type": "code",
   "execution_count": null,
   "id": "6fd19231",
   "metadata": {},
   "outputs": [],
   "source": []
  }
 ],
 "metadata": {
  "kernelspec": {
   "display_name": "Python 3 (ipykernel)",
   "language": "python",
   "name": "python3"
  },
  "language_info": {
   "codemirror_mode": {
    "name": "ipython",
    "version": 3
   },
   "file_extension": ".py",
   "mimetype": "text/x-python",
   "name": "python",
   "nbconvert_exporter": "python",
   "pygments_lexer": "ipython3",
   "version": "3.11.4"
  }
 },
 "nbformat": 4,
 "nbformat_minor": 5
}

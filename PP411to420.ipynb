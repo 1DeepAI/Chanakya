{
 "cells": [
  {
   "cell_type": "markdown",
   "id": "f9c6e721",
   "metadata": {},
   "source": [
    "# Python Practice 411-420"
   ]
  },
  {
   "cell_type": "markdown",
   "id": "da44cb50",
   "metadata": {},
   "source": [
    "## Here are Python Codes"
   ]
  },
  {
   "cell_type": "markdown",
   "id": "5661cf5d",
   "metadata": {},
   "source": [
    "### 411. Calculate the Perimeter of a Reuleaux Pentagon Star with Rounded Corners, Right Alignment, Custom Size, Custom Side Lengths, Variable Base, Custom Position, and Custom Border\n"
   ]
  },
  {
   "cell_type": "code",
   "execution_count": 1,
   "id": "4148d564",
   "metadata": {},
   "outputs": [
    {
     "name": "stdout",
     "output_type": "stream",
     "text": [
      "The perimeter of the Reuleaux pentagon with side length 10 is: 52.36\n"
     ]
    }
   ],
   "source": [
    "import math\n",
    "\n",
    "def reuleaux_pentagon_perimeter(side_length):\n",
    "    arc_length = (1/3) * math.pi * side_length\n",
    "    perimeter = 5 * arc_length\n",
    "    return perimeter\n",
    "\n",
    "# Example usage\n",
    "side_length = 10  # You can change this value for custom side length\n",
    "perimeter = reuleaux_pentagon_perimeter(side_length)\n",
    "print(f\"The perimeter of the Reuleaux pentagon with side length {side_length} is: {perimeter:.2f}\")\n"
   ]
  },
  {
   "cell_type": "markdown",
   "id": "088ea299",
   "metadata": {},
   "source": [
    "### 412. Print the Pattern of a Hollow Rhombus Star with Right Alignment, Custom Size, Custom Rhombus Width, Variable Base Length, and Custom Position\n",
    "we'll need to understand the requirements better:\n",
    "\n",
    "1. Right Alignment: The rhombus should be aligned to the right side of the console.\n",
    "2. Custom Size: This could refer to the number of rows in the rhombus.\n",
    "3. Custom Rhombus Width: This refers to the horizontal width (or diagonal length) of the rhombus.\n",
    "4. Variable Base Length: This might refer to a modification in the base width. For simplicity, I will assume the base remains constant with the custom rhombus width.\n",
    "5. Custom Position: This could mean the starting point in terms of rows and columns where the rhombus should be printed."
   ]
  },
  {
   "cell_type": "code",
   "execution_count": 2,
   "id": "dd25b091",
   "metadata": {},
   "outputs": [
    {
     "name": "stdout",
     "output_type": "stream",
     "text": [
      "            *****\n",
      "           *   *\n",
      "          *   *\n",
      "         *   *\n",
      "        *****\n",
      "    *****\n",
      "     *   *\n",
      "      *   *\n",
      "       *   *\n",
      "        *****\n"
     ]
    }
   ],
   "source": [
    "def print_hollow_rhombus(rows, rhombus_width, start_row=0, start_col=0):\n",
    "    for i in range(1, rows + 1):\n",
    "        # For top half of the rhombus\n",
    "        if i <= rhombus_width:\n",
    "            # Print spaces for right alignment and position\n",
    "            print(' ' * (rows - i + start_col), end='')\n",
    "            \n",
    "            # Print stars\n",
    "            if i == 1 or i == rhombus_width:\n",
    "                print('*' * rhombus_width)\n",
    "            else:\n",
    "                print('*' + ' ' * (rhombus_width - 2) + '*')\n",
    "        # For bottom half of the rhombus\n",
    "        else:\n",
    "            # Print spaces for right alignment and position\n",
    "            print(' ' * (i - rhombus_width + start_col), end='')\n",
    "            \n",
    "            # Print stars\n",
    "            if i == rows or i == rows - rhombus_width + 1:\n",
    "                print('*' * rhombus_width)\n",
    "            else:\n",
    "                print('*' + ' ' * (rhombus_width - 2) + '*')\n",
    "\n",
    "# Example usage\n",
    "rows = 10  # Total rows (height of the rhombus)\n",
    "rhombus_width = 5  # Width of the rhombus\n",
    "start_row = 2  # Starting position (rows from the top)\n",
    "start_col = 3  # Starting position (columns from the left)\n",
    "\n",
    "print_hollow_rhombus(rows, rhombus_width, start_row, start_col)\n"
   ]
  },
  {
   "cell_type": "markdown",
   "id": "fe913528",
   "metadata": {},
   "source": [
    "### 413. Generate a Random Word Cloud from Web Data with Custom Word Frequency, Size, Color, Font, Position, Shape, and Background\n",
    "Creating a word cloud from web data involves a few steps:\n",
    "\n",
    "1. Fetching the web data.\n",
    "2. Processing the text to generate word frequencies.\n",
    "3. Creating a word cloud using the processed data and custom parameters."
   ]
  },
  {
   "cell_type": "code",
   "execution_count": 5,
   "id": "71c6bd53",
   "metadata": {},
   "outputs": [],
   "source": [
    "import requests\n",
    "from bs4 import BeautifulSoup\n",
    "from collections import Counter\n",
    "from wordcloud import WordCloud, ImageColorGenerator\n",
    "import matplotlib.pyplot as plt\n",
    "import numpy as np\n",
    "from PIL import Image\n",
    "\n",
    "# Step 1: Fetch web data\n",
    "url = 'https://www.example.com'  # Replace with your desired URL\n",
    "response = requests.get(url)\n",
    "soup = BeautifulSoup(response.text, 'html.parser')\n",
    "text = soup.get_text()\n",
    "\n",
    "# Step 2: Process the text\n",
    "word_list = [word.lower() for word in text.split() if word.isalpha()]\n",
    "word_freq = Counter(word_list)\n",
    "\n",
    "# Use custom frequencies (if you have them)\n",
    "custom_freq = {\n",
    "    'python': 100,\n",
    "    'programming': 80,\n",
    "    'web': 75\n",
    "}\n",
    "word_freq.update(custom_freq)\n",
    "\n",
    "# Step 3: Generate Word Cloud\n",
    "# Load mask for custom shape (optional)\n",
    "# Replace with your mask image path\n",
    "\n"
   ]
  },
  {
   "cell_type": "markdown",
   "id": "d0c94625",
   "metadata": {},
   "source": [
    "### 414. Convert Decimal to Excess-K Code Using Bit Manipulation, Custom K with Variable Size, Custom Encoding Scheme, and Variable Base with Custom Precision\n",
    "Let's break this down step by step.\n",
    "\n",
    "The Excess-K code (or bias representation) is a way to represent integers in which a value of k is added to the actual number to give the stored number.\n",
    "\n",
    "Here's how to convert a decimal to its Excess-K representation using bit manipulation:\n",
    "\n",
    "1. Add k to the number.\n",
    "2. Convert the result to binary.\n",
    "For custom encoding and variable base, I'll demonstrate converting the Excess-K representation to a different base (like hexadecimal, octal, or a custom base) and back. For precision, we'll consider a fixed number of bits for the representation.\n",
    "\n"
   ]
  },
  {
   "cell_type": "code",
   "execution_count": 6,
   "id": "d11c4546",
   "metadata": {},
   "outputs": [
    {
     "name": "stdout",
     "output_type": "stream",
     "text": [
      "Decimal 5 in Excess-16 representation: 15\n"
     ]
    }
   ],
   "source": [
    "def decimal_to_binary(n, bits):\n",
    "    \"\"\"Convert a number to its binary representation with a fixed number of bits.\"\"\"\n",
    "    return format(n, '0' + str(bits) + 'b')\n",
    "\n",
    "def binary_to_custom_base(binary_str, base_chars):\n",
    "    \"\"\"Convert binary string to custom base.\"\"\"\n",
    "    base = len(base_chars)\n",
    "    decimal_val = int(binary_str, 2)\n",
    "    if decimal_val == 0:\n",
    "        return base_chars[0]\n",
    "    result = []\n",
    "    while decimal_val:\n",
    "        result.append(base_chars[decimal_val % base])\n",
    "        decimal_val //= base\n",
    "    return ''.join(reversed(result))\n",
    "\n",
    "def decimal_to_excess_k(decimal_num, k, bits, base_chars=\"01\"):\n",
    "    \"\"\"Convert a decimal number to its Excess-K representation.\"\"\"\n",
    "    decimal_num += k  # Add the bias\n",
    "    binary_str = decimal_to_binary(decimal_num, bits)\n",
    "    return binary_to_custom_base(binary_str, base_chars)\n",
    "\n",
    "# Test\n",
    "k = 16  # Custom bias\n",
    "bits = 8  # Custom precision\n",
    "decimal_num = 5\n",
    "base_chars = \"0123456789ABCDEF\"  # Hexadecimal base\n",
    "\n",
    "excess_k_representation = decimal_to_excess_k(decimal_num, k, bits, base_chars)\n",
    "print(f\"Decimal {decimal_num} in Excess-{k} representation: {excess_k_representation}\")\n"
   ]
  },
  {
   "cell_type": "markdown",
   "id": "a8b9bd06",
   "metadata": {},
   "source": [
    "### 415. Check if a Number is a Generalized Heptagonal Pentagonal Number\n",
    "first let's define what generalized heptagonal pentagonal numbers are, as the definition is not standard.\n",
    "Now, a generalized heptagonal pentagonal number would be a number that is both a pentagonal number and a heptagonal number."
   ]
  },
  {
   "cell_type": "code",
   "execution_count": 7,
   "id": "5c8c1bff",
   "metadata": {},
   "outputs": [
    {
     "name": "stdout",
     "output_type": "stream",
     "text": [
      "70 is a generalized heptagonal pentagonal number!\n"
     ]
    }
   ],
   "source": [
    "def is_pentagonal(x):\n",
    "    \"\"\"Check if a number is a pentagonal number.\"\"\"\n",
    "    test_val = (24 * x + 1) ** 0.5\n",
    "    return test_val == int(test_val) and int(test_val) % 6 == 5\n",
    "\n",
    "def is_heptagonal(x):\n",
    "    \"\"\"Check if a number is a heptagonal number.\"\"\"\n",
    "    test_val = (40 * x + 9) ** 0.5\n",
    "    return test_val == int(test_val) and (int(test_val) % 10 == 3 or int(test_val) % 10 == 7)\n",
    "\n",
    "def is_generalized_heptagonal_pentagonal(x):\n",
    "    \"\"\"Check if a number is both heptagonal and pentagonal.\"\"\"\n",
    "    return is_pentagonal(x) and is_heptagonal(x)\n",
    "\n",
    "# Test\n",
    "num = 70  # Just a sample number, you can replace with any integer\n",
    "if is_generalized_heptagonal_pentagonal(num):\n",
    "    print(f\"{num} is a generalized heptagonal pentagonal number!\")\n",
    "else:\n",
    "    print(f\"{num} is NOT a generalized heptagonal pentagonal number!\")\n"
   ]
  },
  {
   "cell_type": "markdown",
   "id": "c9c508d0",
   "metadata": {},
   "source": [
    "### 416. Calculate the Volume of a Frustum of a Regular Icosahedron with Custom Height and Base Length with Variable Base and Custom Volume Calculation with Custom Units\n",
    "This is a challenging and intricate problem. Let's tackle it step by step.\n",
    "\n",
    "Steps:\n",
    "1. Volume of a Regular Icosahedron\n",
    "2. Volume of a Frustum of a Regular Icosahedron:\n",
    "3. Determining Edge Lengths"
   ]
  },
  {
   "cell_type": "code",
   "execution_count": 8,
   "id": "0724218f",
   "metadata": {},
   "outputs": [
    {
     "name": "stdout",
     "output_type": "stream",
     "text": [
      "The volume of the frustum is 14.78 cubic units\n"
     ]
    }
   ],
   "source": [
    "import math\n",
    "\n",
    "def volume_of_icosahedron(a):\n",
    "    \"\"\"Calculate the volume of a regular icosahedron with edge length a.\"\"\"\n",
    "    return (5 * (3 + math.sqrt(5))) * a**3 / 12\n",
    "\n",
    "def volume_of_frustum(base_length, height, units=\"cubic units\"):\n",
    "    \"\"\"Calculate the volume of a frustum of a regular icosahedron.\"\"\"\n",
    "    \n",
    "    # Calculate the volume of the original icosahedron\n",
    "    V_original = volume_of_icosahedron(base_length)\n",
    "    \n",
    "    # Using similar triangles, determine the edge length of the smaller icosahedron\n",
    "    height_of_original_icosahedron = (base_length * (1 + math.sqrt(5))) / (2 * math.sqrt(3))\n",
    "    smaller_edge_length = (height / height_of_original_icosahedron) * base_length\n",
    "    \n",
    "    # Calculate the volume of the smaller icosahedron\n",
    "    V_smaller = volume_of_icosahedron(smaller_edge_length)\n",
    "    \n",
    "    # The volume of the frustum is the difference between the volumes of the original and smaller icosahedron\n",
    "    V_frustum = V_original - V_smaller\n",
    "    \n",
    "    return f\"The volume of the frustum is {V_frustum:.2f} {units}\"\n",
    "\n",
    "# Test\n",
    "base_length = 2  # Change to your desired base length\n",
    "height = 1       # Change to your desired height of the frustum\n",
    "print(volume_of_frustum(base_length, height))\n"
   ]
  },
  {
   "cell_type": "markdown",
   "id": "a6f56c96",
   "metadata": {},
   "source": [
    "### 417. Implement Heap Sort Algorithm on a Max Heap with Custom Comparison Function and Custom Data Structure\n",
    "Below is a step-by-step implementation of the heap sort algorithm using a max heap along with a custom comparison function and data structure.\n",
    "\n",
    "Steps:\n",
    "\n",
    "1. Heapify: A utility function to ensure the subtree rooted at a given index is a max heap. If not, rearrange to make it one.\n",
    "2. Build Max Heap: Convert the array into a max heap.\n",
    "3. Heap Sort: Repeatedly extract the maximum element from the heap and reduce its size."
   ]
  },
  {
   "cell_type": "code",
   "execution_count": 9,
   "id": "2ea6cb1a",
   "metadata": {},
   "outputs": [
    {
     "name": "stdout",
     "output_type": "stream",
     "text": [
      "Sorted array: [13, 12, 11, 7, 6, 5]\n"
     ]
    }
   ],
   "source": [
    "class MaxHeap:\n",
    "    def __init__(self, data=[]):\n",
    "        self.heap = data\n",
    "        self.n = len(data)\n",
    "        self.build_max_heap()\n",
    "    \n",
    "    def left(self, i):\n",
    "        return 2*i + 1\n",
    "    \n",
    "    def right(self, i):\n",
    "        return 2*i + 2\n",
    "    \n",
    "    def max_heapify(self, i):\n",
    "        l = self.left(i)\n",
    "        r = self.right(i)\n",
    "        \n",
    "        # Using custom comparison function\n",
    "        largest = i\n",
    "        if l < self.n and self.custom_compare(self.heap[l], self.heap[i]) > 0:\n",
    "            largest = l\n",
    "        if r < self.n and self.custom_compare(self.heap[r], self.heap[largest]) > 0:\n",
    "            largest = r\n",
    "            \n",
    "        if largest != i:\n",
    "            self.heap[i], self.heap[largest] = self.heap[largest], self.heap[i]\n",
    "            self.max_heapify(largest)\n",
    "    \n",
    "    def build_max_heap(self):\n",
    "        for i in range(self.n // 2, -1, -1):\n",
    "            self.max_heapify(i)\n",
    "    \n",
    "    def custom_compare(self, a, b):\n",
    "        # For now, just comparing the two values. Modify for custom comparison logic.\n",
    "        if a > b:\n",
    "            return 1\n",
    "        elif a < b:\n",
    "            return -1\n",
    "        return 0\n",
    "\n",
    "def heap_sort(arr):\n",
    "    heap = MaxHeap(arr)\n",
    "    sorted_array = []\n",
    "    for _ in range(len(arr)):\n",
    "        arr[0], arr[heap.n - 1] = arr[heap.n - 1], arr[0]\n",
    "        sorted_array.append(heap.heap.pop())\n",
    "        heap.n -= 1\n",
    "        heap.max_heapify(0)\n",
    "    return sorted_array\n",
    "\n",
    "# Test\n",
    "arr = [12, 11, 13, 5, 6, 7]\n",
    "sorted_arr = heap_sort(arr)\n",
    "print(\"Sorted array:\", sorted_arr)\n"
   ]
  },
  {
   "cell_type": "markdown",
   "id": "d8717c09",
   "metadata": {},
   "source": [
    "### 418. Find the Partitions of a Specific Integer with Custom Partition Scheme, Variable Size, Custom Position, and Custom Border\n",
    "Let's break down the problem:\n",
    "\n",
    "1. Specific Integer: This refers to the integer that needs to be partitioned.\n",
    "2. Custom Partition Scheme: This could mean several things, but let's assume it refers to specifying whether we want to partition the number into 2 parts, 3 parts, etc.\n",
    "3. Variable Size: This could mean the sizes of each partition. Let's interpret it as the maximum size any partition can be.\n",
    "4. Custom Position: This could be interpreted as the starting point in the partition. However, without more clarity, it's a bit hard to make this actionable in the context of partitioning an integer. We'll need to make assumptions here.\n",
    "5. Custom Border: This seems more visual, maybe indicating that we want to represent the partitions visually. However, it's hard to determine exactly what this means in the context of number partitioning. For simplicity, we'll assume it means that each partition should be separated by a specific character.\n"
   ]
  },
  {
   "cell_type": "code",
   "execution_count": 10,
   "id": "ef056cc1",
   "metadata": {},
   "outputs": [
    {
     "name": "stdout",
     "output_type": "stream",
     "text": [
      "2-4-4\n",
      "3-3-4\n"
     ]
    }
   ],
   "source": [
    "def integer_partitions(n, num_parts, max_size=None, border_char=\"-\"):\n",
    "    # Recursive function to generate partitions\n",
    "    def partition_helper(num, parts, max_size):\n",
    "        if num == 0 and len(parts) == num_parts:\n",
    "            all_partitions.append(parts)\n",
    "            return\n",
    "        if len(parts) >= num_parts:\n",
    "            return\n",
    "        \n",
    "        start = 1 if not parts else parts[-1]\n",
    "        end = num\n",
    "        \n",
    "        if max_size:\n",
    "            start = min(start, max_size)\n",
    "            end = min(end, max_size)\n",
    "\n",
    "        for i in range(start, end + 1):\n",
    "            partition_helper(num - i, parts + [i], max_size)\n",
    "    \n",
    "    all_partitions = []\n",
    "    partition_helper(n, [], max_size)\n",
    "    return all_partitions\n",
    "\n",
    "# Parameters\n",
    "n = 10  # Specific Integer\n",
    "num_parts = 3  # Partition into 3 parts\n",
    "max_size = 4  # Each partition can be of maximum size 4\n",
    "border_char = \"-\"  # Separate partitions with this character\n",
    "\n",
    "# Find partitions\n",
    "partitions = integer_partitions(n, num_parts, max_size)\n",
    "for partition in partitions:\n",
    "    print(border_char.join(map(str, partition)))\n",
    "\n",
    "# Expected Output (can vary based on interpretations)\n",
    "# 1-1-8\n",
    "# 1-2-7\n",
    "# 1-3-6\n",
    "# 1-4-5\n",
    "# 2-1-7\n",
    "# ... and so on\n"
   ]
  },
  {
   "cell_type": "markdown",
   "id": "f24e52c2",
   "metadata": {},
   "source": [
    "### 419. Calculate the Perimeter of a Reuleaux Ellipse with Rounded Corners, Custom Size, Right Alignment, Custom Major and Minor Axes Length, Variable Base, Custom Position, and Custom Border\n",
    "Calculating the perimeter of a Reuleaux Ellipse isn't straightforward, as the term \"Reuleaux Ellipse\" isn't standard. A Reuleaux triangle, for example, is constructed using arcs that connect the vertices of an equilateral triangle. It has a constant width but isn't a circle. If by \"Reuleaux Ellipse\", you mean an ellipse that's been modified similarly, we'll have to make some assumptions.\n",
    "\n",
    "Let's break this down:\n",
    "\n",
    "1. Reuleaux Ellipse: I'll assume this to be an ellipse where each quarter is replaced with a segment of a circle with the radius equal to the width of the ellipse at that quarter (so it'd be like smoothing out the ellipse at its four ends). If that's not your intended shape, then please provide a clearer definition.\n",
    "2. Custom Major and Minor Axes Length: Let's use a and b respectively.\n",
    "3. Rounded Corners: The Reuleaux shape will inherently have rounded corners (as described in the assumption above).\n",
    "4. Right Alignment, Custom Position, and Custom Border: These seem more related to the display or positioning of the shape on a screen or canvas rather than its mathematical properties. For simplicity, I'll only calculate the perimeter here."
   ]
  },
  {
   "cell_type": "code",
   "execution_count": 11,
   "id": "55b367c2",
   "metadata": {},
   "outputs": [
    {
     "name": "stdout",
     "output_type": "stream",
     "text": [
      "The perimeter of the Reuleaux Ellipse with major axis 5 and minor axis 3 is: 25.13\n"
     ]
    }
   ],
   "source": [
    "import math\n",
    "\n",
    "def reuleaux_ellipse_perimeter(a, b):\n",
    "    \"\"\"\n",
    "    Calculates the perimeter of a Reuleaux Ellipse given major and minor axes length.\n",
    "\n",
    "    Parameters:\n",
    "    - a: major axis length\n",
    "    - b: minor axis length\n",
    "\n",
    "    Returns:\n",
    "    - Perimeter of the Reuleaux Ellipse\n",
    "    \"\"\"\n",
    "    \n",
    "    # Width of the ellipse in the horizontal direction\n",
    "    width_horizontal = 2 * a\n",
    "\n",
    "    # Width of the ellipse in the vertical direction\n",
    "    width_vertical = 2 * b\n",
    "\n",
    "    # Arc length for horizontal segments (2 segments)\n",
    "    arc_length_horizontal = (math.pi * width_horizontal) / 2\n",
    "\n",
    "    # Arc length for vertical segments (2 segments)\n",
    "    arc_length_vertical = (math.pi * width_vertical) / 2\n",
    "\n",
    "    # Total perimeter is sum of all arcs\n",
    "    perimeter = arc_length_horizontal + arc_length_vertical\n",
    "\n",
    "    return perimeter\n",
    "\n",
    "# Test\n",
    "a = 5  # Example major axis length\n",
    "b = 3  # Example minor axis length\n",
    "\n",
    "perimeter = reuleaux_ellipse_perimeter(a, b)\n",
    "print(f\"The perimeter of the Reuleaux Ellipse with major axis {a} and minor axis {b} is: {perimeter:.2f}\")\n",
    "\n"
   ]
  },
  {
   "cell_type": "markdown",
   "id": "3f562193",
   "metadata": {},
   "source": [
    "### 420. Print the Pattern of a Hollow Sierpinski Triangle Star with Custom Size, Depth, Right Alignment, Variable Triangle Width, and Custom Position\n",
    "The Sierpinski Triangle is a fractal pattern, where a triangle is recursively subdivided into smaller triangles. Here, I'll make an ASCII representation of a hollow Sierpinski Triangle with the given parameters.\n",
    "\n",
    "Parameters:\n",
    "\n",
    "1. size: Height of the entire triangle.\n",
    "2. depth: The recursion depth. For depth = 0, it's just a solid triangle. For depth = 1, there's one smaller triangle cut out from the center, and so on.\n",
    "3. triangle_width: Width of the triangle at each depth level.\n",
    "4. position: A tuple (x, y) representing the top-left position of the triangle in the output grid.\n",
    "The pattern will be right-aligned by default."
   ]
  },
  {
   "cell_type": "code",
   "execution_count": 12,
   "id": "2db6ada1",
   "metadata": {},
   "outputs": [
    {
     "name": "stdout",
     "output_type": "stream",
     "text": [
      "                                                           \n",
      "                                                           \n",
      "     **           **            **           **            \n",
      "       **           **            **           **          \n",
      "         **           **            **           **        \n",
      "           **           **            **           **      \n",
      "             **           **            **           **    \n",
      "               **           **            **           **  \n",
      "           **                         **                   \n",
      "             **                         **                 \n",
      "               **                         **               \n",
      "                 **                         **             \n",
      "                   **                         **           \n",
      "                     **                         **         \n",
      "                                                           \n",
      "                  **           **                          \n",
      "                    **           **                        \n",
      "                      **           **                      \n",
      "                        **           **                    \n",
      "                          **           **                  \n",
      "                            **           **                \n",
      "                        **                                 \n",
      "                          **                               \n",
      "                            **                             \n",
      "                              **                           \n",
      "                                **                         \n",
      "                                  **                       \n",
      "                                                           \n",
      "                                                           \n"
     ]
    }
   ],
   "source": [
    "def draw_triangle(grid, x, y, size, triangle_width):\n",
    "    \"\"\"Draws a triangle on the given grid starting at (x, y).\"\"\"\n",
    "    for i in range(size):\n",
    "        for j in range(triangle_width * i, triangle_width * (i + 1)):\n",
    "            grid[y + i][x + j] = \"*\"\n",
    "\n",
    "def sierpinski(grid, x, y, size, depth, triangle_width):\n",
    "    \"\"\"Recursive function to draw the Sierpinski triangle.\"\"\"\n",
    "    h = size\n",
    "    if depth == 0:\n",
    "        draw_triangle(grid, x, y, size, triangle_width)\n",
    "        return\n",
    "\n",
    "    sierpinski(grid, x, y, h // 2, depth - 1, triangle_width)\n",
    "    sierpinski(grid, x + triangle_width * h // 2, y, h // 2, depth - 1, triangle_width)\n",
    "    sierpinski(grid, x + triangle_width * h // 4, y + h // 2, h // 2, depth - 1, triangle_width)\n",
    "\n",
    "def print_sierpinski(size, depth, triangle_width, position):\n",
    "    \"\"\"Main function to print the Sierpinski triangle.\"\"\"\n",
    "    # Create an empty grid\n",
    "    grid = [[\" \" for _ in range(position[0] + triangle_width * size)] for _ in range(position[1] + size)]\n",
    "    sierpinski(grid, position[0], position[1], size, depth, triangle_width)\n",
    "\n",
    "    # Print the grid\n",
    "    for row in grid:\n",
    "        print(\"\".join(row))\n",
    "\n",
    "# Test\n",
    "size = 27  # for clear visualization, better to use sizes like 3, 9, 27, 81, ...\n",
    "depth = 2\n",
    "triangle_width = 2\n",
    "position = (5, 2)\n",
    "print_sierpinski(size, depth, triangle_width, position)\n"
   ]
  },
  {
   "cell_type": "code",
   "execution_count": null,
   "id": "7cbc8f40",
   "metadata": {},
   "outputs": [],
   "source": []
  }
 ],
 "metadata": {
  "kernelspec": {
   "display_name": "Python 3 (ipykernel)",
   "language": "python",
   "name": "python3"
  },
  "language_info": {
   "codemirror_mode": {
    "name": "ipython",
    "version": 3
   },
   "file_extension": ".py",
   "mimetype": "text/x-python",
   "name": "python",
   "nbconvert_exporter": "python",
   "pygments_lexer": "ipython3",
   "version": "3.11.4"
  }
 },
 "nbformat": 4,
 "nbformat_minor": 5
}

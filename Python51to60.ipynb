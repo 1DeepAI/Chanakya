{
 "cells": [
  {
   "cell_type": "markdown",
   "id": "80fa8e77",
   "metadata": {},
   "source": [
    "# Python Practice 51-60"
   ]
  },
  {
   "cell_type": "markdown",
   "id": "43dc137c",
   "metadata": {},
   "source": [
    "## Here are the Python programs for each of the objectives along with the associated algorithm, mathematical calculations, and string manipulations:"
   ]
  },
  {
   "cell_type": "markdown",
   "id": "93757cbc",
   "metadata": {},
   "source": [
    "### 51. Generate a Random Number between a Given Range:"
   ]
  },
  {
   "cell_type": "code",
   "execution_count": 10,
   "id": "6280a099",
   "metadata": {},
   "outputs": [
    {
     "name": "stdout",
     "output_type": "stream",
     "text": [
      "A random number between 1 and 100: 94\n"
     ]
    }
   ],
   "source": [
    "import random\n",
    "\n",
    "def generate_random_number(start, end):\n",
    "    return random.randint(start, end)\n",
    "\n",
    "start_range, end_range = 1, 100\n",
    "random_number = generate_random_number(start_range, end_range)\n",
    "print(f\"A random number between {start_range} and {end_range}: {random_number}\")\n"
   ]
  },
  {
   "cell_type": "markdown",
   "id": "307e7774",
   "metadata": {},
   "source": [
    "### 52. Convert Octal to Decimal: "
   ]
  },
  {
   "cell_type": "code",
   "execution_count": 9,
   "id": "77cd9ce5",
   "metadata": {},
   "outputs": [
    {
     "name": "stdout",
     "output_type": "stream",
     "text": [
      "The decimal representation of 72 is 58.\n"
     ]
    }
   ],
   "source": [
    "def octal_to_decimal(octal_num):\n",
    "    return int(octal_num, 8)\n",
    "\n",
    "octal_num = \"72\"\n",
    "decimal_num = octal_to_decimal(octal_num)\n",
    "print(f\"The decimal representation of {octal_num} is {decimal_num}.\")\n"
   ]
  },
  {
   "cell_type": "markdown",
   "id": "17921d54",
   "metadata": {},
   "source": [
    "### 53.  Check if a String is a Palindrome Using Recursion:"
   ]
  },
  {
   "cell_type": "code",
   "execution_count": 8,
   "id": "dbae24df",
   "metadata": {},
   "outputs": [
    {
     "name": "stdout",
     "output_type": "stream",
     "text": [
      "level is a palindrome.\n"
     ]
    }
   ],
   "source": [
    "def is_palindrome_recursive(s):\n",
    "    if len(s) <= 1:\n",
    "        return True\n",
    "    return s[0] == s[-1] and is_palindrome_recursive(s[1:-1])\n",
    "\n",
    "word = \"level\"\n",
    "if is_palindrome_recursive(word):\n",
    "    print(f\"{word} is a palindrome.\")\n",
    "else:\n",
    "    print(f\"{word} is not a palindrome.\")\n"
   ]
  },
  {
   "cell_type": "markdown",
   "id": "64491156",
   "metadata": {},
   "source": [
    "### 54.  Calculate the Area of a Parallelogram:"
   ]
  },
  {
   "cell_type": "code",
   "execution_count": 7,
   "id": "3258dc43",
   "metadata": {},
   "outputs": [
    {
     "name": "stdout",
     "output_type": "stream",
     "text": [
      "The area of the parallelogram with base 5 and height 8 is 40.\n"
     ]
    }
   ],
   "source": [
    "def area_of_parallelogram(base, height):\n",
    "    return base * height\n",
    "\n",
    "base = 5\n",
    "height = 8\n",
    "area = area_of_parallelogram(base, height)\n",
    "print(f\"The area of the parallelogram with base {base} and height {height} is {area}.\")\n"
   ]
  },
  {
   "cell_type": "markdown",
   "id": "fa9be822",
   "metadata": {},
   "source": [
    "### 55. Implement Linear Search Algorithm: "
   ]
  },
  {
   "cell_type": "code",
   "execution_count": 6,
   "id": "90350d4f",
   "metadata": {},
   "outputs": [
    {
     "name": "stdout",
     "output_type": "stream",
     "text": [
      "45 is found at index 3.\n"
     ]
    }
   ],
   "source": [
    "def linear_search(arr, target):\n",
    "    for i in range(len(arr)):\n",
    "        if arr[i] == target:\n",
    "            return i\n",
    "    return -1\n",
    "\n",
    "numbers_list = [11, 22, 34, 45, 56, 67, 78, 89, 99]\n",
    "target_number = 45\n",
    "index = linear_search(numbers_list, target_number)\n",
    "if index != -1:\n",
    "    print(f\"{target_number} is found at index {index}.\")\n",
    "else:\n",
    "    print(f\"{target_number} is not found in the list.\")\n"
   ]
  },
  {
   "cell_type": "markdown",
   "id": "31a41c78",
   "metadata": {},
   "source": [
    "### 56. Find the Prime Factors of a Number:"
   ]
  },
  {
   "cell_type": "code",
   "execution_count": 5,
   "id": "2680f56b",
   "metadata": {},
   "outputs": [
    {
     "name": "stdout",
     "output_type": "stream",
     "text": [
      "The prime factors of 84 are: [2, 2, 3, 7]\n"
     ]
    }
   ],
   "source": [
    "def prime_factors(num):\n",
    "    factors = []\n",
    "    divisor = 2\n",
    "    while divisor * divisor <= num:\n",
    "        if num % divisor == 0:\n",
    "            factors.append(divisor)\n",
    "            num //= divisor\n",
    "        else:\n",
    "            divisor += 1\n",
    "    if num > 1:\n",
    "        factors.append(num)\n",
    "    return factors\n",
    "\n",
    "number = 84\n",
    "prime_factors_list = prime_factors(number)\n",
    "print(f\"The prime factors of {number} are: {prime_factors_list}\")\n"
   ]
  },
  {
   "cell_type": "markdown",
   "id": "6c75196c",
   "metadata": {},
   "source": [
    "### 57. Calculate the Exponentiation of a Number Using the Power Function:"
   ]
  },
  {
   "cell_type": "code",
   "execution_count": 4,
   "id": "c328a014",
   "metadata": {},
   "outputs": [
    {
     "name": "stdout",
     "output_type": "stream",
     "text": [
      "2 raised to the power of 3 is 8.\n"
     ]
    }
   ],
   "source": [
    "def power_function(base, exponent):\n",
    "    return pow(base, exponent)\n",
    "\n",
    "base, exponent = 2, 3\n",
    "result = power_function(base, exponent)\n",
    "print(f\"{base} raised to the power of {exponent} is {result}.\")\n"
   ]
  },
  {
   "cell_type": "markdown",
   "id": "b5546083",
   "metadata": {},
   "source": [
    "### 58. Check if a Number is a Narcissistic Number:"
   ]
  },
  {
   "cell_type": "code",
   "execution_count": 3,
   "id": "0c4cad2a",
   "metadata": {},
   "outputs": [
    {
     "name": "stdout",
     "output_type": "stream",
     "text": [
      "153 is a narcissistic number.\n"
     ]
    }
   ],
   "source": [
    "def is_narcissistic_number(num):\n",
    "    num_str = str(num)\n",
    "    order = len(num_str)\n",
    "    sum = 0\n",
    "    for digit in num_str:\n",
    "        sum += int(digit) ** order\n",
    "    return num == sum\n",
    "\n",
    "number = 153\n",
    "if is_narcissistic_number(number):\n",
    "    print(f\"{number} is a narcissistic number.\")\n",
    "else:\n",
    "    print(f\"{number} is not a narcissistic number.\")\n"
   ]
  },
  {
   "cell_type": "markdown",
   "id": "d6185174",
   "metadata": {},
   "source": [
    "### 59. Calculate the Perimeter of a Triangle:"
   ]
  },
  {
   "cell_type": "code",
   "execution_count": 2,
   "id": "17c18fda",
   "metadata": {},
   "outputs": [
    {
     "name": "stdout",
     "output_type": "stream",
     "text": [
      "The perimeter of the triangle with sides 3, 4, and 5 is 12.\n"
     ]
    }
   ],
   "source": [
    "def perimeter_of_triangle(side1, side2, side3):\n",
    "    return side1 + side2 + side3\n",
    "\n",
    "side1, side2, side3 = 3, 4, 5\n",
    "perimeter = perimeter_of_triangle(side1, side2, side3)\n",
    "print(f\"The perimeter of the triangle with sides {side1}, {side2}, and {side3} is {perimeter}.\")\n"
   ]
  },
  {
   "cell_type": "markdown",
   "id": "6ffe704d",
   "metadata": {},
   "source": [
    "### 60. Print the Pattern of an Inverted Pyramid:"
   ]
  },
  {
   "cell_type": "code",
   "execution_count": 1,
   "id": "c31ef8bf",
   "metadata": {},
   "outputs": [
    {
     "name": "stdout",
     "output_type": "stream",
     "text": [
      "* * * * * * * * * \n",
      " * * * * * * * \n",
      "  * * * * * \n",
      "   * * * \n",
      "    * \n"
     ]
    }
   ],
   "source": [
    "def print_inverted_pyramid(n):\n",
    "    for i in range(n, 0, -1):\n",
    "        print(\" \" * (n - i) + \"* \" * (2 * i - 1))\n",
    "\n",
    "rows = 5\n",
    "print_inverted_pyramid(rows)\n"
   ]
  },
  {
   "cell_type": "code",
   "execution_count": null,
   "id": "b0a5f7b5",
   "metadata": {},
   "outputs": [],
   "source": []
  }
 ],
 "metadata": {
  "kernelspec": {
   "display_name": "Python 3 (ipykernel)",
   "language": "python",
   "name": "python3"
  },
  "language_info": {
   "codemirror_mode": {
    "name": "ipython",
    "version": 3
   },
   "file_extension": ".py",
   "mimetype": "text/x-python",
   "name": "python",
   "nbconvert_exporter": "python",
   "pygments_lexer": "ipython3",
   "version": "3.11.4"
  }
 },
 "nbformat": 4,
 "nbformat_minor": 5
}

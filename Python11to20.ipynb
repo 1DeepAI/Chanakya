{
 "cells": [
  {
   "cell_type": "markdown",
   "id": "fb3e6bde",
   "metadata": {},
   "source": [
    "# Python Practice 11-20"
   ]
  },
  {
   "cell_type": "markdown",
   "id": "61c8fcd7",
   "metadata": {},
   "source": [
    "## Below are Python programs for each of the objectives along with the associated algorithm, mathematical calculations, and string manipulations  "
   ]
  },
  {
   "cell_type": "markdown",
   "id": "ceaa511c",
   "metadata": {},
   "source": [
    "### 11. Calculate the Area of a Circle:"
   ]
  },
  {
   "cell_type": "code",
   "execution_count": 1,
   "id": "a506fc37",
   "metadata": {},
   "outputs": [
    {
     "name": "stdout",
     "output_type": "stream",
     "text": [
      "The area of the circle with radius 5 is 78.54.\n"
     ]
    }
   ],
   "source": [
    "import math\n",
    "\n",
    "def area_of_circle(radius):\n",
    "    return math.pi * radius ** 2\n",
    "\n",
    "radius = 5\n",
    "area = area_of_circle(radius)\n",
    "print(f\"The area of the circle with radius {radius} is {area:.2f}.\")\n"
   ]
  },
  {
   "cell_type": "markdown",
   "id": "3605b688",
   "metadata": {},
   "source": [
    "### 12. Convert Decimal to Binary: "
   ]
  },
  {
   "cell_type": "code",
   "execution_count": 2,
   "id": "475e527a",
   "metadata": {},
   "outputs": [
    {
     "name": "stdout",
     "output_type": "stream",
     "text": [
      "The binary representation of 25 is 11001.\n"
     ]
    }
   ],
   "source": [
    "def decimal_to_binary(decimal_num):\n",
    "    return bin(decimal_num).replace(\"0b\", \"\")\n",
    "\n",
    "decimal_num = 25\n",
    "binary_num = decimal_to_binary(decimal_num)\n",
    "print(f\"The binary representation of {decimal_num} is {binary_num}.\")\n"
   ]
  },
  {
   "cell_type": "markdown",
   "id": "a41bfa99",
   "metadata": {},
   "source": [
    "### 13. Implement Bubble Sort Algorithm: "
   ]
  },
  {
   "cell_type": "code",
   "execution_count": 3,
   "id": "1986ee1b",
   "metadata": {},
   "outputs": [
    {
     "name": "stdout",
     "output_type": "stream",
     "text": [
      "Sorted list using Bubble Sort: [11, 12, 22, 25, 34, 64, 90]\n"
     ]
    }
   ],
   "source": [
    "def bubble_sort(arr):\n",
    "    n = len(arr)\n",
    "    for i in range(n - 1):\n",
    "        for j in range(n - i - 1):\n",
    "            if arr[j] > arr[j + 1]:\n",
    "                arr[j], arr[j + 1] = arr[j + 1], arr[j]\n",
    "\n",
    "numbers_list = [64, 34, 25, 12, 22, 11, 90]\n",
    "bubble_sort(numbers_list)\n",
    "print(\"Sorted list using Bubble Sort:\", numbers_list)\n"
   ]
  },
  {
   "cell_type": "markdown",
   "id": "0305a115",
   "metadata": {},
   "source": [
    "### 14. Reverse a String: "
   ]
  },
  {
   "cell_type": "code",
   "execution_count": 4,
   "id": "42880429",
   "metadata": {},
   "outputs": [
    {
     "name": "stdout",
     "output_type": "stream",
     "text": [
      "The reversed string of 'Hello, World!' is '!dlroW ,olleH'.\n"
     ]
    }
   ],
   "source": [
    "def reverse_string(s):\n",
    "    return s[::-1]\n",
    "\n",
    "text = \"Hello, World!\"\n",
    "reversed_text = reverse_string(text)\n",
    "print(f\"The reversed string of '{text}' is '{reversed_text}'.\")\n"
   ]
  },
  {
   "cell_type": "markdown",
   "id": "c92a8789",
   "metadata": {},
   "source": [
    "### 15. Calculate the GCD of Two Numbers: "
   ]
  },
  {
   "cell_type": "code",
   "execution_count": 5,
   "id": "570829cf",
   "metadata": {},
   "outputs": [
    {
     "name": "stdout",
     "output_type": "stream",
     "text": [
      "The GCD of 12 and 18 is 6.\n"
     ]
    }
   ],
   "source": [
    "def gcd(a, b):\n",
    "    while b != 0:\n",
    "        a, b = b, a % b\n",
    "    return a\n",
    "\n",
    "num1, num2 = 12, 18\n",
    "gcd_value = gcd(num1, num2)\n",
    "print(f\"The GCD of {num1} and {num2} is {gcd_value}.\")\n"
   ]
  },
  {
   "cell_type": "markdown",
   "id": "b6438125",
   "metadata": {},
   "source": [
    "### 16. Check if a Number is Even or Odd: "
   ]
  },
  {
   "cell_type": "code",
   "execution_count": 6,
   "id": "d410c1aa",
   "metadata": {},
   "outputs": [
    {
     "name": "stdout",
     "output_type": "stream",
     "text": [
      "7 is Odd.\n"
     ]
    }
   ],
   "source": [
    "def check_even_odd(num):\n",
    "    return \"Even\" if num % 2 == 0 else \"Odd\"\n",
    "\n",
    "num = 7\n",
    "result = check_even_odd(num)\n",
    "print(f\"{num} is {result}.\")\n"
   ]
  },
  {
   "cell_type": "markdown",
   "id": "e4354c2c",
   "metadata": {},
   "source": [
    "### 17. Implement Merge Sort Algorithm: "
   ]
  },
  {
   "cell_type": "code",
   "execution_count": 7,
   "id": "8daee3f8",
   "metadata": {},
   "outputs": [
    {
     "name": "stdout",
     "output_type": "stream",
     "text": [
      "Sorted list using Merge Sort: [11, 12, 22, 25, 34, 64, 90]\n"
     ]
    }
   ],
   "source": [
    "def merge_sort(arr):\n",
    "    if len(arr) > 1:\n",
    "        mid = len(arr) // 2\n",
    "        left_half = arr[:mid]\n",
    "        right_half = arr[mid:]\n",
    "\n",
    "        merge_sort(left_half)\n",
    "        merge_sort(right_half)\n",
    "\n",
    "        i = j = k = 0\n",
    "\n",
    "        while i < len(left_half) and j < len(right_half):\n",
    "            if left_half[i] < right_half[j]:\n",
    "                arr[k] = left_half[i]\n",
    "                i += 1\n",
    "            else:\n",
    "                arr[k] = right_half[j]\n",
    "                j += 1\n",
    "            k += 1\n",
    "\n",
    "        while i < len(left_half):\n",
    "            arr[k] = left_half[i]\n",
    "            i += 1\n",
    "            k += 1\n",
    "\n",
    "        while j < len(right_half):\n",
    "            arr[k] = right_half[j]\n",
    "            j += 1\n",
    "            k += 1\n",
    "\n",
    "numbers_list = [64, 34, 25, 12, 22, 11, 90]\n",
    "merge_sort(numbers_list)\n",
    "print(\"Sorted list using Merge Sort:\", numbers_list)\n"
   ]
  },
  {
   "cell_type": "markdown",
   "id": "d84587cc",
   "metadata": {},
   "source": [
    "### 18. Calculate the Exponentiation of a Number: "
   ]
  },
  {
   "cell_type": "code",
   "execution_count": 8,
   "id": "33fe534f",
   "metadata": {},
   "outputs": [
    {
     "name": "stdout",
     "output_type": "stream",
     "text": [
      "2 raised to the power of 3 is 8.\n"
     ]
    }
   ],
   "source": [
    "def exponentiation(base, exponent):\n",
    "    return base ** exponent\n",
    "\n",
    "base, exponent = 2, 3\n",
    "result = exponentiation(base, exponent)\n",
    "print(f\"{base} raised to the power of {exponent} is {result}.\")\n"
   ]
  },
  {
   "cell_type": "markdown",
   "id": "3cc85634",
   "metadata": {},
   "source": [
    "### 19. Find the Second Largest Number in a List: "
   ]
  },
  {
   "cell_type": "code",
   "execution_count": 9,
   "id": "7dfab904",
   "metadata": {
    "scrolled": true
   },
   "outputs": [
    {
     "name": "stdout",
     "output_type": "stream",
     "text": [
      "Second Largest Number: 20\n"
     ]
    }
   ],
   "source": [
    "def find_second_largest(numbers):\n",
    "    largest = second_largest = float('-inf')\n",
    "    for num in numbers:\n",
    "        if num > largest:\n",
    "            second_largest = largest\n",
    "            largest = num\n",
    "        elif num > second_largest and num != largest:\n",
    "            second_largest = num\n",
    "    return second_largest\n",
    "\n",
    "numbers_list = [10, 20, 5, 30, 15]\n",
    "second_largest_number = find_second_largest(numbers_list)\n",
    "print(\"Second Largest Number:\", second_largest_number)\n"
   ]
  },
  {
   "cell_type": "markdown",
   "id": "826e0cbb",
   "metadata": {},
   "source": [
    "### 20. Check if a Year is a Leap Year:"
   ]
  },
  {
   "cell_type": "code",
   "execution_count": 10,
   "id": "94bab000",
   "metadata": {},
   "outputs": [
    {
     "name": "stdout",
     "output_type": "stream",
     "text": [
      "2024 is a leap year.\n"
     ]
    }
   ],
   "source": [
    "def is_leap_year(year):\n",
    "    if year % 4 == 0:\n",
    "        if year % 100 == 0:\n",
    "            if year % 400 == 0:\n",
    "                return True\n",
    "            else:\n",
    "                return False\n",
    "        return True\n",
    "    return False\n",
    "\n",
    "year = 2024\n",
    "if is_leap_year(year):\n",
    "    print(f\"{year} is a leap year.\")\n",
    "else:\n",
    "    print(f\"{year} is not a leap year.\")\n"
   ]
  }
 ],
 "metadata": {
  "kernelspec": {
   "display_name": "Python 3 (ipykernel)",
   "language": "python",
   "name": "python3"
  },
  "language_info": {
   "codemirror_mode": {
    "name": "ipython",
    "version": 3
   },
   "file_extension": ".py",
   "mimetype": "text/x-python",
   "name": "python",
   "nbconvert_exporter": "python",
   "pygments_lexer": "ipython3",
   "version": "3.11.4"
  }
 },
 "nbformat": 4,
 "nbformat_minor": 5
}

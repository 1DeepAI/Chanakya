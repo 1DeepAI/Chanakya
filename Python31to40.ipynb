{
 "cells": [
  {
   "cell_type": "markdown",
   "id": "63068114",
   "metadata": {},
   "source": [
    "# Python Practice 31-40"
   ]
  },
  {
   "cell_type": "markdown",
   "id": "d6e977a5",
   "metadata": {},
   "source": [
    "## Here are the Python programs for each of the objectives along with the associated algorithm, mathematical calculations, and string manipulations:"
   ]
  },
  {
   "cell_type": "markdown",
   "id": "2d798db5",
   "metadata": {},
   "source": [
    "#### 31. Generate Prime Numbers in a Range:"
   ]
  },
  {
   "cell_type": "code",
   "execution_count": 10,
   "id": "4fc9897e",
   "metadata": {},
   "outputs": [
    {
     "name": "stdout",
     "output_type": "stream",
     "text": [
      "Prime numbers in the range 1 to 50: [2, 3, 5, 7, 11, 13, 17, 19, 23, 29, 31, 37, 41, 43, 47]\n"
     ]
    }
   ],
   "source": [
    "def is_prime(num):\n",
    "    if num <= 1:\n",
    "        return False\n",
    "    for i in range(2, int(num**0.5) + 1):\n",
    "        if num % i == 0:\n",
    "            return False\n",
    "    return True\n",
    "\n",
    "start_range, end_range = 1, 50\n",
    "prime_numbers = [num for num in range(start_range, end_range+1) if is_prime(num)]\n",
    "print(f\"Prime numbers in the range {start_range} to {end_range}: {prime_numbers}\")\n"
   ]
  },
  {
   "cell_type": "markdown",
   "id": "7947e31d",
   "metadata": {},
   "source": [
    "### 32. Calculate the Area of a Triangle:"
   ]
  },
  {
   "cell_type": "code",
   "execution_count": 9,
   "id": "f1cf628a",
   "metadata": {},
   "outputs": [
    {
     "name": "stdout",
     "output_type": "stream",
     "text": [
      "The area of the triangle with base 5 and height 8 is 20.0.\n"
     ]
    }
   ],
   "source": [
    "def area_of_triangle(base, height):\n",
    "    return 0.5 * base * height\n",
    "\n",
    "base = 5\n",
    "height = 8\n",
    "area = area_of_triangle(base, height)\n",
    "print(f\"The area of the triangle with base {base} and height {height} is {area}.\")\n"
   ]
  },
  {
   "cell_type": "markdown",
   "id": "c833ed9d",
   "metadata": {},
   "source": [
    "### 33. Implement Selection Sort Algorithm:"
   ]
  },
  {
   "cell_type": "code",
   "execution_count": 8,
   "id": "494afb42",
   "metadata": {},
   "outputs": [
    {
     "name": "stdout",
     "output_type": "stream",
     "text": [
      "Sorted list using Selection Sort: [11, 12, 22, 25, 34, 64, 90]\n"
     ]
    }
   ],
   "source": [
    "def selection_sort(arr):\n",
    "    n = len(arr)\n",
    "    for i in range(n):\n",
    "        min_index = i\n",
    "        for j in range(i+1, n):\n",
    "            if arr[j] < arr[min_index]:\n",
    "                min_index = j\n",
    "        arr[i], arr[min_index] = arr[min_index], arr[i]\n",
    "\n",
    "numbers_list = [64, 34, 25, 12, 22, 11, 90]\n",
    "selection_sort(numbers_list)\n",
    "print(\"Sorted list using Selection Sort:\", numbers_list)\n"
   ]
  },
  {
   "cell_type": "markdown",
   "id": "40cb72bc",
   "metadata": {},
   "source": [
    "### 34. Find the Third Largest Number in a List:"
   ]
  },
  {
   "cell_type": "code",
   "execution_count": 7,
   "id": "6677bd90",
   "metadata": {},
   "outputs": [
    {
     "name": "stdout",
     "output_type": "stream",
     "text": [
      "Third Largest Number: 15\n"
     ]
    }
   ],
   "source": [
    "def find_third_largest(numbers):\n",
    "    sorted_numbers = sorted(set(numbers), reverse=True)\n",
    "    return sorted_numbers[2] if len(sorted_numbers) >= 3 else None\n",
    "\n",
    "numbers_list = [10, 20, 5, 30, 15]\n",
    "third_largest_number = find_third_largest(numbers_list)\n",
    "print(\"Third Largest Number:\", third_largest_number)\n"
   ]
  },
  {
   "cell_type": "markdown",
   "id": "38cc497f",
   "metadata": {},
   "source": [
    "### 35. Print the Pattern of a Right Triangle: "
   ]
  },
  {
   "cell_type": "code",
   "execution_count": 6,
   "id": "9a2f32a6",
   "metadata": {},
   "outputs": [
    {
     "name": "stdout",
     "output_type": "stream",
     "text": [
      "* \n",
      "* * \n",
      "* * * \n",
      "* * * * \n",
      "* * * * * \n"
     ]
    }
   ],
   "source": [
    "def print_right_triangle(n):\n",
    "    for i in range(1, n+1):\n",
    "        print(\"* \" * i)\n",
    "\n",
    "rows = 5\n",
    "print_right_triangle(rows)\n"
   ]
  },
  {
   "cell_type": "markdown",
   "id": "74861851",
   "metadata": {},
   "source": [
    "### 36. Convert Decimal to Octal:"
   ]
  },
  {
   "cell_type": "code",
   "execution_count": 5,
   "id": "b407eaa4",
   "metadata": {},
   "outputs": [
    {
     "name": "stdout",
     "output_type": "stream",
     "text": [
      "The octal representation of 25 is 31.\n"
     ]
    }
   ],
   "source": [
    "def decimal_to_octal(decimal_num):\n",
    "    return oct(decimal_num).replace(\"0o\", \"\")\n",
    "\n",
    "decimal_num = 25\n",
    "octal_num = decimal_to_octal(decimal_num)\n",
    "print(f\"The octal representation of {decimal_num} is {octal_num}.\")\n"
   ]
  },
  {
   "cell_type": "markdown",
   "id": "3e904091",
   "metadata": {},
   "source": [
    "### 37. Find the Greatest Common Divisor of Multiple Numbers:"
   ]
  },
  {
   "cell_type": "code",
   "execution_count": 4,
   "id": "ccf50b7f",
   "metadata": {},
   "outputs": [
    {
     "name": "stdout",
     "output_type": "stream",
     "text": [
      "The GCD of [24, 36, 48] is 12.\n"
     ]
    }
   ],
   "source": [
    "def gcd(a, b):\n",
    "    while b != 0:\n",
    "        a, b = b, a % b\n",
    "    return a\n",
    "\n",
    "def gcd_of_multiple_numbers(numbers):\n",
    "    result = numbers[0]\n",
    "    for i in range(1, len(numbers)):\n",
    "        result = gcd(result, numbers[i])\n",
    "    return result\n",
    "\n",
    "numbers_list = [24, 36, 48]\n",
    "gcd_value = gcd_of_multiple_numbers(numbers_list)\n",
    "print(f\"The GCD of {numbers_list} is {gcd_value}.\")\n"
   ]
  },
  {
   "cell_type": "markdown",
   "id": "5bf2fffd",
   "metadata": {},
   "source": [
    "### 38. Calculate the Perimeter of a Rectangle:"
   ]
  },
  {
   "cell_type": "code",
   "execution_count": 3,
   "id": "b35d7c12",
   "metadata": {},
   "outputs": [
    {
     "name": "stdout",
     "output_type": "stream",
     "text": [
      "The perimeter of the rectangle with length 6 and width 4 is 20.\n"
     ]
    }
   ],
   "source": [
    "def perimeter_of_rectangle(length, width):\n",
    "    return 2 * (length + width)\n",
    "\n",
    "length = 6\n",
    "width = 4\n",
    "perimeter = perimeter_of_rectangle(length, width)\n",
    "print(f\"The perimeter of the rectangle with length {length} and width {width} is {perimeter}.\")\n"
   ]
  },
  {
   "cell_type": "markdown",
   "id": "93a2b8ab",
   "metadata": {},
   "source": [
    "### 39. Implement Insertion Sort Algorithm:"
   ]
  },
  {
   "cell_type": "code",
   "execution_count": 2,
   "id": "94da1094",
   "metadata": {},
   "outputs": [
    {
     "name": "stdout",
     "output_type": "stream",
     "text": [
      "Sorted list using Insertion Sort: [11, 12, 22, 25, 34, 64, 90]\n"
     ]
    }
   ],
   "source": [
    "def insertion_sort(arr):\n",
    "    for i in range(1, len(arr)):\n",
    "        key = arr[i]\n",
    "        j = i - 1\n",
    "        while j >= 0 and key < arr[j]:\n",
    "            arr[j + 1] = arr[j]\n",
    "            j -= 1\n",
    "        arr[j + 1] = key\n",
    "\n",
    "numbers_list = [64, 34, 25, 12, 22, 11, 90]\n",
    "insertion_sort(numbers_list)\n",
    "print(\"Sorted list using Insertion Sort:\", numbers_list)\n"
   ]
  },
  {
   "cell_type": "markdown",
   "id": "8a3e4164",
   "metadata": {},
   "source": [
    "### 40. Check if a String is a Pangram:"
   ]
  },
  {
   "cell_type": "code",
   "execution_count": 1,
   "id": "0776d07d",
   "metadata": {},
   "outputs": [
    {
     "name": "stdout",
     "output_type": "stream",
     "text": [
      "The sentence is a pangram.\n"
     ]
    }
   ],
   "source": [
    "import string\n",
    "\n",
    "def is_pangram(s):\n",
    "    alphabet = set(string.ascii_lowercase)\n",
    "    return set(s.lower()) >= alphabet\n",
    "\n",
    "sentence = \"The quick brown fox jumps over the lazy dog\"\n",
    "if is_pangram(sentence):\n",
    "    print(\"The sentence is a pangram.\")\n",
    "else:\n",
    "    print(\"The sentence is not a pangram.\")\n"
   ]
  }
 ],
 "metadata": {
  "kernelspec": {
   "display_name": "Python 3 (ipykernel)",
   "language": "python",
   "name": "python3"
  },
  "language_info": {
   "codemirror_mode": {
    "name": "ipython",
    "version": 3
   },
   "file_extension": ".py",
   "mimetype": "text/x-python",
   "name": "python",
   "nbconvert_exporter": "python",
   "pygments_lexer": "ipython3",
   "version": "3.11.4"
  }
 },
 "nbformat": 4,
 "nbformat_minor": 5
}

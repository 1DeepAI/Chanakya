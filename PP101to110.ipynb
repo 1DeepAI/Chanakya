{
 "cells": [
  {
   "cell_type": "markdown",
   "id": "ea0266a6",
   "metadata": {},
   "source": [
    "# Python Practice 101-110"
   ]
  },
  {
   "cell_type": "markdown",
   "id": "68a310d4",
   "metadata": {},
   "source": [
    "## Here are the Python programs for each of the objectives along with the associated algorithm, mathematical calculations, and string manipulations:"
   ]
  },
  {
   "cell_type": "markdown",
   "id": "94049064",
   "metadata": {},
   "source": [
    "### 101.  Generate a Random Password with Special Characters"
   ]
  },
  {
   "cell_type": "code",
   "execution_count": 10,
   "id": "92a9b50d",
   "metadata": {},
   "outputs": [
    {
     "name": "stdout",
     "output_type": "stream",
     "text": [
      "Generated Random Password with special characters: 'g?MR)hA$a'v\n"
     ]
    }
   ],
   "source": [
    "import random\n",
    "import string\n",
    "\n",
    "def generate_random_password_with_special(length):\n",
    "    characters = string.ascii_letters + string.digits + string.punctuation\n",
    "    random_password = ''.join(random.choice(characters) for _ in range(length))\n",
    "    return random_password\n",
    "\n",
    "password_length = 12\n",
    "random_password = generate_random_password_with_special(password_length)\n",
    "print(f\"Generated Random Password with special characters: {random_password}\")\n"
   ]
  },
  {
   "cell_type": "markdown",
   "id": "ba6aa157",
   "metadata": {},
   "source": [
    "### 102. Convert Hexadecimal to Octal "
   ]
  },
  {
   "cell_type": "code",
   "execution_count": 9,
   "id": "074a6076",
   "metadata": {},
   "outputs": [
    {
     "name": "stdout",
     "output_type": "stream",
     "text": [
      "The octal representation of 1A3 is 643.\n"
     ]
    }
   ],
   "source": [
    "def hexadecimal_to_octal(hexadecimal_num):\n",
    "    decimal_num = int(hexadecimal_num, 16)\n",
    "    return oct(decimal_num).replace(\"0o\", \"\")\n",
    "\n",
    "hexadecimal_num = \"1A3\"\n",
    "octal_num = hexadecimal_to_octal(hexadecimal_num)\n",
    "print(f\"The octal representation of {hexadecimal_num} is {octal_num}.\")\n"
   ]
  },
  {
   "cell_type": "markdown",
   "id": "0daab29b",
   "metadata": {},
   "source": [
    "### 103. Check if a Number is a Pronic Harshad Number "
   ]
  },
  {
   "cell_type": "code",
   "execution_count": 8,
   "id": "eb93eda4",
   "metadata": {},
   "outputs": [
    {
     "name": "stdout",
     "output_type": "stream",
     "text": [
      "42 is a pronic harshad number.\n"
     ]
    }
   ],
   "source": [
    "def is_pronic_harshad_number(num):\n",
    "    def is_harshad_number(n):\n",
    "        return n % sum(int(digit) for digit in str(n)) == 0\n",
    "\n",
    "    for i in range(num):\n",
    "        if i * (i + 1) == num and is_harshad_number(num):\n",
    "            return True\n",
    "    return False\n",
    "\n",
    "number = 42\n",
    "if is_pronic_harshad_number(number):\n",
    "    print(f\"{number} is a pronic harshad number.\")\n",
    "else:\n",
    "    print(f\"{number} is not a pronic harshad number.\")\n"
   ]
  },
  {
   "cell_type": "markdown",
   "id": "723c215a",
   "metadata": {},
   "source": [
    "### 104. Calculate the Area of a Cone "
   ]
  },
  {
   "cell_type": "code",
   "execution_count": 7,
   "id": "44af34a8",
   "metadata": {},
   "outputs": [
    {
     "name": "stdout",
     "output_type": "stream",
     "text": [
      "The surface area of the cone with radius 5 and height 8 is 226.73.\n"
     ]
    }
   ],
   "source": [
    "import math\n",
    "\n",
    "def area_of_cone(radius, height):\n",
    "    base_area = math.pi * radius ** 2\n",
    "    side_area = math.pi * radius * math.sqrt(radius ** 2 + height ** 2)\n",
    "    return base_area + side_area\n",
    "\n",
    "radius, height = 5, 8\n",
    "area = area_of_cone(radius, height)\n",
    "print(f\"The surface area of the cone with radius {radius} and height {height} is {area:.2f}.\")\n"
   ]
  },
  {
   "cell_type": "markdown",
   "id": "ae1c79c0",
   "metadata": {},
   "source": [
    "### 105. Implement Doubly Ended Queue (Deque) Data Structure "
   ]
  },
  {
   "cell_type": "code",
   "execution_count": 6,
   "id": "b087bb12",
   "metadata": {},
   "outputs": [
    {
     "name": "stdout",
     "output_type": "stream",
     "text": [
      "Deque size: 4\n",
      "Leftmost element: 2\n",
      "Rightmost element: 4\n",
      "Popped left element: 2\n",
      "Popped right element: 4\n"
     ]
    }
   ],
   "source": [
    "class Deque:\n",
    "    def __init__(self):\n",
    "        self.items = []\n",
    "\n",
    "    def is_empty(self):\n",
    "        return len(self.items) == 0\n",
    "\n",
    "    def append_left(self, item):\n",
    "        self.items.insert(0, item)\n",
    "\n",
    "    def append_right(self, item):\n",
    "        self.items.append(item)\n",
    "\n",
    "    def pop_left(self):\n",
    "        if not self.is_empty():\n",
    "            return self.items.pop(0)\n",
    "        else:\n",
    "            return None\n",
    "\n",
    "    def pop_right(self):\n",
    "        if not self.is_empty():\n",
    "            return self.items.pop()\n",
    "        else:\n",
    "            return None\n",
    "\n",
    "    def peek_left(self):\n",
    "        if not self.is_empty():\n",
    "            return self.items[0]\n",
    "        else:\n",
    "            return None\n",
    "\n",
    "    def peek_right(self):\n",
    "        if not self.is_empty():\n",
    "            return self.items[-1]\n",
    "        else:\n",
    "            return None\n",
    "\n",
    "    def size(self):\n",
    "        return len(self.items)\n",
    "\n",
    "# Example usage of the Deque data structure\n",
    "deque = Deque()\n",
    "deque.append_left(1)\n",
    "deque.append_left(2)\n",
    "deque.append_right(3)\n",
    "deque.append_right(4)\n",
    "print(\"Deque size:\", deque.size())\n",
    "print(\"Leftmost element:\", deque.peek_left())\n",
    "print(\"Rightmost element:\", deque.peek_right())\n",
    "print(\"Popped left element:\", deque.pop_left())\n",
    "print(\"Popped right element:\", deque.pop_right())\n"
   ]
  },
  {
   "cell_type": "markdown",
   "id": "fac98981",
   "metadata": {},
   "source": [
    "### 106. Find the Prime Numbers in a Range Using Sieve of Eratosthenes "
   ]
  },
  {
   "cell_type": "code",
   "execution_count": 5,
   "id": "c2527ad8",
   "metadata": {},
   "outputs": [
    {
     "name": "stdout",
     "output_type": "stream",
     "text": [
      "Prime numbers in the range 1 to 100: [2, 3, 5, 7, 11, 13, 17, 19, 23, 29, 31, 37, 41, 43, 47, 53, 59, 61, 67, 71, 73, 79, 83, 89, 97]\n"
     ]
    }
   ],
   "source": [
    "def sieve_of_eratosthenes(n):\n",
    "    sieve = [True] * (n+1)\n",
    "    sieve[0], sieve[1] = False, False\n",
    "\n",
    "    for p in range(2, int(n ** 0.5) + 1):\n",
    "        if sieve[p]:\n",
    "            for i in range(p*p, n+1, p):\n",
    "                sieve[i] = False\n",
    "\n",
    "    primes = [num for num in range(n+1) if sieve[num]]\n",
    "    return primes\n",
    "\n",
    "start_range, end_range = 1, 100\n",
    "prime_numbers_list = sieve_of_eratosthenes(end_range)\n",
    "print(f\"Prime numbers in the range {start_range} to {end_range}: {prime_numbers_list}\")\n"
   ]
  },
  {
   "cell_type": "markdown",
   "id": "8cdd28c5",
   "metadata": {},
   "source": [
    "### 107. Calculate the Perimeter of a Cylinder "
   ]
  },
  {
   "cell_type": "code",
   "execution_count": 4,
   "id": "83825587",
   "metadata": {},
   "outputs": [
    {
     "name": "stdout",
     "output_type": "stream",
     "text": [
      "The perimeter of the cylinder with radius 5 and height 8 is 81.68.\n"
     ]
    }
   ],
   "source": [
    "import math\n",
    "\n",
    "def perimeter_of_cylinder(radius, height):\n",
    "    return 2 * math.pi * radius + 2 * math.pi * height\n",
    "\n",
    "radius, height = 5, 8\n",
    "perimeter = perimeter_of_cylinder(radius, height)\n",
    "print(f\"The perimeter of the cylinder with radius {radius} and height {height} is {perimeter:.2f}.\")\n"
   ]
  },
  {
   "cell_type": "markdown",
   "id": "96404bf0",
   "metadata": {},
   "source": [
    "### 108. Print the Pattern of a Hollow Number Diamond "
   ]
  },
  {
   "cell_type": "code",
   "execution_count": 3,
   "id": "2b0cbdce",
   "metadata": {},
   "outputs": [
    {
     "name": "stdout",
     "output_type": "stream",
     "text": [
      "    1 \n",
      "   1 2 \n",
      "  1   3 \n",
      " 1     4 \n",
      "1       5 \n",
      " 1     4 \n",
      "  1   3 \n",
      "   1 2 \n",
      "    1 \n"
     ]
    }
   ],
   "source": [
    "def print_hollow_number_diamond(n):\n",
    "    for i in range(1, n+1):\n",
    "        print(\" \" * (n-i), end=\"\")\n",
    "        for j in range(1, i+1):\n",
    "            if j == 1 or j == i:\n",
    "                print(j, end=\" \")\n",
    "            else:\n",
    "                print(\" \", end=\" \")\n",
    "        print()\n",
    "    for i in range(n-1, 0, -1):\n",
    "        print(\" \" * (n-i), end=\"\")\n",
    "        for j in range(1, i+1):\n",
    "            if j == 1 or j == i:\n",
    "                print(j, end=\" \")\n",
    "            else:\n",
    "                print(\" \", end=\" \")\n",
    "        print()\n",
    "\n",
    "rows = 5\n",
    "print_hollow_number_diamond(rows)\n"
   ]
  },
  {
   "cell_type": "markdown",
   "id": "f1afd67e",
   "metadata": {},
   "source": [
    "### 109. Generate a Random String with Custom Character Set and Length "
   ]
  },
  {
   "cell_type": "code",
   "execution_count": 2,
   "id": "f1bbc6d4",
   "metadata": {},
   "outputs": [
    {
     "name": "stdout",
     "output_type": "stream",
     "text": [
      "Generated Random String with custom characters: b#b!#1e#\n"
     ]
    }
   ],
   "source": [
    "import random\n",
    "\n",
    "def generate_random_string_custom(characters, length):\n",
    "    random_string = ''.join(random.choice(characters) for _ in range(length))\n",
    "    return random_string\n",
    "\n",
    "custom_characters = \"abcdef123!@#\"\n",
    "string_length = 8\n",
    "random_string = generate_random_string_custom(custom_characters, string_length)\n",
    "print(f\"Generated Random String with custom characters: {random_string}\")\n"
   ]
  },
  {
   "cell_type": "markdown",
   "id": "3262a1dd",
   "metadata": {},
   "source": [
    "### 110. Convert Base-N to Decimal (N < 10) "
   ]
  },
  {
   "cell_type": "code",
   "execution_count": 1,
   "id": "65cd632a",
   "metadata": {},
   "outputs": [
    {
     "name": "stdout",
     "output_type": "stream",
     "text": [
      "The decimal representation of 1010 in base 2 is 10.\n"
     ]
    }
   ],
   "source": [
    "def base_n_to_decimal(num, base):\n",
    "    decimal_num = 0\n",
    "    num_str = str(num)\n",
    "    for i, digit in enumerate(num_str[::-1]):\n",
    "        decimal_num += int(digit) * (base ** i)\n",
    "    return decimal_num\n",
    "\n",
    "number = 1010\n",
    "base = 2\n",
    "decimal_num = base_n_to_decimal(number, base)\n",
    "print(f\"The decimal representation of {number} in base {base} is {decimal_num}.\")\n"
   ]
  },
  {
   "cell_type": "code",
   "execution_count": null,
   "id": "5ebe9b22",
   "metadata": {},
   "outputs": [],
   "source": []
  }
 ],
 "metadata": {
  "kernelspec": {
   "display_name": "Python 3 (ipykernel)",
   "language": "python",
   "name": "python3"
  },
  "language_info": {
   "codemirror_mode": {
    "name": "ipython",
    "version": 3
   },
   "file_extension": ".py",
   "mimetype": "text/x-python",
   "name": "python",
   "nbconvert_exporter": "python",
   "pygments_lexer": "ipython3",
   "version": "3.11.4"
  }
 },
 "nbformat": 4,
 "nbformat_minor": 5
}
